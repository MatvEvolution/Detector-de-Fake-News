{
 "cells": [
  {
   "cell_type": "code",
   "execution_count": 1,
   "metadata": {},
   "outputs": [],
   "source": [
    "import pandas as pd\n",
    "import os\n",
    "\n",
    "# Encontra diretorio atual\n",
    "atual_dir = os.getcwd()\n",
    "\n",
    "# Encontra csv das noticias\n",
    "caminho_csv = os.path.join(atual_dir, \"noticias_dados_limpos.csv\")\n",
    "\n",
    "# Lê o arquivo CSV em um DataFrame\n",
    "df = pd.read_csv(caminho_csv)"
   ]
  },
  {
   "cell_type": "code",
   "execution_count": 2,
   "metadata": {},
   "outputs": [
    {
     "data": {
      "text/html": [
       "<div>\n",
       "<style scoped>\n",
       "    .dataframe tbody tr th:only-of-type {\n",
       "        vertical-align: middle;\n",
       "    }\n",
       "\n",
       "    .dataframe tbody tr th {\n",
       "        vertical-align: top;\n",
       "    }\n",
       "\n",
       "    .dataframe thead th {\n",
       "        text-align: right;\n",
       "    }\n",
       "</style>\n",
       "<table border=\"1\" class=\"dataframe\">\n",
       "  <thead>\n",
       "    <tr style=\"text-align: right;\">\n",
       "      <th></th>\n",
       "      <th>Texto</th>\n",
       "      <th>Categoria</th>\n",
       "    </tr>\n",
       "  </thead>\n",
       "  <tbody>\n",
       "    <tr>\n",
       "      <th>0</th>\n",
       "      <td>O Podemos decidiu expulsar o deputado federal ...</td>\n",
       "      <td>Real</td>\n",
       "    </tr>\n",
       "    <tr>\n",
       "      <th>1</th>\n",
       "      <td>Bolsonaro é um liberal completo, diz president...</td>\n",
       "      <td>Real</td>\n",
       "    </tr>\n",
       "    <tr>\n",
       "      <th>2</th>\n",
       "      <td>Ministro do STF libera Andrea Neves de prisão ...</td>\n",
       "      <td>Real</td>\n",
       "    </tr>\n",
       "    <tr>\n",
       "      <th>3</th>\n",
       "      <td>Apesar da abundância, cresce preocupação com p...</td>\n",
       "      <td>Real</td>\n",
       "    </tr>\n",
       "    <tr>\n",
       "      <th>4</th>\n",
       "      <td>Por que Harvard e MIT levarão Dilma, Moro e Su...</td>\n",
       "      <td>Real</td>\n",
       "    </tr>\n",
       "  </tbody>\n",
       "</table>\n",
       "</div>"
      ],
      "text/plain": [
       "                                               Texto Categoria\n",
       "0  O Podemos decidiu expulsar o deputado federal ...      Real\n",
       "1  Bolsonaro é um liberal completo, diz president...      Real\n",
       "2  Ministro do STF libera Andrea Neves de prisão ...      Real\n",
       "3  Apesar da abundância, cresce preocupação com p...      Real\n",
       "4  Por que Harvard e MIT levarão Dilma, Moro e Su...      Real"
      ]
     },
     "execution_count": 2,
     "metadata": {},
     "output_type": "execute_result"
    }
   ],
   "source": [
    "df.head()"
   ]
  },
  {
   "cell_type": "code",
   "execution_count": 3,
   "metadata": {},
   "outputs": [],
   "source": [
    "# Aplicação do LabelEncoder para transformar a variável categórica 'Categoria' em uma variável numérica 'label'.\n",
    "from sklearn.preprocessing import LabelEncoder\n",
    "\n",
    "le = LabelEncoder()\n",
    "\n",
    "df['label'] = le.fit_transform(df['Categoria'])"
   ]
  },
  {
   "cell_type": "code",
   "execution_count": 4,
   "metadata": {},
   "outputs": [
    {
     "data": {
      "text/plain": [
       "(array(['Real', 'Falso'], dtype=object), array([1, 0]))"
      ]
     },
     "execution_count": 4,
     "metadata": {},
     "output_type": "execute_result"
    }
   ],
   "source": [
    "df['Categoria'].unique(), df['label'].unique()"
   ]
  },
  {
   "cell_type": "code",
   "execution_count": 5,
   "metadata": {},
   "outputs": [
    {
     "data": {
      "text/html": [
       "<div>\n",
       "<style scoped>\n",
       "    .dataframe tbody tr th:only-of-type {\n",
       "        vertical-align: middle;\n",
       "    }\n",
       "\n",
       "    .dataframe tbody tr th {\n",
       "        vertical-align: top;\n",
       "    }\n",
       "\n",
       "    .dataframe thead th {\n",
       "        text-align: right;\n",
       "    }\n",
       "</style>\n",
       "<table border=\"1\" class=\"dataframe\">\n",
       "  <thead>\n",
       "    <tr style=\"text-align: right;\">\n",
       "      <th></th>\n",
       "      <th>Texto</th>\n",
       "      <th>label</th>\n",
       "    </tr>\n",
       "  </thead>\n",
       "  <tbody>\n",
       "    <tr>\n",
       "      <th>0</th>\n",
       "      <td>O Podemos decidiu expulsar o deputado federal ...</td>\n",
       "      <td>1</td>\n",
       "    </tr>\n",
       "    <tr>\n",
       "      <th>1</th>\n",
       "      <td>Bolsonaro é um liberal completo, diz president...</td>\n",
       "      <td>1</td>\n",
       "    </tr>\n",
       "    <tr>\n",
       "      <th>2</th>\n",
       "      <td>Ministro do STF libera Andrea Neves de prisão ...</td>\n",
       "      <td>1</td>\n",
       "    </tr>\n",
       "    <tr>\n",
       "      <th>3</th>\n",
       "      <td>Apesar da abundância, cresce preocupação com p...</td>\n",
       "      <td>1</td>\n",
       "    </tr>\n",
       "    <tr>\n",
       "      <th>4</th>\n",
       "      <td>Por que Harvard e MIT levarão Dilma, Moro e Su...</td>\n",
       "      <td>1</td>\n",
       "    </tr>\n",
       "  </tbody>\n",
       "</table>\n",
       "</div>"
      ],
      "text/plain": [
       "                                               Texto  label\n",
       "0  O Podemos decidiu expulsar o deputado federal ...      1\n",
       "1  Bolsonaro é um liberal completo, diz president...      1\n",
       "2  Ministro do STF libera Andrea Neves de prisão ...      1\n",
       "3  Apesar da abundância, cresce preocupação com p...      1\n",
       "4  Por que Harvard e MIT levarão Dilma, Moro e Su...      1"
      ]
     },
     "execution_count": 5,
     "metadata": {},
     "output_type": "execute_result"
    }
   ],
   "source": [
    "df.drop(df.columns[1], axis=1, inplace=True)\n",
    "df.head()"
   ]
  },
  {
   "cell_type": "code",
   "execution_count": 6,
   "metadata": {},
   "outputs": [
    {
     "data": {
      "image/png": "[encoded data removed]",
      "text/plain": [
       "<Figure size 1200x600 with 1 Axes>"
      ]
     },
     "metadata": {},
     "output_type": "display_data"
    }
   ],
   "source": [
    "import matplotlib.pyplot as plt\n",
    "\n",
    "contagem_categoria = df['label'].value_counts()\n",
    "\n",
    "plt.figure(figsize=(12,6))\n",
    "contagem_categoria.plot(kind='bar')\n",
    "plt.xlabel('Categoria')\n",
    "plt.ylabel('Número de notícias')\n",
    "plt.title('Distribuição de Categorias no Dataset')\n",
    "plt.show()"
   ]
  },
  {
   "cell_type": "code",
   "execution_count": 7,
   "metadata": {},
   "outputs": [],
   "source": [
    "import string\n",
    "import spacy\n",
    "import unicodedata\n",
    "from tqdm import tqdm\n",
    "import numpy as np\n",
    "\n",
    "# Habilita suporte do tqdm para os métodos de progressão do pandas (como progress_aplly)\n",
    "tqdm.pandas()\n",
    "\n",
    "# Carrega modelo de linguagem 'pt_core_news_lg' do spacy para processamento de texto em português\n",
    "# Desabilita os componentes 'parser' e 'ner', já que não são necessários para a lematização\n",
    "modelo_spacy_nlp = spacy.load(\"pt_core_news_lg\", disable=[\"parser\", \"ner\"])\n",
    "\n",
    "def preprocess_data(df, coluna_texto):\n",
    "    \"\"\"\n",
    "    Realiza o pré-processamento dos dados de um texto em um Dataframe do Pandas.\n",
    "    Remove pontuação, números e palavras comuns (stop words), converte para minúsculas, remove \n",
    "    acentos e símbolos diversos, e aplica lematização.\n",
    "    \"\"\"\n",
    "\n",
    "    # Remove pontuação\n",
    "    print(\"Removendo pontuação...\")\n",
    "    traducao = str.maketrans('', '', string.punctuation)\n",
    "    df[coluna_texto] = df[coluna_texto].progress_apply(lambda x: x.translate(traducao))\n",
    "\n",
    "    # Remove números\n",
    "    print(\"Removendo números...\")\n",
    "    traducao = str.maketrans('', '', string.digits)\n",
    "    df[coluna_texto] = df[coluna_texto].progress_apply(lambda x: x.translate(traducao))\n",
    "\n",
    "    # Remove acentos e símbolos diversos\n",
    "    print(\"Removendo acentos e símbolos diversos...\")\n",
    "    def remove_acentos_e_simbolos(text):\n",
    "        try:\n",
    "            # Normaliza a string para a forma NFKD e mantém apenas caracteres que não são diacríticos\n",
    "            # nem combinam caracteres com diacríticos\n",
    "            return ''.join(c for c in unicodedata.normalize('NFKD', text) if not unicodedata.combining(c) and unicodedata.category(c) != 'Mn')\n",
    "        except TypeError:\n",
    "            # Se não for possível normalizar um caractere, retorna uma string vazia\n",
    "            return ''\n",
    "    df[coluna_texto] = df[coluna_texto].progress_apply(lambda x: remove_acentos_e_simbolos(x))\n",
    "    \n",
    "    # Converte para minúsculas\n",
    "    print(\"Convertendo para minúsculas...\")\n",
    "    df[coluna_texto] = df[coluna_texto].progress_apply(lambda x: x.lower())\n",
    "\n",
    "    # Lematização\n",
    "    print(\"Computando Lematização...\")\n",
    "    def lematizar_texto(doc):\n",
    "        return [token.lemma_ for token in doc if not token.is_stop]\n",
    "\n",
    "    n_chunks = 10  # Ajuste esse valor de acordo com o tamanho da base de dados e a memória disponível no sistema\n",
    "    chunks = np.array_split(df, n_chunks) # Divide o dataframe em várias partes\n",
    "\n",
    "    chunks_processados = []\n",
    "    for i, chunk in enumerate(chunks):\n",
    "        print(f\"Processando segmento {i + 1} de {n_chunks}\")\n",
    "        chunk_processado = chunk.copy() # Cria uma cópia para realizar o processamento\n",
    "        \n",
    "        # Aplica a função 'lematizar_texto' a cada documento processado pelo spaCy (usando 'spacy_nlp_model.pipe') e\n",
    "        # atribui os resultados (uma lista de palavras lematizadas) à coluna 'coluna_texto' do DataFrame 'chunks_processados'.\n",
    "        # O tqdm é utilizado para exibir uma barra de progresso durante o processamento dos documentos.\n",
    "        chunk_processado[coluna_texto] = [lematizar_texto(doc) for doc in tqdm(modelo_spacy_nlp.pipe(chunk[coluna_texto].astype(str), batch_size=100, disable=['parser', 'ner']), total=len(chunk[coluna_texto]))]\n",
    "\n",
    "        # Junta as partes em uma lista, para formar o dataframe final\n",
    "        chunks_processados.append(chunk_processado)\n",
    "\n",
    "    concatenated_df = pd.concat(chunks_processados) # Concatenar os DataFrames processados\n",
    "\n",
    "    df[coluna_texto] = concatenated_df[coluna_texto] # Atribuir a coluna 'texto' processada de volta ao dataframe original\n",
    "    \n",
    "    # Remover tokens com espaços vazios\n",
    "    print(\"Remover tokens com espaços vazios...\")\n",
    "    df['Texto'] = df['Texto'].progress_apply(lambda x: [token for token in x if token.strip()])\n"
   ]
  },
  {
   "cell_type": "code",
   "execution_count": 8,
   "metadata": {},
   "outputs": [
    {
     "name": "stdout",
     "output_type": "stream",
     "text": [
      "Removendo pontuação...\n"
     ]
    },
    {
     "name": "stderr",
     "output_type": "stream",
     "text": [
      "100%|██████████| 22284/22284 [00:02<00:00, 9140.29it/s] \n"
     ]
    },
    {
     "name": "stdout",
     "output_type": "stream",
     "text": [
      "Removendo números...\n"
     ]
    },
    {
     "name": "stderr",
     "output_type": "stream",
     "text": [
      "100%|██████████| 22284/22284 [00:02<00:00, 9646.73it/s] \n"
     ]
    },
    {
     "name": "stdout",
     "output_type": "stream",
     "text": [
      "Removendo acentos e símbolos diversos...\n"
     ]
    },
    {
     "name": "stderr",
     "output_type": "stream",
     "text": [
      "100%|██████████| 22284/22284 [00:08<00:00, 2746.70it/s]\n"
     ]
    },
    {
     "name": "stdout",
     "output_type": "stream",
     "text": [
      "Convertendo para minúsculas...\n"
     ]
    },
    {
     "name": "stderr",
     "output_type": "stream",
     "text": [
      "100%|██████████| 22284/22284 [00:00<00:00, 116060.82it/s]\n",
      "c:\\Users\\mathe\\OneDrive\\Área de Trabalho\\Detector\\.venv\\lib\\site-packages\\numpy\\core\\fromnumeric.py:59: FutureWarning: 'DataFrame.swapaxes' is deprecated and will be removed in a future version. Please use 'DataFrame.transpose' instead.\n",
      "  return bound(*args, **kwds)\n"
     ]
    },
    {
     "name": "stdout",
     "output_type": "stream",
     "text": [
      "Computando Lematização...\n",
      "Processando segmento 1 de 10\n"
     ]
    },
    {
     "name": "stderr",
     "output_type": "stream",
     "text": [
      "100%|██████████| 2229/2229 [01:58<00:00, 18.80it/s]\n"
     ]
    },
    {
     "name": "stdout",
     "output_type": "stream",
     "text": [
      "Processando segmento 2 de 10\n"
     ]
    },
    {
     "name": "stderr",
     "output_type": "stream",
     "text": [
      "100%|██████████| 2229/2229 [01:29<00:00, 24.85it/s] \n"
     ]
    },
    {
     "name": "stdout",
     "output_type": "stream",
     "text": [
      "Processando segmento 3 de 10\n"
     ]
    },
    {
     "name": "stderr",
     "output_type": "stream",
     "text": [
      "100%|██████████| 2229/2229 [00:18<00:00, 118.02it/s]\n"
     ]
    },
    {
     "name": "stdout",
     "output_type": "stream",
     "text": [
      "Processando segmento 4 de 10\n"
     ]
    },
    {
     "name": "stderr",
     "output_type": "stream",
     "text": [
      "100%|██████████| 2229/2229 [00:17<00:00, 124.27it/s]\n"
     ]
    },
    {
     "name": "stdout",
     "output_type": "stream",
     "text": [
      "Processando segmento 5 de 10\n"
     ]
    },
    {
     "name": "stderr",
     "output_type": "stream",
     "text": [
      "100%|██████████| 2228/2228 [00:37<00:00, 60.13it/s] \n"
     ]
    },
    {
     "name": "stdout",
     "output_type": "stream",
     "text": [
      "Processando segmento 6 de 10\n"
     ]
    },
    {
     "name": "stderr",
     "output_type": "stream",
     "text": [
      "100%|██████████| 2228/2228 [00:10<00:00, 208.50it/s]\n"
     ]
    },
    {
     "name": "stdout",
     "output_type": "stream",
     "text": [
      "Processando segmento 7 de 10\n"
     ]
    },
    {
     "name": "stderr",
     "output_type": "stream",
     "text": [
      "100%|██████████| 2228/2228 [00:10<00:00, 210.74it/s]\n"
     ]
    },
    {
     "name": "stdout",
     "output_type": "stream",
     "text": [
      "Processando segmento 8 de 10\n"
     ]
    },
    {
     "name": "stderr",
     "output_type": "stream",
     "text": [
      "100%|██████████| 2228/2228 [00:10<00:00, 208.01it/s]\n"
     ]
    },
    {
     "name": "stdout",
     "output_type": "stream",
     "text": [
      "Processando segmento 9 de 10\n"
     ]
    },
    {
     "name": "stderr",
     "output_type": "stream",
     "text": [
      "100%|██████████| 2228/2228 [00:10<00:00, 213.57it/s]\n"
     ]
    },
    {
     "name": "stdout",
     "output_type": "stream",
     "text": [
      "Processando segmento 10 de 10\n"
     ]
    },
    {
     "name": "stderr",
     "output_type": "stream",
     "text": [
      "100%|██████████| 2228/2228 [00:10<00:00, 214.42it/s]\n"
     ]
    },
    {
     "name": "stdout",
     "output_type": "stream",
     "text": [
      "Remover tokens com espaços vazios...\n"
     ]
    },
    {
     "name": "stderr",
     "output_type": "stream",
     "text": [
      "100%|██████████| 22284/22284 [00:00<00:00, 29510.85it/s]\n"
     ]
    }
   ],
   "source": [
    "preprocess_data(df, 'Texto') # Realiza o pré-processamento"
   ]
  },
  {
   "cell_type": "code",
   "execution_count": 9,
   "metadata": {},
   "outputs": [],
   "source": [
    "# Salvar em formato pickle\n",
    "df.to_pickle(\"noticias_pre_processadas_df.pkl\")"
   ]
  },
  {
   "cell_type": "code",
   "execution_count": 10,
   "metadata": {},
   "outputs": [
    {
     "data": {
      "text/plain": [
       "0        [poder, decidir, expulsar, deputado, federal, ...\n",
       "1        [bolsonaro, liberal, completo, presidente, psl...\n",
       "2        [ministro, stf, liberar, Andrea, Neves, prisao...\n",
       "3        [apesar, abundancia, crescer, preocupacao, pre...\n",
       "4        [harvard, mit, levarao, dilma, moro, suplicy, ...\n",
       "                               ...                        \n",
       "22279    [encontrar, reunir, presidente, jair, Bolsonar...\n",
       "22280    [reabertura, complexo, parque, disney, orlar, ...\n",
       "22281    [publicacao, circular, rede, social, pedir, mi...\n",
       "22282    [juiz, Wauner, Batista, Ferreiro, machadar, va...\n",
       "22283    [boato, –, apo, zombar, miss, cidade, Campo, p...\n",
       "Name: Texto, Length: 22284, dtype: object"
      ]
     },
     "execution_count": 10,
     "metadata": {},
     "output_type": "execute_result"
    }
   ],
   "source": [
    "df['Texto']"
   ]
  },
  {
   "cell_type": "code",
   "execution_count": null,
   "metadata": {},
   "outputs": [],
   "source": []
  }
 ],
 "metadata": {
  "kernelspec": {
   "display_name": ".venv",
   "language": "python",
   "name": "python3"
  },
  "language_info": {
   "codemirror_mode": {
    "name": "ipython",
    "version": 3
   },
   "file_extension": ".py",
   "mimetype": "text/x-python",
   "name": "python",
   "nbconvert_exporter": "python",
   "pygments_lexer": "ipython3",
   "version": "3.10.0"
  }
 },
 "nbformat": 4,
 "nbformat_minor": 2
}
