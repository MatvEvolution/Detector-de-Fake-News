{
 "cells": [
  {
   "cell_type": "code",
   "execution_count": 1,
   "metadata": {},
   "outputs": [],
   "source": [
    "import pandas as pd\n",
    "import sklearn as sk\n",
    "import os\n",
    "import csv\n",
    "import chardet\n",
    "import re\n",
    "import matplotlib.pyplot as plt"
   ]
  },
  {
   "cell_type": "code",
   "execution_count": 2,
   "metadata": {},
   "outputs": [],
   "source": [
    "# Diretórios das pastas com as notícias\n",
    "real = 'Real'\n",
    "falso = 'Falso'"
   ]
  },
  {
   "cell_type": "code",
   "execution_count": 3,
   "metadata": {},
   "outputs": [],
   "source": [
    "# Função para ler o conteúdo de um arquivo de texto\n",
    "def ler_arquivo(arquivo):\n",
    "    with open(arquivo, 'rb') as f:\n",
    "        # Detecta a codificação do arquivo\n",
    "        resultado = chardet.detect(f.read())\n",
    "        # Volta para o início do arquivo\n",
    "        f.seek(0)\n",
    "        # Lê o arquivo usando a codificação detectada\n",
    "        texto = f.read().decode(resultado['encoding'])\n",
    "        # Remove BOM, espaços duplicados\n",
    "        texto = texto.lstrip('\\ufeff').strip()\n",
    "        texto = re.sub(r'\\s+', ' ', texto)\n",
    "        return texto\n"
   ]
  },
  {
   "cell_type": "code",
   "execution_count": 4,
   "metadata": {},
   "outputs": [],
   "source": [
    "# Função para remover espaços duplicados em uma linha do CSV\n",
    "def remover_duplos_espacos(texto):\n",
    "    return re.sub(r'\\s+', ' ', texto)"
   ]
  },
  {
   "cell_type": "code",
   "execution_count": 5,
   "metadata": {},
   "outputs": [],
   "source": [
    "# Lista para armazenar as linhas do CSV\n",
    "linhas_csv = []"
   ]
  },
  {
   "cell_type": "code",
   "execution_count": 6,
   "metadata": {},
   "outputs": [],
   "source": [
    "# Função para listar os arquivos em uma pasta e adicionar o texto à lista do CSV\n",
    "def listar_arquivos(diretorio, categoria):\n",
    "    for arquivo in os.listdir(diretorio):\n",
    "        if arquivo.endswith('.txt'):\n",
    "            texto = ler_arquivo(os.path.join(diretorio, arquivo))\n",
    "            linhas_csv.append([remover_duplos_espacos(texto), categoria])"
   ]
  },
  {
   "cell_type": "code",
   "execution_count": 7,
   "metadata": {},
   "outputs": [],
   "source": [
    "# Lista os arquivos da primeira pasta\n",
    "listar_arquivos(real, 'Real')"
   ]
  },
  {
   "cell_type": "code",
   "execution_count": 8,
   "metadata": {},
   "outputs": [],
   "source": [
    "# Lista os arquivos da segunda pasta\n",
    "listar_arquivos(falso, 'Falso')"
   ]
  },
  {
   "cell_type": "code",
   "execution_count": 9,
   "metadata": {},
   "outputs": [],
   "source": [
    "# Escreve as linhas no arquivo CSV\n",
    "with open('noticias.csv', 'w', newline='', encoding='utf-8') as csvfile:\n",
    "    escritor_csv = csv.writer(csvfile)\n",
    "    escritor_csv.writerow(['Texto', 'Categoria'])\n",
    "    for linha in linhas_csv:\n",
    "        escritor_csv.writerow(linha)"
   ]
  },
  {
   "cell_type": "code",
   "execution_count": 10,
   "metadata": {},
   "outputs": [
    {
     "data": {
      "text/html": [
       "<div>\n",
       "<style scoped>\n",
       "    .dataframe tbody tr th:only-of-type {\n",
       "        vertical-align: middle;\n",
       "    }\n",
       "\n",
       "    .dataframe tbody tr th {\n",
       "        vertical-align: top;\n",
       "    }\n",
       "\n",
       "    .dataframe thead th {\n",
       "        text-align: right;\n",
       "    }\n",
       "</style>\n",
       "<table border=\"1\" class=\"dataframe\">\n",
       "  <thead>\n",
       "    <tr style=\"text-align: right;\">\n",
       "      <th></th>\n",
       "      <th>Texto</th>\n",
       "      <th>Categoria</th>\n",
       "    </tr>\n",
       "  </thead>\n",
       "  <tbody>\n",
       "    <tr>\n",
       "      <th>0</th>\n",
       "      <td>O Podemos decidiu expulsar o deputado federal ...</td>\n",
       "      <td>Real</td>\n",
       "    </tr>\n",
       "    <tr>\n",
       "      <th>1</th>\n",
       "      <td>Bolsonaro é um liberal completo, diz president...</td>\n",
       "      <td>Real</td>\n",
       "    </tr>\n",
       "    <tr>\n",
       "      <th>2</th>\n",
       "      <td>Ministro do STF libera Andrea Neves de prisão ...</td>\n",
       "      <td>Real</td>\n",
       "    </tr>\n",
       "    <tr>\n",
       "      <th>3</th>\n",
       "      <td>Apesar da abundância, cresce preocupação com p...</td>\n",
       "      <td>Real</td>\n",
       "    </tr>\n",
       "    <tr>\n",
       "      <th>4</th>\n",
       "      <td>Por que Harvard e MIT levarão Dilma, Moro e Su...</td>\n",
       "      <td>Real</td>\n",
       "    </tr>\n",
       "  </tbody>\n",
       "</table>\n",
       "</div>"
      ],
      "text/plain": [
       "                                               Texto Categoria\n",
       "0  O Podemos decidiu expulsar o deputado federal ...      Real\n",
       "1  Bolsonaro é um liberal completo, diz president...      Real\n",
       "2  Ministro do STF libera Andrea Neves de prisão ...      Real\n",
       "3  Apesar da abundância, cresce preocupação com p...      Real\n",
       "4  Por que Harvard e MIT levarão Dilma, Moro e Su...      Real"
      ]
     },
     "execution_count": 10,
     "metadata": {},
     "output_type": "execute_result"
    }
   ],
   "source": [
    "df = pd.read_csv('noticias.csv')\n",
    "\n",
    "df.head()"
   ]
  },
  {
   "cell_type": "code",
   "execution_count": 11,
   "metadata": {},
   "outputs": [
    {
     "data": {
      "text/plain": [
       "7200"
      ]
     },
     "execution_count": 11,
     "metadata": {},
     "output_type": "execute_result"
    }
   ],
   "source": [
    "df.shape[0]"
   ]
  },
  {
   "cell_type": "code",
   "execution_count": 12,
   "metadata": {},
   "outputs": [
    {
     "data": {
      "text/plain": [
       "Texto        0\n",
       "Categoria    0\n",
       "dtype: int64"
      ]
     },
     "execution_count": 12,
     "metadata": {},
     "output_type": "execute_result"
    }
   ],
   "source": [
    "df.isnull().sum()"
   ]
  },
  {
   "cell_type": "code",
   "execution_count": 13,
   "metadata": {},
   "outputs": [],
   "source": [
    "# remove campos vazios\n",
    "df = df.dropna()\n",
    "\n",
    "df.isnull().sum()"
   ]
  },
  {
   "cell_type": "code",
   "execution_count": 14,
   "metadata": {},
   "outputs": [
    {
     "data": {
      "text/plain": [
       "1"
      ]
     },
     "execution_count": 14,
     "metadata": {},
     "output_type": "execute_result"
    }
   ],
   "source": [
    "df.duplicated().sum()"
   ]
  },
  {
   "cell_type": "code",
   "execution_count": 15,
   "metadata": {},
   "outputs": [
    {
     "data": {
      "text/plain": [
       "7199"
      ]
     },
     "execution_count": 15,
     "metadata": {},
     "output_type": "execute_result"
    }
   ],
   "source": [
    "# remove duplicatas\n",
    "df = df.drop_duplicates()\n",
    "\n",
    "df.shape[0]"
   ]
  },
  {
   "cell_type": "code",
   "execution_count": 16,
   "metadata": {},
   "outputs": [
    {
     "data": {
      "image/png": "[encoded data removed]",
      "text/plain": [
       "<Figure size 640x480 with 1 Axes>"
      ]
     },
     "metadata": {},
     "output_type": "display_data"
    }
   ],
   "source": [
    "contagem = df['Categoria'].value_counts()\n",
    "\n",
    "plt.bar(contagem.index, contagem.values)\n",
    "plt.title('Distribuição entre Falso e Verdadeiro')\n",
    "plt.xlabel('Categoria')\n",
    "plt.ylabel('Contagem')\n",
    "plt.show()"
   ]
  },
  {
   "cell_type": "code",
   "execution_count": 17,
   "metadata": {},
   "outputs": [
    {
     "data": {
      "text/html": [
       "<div>\n",
       "<style scoped>\n",
       "    .dataframe tbody tr th:only-of-type {\n",
       "        vertical-align: middle;\n",
       "    }\n",
       "\n",
       "    .dataframe tbody tr th {\n",
       "        vertical-align: top;\n",
       "    }\n",
       "\n",
       "    .dataframe thead th {\n",
       "        text-align: right;\n",
       "    }\n",
       "</style>\n",
       "<table border=\"1\" class=\"dataframe\">\n",
       "  <thead>\n",
       "    <tr style=\"text-align: right;\">\n",
       "      <th></th>\n",
       "      <th>title_fake</th>\n",
       "      <th>fake</th>\n",
       "      <th>link_f</th>\n",
       "      <th>true</th>\n",
       "      <th>link_t</th>\n",
       "    </tr>\n",
       "  </thead>\n",
       "  <tbody>\n",
       "    <tr>\n",
       "      <th>0</th>\n",
       "      <td>vídeo mostra arrastão em olinda pe por causa d...</td>\n",
       "      <td>carnaval em olinda. arrastão monstro. fazuele ...</td>\n",
       "      <td>https://www.boatos.org/entretenimento/video-ar...</td>\n",
       "      <td>circula pelas redes sociais um vídeo que most...</td>\n",
       "      <td>https://g1.globo.com/pe/pernambuco/carnaval/20...</td>\n",
       "    </tr>\n",
       "    <tr>\n",
       "      <th>1</th>\n",
       "      <td>carro alegórico da grande rio em homenagem ao ...</td>\n",
       "      <td>carro alegórico da escola de samba grande rio...</td>\n",
       "      <td>https://www.boatos.org/entretenimento/carro-al...</td>\n",
       "      <td>pouco antes de a beijaflor de nilópolis entra...</td>\n",
       "      <td>https://g1.globo.com/rj/rio-de-janeiro/carnava...</td>\n",
       "    </tr>\n",
       "    <tr>\n",
       "      <th>2</th>\n",
       "      <td>cantor leo chaves grava vídeo de apoio a manif...</td>\n",
       "      <td>cantor léo apoiando atos antidemocráticos. alg...</td>\n",
       "      <td>https://www.boatos.org/entretenimento/cantor-l...</td>\n",
       "      <td>circula nas redes sociais um vídeo que mostra...</td>\n",
       "      <td>https://g1.globo.com/fato-ou-fake/noticia/2023...</td>\n",
       "    </tr>\n",
       "    <tr>\n",
       "      <th>3</th>\n",
       "      <td>anitta está com câncer e pede por um milagre e...</td>\n",
       "      <td>versão 1 ore muito pela cantora anitta! ela es...</td>\n",
       "      <td>https://www.boatos.org/entretenimento/anitta-e...</td>\n",
       "      <td>anitta explicou, nesta terçafeira 7, o proble...</td>\n",
       "      <td>https://g1.globo.com/pop-arte/noticia/2022/06/...</td>\n",
       "    </tr>\n",
       "    <tr>\n",
       "      <th>4</th>\n",
       "      <td>erasmo carlos morre aos 81 anos no rio de jane...</td>\n",
       "      <td>morre erasmo carlos aos 81 anos cantor conside...</td>\n",
       "      <td>https://www.boatos.org/entretenimento/erasmo-c...</td>\n",
       "      <td>o cantor e compositor erasmo carlos, de 81 an...</td>\n",
       "      <td>https://g1.globo.com/rj/rio-de-janeiro/noticia...</td>\n",
       "    </tr>\n",
       "  </tbody>\n",
       "</table>\n",
       "</div>"
      ],
      "text/plain": [
       "                                          title_fake  \\\n",
       "0  vídeo mostra arrastão em olinda pe por causa d...   \n",
       "1  carro alegórico da grande rio em homenagem ao ...   \n",
       "2  cantor leo chaves grava vídeo de apoio a manif...   \n",
       "3  anitta está com câncer e pede por um milagre e...   \n",
       "4  erasmo carlos morre aos 81 anos no rio de jane...   \n",
       "\n",
       "                                                fake  \\\n",
       "0  carnaval em olinda. arrastão monstro. fazuele ...   \n",
       "1   carro alegórico da escola de samba grande rio...   \n",
       "2  cantor léo apoiando atos antidemocráticos. alg...   \n",
       "3  versão 1 ore muito pela cantora anitta! ela es...   \n",
       "4  morre erasmo carlos aos 81 anos cantor conside...   \n",
       "\n",
       "                                              link_f  \\\n",
       "0  https://www.boatos.org/entretenimento/video-ar...   \n",
       "1  https://www.boatos.org/entretenimento/carro-al...   \n",
       "2  https://www.boatos.org/entretenimento/cantor-l...   \n",
       "3  https://www.boatos.org/entretenimento/anitta-e...   \n",
       "4  https://www.boatos.org/entretenimento/erasmo-c...   \n",
       "\n",
       "                                                true  \\\n",
       "0   circula pelas redes sociais um vídeo que most...   \n",
       "1   pouco antes de a beijaflor de nilópolis entra...   \n",
       "2   circula nas redes sociais um vídeo que mostra...   \n",
       "3   anitta explicou, nesta terçafeira 7, o proble...   \n",
       "4   o cantor e compositor erasmo carlos, de 81 an...   \n",
       "\n",
       "                                              link_t  \n",
       "0  https://g1.globo.com/pe/pernambuco/carnaval/20...  \n",
       "1  https://g1.globo.com/rj/rio-de-janeiro/carnava...  \n",
       "2  https://g1.globo.com/fato-ou-fake/noticia/2023...  \n",
       "3  https://g1.globo.com/pop-arte/noticia/2022/06/...  \n",
       "4  https://g1.globo.com/rj/rio-de-janeiro/noticia...  "
      ]
     },
     "execution_count": 17,
     "metadata": {},
     "output_type": "execute_result"
    }
   ],
   "source": [
    "df2 = pd.read_csv('FakeTrueBr_corpus.csv')\n",
    "\n",
    "df2.head()"
   ]
  },
  {
   "cell_type": "code",
   "execution_count": 18,
   "metadata": {},
   "outputs": [
    {
     "data": {
      "text/html": [
       "<div>\n",
       "<style scoped>\n",
       "    .dataframe tbody tr th:only-of-type {\n",
       "        vertical-align: middle;\n",
       "    }\n",
       "\n",
       "    .dataframe tbody tr th {\n",
       "        vertical-align: top;\n",
       "    }\n",
       "\n",
       "    .dataframe thead th {\n",
       "        text-align: right;\n",
       "    }\n",
       "</style>\n",
       "<table border=\"1\" class=\"dataframe\">\n",
       "  <thead>\n",
       "    <tr style=\"text-align: right;\">\n",
       "      <th></th>\n",
       "      <th>Texto</th>\n",
       "      <th>Categoria</th>\n",
       "    </tr>\n",
       "  </thead>\n",
       "  <tbody>\n",
       "    <tr>\n",
       "      <th>0</th>\n",
       "      <td>carnaval em olinda. arrastão monstro. fazuele ...</td>\n",
       "      <td>Falso</td>\n",
       "    </tr>\n",
       "    <tr>\n",
       "      <th>1</th>\n",
       "      <td>carro alegórico da escola de samba grande rio...</td>\n",
       "      <td>Falso</td>\n",
       "    </tr>\n",
       "    <tr>\n",
       "      <th>2</th>\n",
       "      <td>cantor léo apoiando atos antidemocráticos. alg...</td>\n",
       "      <td>Falso</td>\n",
       "    </tr>\n",
       "    <tr>\n",
       "      <th>3</th>\n",
       "      <td>versão 1 ore muito pela cantora anitta! ela es...</td>\n",
       "      <td>Falso</td>\n",
       "    </tr>\n",
       "    <tr>\n",
       "      <th>4</th>\n",
       "      <td>morre erasmo carlos aos 81 anos cantor conside...</td>\n",
       "      <td>Falso</td>\n",
       "    </tr>\n",
       "  </tbody>\n",
       "</table>\n",
       "</div>"
      ],
      "text/plain": [
       "                                               Texto Categoria\n",
       "0  carnaval em olinda. arrastão monstro. fazuele ...     Falso\n",
       "1   carro alegórico da escola de samba grande rio...     Falso\n",
       "2  cantor léo apoiando atos antidemocráticos. alg...     Falso\n",
       "3  versão 1 ore muito pela cantora anitta! ela es...     Falso\n",
       "4  morre erasmo carlos aos 81 anos cantor conside...     Falso"
      ]
     },
     "execution_count": 18,
     "metadata": {},
     "output_type": "execute_result"
    }
   ],
   "source": [
    "# Cria um novo DataFrame com as colunas desejadas\n",
    "novo_df = pd.DataFrame(columns=['Texto', 'Categoria'])\n",
    "\n",
    "# Adiciona os dados das colunas 2 e 4 ao novo DataFrame\n",
    "novo_df['Texto'] = pd.concat([df2.iloc[:, 1], df2.iloc[:, 3]], ignore_index=True)\n",
    "novo_df['Categoria'] = ['Falso'] * len(df2) + ['Real'] * len(df2)\n",
    "\n",
    "novo_df.head()"
   ]
  },
  {
   "cell_type": "code",
   "execution_count": 19,
   "metadata": {},
   "outputs": [
    {
     "data": {
      "text/plain": [
       "3582"
      ]
     },
     "execution_count": 19,
     "metadata": {},
     "output_type": "execute_result"
    }
   ],
   "source": [
    "novo_df.shape[0]"
   ]
  },
  {
   "cell_type": "code",
   "execution_count": 20,
   "metadata": {},
   "outputs": [
    {
     "data": {
      "text/plain": [
       "Texto        0\n",
       "Categoria    0\n",
       "dtype: int64"
      ]
     },
     "execution_count": 20,
     "metadata": {},
     "output_type": "execute_result"
    }
   ],
   "source": [
    "novo_df.isnull().sum()"
   ]
  },
  {
   "cell_type": "code",
   "execution_count": 21,
   "metadata": {},
   "outputs": [
    {
     "data": {
      "text/plain": [
       "399"
      ]
     },
     "execution_count": 21,
     "metadata": {},
     "output_type": "execute_result"
    }
   ],
   "source": [
    "novo_df.duplicated().sum()"
   ]
  },
  {
   "cell_type": "code",
   "execution_count": 22,
   "metadata": {},
   "outputs": [
    {
     "data": {
      "text/plain": [
       "3183"
      ]
     },
     "execution_count": 22,
     "metadata": {},
     "output_type": "execute_result"
    }
   ],
   "source": [
    "# remove duplicatas\n",
    "novo_df = novo_df.drop_duplicates()\n",
    "\n",
    "novo_df.shape[0]"
   ]
  },
  {
   "cell_type": "code",
   "execution_count": 23,
   "metadata": {},
   "outputs": [
    {
     "data": {
      "image/png": "[encoded data removed]",
      "text/plain": [
       "<Figure size 640x480 with 1 Axes>"
      ]
     },
     "metadata": {},
     "output_type": "display_data"
    }
   ],
   "source": [
    "contagem = novo_df['Categoria'].value_counts()\n",
    "\n",
    "plt.bar(contagem.index, contagem.values)\n",
    "plt.title('Distribuição entre Falso e Verdadeiro')\n",
    "plt.xlabel('Categoria')\n",
    "plt.ylabel('Contagem')\n",
    "plt.show()"
   ]
  },
  {
   "cell_type": "code",
   "execution_count": 24,
   "metadata": {},
   "outputs": [
    {
     "data": {
      "text/html": [
       "<div>\n",
       "<style scoped>\n",
       "    .dataframe tbody tr th:only-of-type {\n",
       "        vertical-align: middle;\n",
       "    }\n",
       "\n",
       "    .dataframe tbody tr th {\n",
       "        vertical-align: top;\n",
       "    }\n",
       "\n",
       "    .dataframe thead th {\n",
       "        text-align: right;\n",
       "    }\n",
       "</style>\n",
       "<table border=\"1\" class=\"dataframe\">\n",
       "  <thead>\n",
       "    <tr style=\"text-align: right;\">\n",
       "      <th></th>\n",
       "      <th>Texto</th>\n",
       "      <th>Categoria</th>\n",
       "    </tr>\n",
       "  </thead>\n",
       "  <tbody>\n",
       "    <tr>\n",
       "      <th>0</th>\n",
       "      <td>O Podemos decidiu expulsar o deputado federal ...</td>\n",
       "      <td>Real</td>\n",
       "    </tr>\n",
       "    <tr>\n",
       "      <th>1</th>\n",
       "      <td>Bolsonaro é um liberal completo, diz president...</td>\n",
       "      <td>Real</td>\n",
       "    </tr>\n",
       "    <tr>\n",
       "      <th>2</th>\n",
       "      <td>Ministro do STF libera Andrea Neves de prisão ...</td>\n",
       "      <td>Real</td>\n",
       "    </tr>\n",
       "    <tr>\n",
       "      <th>3</th>\n",
       "      <td>Apesar da abundância, cresce preocupação com p...</td>\n",
       "      <td>Real</td>\n",
       "    </tr>\n",
       "    <tr>\n",
       "      <th>4</th>\n",
       "      <td>Por que Harvard e MIT levarão Dilma, Moro e Su...</td>\n",
       "      <td>Real</td>\n",
       "    </tr>\n",
       "  </tbody>\n",
       "</table>\n",
       "</div>"
      ],
      "text/plain": [
       "                                               Texto Categoria\n",
       "0  O Podemos decidiu expulsar o deputado federal ...      Real\n",
       "1  Bolsonaro é um liberal completo, diz president...      Real\n",
       "2  Ministro do STF libera Andrea Neves de prisão ...      Real\n",
       "3  Apesar da abundância, cresce preocupação com p...      Real\n",
       "4  Por que Harvard e MIT levarão Dilma, Moro e Su...      Real"
      ]
     },
     "execution_count": 24,
     "metadata": {},
     "output_type": "execute_result"
    }
   ],
   "source": [
    "# Junta os DataFrames sem adicionar ou renomear colunas\n",
    "df_junto = pd.concat([df,novo_df])\n",
    "\n",
    "# Visualiza os primeiros registros do DataFrame resultante\n",
    "df_junto.head()\n"
   ]
  },
  {
   "cell_type": "code",
   "execution_count": 25,
   "metadata": {},
   "outputs": [
    {
     "data": {
      "text/plain": [
       "0"
      ]
     },
     "execution_count": 25,
     "metadata": {},
     "output_type": "execute_result"
    }
   ],
   "source": [
    "df_junto.duplicated().sum()"
   ]
  },
  {
   "cell_type": "code",
   "execution_count": 26,
   "metadata": {},
   "outputs": [
    {
     "data": {
      "image/png": "[encoded data removed]",
      "text/plain": [
       "<Figure size 640x480 with 1 Axes>"
      ]
     },
     "metadata": {},
     "output_type": "display_data"
    }
   ],
   "source": [
    "contagem = df_junto['Categoria'].value_counts()\n",
    "\n",
    "plt.bar(contagem.index, contagem.values)\n",
    "plt.title('Distribuição entre Falso e Verdadeiro')\n",
    "plt.xlabel('Categoria')\n",
    "plt.ylabel('Contagem')\n",
    "plt.show()"
   ]
  },
  {
   "cell_type": "code",
   "execution_count": 28,
   "metadata": {},
   "outputs": [
    {
     "data": {
      "text/html": [
       "<div>\n",
       "<style scoped>\n",
       "    .dataframe tbody tr th:only-of-type {\n",
       "        vertical-align: middle;\n",
       "    }\n",
       "\n",
       "    .dataframe tbody tr th {\n",
       "        vertical-align: top;\n",
       "    }\n",
       "\n",
       "    .dataframe thead th {\n",
       "        text-align: right;\n",
       "    }\n",
       "</style>\n",
       "<table border=\"1\" class=\"dataframe\">\n",
       "  <thead>\n",
       "    <tr style=\"text-align: right;\">\n",
       "      <th></th>\n",
       "      <th>Titulo</th>\n",
       "      <th>Subtitulo</th>\n",
       "      <th>Noticia</th>\n",
       "      <th>Categoria</th>\n",
       "      <th>Data</th>\n",
       "      <th>Autor</th>\n",
       "      <th>URL</th>\n",
       "      <th>Classe</th>\n",
       "    </tr>\n",
       "  </thead>\n",
       "  <tbody>\n",
       "    <tr>\n",
       "      <th>0</th>\n",
       "      <td>\\n\\nArthur Lira fraudou a votação sobre voto i...</td>\n",
       "      <td>Boato – Está comprovado que a votação sobre o ...</td>\n",
       "      <td>bomba lira fraudar o votação brasília explodir...</td>\n",
       "      <td>política</td>\n",
       "      <td>17/08/2021</td>\n",
       "      <td>\\nEdgard Matsuki</td>\n",
       "      <td>https://www.boatos.org/politica/arthur-lira-fr...</td>\n",
       "      <td>0</td>\n",
       "    </tr>\n",
       "    <tr>\n",
       "      <th>1</th>\n",
       "      <td>WhatsApp agora permite silenciar conversas e g...</td>\n",
       "      <td>Opção vinha sendo testada no aplicativo, e foi...</td>\n",
       "      <td>o whatsapp liberar quinta-feira atualização ap...</td>\n",
       "      <td>política</td>\n",
       "      <td>23/10/2020 10h02</td>\n",
       "      <td>Por G1</td>\n",
       "      <td>https://g1.globo.com/economia/tecnologia/notic...</td>\n",
       "      <td>1</td>\n",
       "    </tr>\n",
       "    <tr>\n",
       "      <th>2</th>\n",
       "      <td>Com Lula, Bolsonaro e Ciro, Fortaleza vira mic...</td>\n",
       "      <td>NaN</td>\n",
       "      <td>debater propor o cidade o campanha prefeitura ...</td>\n",
       "      <td>política</td>\n",
       "      <td>27/10/2020 04h00</td>\n",
       "      <td>Carlos Madeiro</td>\n",
       "      <td>https://noticias.uol.com.br/eleicoes/2020/10/2...</td>\n",
       "      <td>1</td>\n",
       "    </tr>\n",
       "    <tr>\n",
       "      <th>3</th>\n",
       "      <td>Alesp aprova projeto que multa em até R$ 100 m...</td>\n",
       "      <td>NaN</td>\n",
       "      <td>o alesp assembleia legislativo paulo aprovar h...</td>\n",
       "      <td>saúde</td>\n",
       "      <td>10/02/2021 23h56</td>\n",
       "      <td>10/02/2021 23h56</td>\n",
       "      <td>https://noticias.uol.com.br/saude/ultimas-noti...</td>\n",
       "      <td>1</td>\n",
       "    </tr>\n",
       "    <tr>\n",
       "      <th>4</th>\n",
       "      <td>\\n  Não é verdade que Fauci sabia há 15 anos q...</td>\n",
       "      <td>Publicações compartilhadas dezenas de vezes de...</td>\n",
       "      <td>“ fauci aprovar o hidroxicloroquina haver ano ...</td>\n",
       "      <td>saúde</td>\n",
       "      <td>11/08/2020 às 20:45</td>\n",
       "      <td>AFP Austrália</td>\n",
       "      <td>https://checamos.afp.com//nao-e-verdade-que-fa...</td>\n",
       "      <td>0</td>\n",
       "    </tr>\n",
       "  </tbody>\n",
       "</table>\n",
       "</div>"
      ],
      "text/plain": [
       "                                              Titulo  \\\n",
       "0  \\n\\nArthur Lira fraudou a votação sobre voto i...   \n",
       "1  WhatsApp agora permite silenciar conversas e g...   \n",
       "2  Com Lula, Bolsonaro e Ciro, Fortaleza vira mic...   \n",
       "3  Alesp aprova projeto que multa em até R$ 100 m...   \n",
       "4  \\n  Não é verdade que Fauci sabia há 15 anos q...   \n",
       "\n",
       "                                           Subtitulo  \\\n",
       "0  Boato – Está comprovado que a votação sobre o ...   \n",
       "1  Opção vinha sendo testada no aplicativo, e foi...   \n",
       "2                                                NaN   \n",
       "3                                                NaN   \n",
       "4  Publicações compartilhadas dezenas de vezes de...   \n",
       "\n",
       "                                             Noticia Categoria  \\\n",
       "0  bomba lira fraudar o votação brasília explodir...  política   \n",
       "1  o whatsapp liberar quinta-feira atualização ap...  política   \n",
       "2  debater propor o cidade o campanha prefeitura ...  política   \n",
       "3  o alesp assembleia legislativo paulo aprovar h...     saúde   \n",
       "4  “ fauci aprovar o hidroxicloroquina haver ano ...     saúde   \n",
       "\n",
       "                  Data              Autor  \\\n",
       "0           17/08/2021  \\nEdgard Matsuki    \n",
       "1    23/10/2020 10h02             Por G1    \n",
       "2    27/10/2020 04h00      Carlos Madeiro   \n",
       "3    10/02/2021 23h56   10/02/2021 23h56    \n",
       "4  11/08/2020 às 20:45      AFP Austrália   \n",
       "\n",
       "                                                 URL  Classe  \n",
       "0  https://www.boatos.org/politica/arthur-lira-fr...       0  \n",
       "1  https://g1.globo.com/economia/tecnologia/notic...       1  \n",
       "2  https://noticias.uol.com.br/eleicoes/2020/10/2...       1  \n",
       "3  https://noticias.uol.com.br/saude/ultimas-noti...       1  \n",
       "4  https://checamos.afp.com//nao-e-verdade-que-fa...       0  "
      ]
     },
     "execution_count": 28,
     "metadata": {},
     "output_type": "execute_result"
    }
   ],
   "source": [
    "df3 = pd.read_excel('FakeRecogna_no_removal_words.xlsx')\n",
    "\n",
    "df3.head()"
   ]
  },
  {
   "cell_type": "code",
   "execution_count": 29,
   "metadata": {},
   "outputs": [
    {
     "data": {
      "text/html": [
       "<div>\n",
       "<style scoped>\n",
       "    .dataframe tbody tr th:only-of-type {\n",
       "        vertical-align: middle;\n",
       "    }\n",
       "\n",
       "    .dataframe tbody tr th {\n",
       "        vertical-align: top;\n",
       "    }\n",
       "\n",
       "    .dataframe thead th {\n",
       "        text-align: right;\n",
       "    }\n",
       "</style>\n",
       "<table border=\"1\" class=\"dataframe\">\n",
       "  <thead>\n",
       "    <tr style=\"text-align: right;\">\n",
       "      <th></th>\n",
       "      <th>Texto</th>\n",
       "      <th>Categoria</th>\n",
       "    </tr>\n",
       "  </thead>\n",
       "  <tbody>\n",
       "    <tr>\n",
       "      <th>0</th>\n",
       "      <td>bomba lira fraudar o votação brasília explodir...</td>\n",
       "      <td>Real</td>\n",
       "    </tr>\n",
       "    <tr>\n",
       "      <th>1</th>\n",
       "      <td>o whatsapp liberar quinta-feira atualização ap...</td>\n",
       "      <td>Falso</td>\n",
       "    </tr>\n",
       "    <tr>\n",
       "      <th>2</th>\n",
       "      <td>debater propor o cidade o campanha prefeitura ...</td>\n",
       "      <td>Falso</td>\n",
       "    </tr>\n",
       "    <tr>\n",
       "      <th>3</th>\n",
       "      <td>o alesp assembleia legislativo paulo aprovar h...</td>\n",
       "      <td>Falso</td>\n",
       "    </tr>\n",
       "    <tr>\n",
       "      <th>4</th>\n",
       "      <td>“ fauci aprovar o hidroxicloroquina haver ano ...</td>\n",
       "      <td>Real</td>\n",
       "    </tr>\n",
       "  </tbody>\n",
       "</table>\n",
       "</div>"
      ],
      "text/plain": [
       "                                               Texto Categoria\n",
       "0  bomba lira fraudar o votação brasília explodir...      Real\n",
       "1  o whatsapp liberar quinta-feira atualização ap...     Falso\n",
       "2  debater propor o cidade o campanha prefeitura ...     Falso\n",
       "3  o alesp assembleia legislativo paulo aprovar h...     Falso\n",
       "4  “ fauci aprovar o hidroxicloroquina haver ano ...      Real"
      ]
     },
     "execution_count": 29,
     "metadata": {},
     "output_type": "execute_result"
    }
   ],
   "source": [
    "# Cria a coluna \"Texto\" mesclando as colunas 1, 2 e 3\n",
    "df3['Texto'] = df3['Noticia']\n",
    "\n",
    "# Realiza mapeamento dos valores da coluna 8 para \"Real\" e \"Falso\" e criar a coluna \"Categoria\"\n",
    "df3['Categoria'] = df3['Classe'].map({0: 'Real', 1: 'Falso'})\n",
    "\n",
    "# Mantem apenas as colunas \"Texto\" e \"Categoria\"\n",
    "df3 = df3[['Texto', 'Categoria']]\n",
    "\n",
    "# Visualiza os primeiros registros do DataFrame atualizado\n",
    "df3.head()"
   ]
  },
  {
   "cell_type": "code",
   "execution_count": 30,
   "metadata": {},
   "outputs": [
    {
     "data": {
      "text/plain": [
       "11902"
      ]
     },
     "execution_count": 30,
     "metadata": {},
     "output_type": "execute_result"
    }
   ],
   "source": [
    "df3.shape[0]"
   ]
  },
  {
   "cell_type": "code",
   "execution_count": 31,
   "metadata": {},
   "outputs": [
    {
     "data": {
      "text/plain": [
       "Texto        0\n",
       "Categoria    0\n",
       "dtype: int64"
      ]
     },
     "execution_count": 31,
     "metadata": {},
     "output_type": "execute_result"
    }
   ],
   "source": [
    "df3.isnull().sum()"
   ]
  },
  {
   "cell_type": "code",
   "execution_count": 32,
   "metadata": {},
   "outputs": [
    {
     "data": {
      "text/plain": [
       "16"
      ]
     },
     "execution_count": 32,
     "metadata": {},
     "output_type": "execute_result"
    }
   ],
   "source": [
    "df3.duplicated().sum()"
   ]
  },
  {
   "cell_type": "code",
   "execution_count": 33,
   "metadata": {},
   "outputs": [
    {
     "data": {
      "image/png": "[encoded data removed]",
      "text/plain": [
       "<Figure size 640x480 with 1 Axes>"
      ]
     },
     "metadata": {},
     "output_type": "display_data"
    }
   ],
   "source": [
    "contagem = df3['Categoria'].value_counts()\n",
    "\n",
    "plt.bar(contagem.index, contagem.values)\n",
    "plt.title('Distribuição entre Falso e Verdadeiro')\n",
    "plt.xlabel('Categoria')\n",
    "plt.ylabel('Contagem')\n",
    "plt.show()"
   ]
  },
  {
   "cell_type": "code",
   "execution_count": 34,
   "metadata": {},
   "outputs": [
    {
     "data": {
      "text/html": [
       "<div>\n",
       "<style scoped>\n",
       "    .dataframe tbody tr th:only-of-type {\n",
       "        vertical-align: middle;\n",
       "    }\n",
       "\n",
       "    .dataframe tbody tr th {\n",
       "        vertical-align: top;\n",
       "    }\n",
       "\n",
       "    .dataframe thead th {\n",
       "        text-align: right;\n",
       "    }\n",
       "</style>\n",
       "<table border=\"1\" class=\"dataframe\">\n",
       "  <thead>\n",
       "    <tr style=\"text-align: right;\">\n",
       "      <th></th>\n",
       "      <th>Texto</th>\n",
       "      <th>Categoria</th>\n",
       "    </tr>\n",
       "  </thead>\n",
       "  <tbody>\n",
       "    <tr>\n",
       "      <th>0</th>\n",
       "      <td>O Podemos decidiu expulsar o deputado federal ...</td>\n",
       "      <td>Real</td>\n",
       "    </tr>\n",
       "    <tr>\n",
       "      <th>1</th>\n",
       "      <td>Bolsonaro é um liberal completo, diz president...</td>\n",
       "      <td>Real</td>\n",
       "    </tr>\n",
       "    <tr>\n",
       "      <th>2</th>\n",
       "      <td>Ministro do STF libera Andrea Neves de prisão ...</td>\n",
       "      <td>Real</td>\n",
       "    </tr>\n",
       "    <tr>\n",
       "      <th>3</th>\n",
       "      <td>Apesar da abundância, cresce preocupação com p...</td>\n",
       "      <td>Real</td>\n",
       "    </tr>\n",
       "    <tr>\n",
       "      <th>4</th>\n",
       "      <td>Por que Harvard e MIT levarão Dilma, Moro e Su...</td>\n",
       "      <td>Real</td>\n",
       "    </tr>\n",
       "  </tbody>\n",
       "</table>\n",
       "</div>"
      ],
      "text/plain": [
       "                                               Texto Categoria\n",
       "0  O Podemos decidiu expulsar o deputado federal ...      Real\n",
       "1  Bolsonaro é um liberal completo, diz president...      Real\n",
       "2  Ministro do STF libera Andrea Neves de prisão ...      Real\n",
       "3  Apesar da abundância, cresce preocupação com p...      Real\n",
       "4  Por que Harvard e MIT levarão Dilma, Moro e Su...      Real"
      ]
     },
     "execution_count": 34,
     "metadata": {},
     "output_type": "execute_result"
    }
   ],
   "source": [
    "# Junta os DataFrames sem adicionar ou renomear colunas\n",
    "df_final = pd.concat([df_junto,df3])\n",
    "\n",
    "# Visualiza os primeiros registros do DataFrame resultante\n",
    "df_final.head()"
   ]
  },
  {
   "cell_type": "code",
   "execution_count": 35,
   "metadata": {},
   "outputs": [
    {
     "data": {
      "text/plain": [
       "22284"
      ]
     },
     "execution_count": 35,
     "metadata": {},
     "output_type": "execute_result"
    }
   ],
   "source": [
    "df_final.shape[0]"
   ]
  },
  {
   "cell_type": "code",
   "execution_count": 36,
   "metadata": {},
   "outputs": [
    {
     "data": {
      "text/plain": [
       "Texto        0\n",
       "Categoria    0\n",
       "dtype: int64"
      ]
     },
     "execution_count": 36,
     "metadata": {},
     "output_type": "execute_result"
    }
   ],
   "source": [
    "df_final.isnull().sum()"
   ]
  },
  {
   "cell_type": "code",
   "execution_count": 37,
   "metadata": {},
   "outputs": [
    {
     "data": {
      "text/plain": [
       "16"
      ]
     },
     "execution_count": 37,
     "metadata": {},
     "output_type": "execute_result"
    }
   ],
   "source": [
    "df_final.duplicated().sum()"
   ]
  },
  {
   "cell_type": "code",
   "execution_count": 38,
   "metadata": {},
   "outputs": [
    {
     "data": {
      "image/png": "[encoded data removed]",
      "text/plain": [
       "<Figure size 640x480 with 1 Axes>"
      ]
     },
     "metadata": {},
     "output_type": "display_data"
    }
   ],
   "source": [
    "contagem = df_final['Categoria'].value_counts()\n",
    "\n",
    "plt.bar(contagem.index, contagem.values)\n",
    "plt.title('Distribuição entre Falso e Verdadeiro')\n",
    "plt.xlabel('Categoria')\n",
    "plt.ylabel('Contagem')\n",
    "plt.show()"
   ]
  },
  {
   "cell_type": "code",
   "execution_count": 39,
   "metadata": {},
   "outputs": [],
   "source": [
    "df_final.to_csv('noticias_dados_limpos.csv', index=False)"
   ]
  },
  {
   "cell_type": "code",
   "execution_count": 40,
   "metadata": {},
   "outputs": [
    {
     "data": {
      "text/html": [
       "<div>\n",
       "<style scoped>\n",
       "    .dataframe tbody tr th:only-of-type {\n",
       "        vertical-align: middle;\n",
       "    }\n",
       "\n",
       "    .dataframe tbody tr th {\n",
       "        vertical-align: top;\n",
       "    }\n",
       "\n",
       "    .dataframe thead th {\n",
       "        text-align: right;\n",
       "    }\n",
       "</style>\n",
       "<table border=\"1\" class=\"dataframe\">\n",
       "  <thead>\n",
       "    <tr style=\"text-align: right;\">\n",
       "      <th></th>\n",
       "      <th>Texto</th>\n",
       "      <th>Categoria</th>\n",
       "    </tr>\n",
       "  </thead>\n",
       "  <tbody>\n",
       "    <tr>\n",
       "      <th>0</th>\n",
       "      <td>O Podemos decidiu expulsar o deputado federal ...</td>\n",
       "      <td>Real</td>\n",
       "    </tr>\n",
       "    <tr>\n",
       "      <th>1</th>\n",
       "      <td>Bolsonaro é um liberal completo, diz president...</td>\n",
       "      <td>Real</td>\n",
       "    </tr>\n",
       "    <tr>\n",
       "      <th>2</th>\n",
       "      <td>Ministro do STF libera Andrea Neves de prisão ...</td>\n",
       "      <td>Real</td>\n",
       "    </tr>\n",
       "    <tr>\n",
       "      <th>3</th>\n",
       "      <td>Apesar da abundância, cresce preocupação com p...</td>\n",
       "      <td>Real</td>\n",
       "    </tr>\n",
       "    <tr>\n",
       "      <th>4</th>\n",
       "      <td>Por que Harvard e MIT levarão Dilma, Moro e Su...</td>\n",
       "      <td>Real</td>\n",
       "    </tr>\n",
       "  </tbody>\n",
       "</table>\n",
       "</div>"
      ],
      "text/plain": [
       "                                               Texto Categoria\n",
       "0  O Podemos decidiu expulsar o deputado federal ...      Real\n",
       "1  Bolsonaro é um liberal completo, diz president...      Real\n",
       "2  Ministro do STF libera Andrea Neves de prisão ...      Real\n",
       "3  Apesar da abundância, cresce preocupação com p...      Real\n",
       "4  Por que Harvard e MIT levarão Dilma, Moro e Su...      Real"
      ]
     },
     "execution_count": 40,
     "metadata": {},
     "output_type": "execute_result"
    }
   ],
   "source": [
    "df_final.head()"
   ]
  }
 ],
 "metadata": {
  "kernelspec": {
   "display_name": "Python 3",
   "language": "python",
   "name": "python3"
  },
  "language_info": {
   "codemirror_mode": {
    "name": "ipython",
    "version": 3
   },
   "file_extension": ".py",
   "mimetype": "text/x-python",
   "name": "python",
   "nbconvert_exporter": "python",
   "pygments_lexer": "ipython3",
   "version": "3.10.14"
  }
 },
 "nbformat": 4,
 "nbformat_minor": 2
}
