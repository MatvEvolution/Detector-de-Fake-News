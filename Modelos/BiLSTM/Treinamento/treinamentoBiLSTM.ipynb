{
 "cells": [
  {
   "cell_type": "code",
   "execution_count": 21,
   "metadata": {},
   "outputs": [],
   "source": [
    "from gensim.models import Word2Vec\n",
    "import tensorflow as tf\n",
    "import os\n",
    "import pickle\n",
    "from tensorflow.keras.models import Sequential\n",
    "from tensorflow.keras.layers import Embedding, LSTM, Bidirectional, Dense, Dropout\n",
    "from tensorflow.keras.callbacks import EarlyStopping\n",
    "import matplotlib.pyplot as plt\n",
    "import numpy as np\n",
    "\n"
   ]
  },
  {
   "cell_type": "code",
   "execution_count": 22,
   "metadata": {},
   "outputs": [
    {
     "name": "stdout",
     "output_type": "stream",
     "text": [
      "Num GPUs:  1\n"
     ]
    }
   ],
   "source": [
    "print(\"Num GPUs: \", len(tf.config.list_physical_devices('GPU')))"
   ]
  },
  {
   "cell_type": "code",
   "execution_count": 23,
   "metadata": {},
   "outputs": [],
   "source": [
    "# Encontra diretorio atual\n",
    "atual_dir = os.getcwd()\n",
    "\n",
    "# Acessa arquivo pkl das noticias\n",
    "parent_dir = os.path.split(atual_dir)\n",
    "\n",
    "parent_dir = os.path.split(parent_dir[0])\n",
    "\n",
    "parent_dir = os.path.split(parent_dir[0])\n",
    "\n",
    "caminho_model_word2vec = os.path.join(parent_dir[0], \"Pre-processamento\\\\model_word2vec.model\")\n",
    "\n",
    "# Carrega o modelo Word2Vec para um arquivo\n",
    "model_word2vec = Word2Vec.load(caminho_model_word2vec)"
   ]
  },
  {
   "cell_type": "code",
   "execution_count": 24,
   "metadata": {},
   "outputs": [
    {
     "name": "stdout",
     "output_type": "stream",
     "text": [
      "max_length:  3835\n"
     ]
    }
   ],
   "source": [
    "# Carrega o valor de max_length de um arquivo pickle\n",
    "caminho_max_length = os.path.join(parent_dir[0],\"Pre-processamento\\\\max_length.pkl\")\n",
    "with open(caminho_max_length, 'rb') as f:\n",
    "    max_length = pickle.load(f)\n",
    "\n",
    "print(\"max_length: \", max_length)"
   ]
  },
  {
   "cell_type": "code",
   "execution_count": 25,
   "metadata": {},
   "outputs": [
    {
     "data": {
      "text/html": [
       "<div>\n",
       "<style scoped>\n",
       "    .dataframe tbody tr th:only-of-type {\n",
       "        vertical-align: middle;\n",
       "    }\n",
       "\n",
       "    .dataframe tbody tr th {\n",
       "        vertical-align: top;\n",
       "    }\n",
       "\n",
       "    .dataframe thead th {\n",
       "        text-align: right;\n",
       "    }\n",
       "</style>\n",
       "<table border=\"1\" class=\"dataframe\">\n",
       "  <thead>\n",
       "    <tr style=\"text-align: right;\">\n",
       "      <th></th>\n",
       "      <th>Texto</th>\n",
       "      <th>Categoria</th>\n",
       "      <th>label</th>\n",
       "    </tr>\n",
       "  </thead>\n",
       "  <tbody>\n",
       "    <tr>\n",
       "      <th>0</th>\n",
       "      <td>[poder, decidir, expulsar, deputado, federal, ...</td>\n",
       "      <td>Real</td>\n",
       "      <td>1</td>\n",
       "    </tr>\n",
       "    <tr>\n",
       "      <th>1</th>\n",
       "      <td>[bolsonaro, liberal, completo, presidente, psl...</td>\n",
       "      <td>Real</td>\n",
       "      <td>1</td>\n",
       "    </tr>\n",
       "    <tr>\n",
       "      <th>2</th>\n",
       "      <td>[ministro, stf, liberar, Andrea, Neves, prisao...</td>\n",
       "      <td>Real</td>\n",
       "      <td>1</td>\n",
       "    </tr>\n",
       "    <tr>\n",
       "      <th>3</th>\n",
       "      <td>[apesar, abundancia, crescer, preocupacao, pre...</td>\n",
       "      <td>Real</td>\n",
       "      <td>1</td>\n",
       "    </tr>\n",
       "    <tr>\n",
       "      <th>4</th>\n",
       "      <td>[harvard, mit, levarao, dilma, moro, suplicy, ...</td>\n",
       "      <td>Real</td>\n",
       "      <td>1</td>\n",
       "    </tr>\n",
       "    <tr>\n",
       "      <th>...</th>\n",
       "      <td>...</td>\n",
       "      <td>...</td>\n",
       "      <td>...</td>\n",
       "    </tr>\n",
       "    <tr>\n",
       "      <th>22279</th>\n",
       "      <td>[encontrar, reunir, presidente, jair, Bolsonar...</td>\n",
       "      <td>Falso</td>\n",
       "      <td>0</td>\n",
       "    </tr>\n",
       "    <tr>\n",
       "      <th>22280</th>\n",
       "      <td>[reabertura, complexo, parque, disney, orlar, ...</td>\n",
       "      <td>Falso</td>\n",
       "      <td>0</td>\n",
       "    </tr>\n",
       "    <tr>\n",
       "      <th>22281</th>\n",
       "      <td>[publicacao, circular, rede, social, pedir, mi...</td>\n",
       "      <td>Real</td>\n",
       "      <td>1</td>\n",
       "    </tr>\n",
       "    <tr>\n",
       "      <th>22282</th>\n",
       "      <td>[juiz, Wauner, Batista, Ferreiro, machadar, va...</td>\n",
       "      <td>Falso</td>\n",
       "      <td>0</td>\n",
       "    </tr>\n",
       "    <tr>\n",
       "      <th>22283</th>\n",
       "      <td>[empresario, luciano, Hang, dono, havan, doar,...</td>\n",
       "      <td>Real</td>\n",
       "      <td>1</td>\n",
       "    </tr>\n",
       "  </tbody>\n",
       "</table>\n",
       "<p>22284 rows × 3 columns</p>\n",
       "</div>"
      ],
      "text/plain": [
       "                                                   Texto Categoria  label\n",
       "0      [poder, decidir, expulsar, deputado, federal, ...      Real      1\n",
       "1      [bolsonaro, liberal, completo, presidente, psl...      Real      1\n",
       "2      [ministro, stf, liberar, Andrea, Neves, prisao...      Real      1\n",
       "3      [apesar, abundancia, crescer, preocupacao, pre...      Real      1\n",
       "4      [harvard, mit, levarao, dilma, moro, suplicy, ...      Real      1\n",
       "...                                                  ...       ...    ...\n",
       "22279  [encontrar, reunir, presidente, jair, Bolsonar...     Falso      0\n",
       "22280  [reabertura, complexo, parque, disney, orlar, ...     Falso      0\n",
       "22281  [publicacao, circular, rede, social, pedir, mi...      Real      1\n",
       "22282  [juiz, Wauner, Batista, Ferreiro, machadar, va...     Falso      0\n",
       "22283  [empresario, luciano, Hang, dono, havan, doar,...      Real      1\n",
       "\n",
       "[22284 rows x 3 columns]"
      ]
     },
     "execution_count": 25,
     "metadata": {},
     "output_type": "execute_result"
    }
   ],
   "source": [
    "# Carrega dataframe salvo em formato pickle\n",
    "caminho_noticias = os.path.join(parent_dir[0],\"Pre-processamento\\\\df_pre_processado.pkl\")\n",
    "\n",
    "with open(caminho_noticias, 'rb') as f:\n",
    "    df = pickle.load(f)\n",
    "\n",
    "df"
   ]
  },
  {
   "cell_type": "code",
   "execution_count": 26,
   "metadata": {},
   "outputs": [],
   "source": [
    "# Carrega os rótulos (labels) de um arquivo pickle\n",
    "caminho_labels = os.path.join(parent_dir[0],\"Pre-processamento\\\\labels.pkl\")\n",
    "with open(caminho_labels, 'rb') as f:\n",
    "    labels = pickle.load(f)"
   ]
  },
  {
   "cell_type": "code",
   "execution_count": 27,
   "metadata": {},
   "outputs": [
    {
     "name": "stdout",
     "output_type": "stream",
     "text": [
      "Dados treinamento carregados:  [[  351   565    67 ...     0     0     0]\n",
      " [   66 78330   318 ...     0     0     0]\n",
      " [ 2431  2404   579 ...     0     0     0]\n",
      " ...\n",
      " [  229 12291  1054 ...     0     0     0]\n",
      " [12618  9196   670 ... 26460     1   121]\n",
      " [    2  2597  7549 ...     0     0     0]] [[1. 0.]\n",
      " [0. 1.]\n",
      " [1. 0.]\n",
      " ...\n",
      " [1. 0.]\n",
      " [0. 1.]\n",
      " [0. 1.]]\n",
      "Dados validação carregados:  [[ 216   29    1 ...    0    0    0]\n",
      " [  63   13 3150 ...    0    0    0]\n",
      " [ 548  454  296 ...    0    0    0]\n",
      " ...\n",
      " [ 636 5280   88 ...    0    0    0]\n",
      " [6776  158 3653 ...    0    0    0]\n",
      " [2863  100  194 ...    0    0    0]] [[0. 1.]\n",
      " [1. 0.]\n",
      " [0. 1.]\n",
      " ...\n",
      " [0. 1.]\n",
      " [1. 0.]\n",
      " [1. 0.]]\n",
      "Dados teste carregados:  [[ 138   48   26 ...    0    0    0]\n",
      " [   2  312 3701 ...    0    0    0]\n",
      " [1882 1627   50 ...    0    0    0]\n",
      " ...\n",
      " [  14  762  174 ...    0    0    0]\n",
      " [  41   76 4954 ...    0    0    0]\n",
      " [ 138   48   26 ...    0    0    0]] [[0. 1.]\n",
      " [1. 0.]\n",
      " [0. 1.]\n",
      " ...\n",
      " [1. 0.]\n",
      " [1. 0.]\n",
      " [0. 1.]]\n"
     ]
    }
   ],
   "source": [
    "# Carrega os dados de treino de um arquivo pickle\n",
    "caminho_treino = os.path.join(parent_dir[0],\"Pre-processamento\\\\train_data.pkl\")\n",
    "with open(caminho_treino, 'rb') as f:\n",
    "    X_train, y_train = pickle.load(f)\n",
    "\n",
    "print(\"Dados treinamento carregados: \", X_train, y_train)\n",
    "\n",
    "# Carrega os dados de validação de um arquivo pickle\n",
    "caminho_validacao = os.path.join(parent_dir[0],\"Pre-processamento\\\\val_data.pkl\")\n",
    "with open(caminho_validacao, 'rb') as f:\n",
    "    X_val, y_val = pickle.load(f)\n",
    "\n",
    "print(\"Dados validação carregados: \", X_val, y_val)\n",
    "\n",
    "# Carrega os dados de teste de um arquivo pickle\n",
    "caminho_teste = os.path.join(parent_dir[0],\"Pre-processamento\\\\test_data.pkl\")\n",
    "with open(caminho_teste, 'rb') as f:\n",
    "    X_test, y_test = pickle.load(f)\n",
    "\n",
    "print(\"Dados teste carregados: \", X_test, y_test)"
   ]
  },
  {
   "cell_type": "code",
   "execution_count": 28,
   "metadata": {},
   "outputs": [
    {
     "name": "stdout",
     "output_type": "stream",
     "text": [
      "Epoch 1/40\n",
      "244/244 [==============================] - 140s 530ms/step - loss: 0.6441 - accuracy: 0.8111 - val_loss: 0.3704 - val_accuracy: 0.8771\n",
      "Epoch 2/40\n",
      "244/244 [==============================] - 127s 522ms/step - loss: 0.2342 - accuracy: 0.9321 - val_loss: 0.3987 - val_accuracy: 0.8403\n",
      "Epoch 3/40\n",
      "244/244 [==============================] - 152s 625ms/step - loss: 0.1710 - accuracy: 0.9514 - val_loss: 0.5092 - val_accuracy: 0.8106\n",
      "Epoch 4/40\n",
      "244/244 [==============================] - 149s 612ms/step - loss: 0.2387 - accuracy: 0.9276 - val_loss: 0.4204 - val_accuracy: 0.8705\n",
      "Epoch 5/40\n",
      "244/244 [==============================] - 131s 539ms/step - loss: 0.0896 - accuracy: 0.9800 - val_loss: 0.4159 - val_accuracy: 0.8809\n"
     ]
    }
   ],
   "source": [
    "# Cria modelo BiLSTM\n",
    "model = Sequential()\n",
    "model.add(Embedding(input_dim=len(model_word2vec.wv.key_to_index) + 1, \n",
    "                    output_dim=model_word2vec.vector_size))\n",
    "model.add(Bidirectional(LSTM(units=128, return_sequences=True, \n",
    "                             kernel_regularizer=tf.keras.regularizers.l2(0.001))))\n",
    "model.add(Dropout(0.5))\n",
    "model.add(Bidirectional(LSTM(units=64, return_sequences=True, \n",
    "                             kernel_regularizer=tf.keras.regularizers.l2(0.001))))\n",
    "model.add(Dropout(0.5))\n",
    "model.add(Bidirectional(LSTM(units=32, kernel_regularizer=tf.keras.regularizers.l2(0.001))))\n",
    "model.add(Dense(units=len(labels[0]), activation='softmax'))\n",
    "\n",
    "# Chamada ao Early Stopping\n",
    "early_stopping = EarlyStopping(monitor='val_loss', patience=4)\n",
    "\n",
    "# Compila modelo\n",
    "model.compile(loss='categorical_crossentropy', optimizer='adam', metrics=['accuracy'])\n",
    "\n",
    "# Treina modelo\n",
    "history = model.fit(X_train, y_train, epochs=40, batch_size=64, validation_data=(X_val, y_val), callbacks=[early_stopping], verbose=1)"
   ]
  },
  {
   "cell_type": "code",
   "execution_count": 29,
   "metadata": {},
   "outputs": [
    {
     "data": {
      "image/png": "[encoded data removed]",
      "text/plain": [
       "<Figure size 640x480 with 1 Axes>"
      ]
     },
     "metadata": {},
     "output_type": "display_data"
    }
   ],
   "source": [
    "# Plota a perda (loss) e a perda de validação (val_loss) durante o treinamento\n",
    "plt.plot(history.history['loss'], label='Perda treinamento')\n",
    "plt.plot(history.history['val_loss'], label='Perda validação')\n",
    "plt.title('Perda treinamento e validação')\n",
    "plt.xlabel('Epoch')\n",
    "plt.ylabel('Perda')\n",
    "plt.legend()\n",
    "plt.show()"
   ]
  },
  {
   "cell_type": "code",
   "execution_count": 30,
   "metadata": {},
   "outputs": [],
   "source": [
    "# Salva arquivos em discos que podemos carregar sem treinar a rede neural novamente\n",
    "model.save('BiLSTM_model.h5')\n",
    "np.save(\"X_test_BiLSTM.npy\", X_test)\n",
    "np.save(\"y_test_BiLSTM.npy\", y_test)"
   ]
  }
 ],
 "metadata": {
  "kernelspec": {
   "display_name": ".venv",
   "language": "python",
   "name": "python3"
  },
  "language_info": {
   "codemirror_mode": {
    "name": "ipython",
    "version": 3
   },
   "file_extension": ".py",
   "mimetype": "text/x-python",
   "name": "python",
   "nbconvert_exporter": "python",
   "pygments_lexer": "ipython3",
   "version": "3.10.14"
  }
 },
 "nbformat": 4,
 "nbformat_minor": 2
}
