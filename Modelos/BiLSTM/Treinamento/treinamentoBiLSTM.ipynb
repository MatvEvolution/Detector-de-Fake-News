{
 "cells": [
  {
   "cell_type": "code",
   "execution_count": 11,
   "metadata": {},
   "outputs": [],
   "source": [
    "from gensim.models import Word2Vec\n",
    "import tensorflow as tf\n",
    "import os\n",
    "import pickle\n",
    "from tensorflow.keras.models import Sequential\n",
    "from tensorflow.keras.layers import Embedding, LSTM, Bidirectional, Dense, Dropout\n",
    "from tensorflow.keras.callbacks import EarlyStopping\n",
    "import matplotlib.pyplot as plt\n",
    "import numpy as np\n",
    "from tensorflow.keras.layers import BatchNormalization\n"
   ]
  },
  {
   "cell_type": "code",
   "execution_count": 12,
   "metadata": {},
   "outputs": [
    {
     "name": "stdout",
     "output_type": "stream",
     "text": [
      "Num GPUs:  1\n"
     ]
    }
   ],
   "source": [
    "print(\"Num GPUs: \", len(tf.config.list_physical_devices('GPU')))"
   ]
  },
  {
   "cell_type": "code",
   "execution_count": null,
   "metadata": {},
   "outputs": [],
   "source": [
    "# Encontra diretorio atual\n",
    "atual_dir = os.getcwd()\n",
    "\n",
    "# Acessa arquivo pkl das noticias\n",
    "parent_dir = os.path.split(atual_dir)\n",
    "\n",
    "parent_dir = os.path.split(parent_dir[0])\n",
    "\n",
    "parent_dir = os.path.split(parent_dir[0])\n",
    "\n",
    "caminho_model_word2vec = os.path.join(parent_dir[0], \"Pre-processamento\\\\model_word2vec.model\")\n",
    "\n",
    "# Carrega o modelo Word2Vec para um arquivo\n",
    "model_word2vec = Word2Vec.load(caminho_model_word2vec)"
   ]
  },
  {
   "cell_type": "code",
   "execution_count": null,
   "metadata": {},
   "outputs": [
    {
     "name": "stdout",
     "output_type": "stream",
     "text": [
      "max_length:  512\n"
     ]
    }
   ],
   "source": [
    "# Carrega o valor de max_length de um arquivo pickle\n",
    "caminho_max_length = os.path.join(parent_dir[0],\"Pre-processamento\\\\max_length.pkl\")\n",
    "with open(caminho_max_length, 'rb') as f:\n",
    "    max_length = pickle.load(f)\n",
    "\n",
    "print(\"max_length: \", max_length)"
   ]
  },
  {
   "cell_type": "code",
   "execution_count": null,
   "metadata": {},
   "outputs": [
    {
     "data": {
      "text/html": [
       "<div>\n",
       "<style scoped>\n",
       "    .dataframe tbody tr th:only-of-type {\n",
       "        vertical-align: middle;\n",
       "    }\n",
       "\n",
       "    .dataframe tbody tr th {\n",
       "        vertical-align: top;\n",
       "    }\n",
       "\n",
       "    .dataframe thead th {\n",
       "        text-align: right;\n",
       "    }\n",
       "</style>\n",
       "<table border=\"1\" class=\"dataframe\">\n",
       "  <thead>\n",
       "    <tr style=\"text-align: right;\">\n",
       "      <th></th>\n",
       "      <th>Texto</th>\n",
       "      <th>Categoria</th>\n",
       "      <th>label</th>\n",
       "    </tr>\n",
       "  </thead>\n",
       "  <tbody>\n",
       "    <tr>\n",
       "      <th>0</th>\n",
       "      <td>[poder, decidir, expulsar, deputado, federal, ...</td>\n",
       "      <td>Real</td>\n",
       "      <td>1</td>\n",
       "    </tr>\n",
       "    <tr>\n",
       "      <th>1</th>\n",
       "      <td>[bolsonaro, liberal, completo, presidente, psl...</td>\n",
       "      <td>Real</td>\n",
       "      <td>1</td>\n",
       "    </tr>\n",
       "    <tr>\n",
       "      <th>2</th>\n",
       "      <td>[ministro, stf, liberar, Andrea, Neves, prisao...</td>\n",
       "      <td>Real</td>\n",
       "      <td>1</td>\n",
       "    </tr>\n",
       "    <tr>\n",
       "      <th>3</th>\n",
       "      <td>[apesar, abundancia, crescer, preocupacao, pre...</td>\n",
       "      <td>Real</td>\n",
       "      <td>1</td>\n",
       "    </tr>\n",
       "    <tr>\n",
       "      <th>4</th>\n",
       "      <td>[harvard, mit, levarao, dilma, moro, suplicy, ...</td>\n",
       "      <td>Real</td>\n",
       "      <td>1</td>\n",
       "    </tr>\n",
       "    <tr>\n",
       "      <th>...</th>\n",
       "      <td>...</td>\n",
       "      <td>...</td>\n",
       "      <td>...</td>\n",
       "    </tr>\n",
       "    <tr>\n",
       "      <th>22279</th>\n",
       "      <td>[encontrar, reunir, presidente, jair, Bolsonar...</td>\n",
       "      <td>Falso</td>\n",
       "      <td>0</td>\n",
       "    </tr>\n",
       "    <tr>\n",
       "      <th>22280</th>\n",
       "      <td>[reabertura, complexo, parque, disney, orlar, ...</td>\n",
       "      <td>Falso</td>\n",
       "      <td>0</td>\n",
       "    </tr>\n",
       "    <tr>\n",
       "      <th>22281</th>\n",
       "      <td>[publicacao, circular, rede, social, pedir, mi...</td>\n",
       "      <td>Real</td>\n",
       "      <td>1</td>\n",
       "    </tr>\n",
       "    <tr>\n",
       "      <th>22282</th>\n",
       "      <td>[juiz, Wauner, Batista, Ferreiro, machadar, va...</td>\n",
       "      <td>Falso</td>\n",
       "      <td>0</td>\n",
       "    </tr>\n",
       "    <tr>\n",
       "      <th>22283</th>\n",
       "      <td>[empresario, luciano, Hang, dono, havan, doar,...</td>\n",
       "      <td>Real</td>\n",
       "      <td>1</td>\n",
       "    </tr>\n",
       "  </tbody>\n",
       "</table>\n",
       "<p>22284 rows × 3 columns</p>\n",
       "</div>"
      ],
      "text/plain": [
       "                                                   Texto Categoria  label\n",
       "0      [poder, decidir, expulsar, deputado, federal, ...      Real      1\n",
       "1      [bolsonaro, liberal, completo, presidente, psl...      Real      1\n",
       "2      [ministro, stf, liberar, Andrea, Neves, prisao...      Real      1\n",
       "3      [apesar, abundancia, crescer, preocupacao, pre...      Real      1\n",
       "4      [harvard, mit, levarao, dilma, moro, suplicy, ...      Real      1\n",
       "...                                                  ...       ...    ...\n",
       "22279  [encontrar, reunir, presidente, jair, Bolsonar...     Falso      0\n",
       "22280  [reabertura, complexo, parque, disney, orlar, ...     Falso      0\n",
       "22281  [publicacao, circular, rede, social, pedir, mi...      Real      1\n",
       "22282  [juiz, Wauner, Batista, Ferreiro, machadar, va...     Falso      0\n",
       "22283  [empresario, luciano, Hang, dono, havan, doar,...      Real      1\n",
       "\n",
       "[22284 rows x 3 columns]"
      ]
     },
     "execution_count": 15,
     "metadata": {},
     "output_type": "execute_result"
    }
   ],
   "source": [
    "# Carrega dataframe salvo em formato pickle\n",
    "caminho_noticias = os.path.join(parent_dir[0],\"Pre-processamento\\\\df_pre_processado.pkl\")\n",
    "\n",
    "with open(caminho_noticias, 'rb') as f:\n",
    "    df = pickle.load(f)\n",
    "\n",
    "df"
   ]
  },
  {
   "cell_type": "code",
   "execution_count": null,
   "metadata": {},
   "outputs": [],
   "source": [
    "# Carrega os rótulos (labels) de um arquivo pickle\n",
    "caminho_labels = os.path.join(parent_dir[0],\"Pre-processamento\\\\labels.pkl\")\n",
    "with open(caminho_labels, 'rb') as f:\n",
    "    labels = pickle.load(f)"
   ]
  },
  {
   "cell_type": "code",
   "execution_count": null,
   "metadata": {},
   "outputs": [
    {
     "name": "stdout",
     "output_type": "stream",
     "text": [
      "Dados treinamento carregados:  [[   49    10  6815 ...     0     0     0]\n",
      " [  231 37863   801 ...     0     0     0]\n",
      " [ 5549  7929   844 ...     0     0     0]\n",
      " ...\n",
      " [24951   263  1495 ...     0     0     0]\n",
      " [ 1190   577     1 ...  6227   313   221]\n",
      " [ 3961 18320    84 ...     0     0     0]] [0 1 1 ... 1 1 1]\n",
      "Dados validação carregados:  [[  651    14    60 ...     0     0     0]\n",
      " [  142   518   758 ...     0     0     0]\n",
      " [ 3888    49    10 ... 12802  5248 52278]\n",
      " ...\n",
      " [12058    66   414 ...     0     0     0]\n",
      " [    2    32   837 ...     0     0     0]\n",
      " [  797   479   140 ...     0     0     0]] [0 1 1 ... 0 1 1]\n",
      "Dados teste carregados:  [[  804   533  2201 ...     0     0     0]\n",
      " [ 1155     4  5132 ...  2934  7984 82425]\n",
      " [  176   390   167 ...     0     0     0]\n",
      " ...\n",
      " [  125    52   261 ...  7001 11818  7864]\n",
      " [  691   186   122 ...    13  5507  4899]\n",
      " [    2  4383   517 ...     0     0     0]] [0 1 1 ... 1 1 1]\n"
     ]
    }
   ],
   "source": [
    "# Carrega os dados de treino de um arquivo pickle\n",
    "caminho_treino = os.path.join(parent_dir[0],\"Pre-processamento\\\\train_data.pkl\")\n",
    "with open(caminho_treino, 'rb') as f:\n",
    "    X_train, y_train = pickle.load(f)\n",
    "\n",
    "print(\"Dados treinamento carregados: \", X_train, y_train)\n",
    "\n",
    "# Carrega os dados de validação de um arquivo pickle\n",
    "caminho_validacao = os.path.join(parent_dir[0],\"Pre-processamento\\\\val_data.pkl\")\n",
    "with open(caminho_validacao, 'rb') as f:\n",
    "    X_val, y_val = pickle.load(f)\n",
    "\n",
    "print(\"Dados validação carregados: \", X_val, y_val)\n",
    "\n",
    "# Carrega os dados de teste de um arquivo pickle\n",
    "caminho_teste = os.path.join(parent_dir[0],\"Pre-processamento\\\\test_data.pkl\")\n",
    "with open(caminho_teste, 'rb') as f:\n",
    "    X_test, y_test = pickle.load(f)\n",
    "\n",
    "print(\"Dados teste carregados: \", X_test, y_test)"
   ]
  },
  {
   "cell_type": "code",
   "execution_count": 18,
   "metadata": {},
   "outputs": [
    {
     "name": "stdout",
     "output_type": "stream",
     "text": [
      "Epoch 1/40\n",
      "244/244 [==============================] - 121s 450ms/step - loss: 0.8716 - accuracy: 0.7664 - precision: 0.7888 - recall: 0.7167 - val_loss: 1.5115 - val_accuracy: 0.4918 - val_precision: 0.4916 - val_recall: 1.0000\n",
      "Epoch 2/40\n",
      "244/244 [==============================] - 105s 430ms/step - loss: 0.3442 - accuracy: 0.9278 - precision: 0.9277 - recall: 0.9253 - val_loss: 0.4932 - val_accuracy: 0.8193 - val_precision: 0.7468 - val_recall: 0.9568\n",
      "Epoch 3/40\n",
      "244/244 [==============================] - 109s 449ms/step - loss: 0.1898 - accuracy: 0.9677 - precision: 0.9673 - recall: 0.9670 - val_loss: 0.3447 - val_accuracy: 0.9109 - val_precision: 0.9451 - val_recall: 0.8691\n",
      "Epoch 4/40\n",
      "244/244 [==============================] - 115s 472ms/step - loss: 0.1009 - accuracy: 0.9881 - precision: 0.9875 - recall: 0.9883 - val_loss: 0.3471 - val_accuracy: 0.9055 - val_precision: 0.9186 - val_recall: 0.8862\n",
      "Epoch 5/40\n",
      "244/244 [==============================] - 113s 462ms/step - loss: 0.0791 - accuracy: 0.9903 - precision: 0.9894 - recall: 0.9907 - val_loss: 0.3455 - val_accuracy: 0.9109 - val_precision: 0.9159 - val_recall: 0.9014\n",
      "Epoch 6/40\n",
      "244/244 [==============================] - 110s 451ms/step - loss: 0.0675 - accuracy: 0.9908 - precision: 0.9904 - recall: 0.9910 - val_loss: 0.3844 - val_accuracy: 0.8899 - val_precision: 0.8774 - val_recall: 0.9020\n"
     ]
    }
   ],
   "source": [
    "# Cria modelo BiLSTM\n",
    "model = Sequential()\n",
    "model.add(Embedding(input_dim=len(model_word2vec.wv.key_to_index) + 1, \n",
    "                    output_dim=model_word2vec.vector_size))\n",
    "model.add(BatchNormalization())\n",
    "model.add(Bidirectional(LSTM(units=128, return_sequences=True, kernel_regularizer=tf.keras.regularizers.l2(0.001))))\n",
    "model.add(Dropout(0.5))\n",
    "model.add(Bidirectional(LSTM(units=64, return_sequences=True, kernel_regularizer=tf.keras.regularizers.l2(0.001))))\n",
    "model.add(Dropout(0.5))\n",
    "model.add(Bidirectional(LSTM(units=32, return_sequences=True, kernel_regularizer=tf.keras.regularizers.l2(0.001))))\n",
    "model.add(Dropout(0.5))\n",
    "model.add(Bidirectional(LSTM(units=16, kernel_regularizer=tf.keras.regularizers.l2(0.001))))\n",
    "model.add(Dropout(0.5))\n",
    "model.add(Dense(1, activation='sigmoid'))\n",
    "\n",
    "# Ajuste no Early Stopping\n",
    "early_stopping = EarlyStopping(monitor='val_loss', patience=3, restore_best_weights=True)\n",
    "\n",
    "# Compila modelo com taxa de aprendizado reduzida\n",
    "optimizer = tf.keras.optimizers.Adam(learning_rate=0.001)\n",
    "model.compile(loss='binary_crossentropy', optimizer=optimizer, metrics=['accuracy', 'Precision', 'Recall'])\n",
    "\n",
    "# Treina modelo\n",
    "history = model.fit(X_train, y_train, epochs=40, batch_size=64, validation_data=(X_val, y_val), callbacks=[early_stopping], verbose=1)\n"
   ]
  },
  {
   "cell_type": "code",
   "execution_count": 19,
   "metadata": {},
   "outputs": [
    {
     "data": {
      "image/png": "[encoded data removed]",
      "text/plain": [
       "<Figure size 640x480 with 1 Axes>"
      ]
     },
     "metadata": {},
     "output_type": "display_data"
    }
   ],
   "source": [
    "# Plota a perda (loss) e a perda de validação (val_loss) durante o treinamento\n",
    "plt.plot(history.history['loss'], label='Perda treinamento')\n",
    "plt.plot(history.history['val_loss'], label='Perda validação')\n",
    "plt.title('Perda treinamento e validação')\n",
    "plt.xlabel('Epoch')\n",
    "plt.ylabel('Perda')\n",
    "plt.xticks(range(len(history.history['loss'])))\n",
    "plt.legend()\n",
    "plt.show()"
   ]
  },
  {
   "cell_type": "code",
   "execution_count": 20,
   "metadata": {},
   "outputs": [],
   "source": [
    "# Salva arquivos em discos que podemos carregar sem treinar a rede neural novamente\n",
    "model.save('BiLSTM_model.h5')\n",
    "np.save(\"X_test_BiLSTM.npy\", X_test)\n",
    "np.save(\"y_test_BiLSTM.npy\", y_test)"
   ]
  }
 ],
 "metadata": {
  "kernelspec": {
   "display_name": "detector",
   "language": "python",
   "name": "python3"
  },
  "language_info": {
   "codemirror_mode": {
    "name": "ipython",
    "version": 3
   },
   "file_extension": ".py",
   "mimetype": "text/x-python",
   "name": "python",
   "nbconvert_exporter": "python",
   "pygments_lexer": "ipython3",
   "version": "3.10.14"
  }
 },
 "nbformat": 4,
 "nbformat_minor": 2
}
