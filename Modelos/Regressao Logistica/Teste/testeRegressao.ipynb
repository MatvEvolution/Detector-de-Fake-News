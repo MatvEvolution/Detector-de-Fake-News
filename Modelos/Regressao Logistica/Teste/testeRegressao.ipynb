{
 "cells": [
  {
   "cell_type": "code",
   "execution_count": 11,
   "metadata": {},
   "outputs": [],
   "source": [
    "import os\n",
    "import pandas as pd\n",
    "from sklearn.preprocessing import LabelEncoder\n",
    "import pickle\n",
    "from sklearn.metrics import accuracy_score, precision_score, recall_score, f1_score"
   ]
  },
  {
   "cell_type": "code",
   "execution_count": 12,
   "metadata": {},
   "outputs": [],
   "source": [
    "# Encontra diretorio atual\n",
    "atual_dir = os.getcwd()\n",
    "\n",
    "# Acessa arquivo pkl das noticias\n",
    "parent_dir = os.path.split(atual_dir)\n",
    "\n",
    "caminho_modelo = os.path.join(parent_dir[0],\"Treinamento\\\\regressao_logistica_model.pkl\")\n",
    "caminho_X_test = os.path.join(parent_dir[0],\"Treinamento\\\\X_test_RegressaoLogistica.pkl\")\n",
    "caminho_y_test = os.path.join(parent_dir[0],\"Treinamento\\\\y_test_RegressaoLogistica.pkl\")\n",
    "caminho_vetorizador = os.path.join(parent_dir[0],\"Treinamento\\\\vetorizador.pkl\")\n",
    "\n",
    "# Carrega arquivos pertinentes ao treinamento da rede neural e X_test e y_test (usados na avaliação de resultados)\n",
    "# Carrega o modelo\n",
    "with open(caminho_modelo, 'rb') as f:\n",
    "    modelo = pickle.load(f)\n",
    "\n",
    "# Carrega os dados de teste\n",
    "with open(caminho_X_test, 'rb') as f:\n",
    "    X_test = pickle.load(f)\n",
    "\n",
    "with open(caminho_y_test, 'rb') as f:\n",
    "    y_test = pickle.load(f)\n",
    "\n",
    "# Carrega o vetorizador\n",
    "with open(caminho_vetorizador, 'rb') as f:\n",
    "    vetorizador = pickle.load(f)"
   ]
  },
  {
   "cell_type": "code",
   "execution_count": null,
   "metadata": {},
   "outputs": [],
   "source": [
    "# Lê o arquivo .csv\n",
    "atual_dir = os.getcwd()\n",
    "\n",
    "# Acessa arquivo pkl das noticias\n",
    "parent_dir_csv = os.path.split(atual_dir)\n",
    "parent_dir_csv = os.path.split(parent_dir_csv[0])\n",
    "parent_dir_csv = os.path.split(parent_dir_csv[0])\n",
    "caminho_csv = os.path.join(parent_dir_csv[0], \"Pre-processamento\\\\noticias_dados_limpos.csv\")\n",
    "df_csv = pd.read_csv(caminho_csv)\n",
    "\n",
    "# Cria um objeto LabelEncoder\n",
    "le = LabelEncoder()\n",
    "\n",
    "# Transforma os rótulos de categorias para variáveis categóricas\n",
    "df_csv['label'] = le.fit_transform(df_csv['Categoria'])\n",
    "\n",
    "# Obtém os nomes das classes\n",
    "nomes_classes = le.classes_"
   ]
  },
  {
   "cell_type": "code",
   "execution_count": 14,
   "metadata": {},
   "outputs": [
    {
     "name": "stdout",
     "output_type": "stream",
     "text": [
      "Acurácia: 0.8803\n",
      "Precisão: 0.9056\n",
      "Recall: 0.8547\n",
      "F1-Score: 0.8794\n"
     ]
    }
   ],
   "source": [
    "# Vetorize os dados de teste usando o vetorizador treinado\n",
    "X_test_vect = vetorizador.transform(X_test)\n",
    "\n",
    "# Realiza previsões no conjunto vetorizado\n",
    "y_pred = modelo.predict(X_test_vect)\n",
    "\n",
    "# Calcula as métricas de desempenho\n",
    "accuracy = accuracy_score(y_test, y_pred)\n",
    "precision = precision_score(y_test, y_pred)  \n",
    "recall = recall_score(y_test, y_pred)\n",
    "f1 = f1_score(y_test, y_pred)\n",
    "\n",
    "# Exibe os resultados\n",
    "print(f\"Acurácia: {accuracy:.4f}\")\n",
    "print(f\"Precisão: {precision:.4f}\")\n",
    "print(f\"Recall: {recall:.4f}\")\n",
    "print(f\"F1-Score: {f1:.4f}\")\n"
   ]
  },
  {
   "cell_type": "code",
   "execution_count": 15,
   "metadata": {},
   "outputs": [
    {
     "name": "stdout",
     "output_type": "stream",
     "text": [
      "Predição: Falso\n"
     ]
    }
   ],
   "source": [
    "# Exemplo de texto a ser classificado\n",
    "texto_exemplo = [\"\"\"\n",
    "    \"Estudo Inovador Afirma que Ficar de Pijama o Dia Todo Aumenta a Produtividade\"\n",
    "\n",
    "Uma pesquisa recente realizada por uma equipe de psicólogos da Universidade de Bem-Estar Mental revelou uma descoberta surpreendente: ficar de pijama durante o dia pode aumentar significativamente a produtividade.\n",
    "\n",
    "Segundo os pesquisadores, vestir pijamas cria uma sensação de conforto e relaxamento, o que reduz os níveis de estresse e ansiedade. Isso, por sua vez, permite que as pessoas se concentrem mais em suas tarefas e sejam mais eficientes em seu trabalho.\n",
    "\n",
    "O estudo, que acompanhou mais de mil participantes ao longo de seis meses, descobriu que aqueles que adotaram a prática de trabalhar de pijama relataram uma melhoria notável em sua capacidade de concentração e tomada de decisões. Além disso, muitos participantes relataram sentir-se mais motivados e criativos em suas atividades diárias.\n",
    "\n",
    "Essa descoberta desafia a noção convencional de que vestir roupas formais é essencial para o sucesso profissional. Os pesquisadores agora estão explorando maneiras de integrar essa prática inovadora em ambientes de trabalho tradicionais, potencialmente revolucionando a cultura corporativa.\n",
    "\n",
    "Portanto, se você está procurando aumentar sua produtividade, talvez seja hora de abandonar o terno e adotar o conforto do pijama durante o expediente!\"\n",
    "                 \"\"\"]\n",
    "\n",
    "# Vetoriza o texto de entrada\n",
    "X_novo = vetorizador.transform(texto_exemplo)\n",
    "\n",
    "# Faz a predição usando o modelo carregado\n",
    "predicao = modelo.predict(X_novo)\n",
    "\n",
    "# Exibe o resultado da predição\n",
    "classe_predita = nomes_classes[predicao[0]]\n",
    "print(\"Predição:\", classe_predita)\n"
   ]
  },
  {
   "cell_type": "code",
   "execution_count": 16,
   "metadata": {},
   "outputs": [
    {
     "name": "stdout",
     "output_type": "stream",
     "text": [
      "Predição: Real\n"
     ]
    }
   ],
   "source": [
    "# Exemplo de texto a ser classificado\n",
    "texto_exemplo = [\"\"\"\n",
    "    Conselho de Segurança da ONU aprova resolução de cessar-fogo imediato em Gaza\n",
    "Texto aprovado estipula que a pausa aconteça durante o Ramadã, que começou em 10 de março e vai até 9 de abril. Documento é de cumprimento obrigatório, mas ONU não tem poder coercitivo. Secretário-geral da ONU, Antonio Guterres, pediu que o governo israelense acatasse a decisão do conselho.\n",
    "O Conselho de Segurança da Organização das Nações Unidas (ONU) aprovou nesta segunda-feira (25) uma resolução de cessar-fogo imediato na Faixa de Gaza.\n",
    "A resolução, feita por um grupo de dez países rotativos liderados por Moçambique, é a primeira que o conselho conseguiu aprovar sobre um cessar-fogo no território palestino.\n",
    "\n",
    "Israel promove uma ofensiva militar no território palestino desde que terroristas do Hamas invadiram o território israelense e mataram centenas de pessoas, em outubro de 2023.\n",
    "\n",
    "A aprovação, no entanto, não uma solução para a guerra. O desafio agora é garantir que os atores envolvidos nela - o governo de Israel e o grupo terrorista - cumpram as determinações exigidas no texto da ONU.\n",
    "\n",
    "Isso porque, embora as resoluções do Conselho de Segurança sejam juridicamente vinculativas, na prática acabam ignoradas por muitos países.\n",
    "\n",
    "O secretário-geral da ONU, Antonio Guterres, pediu que o governo israelense acatasse a decisão do conselho.\n",
    "\n",
    "Do que se trata\n",
    "O texto determina um cessar-fogo durante o mês do Ramadã, o período sagrado para os muçulmanos — que começou dia 10 e termina em 9 de abril—, mas pede que a trégua aumente até virar permanente.\n",
    "\n",
    "A resolução também pede a \"libertação imediata e incondicional de reféns\" e “a necessidade urgente de expandir o fluxo” de ajuda humanitária para Gaza.\n",
    "O Conselho de Segurança é formado por 15 países: cinco com assento permanente (China, França, Rússia, Reino Unido e Estados Unidos) e dez rotativos (Argélia, Equador, Guiana, Japão, Malta, Moçambique, Coréia do Sul, Serra Leoa, Eslovênia e Suíça).\n",
    "\n",
    "Na semana passada, uma resolução dos EUA pedindo a pausa nos bombardeios foi vetada pela China e pela Rússia, que estão entre os cinco membros permanentes do Conselho de Segurança e, por isso, têm poder de veto.\n",
    "\n",
    "Proposta dos EUA vetada\n",
    "A proposta dos EUA, uma mudança de posição de Washington na guerra entre Israel e Hamas, previa o cessar-fogo imediato na guerra entre Israel e o grupo terrorista Hamas, além da libertação de reféns.\n",
    "\n",
    "Ao justificar seu voto, o embaixador da Rússia na ONU, Vassily Nebenzia, acusou os EUA de falsas promessas e de só reconhecer a necessidade de um cessar-fogo \"quando mais de 30 mil habitantes de Gaza já morreram\".\n",
    "                 \"\"\"]\n",
    "\n",
    "# Vetoriza o texto de entrada\n",
    "X_novo = vetorizador.transform(texto_exemplo)\n",
    "\n",
    "# Faz a predição usando o modelo carregado\n",
    "predicao = modelo.predict(X_novo)\n",
    "\n",
    "# Exibe o resultado da predição\n",
    "classe_predita = nomes_classes[predicao[0]]\n",
    "print(\"Predição:\", classe_predita)\n"
   ]
  }
 ],
 "metadata": {
  "kernelspec": {
   "display_name": "detector",
   "language": "python",
   "name": "python3"
  },
  "language_info": {
   "codemirror_mode": {
    "name": "ipython",
    "version": 3
   },
   "file_extension": ".py",
   "mimetype": "text/x-python",
   "name": "python",
   "nbconvert_exporter": "python",
   "pygments_lexer": "ipython3",
   "version": "3.10.14"
  }
 },
 "nbformat": 4,
 "nbformat_minor": 2
}
