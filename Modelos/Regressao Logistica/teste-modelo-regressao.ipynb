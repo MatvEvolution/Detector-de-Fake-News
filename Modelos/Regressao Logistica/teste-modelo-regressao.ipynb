{
 "cells": [
  {
   "cell_type": "code",
   "execution_count": 24,
   "metadata": {},
   "outputs": [
    {
     "name": "stdout",
     "output_type": "stream",
     "text": [
      "Classificação da notícia: ['fake']\n"
     ]
    }
   ],
   "source": [
    "import re\n",
    "import nltk\n",
    "import pickle\n",
    "from nltk.corpus import stopwords\n",
    "from nltk.stem.porter import PorterStemmer\n",
    "from sklearn.feature_extraction.text import TfidfVectorizer\n",
    "\n",
    "# Função de stemming\n",
    "porter_stemmer = PorterStemmer()\n",
    "stopwords_list = stopwords.words('portuguese')\n",
    "\n",
    "def stemming_tokenizer(text):\n",
    "    words = re.sub(r\"[^A-Za-z]\", \" \", text).lower().split()\n",
    "    words = [porter_stemmer.stem(word) for word in words if word not in stopwords_list]\n",
    "    words = ' '.join(words)\n",
    "    return words\n",
    "\n",
    "# Nova notícia para testar\n",
    "nova_noticia = input()\n",
    "\n",
    "# Carregar o vetorizador treinado\n",
    "with open('vetorizador.pkl', 'rb') as file:\n",
    "    vetorizador = pickle.load(file)\n",
    "\n",
    "# Transformar a nova notícia usando o vetorizador\n",
    "nova_noticia_vetorizada = vetorizador.transform([stemming_tokenizer(nova_noticia)])\n",
    "\n",
    "# Carregar o modelo de regressão logística treinado\n",
    "with open('modelo_regressao_logistica.pkl', 'rb') as file:\n",
    "    modelo = pickle.load(file)\n",
    "\n",
    "# Prever a classe da nova notícia usando o modelo carregado\n",
    "predicao = modelo.predict(nova_noticia_vetorizada)\n",
    "\n",
    "print(\"Classificação da notícia:\", predicao)\n"
   ]
  }
 ],
 "metadata": {
  "kernelspec": {
   "display_name": "Python 3",
   "language": "python",
   "name": "python3"
  },
  "language_info": {
   "codemirror_mode": {
    "name": "ipython",
    "version": 3
   },
   "file_extension": ".py",
   "mimetype": "text/x-python",
   "name": "python",
   "nbconvert_exporter": "python",
   "pygments_lexer": "ipython3",
   "version": "3.11.1"
  }
 },
 "nbformat": 4,
 "nbformat_minor": 2
}
