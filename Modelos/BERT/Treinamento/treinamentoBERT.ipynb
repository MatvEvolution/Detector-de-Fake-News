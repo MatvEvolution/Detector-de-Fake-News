{
 "cells": [
  {
   "cell_type": "code",
   "execution_count": 1,
   "metadata": {},
   "outputs": [
    {
     "name": "stdout",
     "output_type": "stream",
     "text": [
      "CPU cores: 8\n",
      "Total RAM: 8.41 GB\n",
      "-------------------------------\n",
      "GPU name: ('NVIDIA GeForce GTX 1650', 'utf-8')\n",
      "GPU memory: 4.00 GB\n",
      "-------------------------------\n",
      "Runtime limit: 23/04/2024 19:02\n"
     ]
    }
   ],
   "source": [
    "import pandas as pd\n",
    "import torch\n",
    "import numpy as np\n",
    "from timeit import default_timer as timer\n",
    "from sklearn.metrics import cohen_kappa_score, accuracy_score\n",
    "from transformers import (BertTokenizer,\n",
    "                          BertModel,\n",
    "                          AdamW,\n",
    "                          get_linear_schedule_with_warmup,\n",
    "                          BertForSequenceClassification,\n",
    "                          TrainingArguments,\n",
    "                          Trainer)\n",
    "import pynvml\n",
    "import datetime\n",
    "import os\n",
    "from psutil import virtual_memory\n",
    "from IPython.display import clear_output\n",
    "\n",
    "%matplotlib inline\n",
    "import matplotlib.pyplot as plt\n",
    "from IPython.display import clear_output, display\n",
    "\n",
    "\n",
    "# System info\n",
    "pynvml.nvmlInit()\n",
    "clear_output()\n",
    "\n",
    "time_limit = datetime.datetime.now() + datetime.timedelta(hours=21)\n",
    "ram_gb = virtual_memory().total / 1e9\n",
    "\n",
    "gpu_handle = pynvml.nvmlDeviceGetHandleByIndex(0)\n",
    "gpu_name = pynvml.nvmlDeviceGetName(gpu_handle)\n",
    "gpu_memory = pynvml.nvmlDeviceGetMemoryInfo(gpu_handle).total / (2 ** 30)\n",
    "\n",
    "print(f\"CPU cores: {os.cpu_count()}\\n\"\n",
    "      f\"Total RAM: {ram_gb:.2f} GB\\n\"\n",
    "      \"-------------------------------\\n\"\n",
    "      f\"GPU name: {(gpu_name, 'utf-8')}\\n\"\n",
    "      f\"GPU memory: {gpu_memory:.2f} GB\\n\"\n",
    "      \"-------------------------------\\n\"\n",
    "      f\"Runtime limit: {time_limit.strftime('%d/%m/%Y %H:%M')}\")\n",
    "\n",
    "pynvml.nvmlShutdown()"
   ]
  },
  {
   "cell_type": "code",
   "execution_count": 1,
   "metadata": {},
   "outputs": [
    {
     "data": {
      "text/plain": [
       "tensor([0.], device='cuda:0')"
      ]
     },
     "execution_count": 1,
     "metadata": {},
     "output_type": "execute_result"
    }
   ],
   "source": [
    "import torch\n",
    "torch.zeros(1).cuda()"
   ]
  },
  {
   "cell_type": "code",
   "execution_count": 2,
   "metadata": {},
   "outputs": [
    {
     "name": "stdout",
     "output_type": "stream",
     "text": [
      "Using device: cuda\n"
     ]
    }
   ],
   "source": [
    "# Set the device (GPU if available, otherwise CPU)\n",
    "device = torch.device(\"cuda\" if torch.cuda.is_available() else \"cpu\")\n",
    "print(f\"Using device: {device}\")"
   ]
  },
  {
   "cell_type": "code",
   "execution_count": 4,
   "metadata": {},
   "outputs": [
    {
     "data": {
      "text/html": [
       "<div>\n",
       "<style scoped>\n",
       "    .dataframe tbody tr th:only-of-type {\n",
       "        vertical-align: middle;\n",
       "    }\n",
       "\n",
       "    .dataframe tbody tr th {\n",
       "        vertical-align: top;\n",
       "    }\n",
       "\n",
       "    .dataframe thead th {\n",
       "        text-align: right;\n",
       "    }\n",
       "</style>\n",
       "<table border=\"1\" class=\"dataframe\">\n",
       "  <thead>\n",
       "    <tr style=\"text-align: right;\">\n",
       "      <th></th>\n",
       "      <th>Texto</th>\n",
       "      <th>Categoria</th>\n",
       "    </tr>\n",
       "  </thead>\n",
       "  <tbody>\n",
       "    <tr>\n",
       "      <th>0</th>\n",
       "      <td>O Podemos decidiu expulsar o deputado federal ...</td>\n",
       "      <td>Real</td>\n",
       "    </tr>\n",
       "    <tr>\n",
       "      <th>1</th>\n",
       "      <td>Bolsonaro é um liberal completo, diz president...</td>\n",
       "      <td>Real</td>\n",
       "    </tr>\n",
       "    <tr>\n",
       "      <th>2</th>\n",
       "      <td>Ministro do STF libera Andrea Neves de prisão ...</td>\n",
       "      <td>Real</td>\n",
       "    </tr>\n",
       "    <tr>\n",
       "      <th>3</th>\n",
       "      <td>Apesar da abundância, cresce preocupação com p...</td>\n",
       "      <td>Real</td>\n",
       "    </tr>\n",
       "    <tr>\n",
       "      <th>4</th>\n",
       "      <td>Por que Harvard e MIT levarão Dilma, Moro e Su...</td>\n",
       "      <td>Real</td>\n",
       "    </tr>\n",
       "  </tbody>\n",
       "</table>\n",
       "</div>"
      ],
      "text/plain": [
       "                                               Texto Categoria\n",
       "0  O Podemos decidiu expulsar o deputado federal ...      Real\n",
       "1  Bolsonaro é um liberal completo, diz president...      Real\n",
       "2  Ministro do STF libera Andrea Neves de prisão ...      Real\n",
       "3  Apesar da abundância, cresce preocupação com p...      Real\n",
       "4  Por que Harvard e MIT levarão Dilma, Moro e Su...      Real"
      ]
     },
     "execution_count": 4,
     "metadata": {},
     "output_type": "execute_result"
    }
   ],
   "source": [
    "import pandas as pd\n",
    "import os\n",
    "\n",
    "# Encontra diretorio atual\n",
    "atual_dir = os.getcwd()\n",
    "\n",
    "parent_dir = os.path.split(atual_dir)\n",
    "\n",
    "parent_dir = os.path.split(parent_dir[0])\n",
    "\n",
    "parent_dir = os.path.split(parent_dir[0])\n",
    "\n",
    "caminho_csv = os.path.join(parent_dir[0], \"Pre-processamento\\\\noticias_dados_limpos.csv\")\n",
    "\n",
    "df = pd.read_csv(caminho_csv)\n",
    "\n",
    "df.head()"
   ]
  },
  {
   "cell_type": "code",
   "execution_count": 5,
   "metadata": {},
   "outputs": [
    {
     "data": {
      "text/plain": [
       "(array(['Real', 'Falso'], dtype=object), array([1, 0]))"
      ]
     },
     "execution_count": 5,
     "metadata": {},
     "output_type": "execute_result"
    }
   ],
   "source": [
    "# Aplicação do LabelEncoder para transformar a variável categórica 'Categoria' em uma variável numérica 'label'.\n",
    "from sklearn.preprocessing import LabelEncoder\n",
    "\n",
    "le = LabelEncoder()\n",
    "\n",
    "df['label'] = le.fit_transform(df['Categoria'])\n",
    "\n",
    "df['Categoria'].unique(), df['label'].unique()"
   ]
  },
  {
   "cell_type": "code",
   "execution_count": 6,
   "metadata": {},
   "outputs": [
    {
     "data": {
      "text/plain": [
       "Text(0, 0.5, 'Number of texts')"
      ]
     },
     "execution_count": 6,
     "metadata": {},
     "output_type": "execute_result"
    },
    {
     "data": {
      "image/png": "[encoded data removed]",
      "text/plain": [
       "<Figure size 800x600 with 1 Axes>"
      ]
     },
     "metadata": {},
     "output_type": "display_data"
    }
   ],
   "source": [
    "import re\n",
    "def count_words(texts):\n",
    "    counts = []\n",
    "    for text in texts:\n",
    "        num_words = len(re.findall(r\"[\\w']+|[.,!?;:/\\\"]\", text))\n",
    "        counts.append(num_words)\n",
    "    return np.array(counts)\n",
    "\n",
    "\n",
    "counts = count_words(df[\"Texto\"].values)\n",
    "intervals = list(range(0, 601, 50))\n",
    "\n",
    "plt.figure(figsize=(8,6))\n",
    "plt.rcParams.update({'font.size': 14})\n",
    "plt.hist(counts, rwidth=0.9, edgecolor='black', linewidth=1, bins=intervals)\n",
    "plt.xticks(intervals)\n",
    "\n",
    "plt.xlabel(\"Number of words and punctuation\", fontsize=14, fontweight=\"bold\")\n",
    "plt.ylabel(\"Number of texts\", fontsize=14, fontweight=\"bold\")"
   ]
  },
  {
   "cell_type": "code",
   "execution_count": 7,
   "metadata": {},
   "outputs": [
    {
     "name": "stdout",
     "output_type": "stream",
     "text": [
      "> Training samples: 16713\n",
      "> Validation samples: 2785\n",
      "> Test samples: 2786\n"
     ]
    }
   ],
   "source": [
    "DATA_SPLIT_PC = [0.75, 0.125, 0.125]\n",
    "assert sum(DATA_SPLIT_PC) == 1\n",
    "\n",
    "train_df = df.sample(frac=DATA_SPLIT_PC[0])\n",
    "val_df = df.drop(train_df.index).sample(n=int(len(df) * DATA_SPLIT_PC[1]))\n",
    "test_df = df.drop(train_df.index).drop(val_df.index)\n",
    "\n",
    "print(\"> Training samples: %d\" % len(train_df))\n",
    "print(\"> Validation samples: %d\" % len(val_df))\n",
    "print(\"> Test samples: %d\" % len(test_df))"
   ]
  },
  {
   "cell_type": "code",
   "execution_count": 8,
   "metadata": {},
   "outputs": [],
   "source": [
    "# BERT tokenizer\n",
    "bert_tokenizer = BertTokenizer.from_pretrained(\"neuralmind/bert-base-portuguese-cased\",\n",
    "                                               do_lower_case=False)"
   ]
  },
  {
   "cell_type": "code",
   "execution_count": 9,
   "metadata": {},
   "outputs": [],
   "source": [
    "class BertFakeNewsDataset(torch.utils.data.Dataset):\n",
    "    def __init__(self, df, tokenizer=bert_tokenizer, max_seq_length=128):\n",
    "        self._labels = torch.tensor(df[\"label\"].values, dtype=torch.long)\n",
    "        self._encodings = {\"input_ids\": [],\n",
    "                           \"token_type_ids\": [],\n",
    "                           \"attention_mask\": []}\n",
    "\n",
    "        for txt in df[\"Texto\"].values:\n",
    "            enc_dict = tokenizer.encode_plus(\n",
    "                text=txt,\n",
    "                add_special_tokens=True,\n",
    "                max_length=max_seq_length,\n",
    "                return_token_type_ids=True,\n",
    "                padding=\"max_length\",\n",
    "                return_attention_mask=True,\n",
    "                return_tensors=\"pt\",\n",
    "                truncation=True,\n",
    "            )\n",
    "            for k, v in enc_dict.items():\n",
    "                self._encodings[k].append(v[0])\n",
    "    \n",
    "    def __getitem__(self, idx):\n",
    "        item = {key: value[idx] for key, value in self._encodings.items()}\n",
    "        item[\"labels\"] = self._labels[idx]\n",
    "        return item\n",
    "\n",
    "    def __len__(self):\n",
    "        return len(self._labels)"
   ]
  },
  {
   "cell_type": "code",
   "execution_count": 10,
   "metadata": {},
   "outputs": [],
   "source": [
    "train_ds = BertFakeNewsDataset(train_df)\n",
    "val_ds = BertFakeNewsDataset(val_df)\n",
    "test_ds = BertFakeNewsDataset(test_df)"
   ]
  },
  {
   "cell_type": "code",
   "execution_count": 11,
   "metadata": {},
   "outputs": [
    {
     "data": {
      "text/plain": [
       "{'input_ids': tensor([  101,  9715,   125,   496,   446, 22303,  7674,  4073,  3489,   221,\n",
       "          6009,   125,  3191,   125,  4848,   221,   123,  7907,  3559,   119,\n",
       "         12388,   477,   221,   123,  9588,   125,  1426,   730,  7173, 18304,\n",
       "           138, 16861,   130,  1242,   262,  5370,   229,  1448,   118, 14258,\n",
       "           113,   542,   114,   119,   119,   177,  9715,   125,   496,   446,\n",
       "         22303,   117,   202,  1410,   171,  5142,   117,  6540,   229,  1448,\n",
       "           118, 14258,   113,   542,   114,   146,   902,  1013,   125,  4073,\n",
       "          3489,   221,   123,  6009,   125,  3191,   125,  4848,   221,   123,\n",
       "          7907,  3559,   113,   278, 22311,   114,   119,  3163,   117,   259,\n",
       "         15242,  9057,  9950,  3191,   125, 13200,   119, 10944,   146,   902,\n",
       "          1013,   117,  6224, 14469, 22281,  1426,   730,  7173, 18304,   138,\n",
       "         16861,   130,  1242,   221,  2392,   122,  1700,   173,  2576,   320,\n",
       "          5155,  5882,   125,   257,   109,  9812,   119,   102]),\n",
       " 'token_type_ids': tensor([0, 0, 0, 0, 0, 0, 0, 0, 0, 0, 0, 0, 0, 0, 0, 0, 0, 0, 0, 0, 0, 0, 0, 0,\n",
       "         0, 0, 0, 0, 0, 0, 0, 0, 0, 0, 0, 0, 0, 0, 0, 0, 0, 0, 0, 0, 0, 0, 0, 0,\n",
       "         0, 0, 0, 0, 0, 0, 0, 0, 0, 0, 0, 0, 0, 0, 0, 0, 0, 0, 0, 0, 0, 0, 0, 0,\n",
       "         0, 0, 0, 0, 0, 0, 0, 0, 0, 0, 0, 0, 0, 0, 0, 0, 0, 0, 0, 0, 0, 0, 0, 0,\n",
       "         0, 0, 0, 0, 0, 0, 0, 0, 0, 0, 0, 0, 0, 0, 0, 0, 0, 0, 0, 0, 0, 0, 0, 0,\n",
       "         0, 0, 0, 0, 0, 0, 0, 0]),\n",
       " 'attention_mask': tensor([1, 1, 1, 1, 1, 1, 1, 1, 1, 1, 1, 1, 1, 1, 1, 1, 1, 1, 1, 1, 1, 1, 1, 1,\n",
       "         1, 1, 1, 1, 1, 1, 1, 1, 1, 1, 1, 1, 1, 1, 1, 1, 1, 1, 1, 1, 1, 1, 1, 1,\n",
       "         1, 1, 1, 1, 1, 1, 1, 1, 1, 1, 1, 1, 1, 1, 1, 1, 1, 1, 1, 1, 1, 1, 1, 1,\n",
       "         1, 1, 1, 1, 1, 1, 1, 1, 1, 1, 1, 1, 1, 1, 1, 1, 1, 1, 1, 1, 1, 1, 1, 1,\n",
       "         1, 1, 1, 1, 1, 1, 1, 1, 1, 1, 1, 1, 1, 1, 1, 1, 1, 1, 1, 1, 1, 1, 1, 1,\n",
       "         1, 1, 1, 1, 1, 1, 1, 1]),\n",
       " 'labels': tensor(1)}"
      ]
     },
     "execution_count": 11,
     "metadata": {},
     "output_type": "execute_result"
    }
   ],
   "source": [
    "train_ds[0]"
   ]
  },
  {
   "cell_type": "code",
   "execution_count": 12,
   "metadata": {},
   "outputs": [
    {
     "name": "stderr",
     "output_type": "stream",
     "text": [
      "Some weights of BertForSequenceClassification were not initialized from the model checkpoint at neuralmind/bert-base-portuguese-cased and are newly initialized: ['classifier.bias', 'classifier.weight']\n",
      "You should probably TRAIN this model on a down-stream task to be able to use it for predictions and inference.\n"
     ]
    }
   ],
   "source": [
    "# Carregando o BERT\n",
    "model = BertForSequenceClassification.from_pretrained(\n",
    "    \"neuralmind/bert-base-portuguese-cased\",\n",
    "    num_labels=2,\n",
    ")"
   ]
  },
  {
   "cell_type": "code",
   "execution_count": 13,
   "metadata": {},
   "outputs": [
    {
     "name": "stdout",
     "output_type": "stream",
     "text": [
      "Output: SequenceClassifierOutput(loss=tensor(0.5792, grad_fn=<NllLossBackward0>), logits=tensor([[-0.4018, -0.1592]], grad_fn=<AddmmBackward0>), hidden_states=None, attentions=None)\n",
      "Time: 0.29897s\n"
     ]
    }
   ],
   "source": [
    "sample = {k: torch.unsqueeze(v, 0)\n",
    "          for k, v in train_ds[0].items()}\n",
    "\n",
    "start_time = timer()\n",
    "print(f\"Output: {model(**sample)}\")\n",
    "print(f\"Time: {timer() - start_time:.5f}s\")"
   ]
  },
  {
   "cell_type": "code",
   "execution_count": 14,
   "metadata": {},
   "outputs": [],
   "source": [
    "def compute_metrics(eval_pred):\n",
    "    predictions, labels = eval_pred\n",
    "    predictions = np.argmax(predictions, axis=1)\n",
    "    return {\n",
    "        \"accuracy\": accuracy_score(labels, predictions),\n",
    "        \"qwk\": cohen_kappa_score(labels, predictions, weights=\"quadratic\"),\n",
    "    }"
   ]
  },
  {
   "cell_type": "code",
   "execution_count": 15,
   "metadata": {},
   "outputs": [],
   "source": [
    "train_args = TrainingArguments(\n",
    "    output_dir=\"C://Users//mathe//OneDrive//Área de Trabalho//Detector//Modelos//BERT//Treinamento\",\n",
    "    overwrite_output_dir=True,\n",
    "    evaluation_strategy=\"epoch\",\n",
    "    learning_rate=2.5e-5,\n",
    "    per_device_train_batch_size=32,\n",
    "    per_device_eval_batch_size=32,\n",
    "    num_train_epochs=5,\n",
    "    weight_decay=0.01,\n",
    "    load_best_model_at_end=True,\n",
    "    metric_for_best_model=\"accuracy\",\n",
    "    save_strategy=\"epoch\",\n",
    "    save_steps=1000,\n",
    "    save_total_limit=1,\n",
    ")\n",
    "\n",
    "trainer = Trainer(\n",
    "    model=model,\n",
    "    args=train_args,\n",
    "    train_dataset=train_ds,\n",
    "    eval_dataset=val_ds,\n",
    "    tokenizer=bert_tokenizer,\n",
    "    compute_metrics=compute_metrics\n",
    ")"
   ]
  },
  {
   "cell_type": "code",
   "execution_count": 16,
   "metadata": {},
   "outputs": [
    {
     "data": {
      "application/vnd.jupyter.widget-view+json": {
       "model_id": "e61dcddab8ed4c3d92f51e4f5e99e609",
       "version_major": 2,
       "version_minor": 0
      },
      "text/plain": [
       "  0%|          | 0/2615 [00:00<?, ?it/s]"
      ]
     },
     "metadata": {},
     "output_type": "display_data"
    },
    {
     "name": "stdout",
     "output_type": "stream",
     "text": [
      "{'loss': 0.1479, 'grad_norm': 9.83797836303711, 'learning_rate': 2.0219885277246655e-05, 'epoch': 0.96}\n"
     ]
    },
    {
     "data": {
      "application/vnd.jupyter.widget-view+json": {
       "model_id": "755e9c3def3c4421a3b0b330edc5eea8",
       "version_major": 2,
       "version_minor": 0
      },
      "text/plain": [
       "  0%|          | 0/88 [00:00<?, ?it/s]"
      ]
     },
     "metadata": {},
     "output_type": "display_data"
    },
    {
     "name": "stdout",
     "output_type": "stream",
     "text": [
      "{'eval_loss': 0.06012650951743126, 'eval_accuracy': 0.9827648114901256, 'eval_qwk': 0.9654695526075292, 'eval_runtime': 40.143, 'eval_samples_per_second': 69.377, 'eval_steps_per_second': 2.192, 'epoch': 1.0}\n",
      "{'loss': 0.0385, 'grad_norm': 15.58521842956543, 'learning_rate': 1.543977055449331e-05, 'epoch': 1.91}\n"
     ]
    },
    {
     "data": {
      "application/vnd.jupyter.widget-view+json": {
       "model_id": "9a5c40b037b34759a2d7e981634e2e30",
       "version_major": 2,
       "version_minor": 0
      },
      "text/plain": [
       "  0%|          | 0/88 [00:00<?, ?it/s]"
      ]
     },
     "metadata": {},
     "output_type": "display_data"
    },
    {
     "name": "stdout",
     "output_type": "stream",
     "text": [
      "{'eval_loss': 0.06113103777170181, 'eval_accuracy': 0.985278276481149, 'eval_qwk': 0.9704822698445565, 'eval_runtime': 39.528, 'eval_samples_per_second': 70.456, 'eval_steps_per_second': 2.226, 'epoch': 2.0}\n",
      "{'loss': 0.0191, 'grad_norm': 0.10160158574581146, 'learning_rate': 1.0659655831739961e-05, 'epoch': 2.87}\n"
     ]
    },
    {
     "data": {
      "application/vnd.jupyter.widget-view+json": {
       "model_id": "ba7e996f536d4144b4f99158dfaef772",
       "version_major": 2,
       "version_minor": 0
      },
      "text/plain": [
       "  0%|          | 0/88 [00:00<?, ?it/s]"
      ]
     },
     "metadata": {},
     "output_type": "display_data"
    },
    {
     "name": "stdout",
     "output_type": "stream",
     "text": [
      "{'eval_loss': 0.07715130597352982, 'eval_accuracy': 0.9859964093357271, 'eval_qwk': 0.9719354646170844, 'eval_runtime': 39.297, 'eval_samples_per_second': 70.871, 'eval_steps_per_second': 2.239, 'epoch': 3.0}\n",
      "{'loss': 0.0064, 'grad_norm': 0.005541304592043161, 'learning_rate': 5.879541108986616e-06, 'epoch': 3.82}\n"
     ]
    },
    {
     "data": {
      "application/vnd.jupyter.widget-view+json": {
       "model_id": "210cb41ef1214964be70d045a0c13cf6",
       "version_major": 2,
       "version_minor": 0
      },
      "text/plain": [
       "  0%|          | 0/88 [00:00<?, ?it/s]"
      ]
     },
     "metadata": {},
     "output_type": "display_data"
    },
    {
     "name": "stdout",
     "output_type": "stream",
     "text": [
      "{'eval_loss': 0.08473493158817291, 'eval_accuracy': 0.9842010771992818, 'eval_qwk': 0.9683449475911782, 'eval_runtime': 39.066, 'eval_samples_per_second': 71.29, 'eval_steps_per_second': 2.253, 'epoch': 4.0}\n",
      "{'loss': 0.0028, 'grad_norm': 0.004079694394022226, 'learning_rate': 1.0994263862332695e-06, 'epoch': 4.78}\n"
     ]
    },
    {
     "data": {
      "application/vnd.jupyter.widget-view+json": {
       "model_id": "e121736ef47f4c849963379d1b695fd6",
       "version_major": 2,
       "version_minor": 0
      },
      "text/plain": [
       "  0%|          | 0/88 [00:00<?, ?it/s]"
      ]
     },
     "metadata": {},
     "output_type": "display_data"
    },
    {
     "name": "stdout",
     "output_type": "stream",
     "text": [
      "{'eval_loss': 0.07798890024423599, 'eval_accuracy': 0.9874326750448833, 'eval_qwk': 0.9748070565570273, 'eval_runtime': 38.704, 'eval_samples_per_second': 71.956, 'eval_steps_per_second': 2.274, 'epoch': 5.0}\n",
      "{'train_runtime': 25718.0353, 'train_samples_per_second': 3.249, 'train_steps_per_second': 0.102, 'train_loss': 0.04108210174975842, 'epoch': 5.0}\n"
     ]
    },
    {
     "data": {
      "text/plain": [
       "TrainOutput(global_step=2615, training_loss=0.04108210174975842, metrics={'train_runtime': 25718.0353, 'train_samples_per_second': 3.249, 'train_steps_per_second': 0.102, 'total_flos': 5496718835289600.0, 'train_loss': 0.04108210174975842, 'epoch': 5.0})"
      ]
     },
     "execution_count": 16,
     "metadata": {},
     "output_type": "execute_result"
    }
   ],
   "source": [
    "#Treina modelo\n",
    "trainer.train()"
   ]
  },
  {
   "cell_type": "code",
   "execution_count": 17,
   "metadata": {},
   "outputs": [
    {
     "data": {
      "application/vnd.jupyter.widget-view+json": {
       "model_id": "a6a271b12650402b9f5731ab20692421",
       "version_major": 2,
       "version_minor": 0
      },
      "text/plain": [
       "  0%|          | 0/523 [00:00<?, ?it/s]"
      ]
     },
     "metadata": {},
     "output_type": "display_data"
    },
    {
     "data": {
      "text/plain": [
       "{'eval_loss': 0.0005715509178116918,\n",
       " 'eval_accuracy': 0.9998803326751631,\n",
       " 'eval_qwk': 0.9997606420207433,\n",
       " 'eval_runtime': 247.77,\n",
       " 'eval_samples_per_second': 67.454,\n",
       " 'eval_steps_per_second': 2.111,\n",
       " 'epoch': 5.0}"
      ]
     },
     "execution_count": 17,
     "metadata": {},
     "output_type": "execute_result"
    }
   ],
   "source": [
    "# Avalia o modelo\n",
    "trainer.evaluate(train_ds)"
   ]
  },
  {
   "cell_type": "code",
   "execution_count": 18,
   "metadata": {},
   "outputs": [
    {
     "data": {
      "application/vnd.jupyter.widget-view+json": {
       "model_id": "1223a2623a9446d28fa1b475c29d1620",
       "version_major": 2,
       "version_minor": 0
      },
      "text/plain": [
       "  0%|          | 0/88 [00:00<?, ?it/s]"
      ]
     },
     "metadata": {},
     "output_type": "display_data"
    },
    {
     "data": {
      "text/plain": [
       "{'eval_loss': 0.07798890024423599,\n",
       " 'eval_accuracy': 0.9874326750448833,\n",
       " 'eval_qwk': 0.9748070565570273,\n",
       " 'eval_runtime': 41.723,\n",
       " 'eval_samples_per_second': 66.75,\n",
       " 'eval_steps_per_second': 2.109,\n",
       " 'epoch': 5.0}"
      ]
     },
     "execution_count": 18,
     "metadata": {},
     "output_type": "execute_result"
    }
   ],
   "source": [
    "trainer.evaluate(val_ds)"
   ]
  },
  {
   "cell_type": "code",
   "execution_count": 19,
   "metadata": {},
   "outputs": [
    {
     "data": {
      "application/vnd.jupyter.widget-view+json": {
       "model_id": "d81712c48e3b4ac1b55f5a003d1c2d49",
       "version_major": 2,
       "version_minor": 0
      },
      "text/plain": [
       "  0%|          | 0/88 [00:00<?, ?it/s]"
      ]
     },
     "metadata": {},
     "output_type": "display_data"
    },
    {
     "data": {
      "text/plain": [
       "{'eval_loss': 0.07975485175848007,\n",
       " 'eval_accuracy': 0.9881550610193827,\n",
       " 'eval_qwk': 0.9762910859867832,\n",
       " 'eval_runtime': 41.96,\n",
       " 'eval_samples_per_second': 66.397,\n",
       " 'eval_steps_per_second': 2.097,\n",
       " 'epoch': 5.0}"
      ]
     },
     "execution_count": 19,
     "metadata": {},
     "output_type": "execute_result"
    }
   ],
   "source": [
    "trainer.evaluate(test_ds)"
   ]
  },
  {
   "cell_type": "code",
   "execution_count": 20,
   "metadata": {},
   "outputs": [],
   "source": [
    "model.save_pretrained(\"C://Users//mathe//OneDrive//Área de Trabalho//Detector//Modelos//BERT//Treinamento\")"
   ]
  },
  {
   "cell_type": "code",
   "execution_count": 1,
   "metadata": {},
   "outputs": [
    {
     "name": "stderr",
     "output_type": "stream",
     "text": [
      "100%|██████████| 88/88 [07:40<00:00,  5.23s/it]\n"
     ]
    },
    {
     "data": {
      "image/png": "[encoded data removed]",
      "text/plain": [
       "<Figure size 800x600 with 2 Axes>"
      ]
     },
     "metadata": {},
     "output_type": "display_data"
    }
   ],
   "source": [
    "from transformers import BertTokenizer, BertForSequenceClassification\n",
    "import numpy as np\n",
    "import pandas as pd\n",
    "import torch\n",
    "import torch.nn as nn\n",
    "import seaborn as sns\n",
    "import matplotlib.pyplot as plt\n",
    "from sklearn.metrics import confusion_matrix\n",
    "import os\n",
    "from tqdm import tqdm\n",
    "\n",
    "# Encontra diretorio atual\n",
    "atual_dir = os.getcwd()\n",
    "\n",
    "parent_dir = os.path.split(atual_dir)\n",
    "\n",
    "parent_dir = os.path.split(parent_dir[0])\n",
    "\n",
    "parent_dir = os.path.split(parent_dir[0])\n",
    "\n",
    "caminho_csv = os.path.join(parent_dir[0], \"Pre-processamento\\\\noticias_dados_limpos.csv\")\n",
    "\n",
    "df = pd.read_csv(caminho_csv)\n",
    "\n",
    "# Aplicação do LabelEncoder para transformar a variável categórica 'Categoria' em uma variável numérica 'label'.\n",
    "from sklearn.preprocessing import LabelEncoder\n",
    "\n",
    "le = LabelEncoder()\n",
    "\n",
    "df['label'] = le.fit_transform(df['Categoria'])\n",
    "\n",
    "df['Categoria'].unique(), df['label'].unique()\n",
    "\n",
    "DATA_SPLIT_PC = [0.75, 0.125, 0.125]\n",
    "assert sum(DATA_SPLIT_PC) == 1\n",
    "\n",
    "train_df = df.sample(frac=DATA_SPLIT_PC[0])\n",
    "val_df = df.drop(train_df.index).sample(n=int(len(df) * DATA_SPLIT_PC[1]))\n",
    "test_df = df.drop(train_df.index).drop(val_df.index)\n",
    "\n",
    "# Load your BERT model\n",
    "model_path = \"C:\\\\Users\\\\mathe\\\\OneDrive\\\\Área de Trabalho\\\\Detector\\\\Modelos\\\\BERT\\\\Treinamento\"\n",
    "model = BertForSequenceClassification.from_pretrained(model_path)\n",
    "\n",
    "# Define tokenizer\n",
    "tokenizer = BertTokenizer.from_pretrained('neuralmind/bert-base-portuguese-cased')\n",
    "\n",
    "def predict(model, input_ids, attention_masks, batch_size=32):\n",
    "    predicted_labels = []\n",
    "    with torch.no_grad():\n",
    "        for i in tqdm(range(0, len(input_ids), batch_size)):\n",
    "            batch_input_ids = input_ids[i:i+batch_size]\n",
    "            batch_attention_masks = attention_masks[i:i+batch_size]\n",
    "            outputs = model(input_ids=batch_input_ids, attention_mask=batch_attention_masks)\n",
    "            batch_predicted_labels = torch.argmax(outputs.logits, dim=1).cpu().numpy()\n",
    "            predicted_labels.extend(batch_predicted_labels)\n",
    "    return predicted_labels\n",
    "\n",
    "def preprocess_data(df, tokenizer, max_seq_length=128):\n",
    "    encodings = tokenizer(df[\"Texto\"].tolist(), \n",
    "                           add_special_tokens=True,\n",
    "                           max_length=max_seq_length,\n",
    "                           padding=\"max_length\",\n",
    "                           truncation=True,\n",
    "                           return_token_type_ids=False,\n",
    "                           return_attention_mask=True,\n",
    "                           return_tensors=\"pt\")\n",
    "    return encodings\n",
    "\n",
    "# Function to plot confusion matrix\n",
    "def plot_confusion_matrix(y_true, y_pred, labels):\n",
    "    cm = confusion_matrix(y_true, y_pred)\n",
    "    plt.figure(figsize=(8, 6))\n",
    "    sns.heatmap(cm, annot=True, fmt=\"d\", cmap=\"Blues\", xticklabels=labels, yticklabels=labels)\n",
    "    plt.xlabel('Predicted')\n",
    "    plt.ylabel('True')\n",
    "    plt.title('Confusion Matrix')\n",
    "    plt.show()\n",
    "\n",
    "class BertFakeNewsDataset(torch.utils.data.Dataset):\n",
    "    def __init__(self, df, tokenizer, max_seq_length=128):\n",
    "        self._labels = torch.tensor(df[\"label\"].values, dtype=torch.long)\n",
    "        self._encodings = tokenizer(df[\"Texto\"].tolist(), \n",
    "                                     add_special_tokens=True,\n",
    "                                     max_length=max_seq_length,\n",
    "                                     padding=\"max_length\",\n",
    "                                     truncation=True,\n",
    "                                     return_token_type_ids=False,\n",
    "                                     return_attention_mask=True,\n",
    "                                     return_tensors=\"pt\")\n",
    "\n",
    "    def __getitem__(self, idx):\n",
    "        item = {key: value[idx] for key, value in self._encodings.items()}\n",
    "        item[\"labels\"] = self._labels[idx]\n",
    "        return item\n",
    "\n",
    "    def __len__(self):\n",
    "        return len(self._labels)\n",
    "\n",
    "# Carregar os dados de teste usando BertFakeNewsDataset\n",
    "test_ds = BertFakeNewsDataset(test_df, tokenizer)\n",
    "\n",
    "# Obter os exemplos de entrada e os rótulos verdadeiros\n",
    "input_ids = test_ds._encodings[\"input_ids\"]\n",
    "attention_masks = test_ds._encodings[\"attention_mask\"]\n",
    "true_labels = test_ds._labels\n",
    "\n",
    "# Fazer previsões usando o modelo\n",
    "predicted_labels = predict(model, input_ids, attention_masks)\n",
    "\n",
    "# Plotar a matriz de confusão\n",
    "labels = df['Categoria'].unique()\n",
    "plot_confusion_matrix(true_labels, predicted_labels, labels)\n"
   ]
  },
  {
   "cell_type": "code",
   "execution_count": 4,
   "metadata": {},
   "outputs": [
    {
     "name": "stdout",
     "output_type": "stream",
     "text": [
      "Accuracy: 0.9967695620961953\n",
      "F1-score: 0.9967695708363921\n"
     ]
    }
   ],
   "source": [
    "from sklearn.metrics import accuracy_score, f1_score\n",
    "\n",
    "# Calcula a acurácia\n",
    "accuracy = accuracy_score(true_labels, predicted_labels)\n",
    "\n",
    "# Calcula o F1-score\n",
    "f1 = f1_score(true_labels, predicted_labels, average='weighted')\n",
    "\n",
    "print(\"Accuracy:\", accuracy)\n",
    "print(\"F1-score:\", f1)\n"
   ]
  }
 ],
 "metadata": {
  "kernelspec": {
   "display_name": ".venv",
   "language": "python",
   "name": "python3"
  },
  "language_info": {
   "codemirror_mode": {
    "name": "ipython",
    "version": 3
   },
   "file_extension": ".py",
   "mimetype": "text/x-python",
   "name": "python",
   "nbconvert_exporter": "python",
   "pygments_lexer": "ipython3",
   "version": "3.10.0"
  }
 },
 "nbformat": 4,
 "nbformat_minor": 2
}
