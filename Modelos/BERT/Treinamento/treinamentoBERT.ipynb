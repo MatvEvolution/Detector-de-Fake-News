{
 "cells": [
  {
   "cell_type": "code",
   "execution_count": 1,
   "metadata": {},
   "outputs": [],
   "source": [
    "import torch\n",
    "from torch.utils.data import DataLoader, Dataset\n",
    "from transformers import BertTokenizer, BertForSequenceClassification, AdamW, get_linear_schedule_with_warmup\n",
    "from sklearn.preprocessing import LabelEncoder\n",
    "from sklearn.model_selection import train_test_split\n",
    "import pandas as pd\n",
    "import os\n",
    "from sklearn.preprocessing import LabelEncoder\n",
    "from sklearn.model_selection import train_test_split\n",
    "import numpy as np\n",
    "from tqdm import tqdm\n",
    "import time\n",
    "from torch.optim import AdamW"
   ]
  },
  {
   "cell_type": "code",
   "execution_count": 2,
   "metadata": {},
   "outputs": [
    {
     "name": "stdout",
     "output_type": "stream",
     "text": [
      "cuda\n"
     ]
    }
   ],
   "source": [
    "device = torch.device(\"cuda\" if torch.cuda.is_available() else \"cpu\")\n",
    "os.environ[\"CUDA_VISIBLE_DEVICES\"] = \"0\"\n",
    "\n",
    "print(device)"
   ]
  },
  {
   "cell_type": "code",
   "execution_count": null,
   "metadata": {},
   "outputs": [
    {
     "data": {
      "text/html": [
       "<div>\n",
       "<style scoped>\n",
       "    .dataframe tbody tr th:only-of-type {\n",
       "        vertical-align: middle;\n",
       "    }\n",
       "\n",
       "    .dataframe tbody tr th {\n",
       "        vertical-align: top;\n",
       "    }\n",
       "\n",
       "    .dataframe thead th {\n",
       "        text-align: right;\n",
       "    }\n",
       "</style>\n",
       "<table border=\"1\" class=\"dataframe\">\n",
       "  <thead>\n",
       "    <tr style=\"text-align: right;\">\n",
       "      <th></th>\n",
       "      <th>Texto</th>\n",
       "      <th>Categoria</th>\n",
       "    </tr>\n",
       "  </thead>\n",
       "  <tbody>\n",
       "    <tr>\n",
       "      <th>0</th>\n",
       "      <td>O Podemos decidiu expulsar o deputado federal ...</td>\n",
       "      <td>Real</td>\n",
       "    </tr>\n",
       "    <tr>\n",
       "      <th>1</th>\n",
       "      <td>Bolsonaro é um liberal completo, diz president...</td>\n",
       "      <td>Real</td>\n",
       "    </tr>\n",
       "    <tr>\n",
       "      <th>2</th>\n",
       "      <td>Ministro do STF libera Andrea Neves de prisão ...</td>\n",
       "      <td>Real</td>\n",
       "    </tr>\n",
       "    <tr>\n",
       "      <th>3</th>\n",
       "      <td>Apesar da abundância, cresce preocupação com p...</td>\n",
       "      <td>Real</td>\n",
       "    </tr>\n",
       "    <tr>\n",
       "      <th>4</th>\n",
       "      <td>Por que Harvard e MIT levarão Dilma, Moro e Su...</td>\n",
       "      <td>Real</td>\n",
       "    </tr>\n",
       "  </tbody>\n",
       "</table>\n",
       "</div>"
      ],
      "text/plain": [
       "                                               Texto Categoria\n",
       "0  O Podemos decidiu expulsar o deputado federal ...      Real\n",
       "1  Bolsonaro é um liberal completo, diz president...      Real\n",
       "2  Ministro do STF libera Andrea Neves de prisão ...      Real\n",
       "3  Apesar da abundância, cresce preocupação com p...      Real\n",
       "4  Por que Harvard e MIT levarão Dilma, Moro e Su...      Real"
      ]
     },
     "execution_count": 3,
     "metadata": {},
     "output_type": "execute_result"
    }
   ],
   "source": [
    "# Encontra diretorio atual\n",
    "atual_dir = os.getcwd()\n",
    "\n",
    "parent_dir = os.path.split(atual_dir)\n",
    "\n",
    "parent_dir = os.path.split(parent_dir[0])\n",
    "\n",
    "parent_dir = os.path.split(parent_dir[0])\n",
    "\n",
    "caminho_csv = os.path.join(parent_dir[0], \"Pre-processamento\\\\noticias_dados_limpos.csv\")\n",
    "\n",
    "df = pd.read_csv(caminho_csv)\n",
    "\n",
    "df.head()"
   ]
  },
  {
   "cell_type": "code",
   "execution_count": 4,
   "metadata": {},
   "outputs": [
    {
     "data": {
      "text/plain": [
       "(array(['Real', 'Falso'], dtype=object), array([1, 0]))"
      ]
     },
     "execution_count": 4,
     "metadata": {},
     "output_type": "execute_result"
    }
   ],
   "source": [
    "# Aplicação do LabelEncoder para transformar a variável categórica 'Categoria' em uma variável numérica 'label'.\n",
    "\n",
    "le = LabelEncoder()\n",
    "\n",
    "df['label'] = le.fit_transform(df['Categoria'])\n",
    "\n",
    "df['Categoria'].unique(), df['label'].unique()"
   ]
  },
  {
   "cell_type": "code",
   "execution_count": 5,
   "metadata": {},
   "outputs": [],
   "source": [
    "# Divide os dados em um conjunto de treino (70%) e um conjunto temporário (30%)\n",
    "train_df, temp_df = train_test_split(df, test_size=0.3, random_state=42)\n",
    "\n",
    "# Divide o conjunto temporário em conjuntos de validação (15%) e teste (15%)\n",
    "val_df, test_df = train_test_split(temp_df, test_size=0.5, random_state=42)"
   ]
  },
  {
   "cell_type": "code",
   "execution_count": 6,
   "metadata": {},
   "outputs": [
    {
     "name": "stderr",
     "output_type": "stream",
     "text": [
      "c:\\Users\\mathe\\anaconda3\\envs\\detector\\lib\\site-packages\\transformers\\tokenization_utils_base.py:1601: FutureWarning: `clean_up_tokenization_spaces` was not set. It will be set to `True` by default. This behavior will be depracted in transformers v4.45, and will be then set to `False` by default. For more details check this issue: https://github.com/huggingface/transformers/issues/31884\n",
      "  warnings.warn(\n"
     ]
    }
   ],
   "source": [
    "# BERT tokenizer\n",
    "bert_tokenizer = BertTokenizer.from_pretrained(\"neuralmind/bert-base-portuguese-cased\",\n",
    "                                               do_lower_case=False)"
   ]
  },
  {
   "cell_type": "code",
   "execution_count": 7,
   "metadata": {},
   "outputs": [],
   "source": [
    "class NewsDataset(Dataset):\n",
    "    def __init__(self, texts, labels, tokenizer, max_len):\n",
    "        # Inicializa o dataset com textos, rótulos, tokenizer e o comprimento máximo da sequência\n",
    "        self.texts = texts\n",
    "        self.labels = labels\n",
    "        self.tokenizer = tokenizer\n",
    "        self.max_len = max_len\n",
    "\n",
    "    def __len__(self):\n",
    "        # Retorna o número de amostras no dataset\n",
    "        return len(self.texts)\n",
    "\n",
    "    def __getitem__(self, idx):\n",
    "        # Converte o texto na posição 'idx' para string\n",
    "        text = str(self.texts[idx])\n",
    "        label = self.labels[idx]\n",
    "\n",
    "        # Tokeniza o texto, aplicando truncamento, padding, e retornando tensores PyTorch\n",
    "        encoding = self.tokenizer.encode_plus(\n",
    "            text,\n",
    "            add_special_tokens=True, # Adiciona tokens especiais [CLS] e [SEP]\n",
    "            max_length=self.max_len, # Define o comprimento máximo da sequência\n",
    "            return_token_type_ids=False, # Não retorna ids de tipos de token (ex.: segmentação de sentenças)\n",
    "            padding='max_length', # Aplica padding até o comprimento máximo\n",
    "            truncation=True, # Trunca sequências maiores que o comprimento máximo\n",
    "            return_attention_mask=True, # Retorna a máscara de atenção\n",
    "            return_tensors='pt', # Retorna os dados como tensores PyTorch\n",
    "        )\n",
    "\n",
    "        # Retorna um dicionário com os tensores 'input_ids', 'attention_mask' e 'labels'\n",
    "        return {\n",
    "            'input_ids': encoding['input_ids'].flatten(),\n",
    "            'attention_mask': encoding['attention_mask'].flatten(),\n",
    "            'labels': torch.tensor(label, dtype=torch.long)\n",
    "        }\n"
   ]
  },
  {
   "cell_type": "code",
   "execution_count": 8,
   "metadata": {},
   "outputs": [],
   "source": [
    "def create_data_loader(df, tokenizer, max_len, batch_size):\n",
    "    # Cria um dataset usando a classe NewsDataset\n",
    "    ds = NewsDataset(\n",
    "        texts=df.Texto.to_numpy(),\n",
    "        labels=df.label.to_numpy(),\n",
    "        tokenizer=tokenizer,\n",
    "        max_len=max_len\n",
    "    )\n",
    "\n",
    "    # Retorna um DataLoader para o dataset, dividindo-o em batches\n",
    "    return DataLoader(\n",
    "        ds,\n",
    "        batch_size=batch_size,\n",
    "        num_workers=0\n",
    "    )\n",
    "\n",
    "BATCH_SIZE = 16\n",
    "MAX_LEN = 128 # Define o comprimento máximo das sequências\n",
    "\n",
    "# Criação dos DataLoaders para treino, validação e teste\n",
    "train_data_loader = create_data_loader(train_df, bert_tokenizer, MAX_LEN, BATCH_SIZE)\n",
    "val_data_loader = create_data_loader(val_df, bert_tokenizer, MAX_LEN, BATCH_SIZE)\n",
    "test_data_loader = create_data_loader(test_df, bert_tokenizer, MAX_LEN, BATCH_SIZE)\n"
   ]
  },
  {
   "cell_type": "code",
   "execution_count": 9,
   "metadata": {},
   "outputs": [
    {
     "name": "stderr",
     "output_type": "stream",
     "text": [
      "Some weights of BertForSequenceClassification were not initialized from the model checkpoint at neuralmind/bert-base-portuguese-cased and are newly initialized: ['classifier.bias', 'classifier.weight']\n",
      "You should probably TRAIN this model on a down-stream task to be able to use it for predictions and inference.\n"
     ]
    }
   ],
   "source": [
    "# Carrega o modelo BERT pré-treinado com a cabeça de classificação de sequência\n",
    "model = BertForSequenceClassification.from_pretrained(\n",
    "    \"neuralmind/bert-base-portuguese-cased\",\n",
    "    num_labels=2, # Define o número de classes (Real, Fake)\n",
    "    output_attentions=False,\n",
    "    output_hidden_states=False\n",
    ")\n",
    "\n",
    "model = model.to(device) # Move o modelo para o dispositivo (CPU/GPU)\n"
   ]
  },
  {
   "cell_type": "code",
   "execution_count": 10,
   "metadata": {},
   "outputs": [],
   "source": [
    "# Configura o otimizador AdamW com uma pequena taxa de aprendizado\n",
    "optimizer = AdamW(model.parameters(), lr=5e-5)\n",
    "\n",
    "# Define o número total de passos de treinamento e cria um agendador de aprendizado\n",
    "total_steps = len(train_data_loader) * 3  \n",
    "\n",
    "scheduler = get_linear_schedule_with_warmup(\n",
    "    optimizer,\n",
    "    num_warmup_steps=0,\n",
    "    num_training_steps=total_steps\n",
    ")\n",
    "\n",
    "# Define a função de perda como CrossEntropyLoss\n",
    "loss_fn = torch.nn.CrossEntropyLoss().to(device)\n"
   ]
  },
  {
   "cell_type": "code",
   "execution_count": 11,
   "metadata": {},
   "outputs": [],
   "source": [
    "def train_epoch(\n",
    "    model,\n",
    "    data_loader,\n",
    "    loss_fn,\n",
    "    optimizer,\n",
    "    device,\n",
    "    scheduler,\n",
    "    n_examples\n",
    "):\n",
    "    model = model.train() # Coloca o modelo em modo de treinamento\n",
    "\n",
    "    losses = []\n",
    "    correct_predictions = 0\n",
    "\n",
    "    for d in tqdm(data_loader, desc=\"Training\"): # Loop sobre batches de dados\n",
    "        input_ids = d[\"input_ids\"].to(device) # Move input_ids para o dispositivo\n",
    "        attention_mask = d[\"attention_mask\"].to(device) # Move attention_mask para o dispositivo\n",
    "        labels = d[\"labels\"].to(device) # Move labels para o dispositivo\n",
    "\n",
    "        # Passa os dados pelo modelo\n",
    "        outputs = model(\n",
    "            input_ids=input_ids,\n",
    "            attention_mask=attention_mask\n",
    "        )\n",
    "\n",
    "        loss = loss_fn(outputs.logits, labels) # Calcula a perda\n",
    "        correct_predictions += torch.sum(torch.argmax(outputs.logits, dim=1) == labels) # Conta predições corretas\n",
    "        losses.append(loss.item()) # Armazena a perda para análise\n",
    "\n",
    "        loss.backward() # Calcula gradientes\n",
    "        torch.nn.utils.clip_grad_norm_(model.parameters(), max_norm=1.0) # Clipa os gradientes para evitar explosões\n",
    "        optimizer.step() # Atualiza os pesos do modelo\n",
    "        scheduler.step() # Atualiza a taxa de aprendizado\n",
    "        optimizer.zero_grad() # Zera os gradientes\n",
    "\n",
    "     # Retorna a precisão e a perda média por exemplo\n",
    "    return correct_predictions.double() / n_examples, np.mean(losses)\n"
   ]
  },
  {
   "cell_type": "code",
   "execution_count": 12,
   "metadata": {},
   "outputs": [],
   "source": [
    "def eval_model(model, data_loader, loss_fn, device, n_examples):\n",
    "    model = model.eval() # Coloca o modelo em modo de avaliação\n",
    "\n",
    "    losses = []\n",
    "    correct_predictions = 0\n",
    "\n",
    "    with torch.no_grad(): # Desativa o cálculo dos gradientes\n",
    "        for d in tqdm(data_loader, desc=\"Evaluating\"): # Loop sobre batches de dados\n",
    "            input_ids = d[\"input_ids\"].to(device) # Move input_ids para o dispositivo\n",
    "            attention_mask = d[\"attention_mask\"].to(device) # Move attention_mask para o dispositivo\n",
    "            labels = d[\"labels\"].to(device) # Move labels para o dispositivo\n",
    "\n",
    "            # Passa os dados pelo modelo sem calcular gradientes\n",
    "            outputs = model(\n",
    "                input_ids=input_ids,\n",
    "                attention_mask=attention_mask\n",
    "            )\n",
    "\n",
    "            loss = loss_fn(outputs.logits, labels) # Calcula a perda\n",
    "            correct_predictions += torch.sum(torch.argmax(outputs.logits, dim=1) == labels) # Conta predições corretas\n",
    "            losses.append(loss.item()) # Armazena a perda para análise\n",
    "\n",
    "    # Retorna a precisão e a perda média por exemplo\n",
    "    return correct_predictions.double() / n_examples, np.mean(losses)"
   ]
  },
  {
   "cell_type": "code",
   "execution_count": 13,
   "metadata": {},
   "outputs": [],
   "source": [
    "class EarlyStopping:\n",
    "    def __init__(self, patience=3, min_delta=0):\n",
    "        # Inicializa o early stopping com paciência e delta mínimos\n",
    "        self.patience = patience\n",
    "        self.min_delta = min_delta\n",
    "        self.counter = 0\n",
    "        self.best_loss = None\n",
    "        self.early_stop = False\n",
    "\n",
    "    def __call__(self, val_loss):\n",
    "        # Checa se a perda de validação melhorou\n",
    "        if self.best_loss is None:\n",
    "            self.best_loss = val_loss\n",
    "        elif val_loss > self.best_loss + self.min_delta:\n",
    "            self.counter += 1 # Incrementa o contador se a perda não melhorar\n",
    "            if self.counter >= self.patience:\n",
    "                self.early_stop = True # Sinaliza o early stopping se o contador atingir a paciência\n",
    "        else:\n",
    "            self.best_loss = val_loss\n",
    "            self.counter = 0 # Reseta o contador se houver melhoria na perda\n"
   ]
  },
  {
   "cell_type": "code",
   "execution_count": 14,
   "metadata": {},
   "outputs": [
    {
     "name": "stdout",
     "output_type": "stream",
     "text": [
      "Epoch 1/40\n",
      "----------\n"
     ]
    },
    {
     "name": "stderr",
     "output_type": "stream",
     "text": [
      "Training:   0%|          | 0/975 [00:00<?, ?it/s]c:\\Users\\mathe\\anaconda3\\envs\\detector\\lib\\site-packages\\transformers\\models\\bert\\modeling_bert.py:439: UserWarning: 1Torch was not compiled with flash attention. (Triggered internally at ..\\aten\\src\\ATen\\native\\transformers\\cuda\\sdp_utils.cpp:263.)\n",
      "  attn_output = torch.nn.functional.scaled_dot_product_attention(\n",
      "Training: 100%|██████████| 975/975 [12:04<00:00,  1.35it/s]\n",
      "Evaluating: 100%|██████████| 209/209 [01:23<00:00,  2.51it/s]\n"
     ]
    },
    {
     "name": "stdout",
     "output_type": "stream",
     "text": [
      "Perda Treinamento  0.1913 precisão 0.9340\n",
      "Perda Validação  0.1392 precisão 0.9638\n",
      "Epoch 1 demorou 13m 29s\n",
      "\n",
      "Epoch 2/40\n",
      "----------\n"
     ]
    },
    {
     "name": "stderr",
     "output_type": "stream",
     "text": [
      "Training: 100%|██████████| 975/975 [12:14<00:00,  1.33it/s]\n",
      "Evaluating: 100%|██████████| 209/209 [01:26<00:00,  2.41it/s]\n"
     ]
    },
    {
     "name": "stdout",
     "output_type": "stream",
     "text": [
      "Perda Treinamento  0.0569 precisão 0.9859\n",
      "Perda Validação  0.1118 precisão 0.9770\n",
      "Epoch 2 demorou 13m 41s\n",
      "\n",
      "Epoch 3/40\n",
      "----------\n"
     ]
    },
    {
     "name": "stderr",
     "output_type": "stream",
     "text": [
      "Training: 100%|██████████| 975/975 [12:17<00:00,  1.32it/s]\n",
      "Evaluating: 100%|██████████| 209/209 [01:26<00:00,  2.41it/s]\n"
     ]
    },
    {
     "name": "stdout",
     "output_type": "stream",
     "text": [
      "Perda Treinamento  0.0173 precisão 0.9958\n",
      "Perda Validação  0.1169 precisão 0.9806\n",
      "Epoch 3 demorou 13m 45s\n",
      "\n",
      "Epoch 4/40\n",
      "----------\n"
     ]
    },
    {
     "name": "stderr",
     "output_type": "stream",
     "text": [
      "Training: 100%|██████████| 975/975 [12:19<00:00,  1.32it/s]\n",
      "Evaluating: 100%|██████████| 209/209 [01:26<00:00,  2.41it/s]\n"
     ]
    },
    {
     "name": "stdout",
     "output_type": "stream",
     "text": [
      "Perda Treinamento  0.0056 precisão 0.9988\n",
      "Perda Validação  0.1169 precisão 0.9806\n",
      "Epoch 4 demorou 13m 46s\n",
      "\n",
      "Epoch 5/40\n",
      "----------\n"
     ]
    },
    {
     "name": "stderr",
     "output_type": "stream",
     "text": [
      "Training: 100%|██████████| 975/975 [12:21<00:00,  1.31it/s]\n",
      "Evaluating: 100%|██████████| 209/209 [01:26<00:00,  2.40it/s]"
     ]
    },
    {
     "name": "stdout",
     "output_type": "stream",
     "text": [
      "Perda Treinamento  0.0062 precisão 0.9987\n",
      "Perda Validação  0.1169 precisão 0.9806\n",
      "Epoch 5 demorou 13m 48s\n",
      "\n",
      "Early stopping\n"
     ]
    },
    {
     "name": "stderr",
     "output_type": "stream",
     "text": [
      "\n"
     ]
    }
   ],
   "source": [
    "EPOCHS = 40\n",
    "early_stopping = EarlyStopping(patience=3, min_delta=0.001) # Configura early stopping\n",
    "\n",
    "# Loop de treinamento e validação por várias épocas\n",
    "for epoch in range(EPOCHS):\n",
    "    start_time = time.time()\n",
    "\n",
    "    print(f'Epoch {epoch + 1}/{EPOCHS}')\n",
    "    print('-' * 10)\n",
    "\n",
    "    # Treina o modelo para uma época e avalia a precisão e perda\n",
    "    train_acc, train_loss = train_epoch(\n",
    "        model,\n",
    "        train_data_loader,\n",
    "        loss_fn,\n",
    "        optimizer,\n",
    "        device,\n",
    "        scheduler,\n",
    "        len(train_df)\n",
    "    )\n",
    "\n",
    "    val_acc, val_loss = eval_model(\n",
    "        model,\n",
    "        val_data_loader,\n",
    "        loss_fn,\n",
    "        device,\n",
    "        len(val_df)\n",
    "    )\n",
    "\n",
    "    end_time = time.time()\n",
    "    epoch_time = end_time - start_time\n",
    "\n",
    "    # Exibe as métricas de perda e precisão para treino e validação\n",
    "    print(f\"Perda Treinamento  {train_loss:.4f} precisão {train_acc:.4f}\")\n",
    "    print(f\"Perda Validação  {val_loss:.4f} precisão {val_acc:.4f}\")\n",
    "    print(f\"Epoch {epoch + 1} demorou {epoch_time // 60:.0f}m {epoch_time % 60:.0f}s\")\n",
    "    print()\n",
    "\n",
    "    early_stopping(val_loss) # Verifica se deve parar o treinamento antecipadamente\n",
    "\n",
    "    if early_stopping.early_stop:\n",
    "        print(\"Early stopping\")\n",
    "        break"
   ]
  },
  {
   "cell_type": "code",
   "execution_count": 15,
   "metadata": {},
   "outputs": [
    {
     "name": "stderr",
     "output_type": "stream",
     "text": [
      "Evaluating: 100%|██████████| 209/209 [01:26<00:00,  2.41it/s]"
     ]
    },
    {
     "name": "stdout",
     "output_type": "stream",
     "text": [
      "Teste acurácia: 0.9748728686808256\n"
     ]
    },
    {
     "name": "stderr",
     "output_type": "stream",
     "text": [
      "\n"
     ]
    }
   ],
   "source": [
    "# Avalia o modelo no conjunto de teste após o término do treinamento\n",
    "test_acc, _ = eval_model(\n",
    "    model,\n",
    "    test_data_loader,\n",
    "    loss_fn,\n",
    "    device,\n",
    "    len(test_df)\n",
    ")\n",
    "\n",
    "# Exibe a acurácia final no conjunto de teste\n",
    "print(f'Teste acurácia: {test_acc.item()}')\n"
   ]
  },
  {
   "cell_type": "code",
   "execution_count": 16,
   "metadata": {},
   "outputs": [
    {
     "name": "stdout",
     "output_type": "stream",
     "text": [
      "Modelo salvo em .\\bert_model.bin\n",
      "Tokenizer salvo em .\\bert_tokenizer\n"
     ]
    }
   ],
   "source": [
    "# Salva o modelo\n",
    "model_save_path = os.path.join(os.curdir, \"bert_model.bin\")\n",
    "torch.save(model.state_dict(), model_save_path)\n",
    "print(f\"Modelo salvo em {model_save_path}\")\n",
    "\n",
    "# Salva o tokenizer\n",
    "tokenizer_save_path = os.path.join(os.curdir, \"bert_tokenizer\")\n",
    "bert_tokenizer.save_pretrained(tokenizer_save_path)\n",
    "print(f\"Tokenizer salvo em {tokenizer_save_path}\")"
   ]
  },
  {
   "cell_type": "code",
   "execution_count": 17,
   "metadata": {},
   "outputs": [
    {
     "name": "stdout",
     "output_type": "stream",
     "text": [
      "Dataset de teste salvo em .\\test_with_predictions.csv\n"
     ]
    }
   ],
   "source": [
    "def get_predictions(model, data_loader):\n",
    "    model = model.eval()\n",
    "\n",
    "    texts = []\n",
    "    predictions = []\n",
    "    prediction_probs = []\n",
    "    real_values = []\n",
    "\n",
    "    with torch.no_grad():\n",
    "        for d in data_loader:\n",
    "            texts.extend(d[\"input_ids\"].tolist())\n",
    "            input_ids = d[\"input_ids\"].to(device)\n",
    "            attention_mask = d[\"attention_mask\"].to(device)\n",
    "            labels = d[\"labels\"].to(device)\n",
    "\n",
    "            outputs = model(\n",
    "                input_ids=input_ids,\n",
    "                attention_mask=attention_mask\n",
    "            )\n",
    "\n",
    "            _, preds = torch.max(outputs.logits, dim=1)\n",
    "\n",
    "            texts.extend(d[\"input_ids\"].tolist())\n",
    "            predictions.extend(preds)\n",
    "            prediction_probs.extend(outputs.logits)\n",
    "            real_values.extend(labels)\n",
    "\n",
    "    predictions = torch.stack(predictions).cpu()\n",
    "    prediction_probs = torch.stack(prediction_probs).cpu()\n",
    "    real_values = torch.stack(real_values).cpu()\n",
    "    return predictions, prediction_probs, real_values\n",
    "\n",
    "# Obtem previsões no conjunto de teste\n",
    "y_pred, y_pred_probs, y_test = get_predictions(model, test_data_loader)\n",
    "\n",
    "# Adiciona as previsões ao DataFrame de teste\n",
    "test_df['predicted_label'] = y_pred\n",
    "test_df['predicted_label'] = test_df['predicted_label'].apply(lambda x: le.inverse_transform([x])[0])\n",
    "\n",
    "# Salva o DataFrame de teste\n",
    "test_save_path = os.path.join(os.curdir, \"test_with_predictions.csv\")\n",
    "test_df.to_csv(test_save_path, index=False)\n",
    "print(f\"Dataset de teste salvo em {test_save_path}\")"
   ]
  }
 ],
 "metadata": {
  "kernelspec": {
   "display_name": "detector",
   "language": "python",
   "name": "python3"
  },
  "language_info": {
   "codemirror_mode": {
    "name": "ipython",
    "version": 3
   },
   "file_extension": ".py",
   "mimetype": "text/x-python",
   "name": "python",
   "nbconvert_exporter": "python",
   "pygments_lexer": "ipython3",
   "version": "3.10.14"
  }
 },
 "nbformat": 4,
 "nbformat_minor": 2
}
