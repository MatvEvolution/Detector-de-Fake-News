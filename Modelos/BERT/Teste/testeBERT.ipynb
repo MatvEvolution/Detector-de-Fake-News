{
 "cells": [
  {
   "cell_type": "code",
   "execution_count": 5,
   "metadata": {},
   "outputs": [
    {
     "name": "stderr",
     "output_type": "stream",
     "text": [
      "Some weights of BertForSequenceClassification were not initialized from the model checkpoint at neuralmind/bert-base-portuguese-cased and are newly initialized: ['classifier.bias', 'classifier.weight']\n",
      "You should probably TRAIN this model on a down-stream task to be able to use it for predictions and inference.\n"
     ]
    },
    {
     "data": {
      "image/png": "[encoded data removed]",
      "text/plain": [
       "<Figure size 640x480 with 2 Axes>"
      ]
     },
     "metadata": {},
     "output_type": "display_data"
    }
   ],
   "source": [
    "from transformers import BertTokenizer, BertForSequenceClassification\n",
    "import torch\n",
    "import os\n",
    "import pandas as pd\n",
    "import matplotlib.pyplot as plt\n",
    "from sklearn.preprocessing import LabelEncoder\n",
    "from sklearn.metrics import confusion_matrix, ConfusionMatrixDisplay,accuracy_score\n",
    "import numpy as np\n",
    "\n",
    "# Encontra diretorio atual\n",
    "atual_dir = os.getcwd()\n",
    "\n",
    "# Acessa arquivo pkl das noticias\n",
    "parent_dir = os.path.split(atual_dir)\n",
    "\n",
    "# Caminho onde o modelo foi salvo\n",
    "model_save_path = os.path.join(parent_dir[0], \"Treinamento\\\\bert_model.bin\")\n",
    "\n",
    "# Inicializa um modelo BERT para classificação\n",
    "model = BertForSequenceClassification.from_pretrained('neuralmind/bert-base-portuguese-cased')\n",
    "\n",
    "# Carrega os pesos do modelo salvo\n",
    "model.load_state_dict(torch.load(model_save_path))\n",
    "\n",
    "# Coloca o modelo em modo de avaliação\n",
    "model.eval()\n",
    "\n",
    "\n",
    "# Carrega o CSV salvo\n",
    "test_save_path = os.path.join(parent_dir[0], \"Treinamento\\\\test_with_predictions.csv\")\n",
    "test_df = pd.read_csv(test_save_path)\n",
    "\n",
    "# Carrega arquivos pertinentes ao treinamento da rede neural e X_test e y_test (usados na avaliação de resultados)\n",
    "y_test = test_df['Categoria']  \n",
    "y_pred = test_df['predicted_label']\n",
    "\n",
    "\n",
    "# Lê o arquivo .csv\n",
    "parent_dir_2 = os.path.split(parent_dir[0])\n",
    "parent_dir_2 = os.path.split(parent_dir_2[0])\n",
    "caminho_csv = os.path.join(parent_dir_2[0], \"Pre-processamento\\\\noticias_dados_limpos.csv\")\n",
    "df = pd.read_csv(caminho_csv)\n",
    "\n",
    "# Cria um objeto LabelEncoder\n",
    "le = LabelEncoder()\n",
    "\n",
    "# Transforma os rótulos de categorias para variáveis categóricas\n",
    "df['label'] = le.fit_transform(df['Categoria'])\n",
    "\n",
    "# Obtém os nomes das classes\n",
    "nomes_classes = le.classes_\n",
    "\n",
    "cm = confusion_matrix(y_test, y_pred)\n",
    "disp = ConfusionMatrixDisplay(confusion_matrix=cm, display_labels=le.classes_)\n",
    "\n",
    "# Plota a matriz de confusão\n",
    "disp.plot(cmap=plt.cm.Blues)\n",
    "plt.title(\"Matriz de Confusão\")\n",
    "plt.xlabel('Classe prevista')\n",
    "plt.ylabel('Classe real')\n",
    "plt.show()\n"
   ]
  },
  {
   "cell_type": "code",
   "execution_count": 6,
   "metadata": {},
   "outputs": [
    {
     "name": "stdout",
     "output_type": "stream",
     "text": [
      "Acurácia: 0.97\n"
     ]
    }
   ],
   "source": [
    "# Calcula a acurácia\n",
    "accuracy = accuracy_score(y_test, y_pred)\n",
    "\n",
    "# Exibe a acurácia\n",
    "print(f\"Acurácia: {accuracy:.2f}\")"
   ]
  },
  {
   "cell_type": "code",
   "execution_count": 7,
   "metadata": {},
   "outputs": [
    {
     "name": "stderr",
     "output_type": "stream",
     "text": [
      "c:\\Users\\mathe\\anaconda3\\envs\\detector\\lib\\site-packages\\transformers\\tokenization_utils_base.py:1601: FutureWarning: `clean_up_tokenization_spaces` was not set. It will be set to `True` by default. This behavior will be depracted in transformers v4.45, and will be then set to `False` by default. For more details check this issue: https://github.com/huggingface/transformers/issues/31884\n",
      "  warnings.warn(\n"
     ]
    },
    {
     "name": "stdout",
     "output_type": "stream",
     "text": [
      "Classe original: Real\n"
     ]
    }
   ],
   "source": [
    "# Carrega o tokenizador\n",
    "tokenizer = BertTokenizer.from_pretrained(\"neuralmind/bert-base-portuguese-cased\")\n",
    "\n",
    "# Texto para fazer a previsão\n",
    "texto = \"\"\"\n",
    "'Não acho que a gente tenha problema no Congresso', diz Lula sobre articulação política\n",
    "Questionado, presidente minimizou reclamações de parlamentares e evitou detalhar reunião fora da agenda com Arthur Lira. Lula também negou que tenha intenção de trocar ministros.\n",
    "O presidente Luiz Inácio Lula da Silva (PT) negou nesta terça-feira (23) que o governo tenha problemas de articulação política no Congresso Nacional – apontados, nos últimos meses, pelos próprios parlamentares.\n",
    "Lula afirmou, ainda, que está em uma \"situação de muita tranquilidade na relação com o Congresso Nacional\", e previu placares vitoriosos para as próximas votações.\n",
    "\n",
    "O cenário indicado até o momento, no entanto, é de possíveis revezes em vetos – como no projeto que restringe as \"saidinhas\" de presos – e de pressão pela aprovação de pautas-bomba como a PEC do Quinquênio, que pode gerar custos adicionais de até R$ 82 bilhões nos próximos três anos.\n",
    "\n",
    "\"\"\"\n",
    "\n",
    "texto = texto.lower()\n",
    "\n",
    "# Realiza a tokenização do texto\n",
    "inputs = tokenizer(texto, return_tensors=\"pt\", truncation=True, max_length=128)\n",
    "\n",
    "# Faz a previsão\n",
    "with torch.no_grad():\n",
    "    outputs = model(**inputs)\n",
    "\n",
    "# Obtem as previsões\n",
    "logits = outputs.logits\n",
    "predicted_class_idx = logits.argmax().item()\n",
    "\n",
    "# Mapeia o índice da classe prevista para a categoria\n",
    "# Cria um objeto LabelEncoder\n",
    "le = LabelEncoder()\n",
    "\n",
    "# Transforma os labels para variáveis categóricas\n",
    "df['label'] = le.fit_transform(df['Categoria'])\n",
    "\n",
    "original_class = le.inverse_transform([predicted_class_idx]) \n",
    "print(f\"Classe original: {original_class[0]}\")\n",
    "\n"
   ]
  },
  {
   "cell_type": "code",
   "execution_count": 8,
   "metadata": {},
   "outputs": [
    {
     "name": "stdout",
     "output_type": "stream",
     "text": [
      "Classe original: Falso\n"
     ]
    }
   ],
   "source": [
    "\n",
    "# Texto para fazer a previsão\n",
    "texto = \"\"\"Tubarões voadores são descobertos no oceano Atlântico. Um grupo de cientistas marinhos relatou a descoberta de uma nova espécie de tubarões voadores nas águas profundas do oceano Atlântico. Esses tubarões têm a habilidade única de se elevar acima da superfície do mar e planar por longas distâncias. A descoberta desafia as noções convencionais sobre a biologia marinha e promete revolucionar nossa compreensão dos ecossistemas oceânicos.\n",
    "\n",
    "\"\"\"\n",
    "\n",
    "texto = texto.lower()\n",
    "\n",
    "# Realiza a tokenização do texto\n",
    "inputs = tokenizer(texto, return_tensors=\"pt\", truncation=True, max_length=128)\n",
    "\n",
    "# Faz a previsão\n",
    "with torch.no_grad():\n",
    "    outputs = model(**inputs)\n",
    "\n",
    "# Obtem as previsões\n",
    "logits = outputs.logits\n",
    "probabilidades = torch.softmax(logits, dim=1)[0]\n",
    "\n",
    "# Obtem o índice da classe com a maior probabilidade\n",
    "predicted_class_idx = torch.argmax(probabilidades).item()\n",
    "\n",
    "# Cria um objeto LabelEncoder\n",
    "le = LabelEncoder()\n",
    "\n",
    "# Transforma os labels para variáveis categóricas\n",
    "df['label'] = le.fit_transform(df['Categoria'])\n",
    "\n",
    "original_class = le.inverse_transform([predicted_class_idx]) \n",
    "print(f\"Classe original: {original_class[0]}\")\n",
    "\n"
   ]
  }
 ],
 "metadata": {
  "kernelspec": {
   "display_name": ".venv",
   "language": "python",
   "name": "python3"
  },
  "language_info": {
   "codemirror_mode": {
    "name": "ipython",
    "version": 3
   },
   "file_extension": ".py",
   "mimetype": "text/x-python",
   "name": "python",
   "nbconvert_exporter": "python",
   "pygments_lexer": "ipython3",
   "version": "3.10.14"
  }
 },
 "nbformat": 4,
 "nbformat_minor": 2
}
