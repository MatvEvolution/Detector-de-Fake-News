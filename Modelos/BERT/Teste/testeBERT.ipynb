{
 "cells": [
  {
   "cell_type": "code",
   "execution_count": 41,
   "metadata": {},
   "outputs": [
    {
     "name": "stdout",
     "output_type": "stream",
     "text": [
      "Classe original: Real\n"
     ]
    }
   ],
   "source": [
    "from transformers import BertTokenizer, BertForSequenceClassification\n",
    "import torch\n",
    "import os\n",
    "import pandas as pd\n",
    "from sklearn.preprocessing import LabelEncoder\n",
    "\n",
    "# Carregar o arquivo CSV\n",
    "atual_dir = os.getcwd()\n",
    "parent_dir = os.path.split(atual_dir)\n",
    "parent_dir = os.path.split(parent_dir[0])\n",
    "parent_dir = os.path.split(parent_dir[0])\n",
    "caminho_csv = os.path.join(parent_dir[0], \"Pre-processamento\\\\noticias_dados_limpos.csv\")\n",
    "df = pd.read_csv(caminho_csv)\n",
    "\n",
    "# Obter as categorias\n",
    "categorias = df['Categoria'].unique()\n",
    "\n",
    "# Carregar o modelo pré-treinado\n",
    "model_path = \"C:\\\\Users\\\\mathe\\\\OneDrive\\\\Área de Trabalho\\\\Detector\\\\Modelos\\\\BERT\\\\Treinamento\"\n",
    "model = BertForSequenceClassification.from_pretrained(model_path)\n",
    "\n",
    "# Carregar o tokenizador\n",
    "tokenizer = BertTokenizer.from_pretrained(\"neuralmind/bert-base-portuguese-cased\")\n",
    "\n",
    "# Texto para fazer a previsão\n",
    "texto = \"\"\"\n",
    "'Não acho que a gente tenha problema no Congresso', diz Lula sobre articulação política\n",
    "Questionado, presidente minimizou reclamações de parlamentares e evitou detalhar reunião fora da agenda com Arthur Lira. Lula também negou que tenha intenção de trocar ministros.\n",
    "O presidente Luiz Inácio Lula da Silva (PT) negou nesta terça-feira (23) que o governo tenha problemas de articulação política no Congresso Nacional – apontados, nos últimos meses, pelos próprios parlamentares.\n",
    "Lula afirmou, ainda, que está em uma \"situação de muita tranquilidade na relação com o Congresso Nacional\", e previu placares vitoriosos para as próximas votações.\n",
    "\n",
    "O cenário indicado até o momento, no entanto, é de possíveis revezes em vetos – como no projeto que restringe as \"saidinhas\" de presos – e de pressão pela aprovação de pautas-bomba como a PEC do Quinquênio, que pode gerar custos adicionais de até R$ 82 bilhões nos próximos três anos.\n",
    "\n",
    "\"\"\"\n",
    "\n",
    "texto = texto.lower()\n",
    "\n",
    "# Tokenizar o texto\n",
    "inputs = tokenizer(texto, return_tensors=\"pt\", truncation=True, max_length=128)\n",
    "\n",
    "# Fazer a previsão\n",
    "with torch.no_grad():\n",
    "    outputs = model(**inputs)\n",
    "\n",
    "# Obter as previsões\n",
    "logits = outputs.logits\n",
    "predicted_class_idx = logits.argmax().item()\n",
    "\n",
    "# Mapear o índice da classe prevista para a categoria\n",
    "# Cria um objeto LabelEncoder\n",
    "le = LabelEncoder()\n",
    "\n",
    "# Transforma os labels para variáveis categóricas\n",
    "df['label'] = le.fit_transform(df['Categoria'])\n",
    "\n",
    "original_class = le.inverse_transform([predicted_class_idx]) \n",
    "print(f\"Classe original: {original_class[0]}\")\n",
    "\n"
   ]
  },
  {
   "cell_type": "code",
   "execution_count": 42,
   "metadata": {},
   "outputs": [
    {
     "name": "stdout",
     "output_type": "stream",
     "text": [
      "Classe original: Falso\n"
     ]
    }
   ],
   "source": [
    "from transformers import BertTokenizer, BertForSequenceClassification\n",
    "import torch\n",
    "import os\n",
    "import pandas as pd\n",
    "\n",
    "# Carregar o arquivo CSV\n",
    "atual_dir = os.getcwd()\n",
    "parent_dir = os.path.split(atual_dir)\n",
    "parent_dir = os.path.split(parent_dir[0])\n",
    "parent_dir = os.path.split(parent_dir[0])\n",
    "caminho_csv = os.path.join(parent_dir[0], \"Pre-processamento\\\\noticias_dados_limpos.csv\")\n",
    "df = pd.read_csv(caminho_csv)\n",
    "\n",
    "# Obter as categorias\n",
    "categorias = df['Categoria'].unique()\n",
    "\n",
    "# Carregar o modelo pré-treinado\n",
    "model_path = \"C:\\\\Users\\\\mathe\\\\OneDrive\\\\Área de Trabalho\\\\Detector\\\\Modelos\\\\BERT\\\\Treinamento\"\n",
    "model = BertForSequenceClassification.from_pretrained(model_path)\n",
    "\n",
    "# Carregar o tokenizador\n",
    "tokenizer = BertTokenizer.from_pretrained(\"neuralmind/bert-base-portuguese-cased\")\n",
    "\n",
    "# Texto para fazer a previsão\n",
    "texto = \"\"\"\n",
    "Tubarões voadores são descobertos no oceano Atlântico. Um grupo de cientistas marinhos relatou a descoberta de uma nova espécie de tubarões voadores nas águas profundas do oceano Atlântico. Esses tubarões têm a habilidade única de se elevar acima da superfície do mar e planar por longas distâncias. A descoberta desafia as noções convencionais sobre a biologia marinha e promete revolucionar nossa compreensão dos ecossistemas oceânicos.\n",
    "\"\"\"\n",
    "\n",
    "texto = texto.lower()\n",
    "\n",
    "# Tokenizar o texto\n",
    "inputs = tokenizer(texto, return_tensors=\"pt\", truncation=True, max_length=128)\n",
    "\n",
    "# Fazer a previsão\n",
    "with torch.no_grad():\n",
    "    outputs = model(**inputs)\n",
    "\n",
    "# Obter as previsões\n",
    "logits = outputs.logits\n",
    "probabilidades = torch.softmax(logits, dim=1)[0]\n",
    "\n",
    "# Obter o índice da classe com a maior probabilidade\n",
    "predicted_class_idx = torch.argmax(probabilidades).item()\n",
    "\n",
    "# Cria um objeto LabelEncoder\n",
    "le = LabelEncoder()\n",
    "\n",
    "# Transforma os labels para variáveis categóricas\n",
    "df['label'] = le.fit_transform(df['Categoria'])\n",
    "\n",
    "original_class = le.inverse_transform([predicted_class_idx]) \n",
    "print(f\"Classe original: {original_class[0]}\")\n",
    "\n"
   ]
  }
 ],
 "metadata": {
  "kernelspec": {
   "display_name": ".venv",
   "language": "python",
   "name": "python3"
  },
  "language_info": {
   "codemirror_mode": {
    "name": "ipython",
    "version": 3
   },
   "file_extension": ".py",
   "mimetype": "text/x-python",
   "name": "python",
   "nbconvert_exporter": "python",
   "pygments_lexer": "ipython3",
   "version": "3.10.0"
  }
 },
 "nbformat": 4,
 "nbformat_minor": 2
}
