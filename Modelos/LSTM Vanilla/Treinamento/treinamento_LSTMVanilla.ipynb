{
 "cells": [
  {
   "cell_type": "code",
   "execution_count": 1,
   "metadata": {},
   "outputs": [],
   "source": [
    "import pickle\n",
    "import os\n",
    "\n",
    "# Carregar a lista 'sequences' de um arquivo usando pickle\n",
    "# Encontra diretorio atual\n",
    "atual_dir = os.getcwd()\n",
    "\n",
    "# Acessa arquivo pkl das noticias\n",
    "parent_dir = os.path.split(atual_dir)\n",
    "\n",
    "parent_dir = os.path.split(parent_dir[0])\n",
    "\n",
    "\n",
    "caminho_pkl = os.path.join(parent_dir[0], \"Word2Vec\\\\sequences.pickle\")\n",
    "\n",
    "with open(caminho_pkl, 'rb') as handle:\n",
    "    sequences = pickle.load(handle)"
   ]
  },
  {
   "cell_type": "code",
   "execution_count": 2,
   "metadata": {},
   "outputs": [
    {
     "name": "stdout",
     "output_type": "stream",
     "text": [
      "Mean sequence length:  173.9763956201759\n",
      "Maximum sequence length:  3835\n"
     ]
    }
   ],
   "source": [
    "import numpy as np\n",
    "\n",
    "# Calcula o comprimento de cada sequência em 'sequences' e armazena os resultados na lista 'sequence_lengths'\n",
    "sequence_lengths = [len(seq) for seq in sequences]\n",
    "\n",
    "# Calcula a média dos comprimentos das sequências usando a função 'mean' do numpy\n",
    "mean_length = np.mean(sequence_lengths)\n",
    "\n",
    "# Obtém o comprimento máximo das sequências usando a função 'max' do Python\n",
    "max_length = max(sequence_lengths)\n",
    "\n",
    "# Imprime a média e o comprimento máximo das sequências\n",
    "print(\"Mean sequence length: \", mean_length)\n",
    "print(\"Maximum sequence length: \", max_length)"
   ]
  },
  {
   "cell_type": "code",
   "execution_count": 3,
   "metadata": {},
   "outputs": [],
   "source": [
    "import numpy as np\n",
    "from tensorflow.keras.preprocessing.sequence import pad_sequences\n",
    "\n",
    "# Calcula uma porcentagem de 95% dos comprimentos das sequências (preserva 95% das sequências)\n",
    "max_length = int(np.percentile(sequence_lengths, 95))\n",
    "\n",
    "# Realiza o preenchimento das sequências com base no novo 'max_length'\n",
    "padded_sequences = pad_sequences(sequences, maxlen=max_length, padding='post')"
   ]
  },
  {
   "cell_type": "code",
   "execution_count": 4,
   "metadata": {},
   "outputs": [],
   "source": [
    "import pandas as pd\n",
    "import os\n",
    "\n",
    "# Encontra diretorio atual\n",
    "atual_dir = os.getcwd()\n",
    "\n",
    "# Acessa arquivo pkl das noticias\n",
    "parent_dir = os.path.split(atual_dir)\n",
    "\n",
    "parent_dir = os.path.split(parent_dir[0])\n",
    "\n",
    "parent_dir = os.path.split(parent_dir[0])\n",
    "\n",
    "caminho_pkl = os.path.join(parent_dir[0], \"Pre-processamento\\\\noticias_pre_processadas_df.pkl\")\n",
    "\n",
    "# Carregar dataframe salvo em formato pickle\n",
    "df = pd.read_pickle(caminho_pkl)"
   ]
  },
  {
   "cell_type": "code",
   "execution_count": 5,
   "metadata": {},
   "outputs": [
    {
     "data": {
      "text/plain": [
       "2"
      ]
     },
     "execution_count": 5,
     "metadata": {},
     "output_type": "execute_result"
    }
   ],
   "source": [
    "df['label'].nunique() # Retorna o número de categorias únicas (classes) presentes na coluna 'label'"
   ]
  },
  {
   "cell_type": "code",
   "execution_count": 6,
   "metadata": {},
   "outputs": [],
   "source": [
    "import tensorflow.keras.utils as ku\n",
    "\n",
    "# Converte os labels para one-hot encoding\n",
    "num_classes = df['label'].nunique()\n",
    "labels = ku.to_categorical(df['label'], num_classes)"
   ]
  },
  {
   "cell_type": "code",
   "execution_count": 7,
   "metadata": {},
   "outputs": [
    {
     "data": {
      "text/plain": [
       "array([[0., 1.],\n",
       "       [0., 1.],\n",
       "       [0., 1.],\n",
       "       ...,\n",
       "       [0., 1.],\n",
       "       [1., 0.],\n",
       "       [0., 1.]], dtype=float32)"
      ]
     },
     "execution_count": 7,
     "metadata": {},
     "output_type": "execute_result"
    }
   ],
   "source": [
    "labels"
   ]
  },
  {
   "cell_type": "code",
   "execution_count": 8,
   "metadata": {},
   "outputs": [],
   "source": [
    "from sklearn.model_selection import train_test_split\n",
    "\n",
    "# Divisão dos dados em um conjunto de treino (70%) e um conjunto temporário (30%)\n",
    "X_train, X_temp, y_train, y_temp = train_test_split(padded_sequences, labels, test_size=0.3)\n",
    "\n",
    "# Divisão do conjunto temporário em conjuntos de validação (15%) e teste (15%)\n",
    "X_val, X_test, y_val, y_test = train_test_split(X_temp, y_temp, test_size=0.5)  "
   ]
  },
  {
   "cell_type": "code",
   "execution_count": 9,
   "metadata": {},
   "outputs": [
    {
     "name": "stdout",
     "output_type": "stream",
     "text": [
      "Num GPUs:  1\n"
     ]
    }
   ],
   "source": [
    "# Treinamento da BiLSTM\n",
    "import tensorflow as tf\n",
    "print(\"Num GPUs: \", len(tf.config.list_physical_devices('GPU')))"
   ]
  },
  {
   "cell_type": "code",
   "execution_count": 10,
   "metadata": {},
   "outputs": [],
   "source": [
    "from gensim.models import Word2Vec\n",
    "import os\n",
    "\n",
    "# Carrega o modelo Word2Vec para um arquivo\n",
    "\n",
    "# Encontra diretorio atual\n",
    "atual_dir = os.getcwd()\n",
    "\n",
    "# Acessa arquivo pkl das noticias\n",
    "parent_dir = os.path.split(atual_dir)\n",
    "\n",
    "parent_dir = os.path.split(parent_dir[0])\n",
    "\n",
    "caminho_model = os.path.join(parent_dir[0], \"Word2Vec\\\\modelo_word2vec.model\")\n",
    "\n",
    "word2vec_model = Word2Vec.load(caminho_model)"
   ]
  },
  {
   "cell_type": "code",
   "execution_count": 11,
   "metadata": {},
   "outputs": [
    {
     "name": "stdout",
     "output_type": "stream",
     "text": [
      "Epoch 1/40\n",
      "244/244 [==============================] - 31s 106ms/step - loss: 0.6877 - accuracy: 0.5544 - val_loss: 0.6607 - val_accuracy: 0.5594\n",
      "Epoch 2/40\n",
      "244/244 [==============================] - 25s 101ms/step - loss: 0.6620 - accuracy: 0.5581 - val_loss: 0.6588 - val_accuracy: 0.5594\n",
      "Epoch 3/40\n",
      "244/244 [==============================] - 25s 103ms/step - loss: 0.6569 - accuracy: 0.5598 - val_loss: 0.6584 - val_accuracy: 0.5600\n",
      "Epoch 4/40\n",
      "244/244 [==============================] - 25s 103ms/step - loss: 0.6566 - accuracy: 0.5590 - val_loss: 0.6586 - val_accuracy: 0.5606\n",
      "Epoch 5/40\n",
      "244/244 [==============================] - 25s 102ms/step - loss: 0.6656 - accuracy: 0.5574 - val_loss: 0.6600 - val_accuracy: 0.5612\n",
      "Epoch 6/40\n",
      "244/244 [==============================] - 25s 104ms/step - loss: 0.6607 - accuracy: 0.5619 - val_loss: 0.6668 - val_accuracy: 0.5603\n",
      "Epoch 7/40\n",
      "244/244 [==============================] - 25s 103ms/step - loss: 0.6584 - accuracy: 0.5611 - val_loss: 0.6582 - val_accuracy: 0.5603\n",
      "Epoch 8/40\n",
      "244/244 [==============================] - 25s 104ms/step - loss: 0.6549 - accuracy: 0.5624 - val_loss: 0.6572 - val_accuracy: 0.5642\n",
      "Epoch 9/40\n",
      "244/244 [==============================] - 26s 105ms/step - loss: 0.6456 - accuracy: 0.5778 - val_loss: 0.6571 - val_accuracy: 0.5642\n",
      "Epoch 10/40\n",
      "244/244 [==============================] - 29s 118ms/step - loss: 0.6093 - accuracy: 0.6344 - val_loss: 0.5842 - val_accuracy: 0.6713\n",
      "Epoch 11/40\n",
      "244/244 [==============================] - 27s 112ms/step - loss: 0.5864 - accuracy: 0.6732 - val_loss: 0.5791 - val_accuracy: 0.6817\n",
      "Epoch 12/40\n",
      "244/244 [==============================] - 27s 112ms/step - loss: 0.5764 - accuracy: 0.6824 - val_loss: 0.5759 - val_accuracy: 0.6841\n",
      "Epoch 13/40\n",
      "244/244 [==============================] - 26s 105ms/step - loss: 0.5749 - accuracy: 0.6814 - val_loss: 0.5951 - val_accuracy: 0.6892\n",
      "Epoch 14/40\n",
      "244/244 [==============================] - 26s 108ms/step - loss: 0.5628 - accuracy: 0.6980 - val_loss: 0.5320 - val_accuracy: 0.7030\n",
      "Epoch 15/40\n",
      "244/244 [==============================] - 26s 108ms/step - loss: 0.4005 - accuracy: 0.8298 - val_loss: 0.2759 - val_accuracy: 0.9046\n",
      "Epoch 16/40\n",
      "244/244 [==============================] - 26s 107ms/step - loss: 0.2200 - accuracy: 0.9226 - val_loss: 0.2307 - val_accuracy: 0.9273\n",
      "Epoch 17/40\n",
      "244/244 [==============================] - 26s 105ms/step - loss: 0.5732 - accuracy: 0.6972 - val_loss: 0.6611 - val_accuracy: 0.5600\n",
      "Epoch 18/40\n",
      "244/244 [==============================] - 26s 108ms/step - loss: 0.6571 - accuracy: 0.5610 - val_loss: 0.6596 - val_accuracy: 0.5600\n",
      "Epoch 19/40\n",
      "244/244 [==============================] - 26s 105ms/step - loss: 0.6560 - accuracy: 0.5617 - val_loss: 0.6597 - val_accuracy: 0.5600\n",
      "Epoch 20/40\n",
      "244/244 [==============================] - 25s 104ms/step - loss: 0.6556 - accuracy: 0.5623 - val_loss: 0.6594 - val_accuracy: 0.5603\n",
      "Epoch 21/40\n",
      "244/244 [==============================] - 26s 106ms/step - loss: 0.6552 - accuracy: 0.5621 - val_loss: 0.6595 - val_accuracy: 0.5606\n"
     ]
    }
   ],
   "source": [
    "from tensorflow.keras.models import Sequential\n",
    "from tensorflow.keras.layers import Embedding, LSTM, Dense\n",
    "from tensorflow.keras.callbacks import EarlyStopping\n",
    "\n",
    "# Cria modelo LSTM\n",
    "model = Sequential()\n",
    "model.add(Embedding(input_dim=len(word2vec_model.wv.key_to_index) + 1, \n",
    "                    output_dim=word2vec_model.vector_size, input_length=max_length))\n",
    "model.add(LSTM(units=128))  # Adiciona camada LSTM com 128 unidades\n",
    "model.add(Dense(units=len(labels[0]), activation='softmax'))  # Adiciona camada densa com ativação softmax\n",
    "\n",
    "# Chamada ao Early Stopping\n",
    "early_stopping = EarlyStopping(monitor='val_loss', patience=5)  # Configura o Early Stopping\n",
    "\n",
    "# Compila modelo\n",
    "model.compile(loss='categorical_crossentropy', optimizer='adam', metrics=['accuracy'])  # Compila o modelo com a função de perda, otimizador e métricas especificadas\n",
    "\n",
    "# Treina modelo\n",
    "history = model.fit(X_train, y_train, epochs=40, batch_size=64, validation_data=(X_val, y_val), \n",
    "                    callbacks=[early_stopping], verbose=1)  # Treina o modelo com os dados de treinamento e validação, usando o Early Stopping e exibindo o progresso\n"
   ]
  },
  {
   "cell_type": "code",
   "execution_count": 12,
   "metadata": {},
   "outputs": [
    {
     "data": {
      "image/png": "[encoded data removed]",
      "text/plain": [
       "<Figure size 640x480 with 1 Axes>"
      ]
     },
     "metadata": {},
     "output_type": "display_data"
    }
   ],
   "source": [
    "import matplotlib.pyplot as plt\n",
    "\n",
    "# Plota a perda (loss) e a perda de validação (val_loss) durante o treinamento\n",
    "plt.plot(history.history['loss'], label='Perda Treinamento')\n",
    "plt.plot(history.history['val_loss'], label='Perda Validação')\n",
    "plt.title('Perda de treinamento e Validação')\n",
    "plt.xlabel('Épocas')\n",
    "plt.ylabel('Perda')\n",
    "plt.legend()\n",
    "plt.show()"
   ]
  },
  {
   "cell_type": "code",
   "execution_count": 13,
   "metadata": {},
   "outputs": [],
   "source": [
    "# Salva arquivos em discos que podemos carregar sem treinar a rede neural novamente\n",
    "model.save('modelo_LSTMVanilla.h5')\n",
    "np.save(\"X_test_LSTMVanilla.npy\", X_test)\n",
    "np.save(\"y_test_LSTMVanilla.npy\", y_test)"
   ]
  },
  {
   "cell_type": "code",
   "execution_count": 14,
   "metadata": {},
   "outputs": [
    {
     "name": "stdout",
     "output_type": "stream",
     "text": [
      "Acurácia final: 0.5623691082000732\n"
     ]
    }
   ],
   "source": [
    "loss, accuracy = model.evaluate(X_test, y_test, verbose=0)\n",
    "print('Acurácia final:', accuracy)"
   ]
  },
  {
   "cell_type": "code",
   "execution_count": 15,
   "metadata": {},
   "outputs": [
    {
     "name": "stdout",
     "output_type": "stream",
     "text": [
      "105/105 [==============================] - 3s 29ms/step\n"
     ]
    }
   ],
   "source": [
    "# Fazer as previsões do modelo para o conjunto de teste\n",
    "y_pred = model.predict(X_test)"
   ]
  },
  {
   "cell_type": "code",
   "execution_count": 16,
   "metadata": {},
   "outputs": [
    {
     "data": {
      "text/plain": [
       "array([[1695,    0],\n",
       "       [1463,  185]], dtype=int64)"
      ]
     },
     "execution_count": 16,
     "metadata": {},
     "output_type": "execute_result"
    }
   ],
   "source": [
    "#Transformar as previsões de volta em labels\n",
    "y_pred_labels = np.argmax(y_pred, axis=1)\n",
    "y_true_labels = np.argmax(y_test, axis=1)\n",
    "\n",
    "# Calcular a matriz de confusão\n",
    "from sklearn.metrics import confusion_matrix\n",
    "conf_mat = confusion_matrix(y_true_labels, y_pred_labels)\n",
    "\n",
    "conf_mat"
   ]
  },
  {
   "cell_type": "code",
   "execution_count": 17,
   "metadata": {},
   "outputs": [],
   "source": [
    "import pandas as pd\n",
    "import os\n",
    "\n",
    "# Encontra diretorio atual\n",
    "atual_dir = os.getcwd()\n",
    "\n",
    "# Acessa arquivo pkl das noticias\n",
    "parent_dir = os.path.split(atual_dir)\n",
    "\n",
    "parent_dir = os.path.split(parent_dir[0])\n",
    "\n",
    "parent_dir = os.path.split(parent_dir[0])\n",
    "\n",
    "caminho_pkl = os.path.join(parent_dir[0], \"Pre-processamento\\\\noticias_pre_processadas_df.pkl\")\n",
    "\n",
    "# Carregar dataframe salvo em formato pickle\n",
    "df = pd.read_pickle(caminho_pkl)\n",
    "\n",
    "# Total de classes\n",
    "classes = df['label'].nunique()\n"
   ]
  },
  {
   "cell_type": "code",
   "execution_count": 18,
   "metadata": {},
   "outputs": [
    {
     "data": {
      "image/png": "[encoded data removed]",
      "text/plain": [
       "<Figure size 1500x1000 with 2 Axes>"
      ]
     },
     "metadata": {},
     "output_type": "display_data"
    }
   ],
   "source": [
    "import matplotlib.pyplot as plt\n",
    "\n",
    "# Define o tamanho da figura\n",
    "plt.figure(figsize=(15, 10))\n",
    "\n",
    "# Define mapa de cores\n",
    "cmap = plt.cm.Blues\n",
    "\n",
    "# Plota matriz de confusão\n",
    "plt.imshow(conf_mat, cmap=cmap)\n",
    "plt.colorbar()\n",
    "\n",
    "# Adiciona labels a matriz\n",
    "plt.xticks([int(i) for i in range(2)], [str(i) for i in range(2)])\n",
    "plt.yticks([int(i) for i in range(2)], [str(i) for i in range(2)])\n",
    "\n",
    "for i in range(classes):\n",
    "    for j in range(classes):\n",
    "        plt.text(j, i, str(conf_mat[i, j]), ha='center', va='center', color='white' if conf_mat[i, j] > len(y_true_labels)/ classes else 'black')\n",
    "\n",
    "# Adiciona rótulos dos eixos\n",
    "plt.xlabel('Classe Prevista')\n",
    "plt.ylabel('Classe Verdadeira')\n",
    "\n",
    "# Mostra o plot\n",
    "plt.show()"
   ]
  },
  {
   "cell_type": "code",
   "execution_count": 19,
   "metadata": {},
   "outputs": [
    {
     "name": "stdout",
     "output_type": "stream",
     "text": [
      "Classe '0': Precisão=0.5367, Recall=1.0000, F1-Score=0.6985\n",
      "Classe '1': Precisão=1.0000, Recall=0.1123, F1-Score=0.2019\n",
      "F1-Score médio: 0.4502\n"
     ]
    }
   ],
   "source": [
    "import numpy as np\n",
    "from sklearn.metrics import precision_score, recall_score, f1_score\n",
    "\n",
    "# Calcula precisão, recall e f1-score para cada classe\n",
    "precisions = []\n",
    "recalls = []\n",
    "f1_scores = []\n",
    "for i in range(classes):\n",
    "    precision = precision_score(y_true=y_true_labels == i, y_pred=y_pred_labels == i, zero_division=0)\n",
    "    recall = recall_score(y_true=y_true_labels == i, y_pred=y_pred_labels == i, zero_division=0)\n",
    "    f1 = f1_score(y_true=y_true_labels == i, y_pred=y_pred_labels == i, zero_division=0)\n",
    "    precisions.append(precision)\n",
    "    recalls.append(recall)\n",
    "    f1_scores.append(f1)\n",
    "    \n",
    "# Printa resultados\n",
    "for i in range(classes):\n",
    "    print(f\"Classe '{i}': Precisão={precisions[i]:.4f}, Recall={recalls[i]:.4f}, F1-Score={f1_scores[i]:.4f}\")\n",
    "\n",
    "# Calcula e printa a média dos f1-scores\n",
    "f1_average = np.mean(f1_scores)\n",
    "print(f\"F1-Score médio: {f1_average:.4f}\")"
   ]
  }
 ],
 "metadata": {
  "kernelspec": {
   "display_name": ".venv",
   "language": "python",
   "name": "python3"
  },
  "language_info": {
   "codemirror_mode": {
    "name": "ipython",
    "version": 3
   },
   "file_extension": ".py",
   "mimetype": "text/x-python",
   "name": "python",
   "nbconvert_exporter": "python",
   "pygments_lexer": "ipython3",
   "version": "3.10.0"
  }
 },
 "nbformat": 4,
 "nbformat_minor": 2
}
