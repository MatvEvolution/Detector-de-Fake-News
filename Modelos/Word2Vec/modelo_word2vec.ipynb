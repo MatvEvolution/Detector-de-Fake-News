{
 "cells": [
  {
   "cell_type": "code",
   "execution_count": 4,
   "metadata": {},
   "outputs": [],
   "source": [
    "import pandas as pd\n",
    "import os\n",
    "\n",
    "# Get the current working directory\n",
    "script_dir = os.getcwd()\n",
    "\n",
    "# Navigate up one level to the parent directory\n",
    "parent_dir = os.path.dirname(script_dir)\n",
    "\n",
    "# Construct the path to noticias_pre_processadas.csv\n",
    "caminho_csv = os.path.join(parent_dir, \"noticias_pre_processadas.csv\")\n",
    "\n",
    "# Read the CSV file into a DataFrame\n",
    "df = pd.read_csv(caminho_csv)\n"
   ]
  },
  {
   "cell_type": "code",
   "execution_count": 5,
   "metadata": {},
   "outputs": [
    {
     "data": {
      "text/html": [
       "<div>\n",
       "<style scoped>\n",
       "    .dataframe tbody tr th:only-of-type {\n",
       "        vertical-align: middle;\n",
       "    }\n",
       "\n",
       "    .dataframe tbody tr th {\n",
       "        vertical-align: top;\n",
       "    }\n",
       "\n",
       "    .dataframe thead th {\n",
       "        text-align: right;\n",
       "    }\n",
       "</style>\n",
       "<table border=\"1\" class=\"dataframe\">\n",
       "  <thead>\n",
       "    <tr style=\"text-align: right;\">\n",
       "      <th></th>\n",
       "      <th>Texto</th>\n",
       "      <th>Categoria</th>\n",
       "    </tr>\n",
       "  </thead>\n",
       "  <tbody>\n",
       "    <tr>\n",
       "      <th>0</th>\n",
       "      <td>O Podemos decidiu expulsar o deputado federal ...</td>\n",
       "      <td>true</td>\n",
       "    </tr>\n",
       "    <tr>\n",
       "      <th>1</th>\n",
       "      <td>Bolsonaro é um liberal completo, diz president...</td>\n",
       "      <td>true</td>\n",
       "    </tr>\n",
       "    <tr>\n",
       "      <th>2</th>\n",
       "      <td>Ministro do STF libera Andrea Neves de prisão ...</td>\n",
       "      <td>true</td>\n",
       "    </tr>\n",
       "    <tr>\n",
       "      <th>3</th>\n",
       "      <td>Apesar da abundância, cresce preocupação com p...</td>\n",
       "      <td>true</td>\n",
       "    </tr>\n",
       "    <tr>\n",
       "      <th>4</th>\n",
       "      <td>Por que Harvard e MIT levarão Dilma, Moro e Su...</td>\n",
       "      <td>true</td>\n",
       "    </tr>\n",
       "  </tbody>\n",
       "</table>\n",
       "</div>"
      ],
      "text/plain": [
       "                                               Texto Categoria\n",
       "0  O Podemos decidiu expulsar o deputado federal ...      true\n",
       "1  Bolsonaro é um liberal completo, diz president...      true\n",
       "2  Ministro do STF libera Andrea Neves de prisão ...      true\n",
       "3  Apesar da abundância, cresce preocupação com p...      true\n",
       "4  Por que Harvard e MIT levarão Dilma, Moro e Su...      true"
      ]
     },
     "execution_count": 5,
     "metadata": {},
     "output_type": "execute_result"
    }
   ],
   "source": [
    "df.head()"
   ]
  },
  {
   "cell_type": "code",
   "execution_count": 6,
   "metadata": {},
   "outputs": [],
   "source": [
    "from sklearn.preprocessing import LabelEncoder\n",
    "\n",
    "le = LabelEncoder()\n",
    "\n",
    "df['label'] = le.fit_transform(df['Categoria'])"
   ]
  },
  {
   "cell_type": "code",
   "execution_count": 7,
   "metadata": {},
   "outputs": [
    {
     "data": {
      "text/plain": [
       "(array(['true', 'fake'], dtype=object), array([1, 0]))"
      ]
     },
     "execution_count": 7,
     "metadata": {},
     "output_type": "execute_result"
    }
   ],
   "source": [
    "df['Categoria'].unique(), df['label'].unique()"
   ]
  },
  {
   "cell_type": "code",
   "execution_count": 8,
   "metadata": {},
   "outputs": [
    {
     "data": {
      "text/html": [
       "<div>\n",
       "<style scoped>\n",
       "    .dataframe tbody tr th:only-of-type {\n",
       "        vertical-align: middle;\n",
       "    }\n",
       "\n",
       "    .dataframe tbody tr th {\n",
       "        vertical-align: top;\n",
       "    }\n",
       "\n",
       "    .dataframe thead th {\n",
       "        text-align: right;\n",
       "    }\n",
       "</style>\n",
       "<table border=\"1\" class=\"dataframe\">\n",
       "  <thead>\n",
       "    <tr style=\"text-align: right;\">\n",
       "      <th></th>\n",
       "      <th>Texto</th>\n",
       "      <th>label</th>\n",
       "    </tr>\n",
       "  </thead>\n",
       "  <tbody>\n",
       "    <tr>\n",
       "      <th>0</th>\n",
       "      <td>O Podemos decidiu expulsar o deputado federal ...</td>\n",
       "      <td>1</td>\n",
       "    </tr>\n",
       "    <tr>\n",
       "      <th>1</th>\n",
       "      <td>Bolsonaro é um liberal completo, diz president...</td>\n",
       "      <td>1</td>\n",
       "    </tr>\n",
       "    <tr>\n",
       "      <th>2</th>\n",
       "      <td>Ministro do STF libera Andrea Neves de prisão ...</td>\n",
       "      <td>1</td>\n",
       "    </tr>\n",
       "    <tr>\n",
       "      <th>3</th>\n",
       "      <td>Apesar da abundância, cresce preocupação com p...</td>\n",
       "      <td>1</td>\n",
       "    </tr>\n",
       "    <tr>\n",
       "      <th>4</th>\n",
       "      <td>Por que Harvard e MIT levarão Dilma, Moro e Su...</td>\n",
       "      <td>1</td>\n",
       "    </tr>\n",
       "  </tbody>\n",
       "</table>\n",
       "</div>"
      ],
      "text/plain": [
       "                                               Texto  label\n",
       "0  O Podemos decidiu expulsar o deputado federal ...      1\n",
       "1  Bolsonaro é um liberal completo, diz president...      1\n",
       "2  Ministro do STF libera Andrea Neves de prisão ...      1\n",
       "3  Apesar da abundância, cresce preocupação com p...      1\n",
       "4  Por que Harvard e MIT levarão Dilma, Moro e Su...      1"
      ]
     },
     "execution_count": 8,
     "metadata": {},
     "output_type": "execute_result"
    }
   ],
   "source": [
    "df.drop(df.columns[1], axis=1, inplace=True)\n",
    "df.head()"
   ]
  },
  {
   "cell_type": "code",
   "execution_count": 9,
   "metadata": {},
   "outputs": [
    {
     "data": {
      "image/png": "[encoded data removed]",
      "text/plain": [
       "<Figure size 1200x600 with 1 Axes>"
      ]
     },
     "metadata": {},
     "output_type": "display_data"
    }
   ],
   "source": [
    "import matplotlib.pyplot as plt\n",
    "\n",
    "category_counts = df['label'].value_counts()\n",
    "\n",
    "plt.figure(figsize=(12,6))\n",
    "category_counts.plot(kind='bar')\n",
    "plt.xlabel('Categoria')\n",
    "plt.ylabel('Número de notícias')\n",
    "plt.title('Distribuição de Categorias no Dataset')\n",
    "plt.show()"
   ]
  },
  {
   "cell_type": "code",
   "execution_count": 10,
   "metadata": {},
   "outputs": [],
   "source": [
    "import string\n",
    "import spacy\n",
    "import unicodedata\n",
    "from tqdm import tqdm\n",
    "import numpy as np\n",
    "\n",
    "# Habilita suporte do tqdm para os métodos de progressão do pandas (como progress_aplly)\n",
    "tqdm.pandas()\n",
    "\n",
    "# Carrega modelo de linguagem 'pt_core_news_lg' do spacy para processamento de texto em português\n",
    "# Desabilita os componentes 'parser' e 'ner', já que não são necessários para a lematização\n",
    "spacy_nlp_model = spacy.load(\"pt_core_news_lg\", disable=[\"parser\", \"ner\"])\n",
    "\n",
    "def preprocess_data(df, text_column):\n",
    "    \"\"\"\n",
    "    Realiza o pré-processamento dos dados de um texto em um Dataframe do Pandas.\n",
    "    Remove pontuação, números e palavras comuns (stop words), converte para minúsculas, remove \n",
    "    acentos e símbolos diversos, e aplica lematização.\n",
    "    \"\"\"\n",
    "\n",
    "    # Cria tabela de tradução que mapeia cada caractere de pontuação do módulo 'string.ponctuation'\n",
    "    # para 'None' (ou seja, remove-os do texto).\n",
    "    print(\"Removendo pontuação...\")\n",
    "    translator = str.maketrans('', '', string.punctuation)\n",
    "    df[text_column] = df[text_column].progress_apply(lambda x: x.translate(translator))\n",
    "\n",
    "    print(\"Removendo números...\")\n",
    "    translator = str.maketrans('', '', string.digits)\n",
    "    df[text_column] = df[text_column].progress_apply(lambda x: x.translate(translator))\n",
    "\n",
    "    print(\"Removendo acentos e símbolos diversos...\")\n",
    "    def remove_accents_and_symbols(text):\n",
    "        try:\n",
    "            # Normaliza a string para a forma NFKD e mantém apenas caracteres que não são diacríticos\n",
    "            # nem combinam caracteres com diacríticos\n",
    "            return ''.join(c for c in unicodedata.normalize('NFKD', text) if not unicodedata.combining(c) and unicodedata.category(c) != 'Mn')\n",
    "        except TypeError:\n",
    "            # Se não for possível normalizar um caractere, retorna uma string vazia\n",
    "            return ''\n",
    "        # Aplica a função 'remove_accents_and_symbols' na coluna 'text_column'\n",
    "    df[text_column] = df[text_column].progress_apply(lambda x: remove_accents_and_symbols(x))\n",
    "    \n",
    "    print(\"Convertendo para minúsculas...\")\n",
    "    df[text_column] = df[text_column].progress_apply(lambda x: x.lower())\n",
    "\n",
    "    print(\"Computando Lematização...\")\n",
    "    def lemmatize_text(doc):\n",
    "        return [token.lemma_ for token in doc if not token.is_stop]\n",
    "\n",
    "    n_chunks = 10  # Ajuste esse valor de acordo com o tamanho da base de dados e a memória disponível no sistema\n",
    "    chunks = np.array_split(df, n_chunks) # Divide o dataframe em várias partes\n",
    "\n",
    "    processed_chunks = []\n",
    "    for i, chunk in enumerate(chunks):\n",
    "        print(f\"Processando segmento {i + 1} de {n_chunks}\")\n",
    "        processed_chunk = chunk.copy() # Cria uma cópia para realizar o processamento\n",
    "        \n",
    "        #  Aplica a função 'lemmatize_text' a cada documento processado pelo spaCy (usando 'spacy_nlp_model.pipe') e\n",
    "        # atribui os resultados (uma lista de palavras lematizadas) à coluna 'text_column' do DataFrame 'processed_chunk'.\n",
    "        # O tqdm é utilizado para exibir uma barra de progresso durante o processamento dos documentos.\n",
    "        processed_chunk[text_column] = [lemmatize_text(doc) for doc in tqdm(spacy_nlp_model.pipe(chunk[text_column].astype(str), batch_size=100, disable=['parser', 'ner']), total=len(chunk[text_column]))]\n",
    "\n",
    "        # Junta as partes em uma lista, para formar o dataframe final\n",
    "        processed_chunks.append(processed_chunk)\n",
    "\n",
    "    concatenated_df = pd.concat(processed_chunks) # Concatenar os DataFrames processados\n",
    "    df[text_column] = concatenated_df[text_column] # Atribuir a coluna 'data' processada de volta ao dataframe original\n",
    "    \n",
    "    print(\"Remover tokens com espaços vazios...\")\n",
    "    df['Texto'] = df['Texto'].progress_apply(lambda x: [token for token in x if token.strip()])"
   ]
  },
  {
   "cell_type": "code",
   "execution_count": 11,
   "metadata": {},
   "outputs": [
    {
     "name": "stdout",
     "output_type": "stream",
     "text": [
      "Removendo pontuação...\n"
     ]
    },
    {
     "name": "stderr",
     "output_type": "stream",
     "text": [
      "100%|██████████| 7199/7199 [00:01<00:00, 3839.43it/s]\n"
     ]
    },
    {
     "name": "stdout",
     "output_type": "stream",
     "text": [
      "Removendo números...\n"
     ]
    },
    {
     "name": "stderr",
     "output_type": "stream",
     "text": [
      "100%|██████████| 7199/7199 [00:01<00:00, 4185.46it/s]\n"
     ]
    },
    {
     "name": "stdout",
     "output_type": "stream",
     "text": [
      "Removendo acentos e símbolos diversos...\n"
     ]
    },
    {
     "name": "stderr",
     "output_type": "stream",
     "text": [
      "100%|██████████| 7199/7199 [00:05<00:00, 1208.90it/s]\n"
     ]
    },
    {
     "name": "stdout",
     "output_type": "stream",
     "text": [
      "Convertendo para minúsculas...\n"
     ]
    },
    {
     "name": "stderr",
     "output_type": "stream",
     "text": [
      "100%|██████████| 7199/7199 [00:00<00:00, 53740.78it/s]\n",
      "c:\\Users\\mathe\\OneDrive\\Área de Trabalho\\TCC\\Detector-de-Fake-News\\.venv\\lib\\site-packages\\numpy\\core\\fromnumeric.py:59: FutureWarning: 'DataFrame.swapaxes' is deprecated and will be removed in a future version. Please use 'DataFrame.transpose' instead.\n",
      "  return bound(*args, **kwds)\n"
     ]
    },
    {
     "name": "stdout",
     "output_type": "stream",
     "text": [
      "Computando Lematização...\n",
      "Processando segmento 1 de 10\n"
     ]
    },
    {
     "name": "stderr",
     "output_type": "stream",
     "text": [
      "100%|██████████| 720/720 [00:54<00:00, 13.32it/s]\n"
     ]
    },
    {
     "name": "stdout",
     "output_type": "stream",
     "text": [
      "Processando segmento 2 de 10\n"
     ]
    },
    {
     "name": "stderr",
     "output_type": "stream",
     "text": [
      "100%|██████████| 720/720 [00:37<00:00, 19.12it/s]\n"
     ]
    },
    {
     "name": "stdout",
     "output_type": "stream",
     "text": [
      "Processando segmento 3 de 10\n"
     ]
    },
    {
     "name": "stderr",
     "output_type": "stream",
     "text": [
      "100%|██████████| 720/720 [00:35<00:00, 20.13it/s]\n"
     ]
    },
    {
     "name": "stdout",
     "output_type": "stream",
     "text": [
      "Processando segmento 4 de 10\n"
     ]
    },
    {
     "name": "stderr",
     "output_type": "stream",
     "text": [
      "100%|██████████| 720/720 [00:39<00:00, 18.24it/s]\n"
     ]
    },
    {
     "name": "stdout",
     "output_type": "stream",
     "text": [
      "Processando segmento 5 de 10\n"
     ]
    },
    {
     "name": "stderr",
     "output_type": "stream",
     "text": [
      "100%|██████████| 720/720 [00:46<00:00, 15.55it/s]\n"
     ]
    },
    {
     "name": "stdout",
     "output_type": "stream",
     "text": [
      "Processando segmento 6 de 10\n"
     ]
    },
    {
     "name": "stderr",
     "output_type": "stream",
     "text": [
      "100%|██████████| 720/720 [00:06<00:00, 109.87it/s]\n"
     ]
    },
    {
     "name": "stdout",
     "output_type": "stream",
     "text": [
      "Processando segmento 7 de 10\n"
     ]
    },
    {
     "name": "stderr",
     "output_type": "stream",
     "text": [
      "100%|██████████| 720/720 [00:05<00:00, 129.50it/s]\n"
     ]
    },
    {
     "name": "stdout",
     "output_type": "stream",
     "text": [
      "Processando segmento 8 de 10\n"
     ]
    },
    {
     "name": "stderr",
     "output_type": "stream",
     "text": [
      "100%|██████████| 720/720 [00:06<00:00, 116.67it/s]\n"
     ]
    },
    {
     "name": "stdout",
     "output_type": "stream",
     "text": [
      "Processando segmento 9 de 10\n"
     ]
    },
    {
     "name": "stderr",
     "output_type": "stream",
     "text": [
      "100%|██████████| 720/720 [00:06<00:00, 109.76it/s]\n"
     ]
    },
    {
     "name": "stdout",
     "output_type": "stream",
     "text": [
      "Processando segmento 10 de 10\n"
     ]
    },
    {
     "name": "stderr",
     "output_type": "stream",
     "text": [
      "100%|██████████| 719/719 [00:07<00:00, 90.73it/s] \n"
     ]
    },
    {
     "name": "stdout",
     "output_type": "stream",
     "text": [
      "Remover tokens com espaços vazios...\n"
     ]
    },
    {
     "name": "stderr",
     "output_type": "stream",
     "text": [
      "100%|██████████| 7199/7199 [00:00<00:00, 18225.22it/s]\n"
     ]
    }
   ],
   "source": [
    "preprocess_data(df, 'Texto') # Realiza o pré-processamento"
   ]
  },
  {
   "cell_type": "code",
   "execution_count": 12,
   "metadata": {},
   "outputs": [],
   "source": [
    "# Salvar em formato pickle\n",
    "df.to_pickle(\"ge_df.pkl\")"
   ]
  },
  {
   "cell_type": "code",
   "execution_count": 13,
   "metadata": {},
   "outputs": [
    {
     "data": {
      "text/plain": [
       "0       [poder, decidir, expulsar, deputado, federal, ...\n",
       "1       [bolsonaro, liberal, completo, presidente, psl...\n",
       "2       [ministro, stf, liberar, Andrea, Neves, prisao...\n",
       "3       [apesar, abundancia, crescer, preocupacao, pre...\n",
       "4       [harvard, mit, levarao, dilma, moro, suplicy, ...\n",
       "                              ...                        \n",
       "7194    [ft, julgamento, populista, usar, dinheiro, pu...\n",
       "7195    [nota, fiscal, emitir, petrobra, mostrar, gaso...\n",
       "7196    [estao, estancar, sangria, lavajato, nariz, le...\n",
       "7197    [rj, cidadao, finger, possuido, pomba, giro, e...\n",
       "7198    [autor, bestseller, citar, expressoes, indicar...\n",
       "Name: Texto, Length: 7199, dtype: object"
      ]
     },
     "execution_count": 13,
     "metadata": {},
     "output_type": "execute_result"
    }
   ],
   "source": [
    "df['Texto']"
   ]
  },
  {
   "cell_type": "code",
   "execution_count": 14,
   "metadata": {},
   "outputs": [],
   "source": [
    "import pandas as pd\n",
    "\n",
    "# Carregar dataframe salvo em formato pickle\n",
    "df = pd.read_pickle(\"ge_df.pkl\")"
   ]
  },
  {
   "cell_type": "code",
   "execution_count": 15,
   "metadata": {},
   "outputs": [],
   "source": [
    "# Importar a classe Word2Vec da biblioteca gensim, que permite criar e treinar modelos de incorporação de palavras (word embeddings) usando o algoritmo Word2Vec\n",
    "from gensim.models import Word2Vec\n",
    "\n",
    "# Importar a classe CallbackAny2Vec da biblioteca gensim, que fornece uma base para criar funções de retorno de chamada (callbacks) personalizadas \n",
    "# durante o treinamento de modelos Word2Vec (ou outros modelos baseados em Any2Vec)\n",
    "from gensim.models.callbacks import CallbackAny2Vec"
   ]
  },
  {
   "cell_type": "code",
   "execution_count": 16,
   "metadata": {},
   "outputs": [],
   "source": [
    "class SimpleTextCallback(CallbackAny2Vec):\n",
    "    def __init__(self, total_epochs):\n",
    "        self.epoch = 0  # Inicializa o contador de épocas\n",
    "        self.total_epochs = total_epochs  # Armazena o número total de épocas para exibição\n",
    "\n",
    "    def on_epoch_end(self, model):\n",
    "        self.epoch += 1  # Incrementa o contador de épocas\n",
    "        print(f\"Época {self.epoch} de {self.total_epochs}...\") # Imprime uma mensagem informando o número da época atual e o total de épocas"
   ]
  },
  {
   "cell_type": "code",
   "execution_count": 17,
   "metadata": {},
   "outputs": [],
   "source": [
    "# Converte a coluna 'Texto' do DataFrame em uma lista e armazena na variável preprocessed_articles, para ser usada no word2vec\n",
    "preprocessed_articles = df['Texto'].tolist()"
   ]
  },
  {
   "cell_type": "code",
   "execution_count": 18,
   "metadata": {},
   "outputs": [
    {
     "name": "stdout",
     "output_type": "stream",
     "text": [
      "Época 1 de 10...\n",
      "Época 2 de 10...\n",
      "Época 3 de 10...\n",
      "Época 4 de 10...\n",
      "Época 5 de 10...\n",
      "Época 6 de 10...\n",
      "Época 7 de 10...\n",
      "Época 8 de 10...\n",
      "Época 9 de 10...\n",
      "Época 10 de 10...\n"
     ]
    },
    {
     "data": {
      "text/plain": [
       "(23702896, 24509080)"
      ]
     },
     "execution_count": 18,
     "metadata": {},
     "output_type": "execute_result"
    }
   ],
   "source": [
    "# Instancia o modelo Word2Vec com os seguintes parâmetros:\n",
    "# vector_size=100: Dimensão do vetor de palavras gerado\n",
    "# window=5: Tamanho da janela de contexto ao redor de cada palavra\n",
    "# min_count=1: Ignora palavras com frequência total menor que 1\n",
    "# workers=4: Número de threads a serem usadas para treinar o modelo\n",
    "word2vec_model = Word2Vec(vector_size=100, window=5, min_count=1, workers=4) #Se adicionar sg=0, muda pra CBOW\n",
    "\n",
    "# Constrói o vocabulário com base nos artigos pré-processados\n",
    "word2vec_model.build_vocab(preprocessed_articles)\n",
    "\n",
    "# Define o número total de épocas para o treinamento do modelo\n",
    "total_epochs = 10\n",
    "\n",
    "# Instancia o callback que exibe o progresso do treinamento após cada época\n",
    "callback = SimpleTextCallback(total_epochs)\n",
    "\n",
    "# Treina o modelo Word2Vec nos artigos pré-processados, utilizando o número total de exemplos e épocas definidos\n",
    "word2vec_model.train(preprocessed_articles, total_examples=word2vec_model.corpus_count, \n",
    "                     epochs=total_epochs, callbacks=[callback])"
   ]
  },
  {
   "cell_type": "code",
   "execution_count": 19,
   "metadata": {},
   "outputs": [],
   "source": [
    "# Salva o modelo Word2Vec para um arquivo\n",
    "word2vec_model.save(\"word2vec_model.model\")"
   ]
  },
  {
   "cell_type": "code",
   "execution_count": 20,
   "metadata": {},
   "outputs": [],
   "source": [
    "from gensim.models import Word2Vec\n",
    "\n",
    "# Carrega o modelo Word2Vec para um arquivo\n",
    "word2vec_model = Word2Vec.load(\"word2vec_model.model\")"
   ]
  },
  {
   "cell_type": "code",
   "execution_count": 21,
   "metadata": {},
   "outputs": [
    {
     "data": {
      "text/plain": [
       "[('Governo', 0.6138079762458801),\n",
       " ('gestoes', 0.5120207667350769),\n",
       " ('aliado', 0.5054607391357422),\n",
       " ('gestao', 0.5042011737823486),\n",
       " ('intervencao', 0.4788777530193329),\n",
       " ('orcamento', 0.4757874011993408),\n",
       " ('aprovacao', 0.46792224049568176),\n",
       " ('planalto', 0.45556697249412537),\n",
       " ('estatal', 0.45170384645462036),\n",
       " ('economica', 0.4440408945083618)]"
      ]
     },
     "execution_count": 21,
     "metadata": {},
     "output_type": "execute_result"
    }
   ],
   "source": [
    "# Encontra palavras mais similares de acordo com a palavra alvo\n",
    "word2vec_model.wv.most_similar('governo')"
   ]
  },
  {
   "cell_type": "code",
   "execution_count": 22,
   "metadata": {},
   "outputs": [],
   "source": [
    "# Cria dois dicionários para mapear as palavras aos seus respectivos índices e vice-versa.\n",
    "# Isso é feito para facilitar a conversão entre palavras e índices durante a criação de sequências\n",
    "# numéricas que representam os textos. Essas sequências numéricas serão usadas como entrada para\n",
    "# modelos de aprendizado de máquina, como redes neurais.\n",
    "# Exemplo: \n",
    "# Suponha que o vocabulário seja ['casa', 'carro', 'jardim'], então os dicionários serão:\n",
    "# word_to_index = {'casa': 1, 'carro': 2, 'jardim': 3}\n",
    "# index_to_word = {1: 'casa', 2: 'carro', 3: 'jardim'}\n",
    "\n",
    "# 'word_to_index' é um dicionário que mapeia cada palavra ao seu índice correspondente.\n",
    "word_to_index = {}\n",
    "\n",
    "# 'index_to_word' é um dicionário que mapeia cada índice à palavra correspondente.\n",
    "index_to_word = {}\n",
    "\n",
    "# Itera sobre a lista de palavras únicas obtida do modelo Word2Vec\n",
    "for i, word in enumerate(word2vec_model.wv.index_to_key):\n",
    "    # Atribui a palavra ao índice i + 1 no dicionário 'word_to_index'.\n",
    "    # Os índices começam em 1 para reservar o índice 0 para preenchimento (padding) quando necessário.\n",
    "    word_to_index[word] = i + 1\n",
    "    \n",
    "    # Atribui o índice i + 1 à palavra no dicionário 'index_to_word'.\n",
    "    index_to_word[i + 1] = word"
   ]
  },
  {
   "cell_type": "code",
   "execution_count": 23,
   "metadata": {},
   "outputs": [
    {
     "name": "stderr",
     "output_type": "stream",
     "text": [
      "100%|██████████| 7199/7199 [00:01<00:00, 5102.14it/s]\n"
     ]
    }
   ],
   "source": [
    "from tqdm import tqdm\n",
    "\n",
    "# 'sequences' é uma lista que armazenará as sequências numéricas correspondentes aos artigos pré-processados.\n",
    "sequences = []\n",
    "\n",
    "# Itera sobre os artigos pré-processados.\n",
    "for tokens in tqdm(preprocessed_articles):\n",
    "    # 'sequence' é uma lista temporária que armazenará a sequência numérica para o artigo atual.\n",
    "    sequence = []\n",
    "    \n",
    "    # Itera sobre os tokens (palavras) no artigo atual.\n",
    "    for token in tokens:\n",
    "        # Verifica se o token atual está presente no dicionário 'word_to_index'.\n",
    "        if token in word_to_index:\n",
    "            # Se o token estiver presente, adiciona o índice correspondente à lista 'sequence'.\n",
    "            sequence.append(word_to_index[token])\n",
    "    \n",
    "    # Após processar todos os tokens do artigo atual, adiciona a sequência numérica completa à lista 'sequences'.\n",
    "    sequences.append(sequence)"
   ]
  },
  {
   "cell_type": "code",
   "execution_count": 24,
   "metadata": {},
   "outputs": [
    {
     "name": "stdout",
     "output_type": "stream",
     "text": [
      "poder decidir expulsar deputado federal Carlos gaguim partido Apos policia federal busca apreensoes gabinete de ele Camara legenda abrir espaco receber senadora expulsar pmdb katia abreu nota legenda informar afastamento parlamentar ja acordar filiado sigla “ parlamentar ter comunicar conclusao desfiliacao semana fato noticiar hoje executiva nacional poder solicitar imediato cancelamento filiacao quadro partido ” partido passado chegar cogitar lancar parlamentar candidato senado “ investigacao amplo apuracao eventual crime cometir consequente responsabilizacao envolvido ser puner maximo rigor lei independentemente posicao cargo ocupar ”\n"
     ]
    }
   ],
   "source": [
    "# Utiliza uma compreensão de lista para converter a sequência numérica do primeiro artigo em uma lista de palavras.\n",
    "# Para cada índice 'i' na sequência numérica 'sequences[0]', obtém a palavra correspondente no dicionário 'index_to_word'.\n",
    "# A compreensão de lista retorna uma lista de palavras.\n",
    "word_list = [index_to_word[i] for i in sequences[0]]\n",
    "\n",
    "# Usa o método 'join()' para combinar as palavras da lista 'word_list' em uma única string.\n",
    "# As palavras são separadas por um espaço em branco.\n",
    "text = \" \".join(word_list)\n",
    "\n",
    "# Imprime o texto reconstruído a partir da sequência numérica.\n",
    "print(text)"
   ]
  },
  {
   "cell_type": "code",
   "execution_count": 25,
   "metadata": {},
   "outputs": [
    {
     "name": "stdout",
     "output_type": "stream",
     "text": [
      "Mean sequence length:  340.45117377413527\n",
      "Maximum sequence length:  3835\n"
     ]
    }
   ],
   "source": [
    "import numpy as np\n",
    "\n",
    "# Calcula o comprimento de cada sequência em 'sequences' e armazena os resultados na lista 'sequence_lengths'\n",
    "sequence_lengths = [len(seq) for seq in sequences]\n",
    "\n",
    "# Calcula a média dos comprimentos das sequências usando a função 'mean' do numpy\n",
    "mean_length = np.mean(sequence_lengths)\n",
    "\n",
    "# Obtém o comprimento máximo das sequências usando a função 'max' do Python\n",
    "max_length = max(sequence_lengths)\n",
    "\n",
    "# Imprime a média e o comprimento máximo das sequências\n",
    "print(\"Mean sequence length: \", mean_length)\n",
    "print(\"Maximum sequence length: \", max_length)"
   ]
  },
  {
   "cell_type": "code",
   "execution_count": 26,
   "metadata": {},
   "outputs": [],
   "source": [
    "import numpy as np\n",
    "from tensorflow.keras.preprocessing.sequence import pad_sequences\n",
    "\n",
    "# Calcula o percentil 95 dos comprimentos das sequências (preserva 95% das sequências)\n",
    "max_length = int(np.percentile(sequence_lengths, 95))\n",
    "\n",
    "# Realiza o preenchimento das sequências com base no novo 'max_length'\n",
    "padded_sequences = pad_sequences(sequences, maxlen=max_length, padding='post')"
   ]
  },
  {
   "cell_type": "code",
   "execution_count": 27,
   "metadata": {},
   "outputs": [
    {
     "data": {
      "text/plain": [
       "2"
      ]
     },
     "execution_count": 27,
     "metadata": {},
     "output_type": "execute_result"
    }
   ],
   "source": [
    "df['label'].nunique() # Retorna o número de categorias únicas (classes) presentes na coluna 'label'"
   ]
  },
  {
   "cell_type": "code",
   "execution_count": 28,
   "metadata": {},
   "outputs": [],
   "source": [
    "import tensorflow.keras.utils as ku\n",
    "\n",
    "# Converte rótulos para one-hot encoding\n",
    "num_classes = df['label'].nunique()\n",
    "labels = ku.to_categorical(df['label'], num_classes)"
   ]
  },
  {
   "cell_type": "code",
   "execution_count": 29,
   "metadata": {},
   "outputs": [
    {
     "data": {
      "text/plain": [
       "array([[0., 1.],\n",
       "       [0., 1.],\n",
       "       [0., 1.],\n",
       "       ...,\n",
       "       [1., 0.],\n",
       "       [1., 0.],\n",
       "       [1., 0.]], dtype=float32)"
      ]
     },
     "execution_count": 29,
     "metadata": {},
     "output_type": "execute_result"
    }
   ],
   "source": [
    "labels"
   ]
  },
  {
   "cell_type": "code",
   "execution_count": 30,
   "metadata": {},
   "outputs": [],
   "source": [
    "from sklearn.model_selection import train_test_split\n",
    "\n",
    "# Divida os dados em um conjunto de treino (70%) e um conjunto temporário (30%)\n",
    "X_train, X_temp, y_train, y_temp = train_test_split(padded_sequences, labels, test_size=0.3)\n",
    "\n",
    "# Divida o conjunto temporário em conjuntos de validação (15%) e teste (15%)\n",
    "X_val, X_test, y_val, y_test = train_test_split(X_temp, y_temp, test_size=0.5)  # 0.5 * 0.3 = 0.15"
   ]
  },
  {
   "cell_type": "code",
   "execution_count": 31,
   "metadata": {},
   "outputs": [
    {
     "name": "stdout",
     "output_type": "stream",
     "text": [
      "Num GPUs:  1\n"
     ]
    }
   ],
   "source": [
    "# Treinamento da BiLSTM\n",
    "import tensorflow as tf\n",
    "print(\"Num GPUs: \", len(tf.config.list_physical_devices('GPU')))"
   ]
  },
  {
   "cell_type": "code",
   "execution_count": 32,
   "metadata": {},
   "outputs": [
    {
     "name": "stdout",
     "output_type": "stream",
     "text": [
      "Epoch 1/40\n",
      "79/79 [==============================] - 103s 730ms/step - loss: 0.9831 - accuracy: 0.7638 - val_loss: 0.4646 - val_accuracy: 0.9037\n",
      "Epoch 2/40\n",
      "79/79 [==============================] - 55s 703ms/step - loss: 0.2628 - accuracy: 0.9690 - val_loss: 0.3068 - val_accuracy: 0.9352\n",
      "Epoch 3/40\n",
      "79/79 [==============================] - 55s 690ms/step - loss: 0.1474 - accuracy: 0.9861 - val_loss: 0.2951 - val_accuracy: 0.9444\n",
      "Epoch 4/40\n",
      "79/79 [==============================] - 54s 681ms/step - loss: 0.1453 - accuracy: 0.9813 - val_loss: 0.2848 - val_accuracy: 0.9380\n",
      "Epoch 5/40\n",
      "79/79 [==============================] - 54s 681ms/step - loss: 0.0698 - accuracy: 0.9974 - val_loss: 0.2474 - val_accuracy: 0.9454\n",
      "Epoch 6/40\n",
      "79/79 [==============================] - 54s 680ms/step - loss: 0.0480 - accuracy: 0.9988 - val_loss: 0.2747 - val_accuracy: 0.9444\n",
      "Epoch 7/40\n",
      "79/79 [==============================] - 56s 713ms/step - loss: 0.0369 - accuracy: 0.9992 - val_loss: 0.2743 - val_accuracy: 0.9463\n",
      "Epoch 8/40\n",
      "79/79 [==============================] - 54s 686ms/step - loss: 0.0293 - accuracy: 0.9996 - val_loss: 0.3463 - val_accuracy: 0.9343\n",
      "Epoch 9/40\n",
      "79/79 [==============================] - 54s 686ms/step - loss: 0.0241 - accuracy: 0.9996 - val_loss: 0.3454 - val_accuracy: 0.9500\n",
      "Epoch 10/40\n",
      "79/79 [==============================] - 54s 687ms/step - loss: 0.0200 - accuracy: 0.9996 - val_loss: 0.3397 - val_accuracy: 0.9491\n"
     ]
    }
   ],
   "source": [
    "from tensorflow.keras.models import Sequential\n",
    "from tensorflow.keras.layers import Embedding, LSTM, Bidirectional, Dense, Dropout\n",
    "from tensorflow.keras.callbacks import EarlyStopping\n",
    "\n",
    "# Cria modelo BiLSTM\n",
    "model = Sequential()\n",
    "model.add(Embedding(input_dim=len(word2vec_model.wv.key_to_index) + 1, \n",
    "                    output_dim=word2vec_model.vector_size, input_length=max_length))\n",
    "model.add(Bidirectional(LSTM(units=128, return_sequences=True, \n",
    "                             kernel_regularizer=tf.keras.regularizers.l2(0.001))))\n",
    "model.add(Dropout(0.5))\n",
    "model.add(Bidirectional(LSTM(units=64, return_sequences=True, \n",
    "                             kernel_regularizer=tf.keras.regularizers.l2(0.001))))\n",
    "model.add(Dropout(0.5))\n",
    "model.add(Bidirectional(LSTM(units=32, kernel_regularizer=tf.keras.regularizers.l2(0.001))))\n",
    "model.add(Dense(units=len(labels[0]), activation='softmax'))\n",
    "\n",
    "# Chamada ao Early Stopping\n",
    "early_stopping = EarlyStopping(monitor='val_loss', patience=5)\n",
    "\n",
    "# Compila modelo\n",
    "model.compile(loss='categorical_crossentropy', optimizer='adam', metrics=['accuracy'])\n",
    "\n",
    "# Treina modelo\n",
    "history = model.fit(X_train, y_train, epochs=40, batch_size=64, validation_data=(X_val, y_val), callbacks=[early_stopping], verbose=1)"
   ]
  },
  {
   "cell_type": "code",
   "execution_count": 33,
   "metadata": {},
   "outputs": [
    {
     "data": {
      "image/png": "[encoded data removed]",
      "text/plain": [
       "<Figure size 640x480 with 1 Axes>"
      ]
     },
     "metadata": {},
     "output_type": "display_data"
    }
   ],
   "source": [
    "import matplotlib.pyplot as plt\n",
    "\n",
    "# Plota a perda (loss) e a perda de validação (val_loss) durante o treinamento\n",
    "plt.plot(history.history['loss'], label='Training Loss')\n",
    "plt.plot(history.history['val_loss'], label='Validation Loss')\n",
    "plt.title('Loss and Validation Loss')\n",
    "plt.xlabel('Epoch')\n",
    "plt.ylabel('Loss')\n",
    "plt.legend()\n",
    "plt.show()"
   ]
  },
  {
   "cell_type": "code",
   "execution_count": 34,
   "metadata": {},
   "outputs": [],
   "source": [
    "# Salva arquivos em discos que podemos carregar sem treinar a rede neural novamente\n",
    "model.save('ge_BiLSTM.h5')\n",
    "np.save(\"X_test_BiLSTM.npy\", X_test)\n",
    "np.save(\"y_test_BiLSTM.npy\", y_test)"
   ]
  },
  {
   "cell_type": "code",
   "execution_count": 35,
   "metadata": {},
   "outputs": [],
   "source": [
    "from tensorflow.keras.models import load_model\n",
    "import numpy as np\n",
    "\n",
    "# Carrega arquivos pertinentes ao treinamento da rede neural e X_test e y_test (usados na avaliação de resultados)\n",
    "model = load_model('ge_BiLSTM.h5')\n",
    "X_test = np.load(\"X_test_BiLSTM.npy\")\n",
    "y_test = np.load(\"y_test_BiLSTM.npy\")"
   ]
  },
  {
   "cell_type": "code",
   "execution_count": 36,
   "metadata": {},
   "outputs": [
    {
     "name": "stdout",
     "output_type": "stream",
     "text": [
      "Acurácia final: 0.9546296000480652\n"
     ]
    }
   ],
   "source": [
    "loss, accuracy = model.evaluate(X_test, y_test, verbose=0)\n",
    "print('Acurácia final:', accuracy)"
   ]
  },
  {
   "cell_type": "code",
   "execution_count": 37,
   "metadata": {},
   "outputs": [
    {
     "name": "stdout",
     "output_type": "stream",
     "text": [
      "34/34 [==============================] - 10s 237ms/step\n"
     ]
    }
   ],
   "source": [
    "# Fazer as previsões do modelo para o conjunto de teste\n",
    "y_pred = model.predict(X_test)"
   ]
  },
  {
   "cell_type": "code",
   "execution_count": 38,
   "metadata": {},
   "outputs": [
    {
     "data": {
      "text/plain": [
       "array([[505,  19],\n",
       "       [ 30, 526]], dtype=int64)"
      ]
     },
     "execution_count": 38,
     "metadata": {},
     "output_type": "execute_result"
    }
   ],
   "source": [
    "#Transformar as previsões de volta em rótulos\n",
    "y_pred_labels = np.argmax(y_pred, axis=1)\n",
    "y_true_labels = np.argmax(y_test, axis=1)\n",
    "\n",
    "# Calcular a matriz de confusão\n",
    "from sklearn.metrics import confusion_matrix\n",
    "conf_mat = confusion_matrix(y_true_labels, y_pred_labels)\n",
    "\n",
    "conf_mat"
   ]
  },
  {
   "cell_type": "code",
   "execution_count": 39,
   "metadata": {},
   "outputs": [],
   "source": [
    "import pandas as pd\n",
    "\n",
    "# Lê o arquivo .csv\n",
    "df = pd.read_pickle(\"ge_df.pkl\")\n",
    "\n",
    "# Total de classes\n",
    "classes = df['label'].nunique()"
   ]
  },
  {
   "cell_type": "code",
   "execution_count": 41,
   "metadata": {},
   "outputs": [
    {
     "data": {
      "image/png": "[encoded data removed]",
      "text/plain": [
       "<Figure size 1500x1000 with 2 Axes>"
      ]
     },
     "metadata": {},
     "output_type": "display_data"
    }
   ],
   "source": [
    "import matplotlib.pyplot as plt\n",
    "\n",
    "# Define o tamanho da figura\n",
    "plt.figure(figsize=(15, 10))\n",
    "\n",
    "# Define mapa de cores\n",
    "cmap = plt.cm.Blues\n",
    "\n",
    "# Plota matriz de confusão\n",
    "plt.imshow(conf_mat, cmap=cmap)\n",
    "plt.colorbar()\n",
    "\n",
    "# Adiciona rótulos a matriz\n",
    "plt.xticks([int(i) for i in range(2)], [str(i) for i in range(2)])\n",
    "plt.yticks([int(i) for i in range(2)], [str(i) for i in range(2)])\n",
    "\n",
    "for i in range(classes):\n",
    "    for j in range(classes):\n",
    "        plt.text(j, i, str(conf_mat[i, j]), ha='center', va='center', color='white' if conf_mat[i, j] > len(y_true_labels)/ classes else 'black')\n",
    "\n",
    "# Adiciona rótulos dos eixos\n",
    "plt.xlabel('Predicted Class')\n",
    "plt.ylabel('True Class')\n",
    "\n",
    "# Mostra o plot\n",
    "plt.show()"
   ]
  },
  {
   "cell_type": "code",
   "execution_count": 42,
   "metadata": {},
   "outputs": [
    {
     "name": "stdout",
     "output_type": "stream",
     "text": [
      "Class '0': Precision=0.9439, Recall=0.9637, F1-Score=0.9537\n",
      "Class '1': Precision=0.9651, Recall=0.9460, F1-Score=0.9555\n",
      "Average F1-Score: 0.9546\n"
     ]
    }
   ],
   "source": [
    "import numpy as np\n",
    "from sklearn.metrics import precision_score, recall_score, f1_score\n",
    "\n",
    "# Calcula precisão, recall e f1-score para cada classe\n",
    "precisions = []\n",
    "recalls = []\n",
    "f1_scores = []\n",
    "for i in range(classes):\n",
    "    precision = precision_score(y_true=y_true_labels == i, y_pred=y_pred_labels == i, zero_division=0)\n",
    "    recall = recall_score(y_true=y_true_labels == i, y_pred=y_pred_labels == i, zero_division=0)\n",
    "    f1 = f1_score(y_true=y_true_labels == i, y_pred=y_pred_labels == i, zero_division=0)\n",
    "    precisions.append(precision)\n",
    "    recalls.append(recall)\n",
    "    f1_scores.append(f1)\n",
    "    \n",
    "# Printa resultados\n",
    "for i in range(classes):\n",
    "    print(f\"Class '{i}': Precision={precisions[i]:.4f}, Recall={recalls[i]:.4f}, F1-Score={f1_scores[i]:.4f}\")\n",
    "\n",
    "# Calcula e printa a média dos f1-scores\n",
    "f1_average = np.mean(f1_scores)\n",
    "print(f\"Average F1-Score: {f1_average:.4f}\")"
   ]
  },
  {
   "cell_type": "code",
   "execution_count": 45,
   "metadata": {},
   "outputs": [
    {
     "name": "stdout",
     "output_type": "stream",
     "text": [
      "Removendo pontuação...\n"
     ]
    },
    {
     "name": "stderr",
     "output_type": "stream",
     "text": [
      "100%|██████████| 1/1 [00:00<00:00, 1000.79it/s]\n"
     ]
    },
    {
     "name": "stdout",
     "output_type": "stream",
     "text": [
      "Removendo números...\n"
     ]
    },
    {
     "name": "stderr",
     "output_type": "stream",
     "text": [
      "100%|██████████| 1/1 [00:00<00:00, 1000.55it/s]\n"
     ]
    },
    {
     "name": "stdout",
     "output_type": "stream",
     "text": [
      "Removendo acentos e símbolos diversos...\n"
     ]
    },
    {
     "name": "stderr",
     "output_type": "stream",
     "text": [
      "100%|██████████| 1/1 [00:00<00:00, 993.68it/s]\n"
     ]
    },
    {
     "name": "stdout",
     "output_type": "stream",
     "text": [
      "Convertendo para minúsculas...\n"
     ]
    },
    {
     "name": "stderr",
     "output_type": "stream",
     "text": [
      "100%|██████████| 1/1 [00:00<00:00, 1027.76it/s]\n",
      "c:\\Users\\mathe\\OneDrive\\Área de Trabalho\\TCC\\Detector-de-Fake-News\\.venv\\lib\\site-packages\\numpy\\core\\fromnumeric.py:59: FutureWarning: 'DataFrame.swapaxes' is deprecated and will be removed in a future version. Please use 'DataFrame.transpose' instead.\n",
      "  return bound(*args, **kwds)\n"
     ]
    },
    {
     "name": "stdout",
     "output_type": "stream",
     "text": [
      "Computando Lematização...\n",
      "Processando segmento 1 de 10\n"
     ]
    },
    {
     "name": "stderr",
     "output_type": "stream",
     "text": [
      "100%|██████████| 1/1 [00:00<00:00, 31.24it/s]\n"
     ]
    },
    {
     "name": "stdout",
     "output_type": "stream",
     "text": [
      "Processando segmento 2 de 10\n"
     ]
    },
    {
     "name": "stderr",
     "output_type": "stream",
     "text": [
      "0it [00:00, ?it/s]\n"
     ]
    },
    {
     "name": "stdout",
     "output_type": "stream",
     "text": [
      "Processando segmento 3 de 10\n"
     ]
    },
    {
     "name": "stderr",
     "output_type": "stream",
     "text": [
      "0it [00:00, ?it/s]\n"
     ]
    },
    {
     "name": "stdout",
     "output_type": "stream",
     "text": [
      "Processando segmento 4 de 10\n"
     ]
    },
    {
     "name": "stderr",
     "output_type": "stream",
     "text": [
      "0it [00:00, ?it/s]\n"
     ]
    },
    {
     "name": "stdout",
     "output_type": "stream",
     "text": [
      "Processando segmento 5 de 10\n"
     ]
    },
    {
     "name": "stderr",
     "output_type": "stream",
     "text": [
      "0it [00:00, ?it/s]\n"
     ]
    },
    {
     "name": "stdout",
     "output_type": "stream",
     "text": [
      "Processando segmento 6 de 10\n"
     ]
    },
    {
     "name": "stderr",
     "output_type": "stream",
     "text": [
      "0it [00:00, ?it/s]\n"
     ]
    },
    {
     "name": "stdout",
     "output_type": "stream",
     "text": [
      "Processando segmento 7 de 10\n"
     ]
    },
    {
     "name": "stderr",
     "output_type": "stream",
     "text": [
      "0it [00:00, ?it/s]\n"
     ]
    },
    {
     "name": "stdout",
     "output_type": "stream",
     "text": [
      "Processando segmento 8 de 10\n"
     ]
    },
    {
     "name": "stderr",
     "output_type": "stream",
     "text": [
      "0it [00:00, ?it/s]\n"
     ]
    },
    {
     "name": "stdout",
     "output_type": "stream",
     "text": [
      "Processando segmento 9 de 10\n"
     ]
    },
    {
     "name": "stderr",
     "output_type": "stream",
     "text": [
      "0it [00:00, ?it/s]\n"
     ]
    },
    {
     "name": "stdout",
     "output_type": "stream",
     "text": [
      "Processando segmento 10 de 10\n"
     ]
    },
    {
     "name": "stderr",
     "output_type": "stream",
     "text": [
      "0it [00:00, ?it/s]\n"
     ]
    },
    {
     "name": "stdout",
     "output_type": "stream",
     "text": [
      "Remover tokens com espaços vazios...\n"
     ]
    },
    {
     "name": "stderr",
     "output_type": "stream",
     "text": [
      "100%|██████████| 1/1 [00:00<00:00, 999.12it/s]\n",
      "100%|██████████| 1/1 [00:00<00:00, 333.17it/s]\n"
     ]
    },
    {
     "name": "stdout",
     "output_type": "stream",
     "text": [
      "1/1 [==============================] - 0s 329ms/step\n"
     ]
    }
   ],
   "source": [
    "# Criei um dataframe simples com uma notícia só para aplicarmos a função preprocess_data\n",
    "\n",
    "import pandas as pd\n",
    "from nltk.tokenize import word_tokenize\n",
    "\n",
    "value = \"\"\"Depoimento de Cid incluiu golpe, vacina, joias e Abin\n",
    "\n",
    "Ex-ajudante de ordens manteve versão de que não pode afirmar que Bolsonaro planejou um golpe; PF avalia ter fechado “pontos em aberto”\n",
    "\n",
    "Em depoimento de mais de oito horas, o ex-ajudante de ordens de Jair Bolsonaro (PL) Mauro Cid foi questionado pela Polícia Federal (PF) sobre as investigações do plano golpista, do escândalo das joias, do registro falso de vacina e da “Abin paralela”.\n",
    "\n",
    "A oitiva, nas palavras de agentes da PF, teve como objetivo fechar pontos que estavam ambíguos ou abertos de oitivas anteriores do militar da ativa.\n",
    "Na avaliação de investigadores, o longo depoimento serviu para “fechar os pontos que estavam em aberto” da investigação.\n",
    "\n",
    "Segundo agentes da investigação, Cid foi perguntado se tinha conhecimento de que o ex-presidente Jair Bolsonaro planejava um plano para se manter no poder.\n",
    "\n",
    "O militar, porém, manteve a versão anterior, de acordo com integrantes da PF: de que foi discutida uma minuta de decretação de estado de defesa, mas que não pode afirmar que o então presidente planejava um golpe.\n",
    "À PF, Cid disse que o ex-presidente se reuniu com generais após perder as eleições de outubro de 2022, mas negou ter participado do encontro em que o alto escalão das Forças Armadas teria debatido os termos da minuta de um golpe de Estado.\n",
    "\n",
    "Segundo apurou a CNN, Cid também confirmou que Freire Gomes era contra a decretação de um estado de defesa, presente na chamada “minuta do golpe”.\n",
    "\n",
    "O depoimento do militar corroborou outros já colhidos pela PF, como do ex-comandante do Exército, general Freire Gomes, e do ex-comandante da Aeronáutica, brigadeiro Carlos Baptista Junior.\n",
    "\n",
    "A expectativa é de que Cid seja chamado novamente para depor nos próximos meses. Antes, a PF deve mandar comitiva aos Estados Unidos para tentar obter imagens e documentos na investigação do escândalo das joias.\n",
    "\n",
    "Segundo relatos de investigadores, o depoimento de Cid foi satisfatório, e que o acordo de colaboração não está ameaçado, mas não se encerra colaboração de Cid nas investigações da PF. Ele é obrigado a colaborar até o fim do inquérito.\n",
    "\"\"\"\n",
    "\n",
    "# Crie um DataFrame com uma linha e a coluna 'data'\n",
    "df_predict = pd.DataFrame(data={'Texto': [value]})\n",
    "\n",
    "# Faz pré-processamento\n",
    "preprocess_data(df_predict, 'Texto')\n",
    "\n",
    "# Conversão dos dados para serem usados no modelo (rede neural)\n",
    "preprocessed_articles = df_predict['Texto'].tolist()\n",
    "\n",
    "sequences_test = []\n",
    "for tokens in tqdm(preprocessed_articles):\n",
    "    sequence = []\n",
    "    for token in tokens:\n",
    "        if token in word_to_index:\n",
    "            sequence.append(word_to_index[token])\n",
    "    sequences_test.append(sequence)\n",
    "    \n",
    "padded_example = pad_sequences(sequences_test, maxlen=max_length, padding='post')\n",
    "\n",
    "# Fazer a previsão usando o modelo\n",
    "predictions = model.predict(padded_example)"
   ]
  },
  {
   "cell_type": "code",
   "execution_count": 46,
   "metadata": {},
   "outputs": [
    {
     "data": {
      "text/plain": [
       "array([[5.3749303e-04, 9.9946254e-01]], dtype=float32)"
      ]
     },
     "execution_count": 46,
     "metadata": {},
     "output_type": "execute_result"
    }
   ],
   "source": [
    "predictions"
   ]
  },
  {
   "cell_type": "code",
   "execution_count": 47,
   "metadata": {},
   "outputs": [
    {
     "name": "stdout",
     "output_type": "stream",
     "text": [
      "Classe prevista: 1\n"
     ]
    }
   ],
   "source": [
    "# Identificar a classe com a maior probabilidade\n",
    "predicted_class = np.argmax(predictions)\n",
    "\n",
    "# Exibir a classe prevista\n",
    "print(f\"Classe prevista: {predicted_class}\")"
   ]
  },
  {
   "cell_type": "code",
   "execution_count": 50,
   "metadata": {},
   "outputs": [
    {
     "name": "stdout",
     "output_type": "stream",
     "text": [
      "Classe original: true\n"
     ]
    }
   ],
   "source": [
    "from sklearn.preprocessing import LabelEncoder\n",
    "\n",
    "import os\n",
    "\n",
    "# Get the current working directory\n",
    "script_dir = os.getcwd()\n",
    "\n",
    "# Navigate up one level to the parent directory\n",
    "parent_dir = os.path.dirname(script_dir)\n",
    "\n",
    "# Construct the path to noticias_pre_processadas.csv\n",
    "caminho_csv = os.path.join(parent_dir, \"noticias_pre_processadas.csv\")\n",
    "\n",
    "# Read the CSV file into a DataFrame\n",
    "df = pd.read_csv(caminho_csv)\n",
    "\n",
    "# Cria um objeto LabelEncoder\n",
    "le = LabelEncoder()\n",
    "\n",
    "# Transforma os rótulos para variáveis categóricas\n",
    "df['label'] = le.fit_transform(df['Categoria'])\n",
    "\n",
    "original_class = le.inverse_transform([predicted_class]) # Transforma a classe predita de variável categórica de volta\n",
    "print(f\"Classe original: {original_class[0]}\")"
   ]
  },
  {
   "cell_type": "code",
   "execution_count": 51,
   "metadata": {},
   "outputs": [
    {
     "name": "stdout",
     "output_type": "stream",
     "text": [
      "Removendo pontuação...\n"
     ]
    },
    {
     "name": "stderr",
     "output_type": "stream",
     "text": [
      "100%|██████████| 1/1 [00:00<00:00, 985.27it/s]\n"
     ]
    },
    {
     "name": "stdout",
     "output_type": "stream",
     "text": [
      "Removendo números...\n"
     ]
    },
    {
     "name": "stderr",
     "output_type": "stream",
     "text": [
      "100%|██████████| 1/1 [00:00<00:00, 998.88it/s]\n"
     ]
    },
    {
     "name": "stdout",
     "output_type": "stream",
     "text": [
      "Removendo acentos e símbolos diversos...\n"
     ]
    },
    {
     "name": "stderr",
     "output_type": "stream",
     "text": [
      "100%|██████████| 1/1 [00:00<00:00, 999.83it/s]\n"
     ]
    },
    {
     "name": "stdout",
     "output_type": "stream",
     "text": [
      "Convertendo para minúsculas...\n"
     ]
    },
    {
     "name": "stderr",
     "output_type": "stream",
     "text": [
      "100%|██████████| 1/1 [00:00<00:00, 1040.77it/s]\n",
      "c:\\Users\\mathe\\OneDrive\\Área de Trabalho\\TCC\\Detector-de-Fake-News\\.venv\\lib\\site-packages\\numpy\\core\\fromnumeric.py:59: FutureWarning: 'DataFrame.swapaxes' is deprecated and will be removed in a future version. Please use 'DataFrame.transpose' instead.\n",
      "  return bound(*args, **kwds)\n"
     ]
    },
    {
     "name": "stdout",
     "output_type": "stream",
     "text": [
      "Computando Lematização...\n",
      "Processando segmento 1 de 10\n"
     ]
    },
    {
     "name": "stderr",
     "output_type": "stream",
     "text": [
      "100%|██████████| 1/1 [00:00<00:00,  5.44it/s]\n"
     ]
    },
    {
     "name": "stdout",
     "output_type": "stream",
     "text": [
      "Processando segmento 2 de 10\n"
     ]
    },
    {
     "name": "stderr",
     "output_type": "stream",
     "text": [
      "0it [00:00, ?it/s]\n"
     ]
    },
    {
     "name": "stdout",
     "output_type": "stream",
     "text": [
      "Processando segmento 3 de 10\n"
     ]
    },
    {
     "name": "stderr",
     "output_type": "stream",
     "text": [
      "0it [00:00, ?it/s]\n"
     ]
    },
    {
     "name": "stdout",
     "output_type": "stream",
     "text": [
      "Processando segmento 4 de 10\n"
     ]
    },
    {
     "name": "stderr",
     "output_type": "stream",
     "text": [
      "0it [00:00, ?it/s]\n"
     ]
    },
    {
     "name": "stdout",
     "output_type": "stream",
     "text": [
      "Processando segmento 5 de 10\n"
     ]
    },
    {
     "name": "stderr",
     "output_type": "stream",
     "text": [
      "0it [00:00, ?it/s]\n"
     ]
    },
    {
     "name": "stdout",
     "output_type": "stream",
     "text": [
      "Processando segmento 6 de 10\n"
     ]
    },
    {
     "name": "stderr",
     "output_type": "stream",
     "text": [
      "0it [00:00, ?it/s]\n"
     ]
    },
    {
     "name": "stdout",
     "output_type": "stream",
     "text": [
      "Processando segmento 7 de 10\n"
     ]
    },
    {
     "name": "stderr",
     "output_type": "stream",
     "text": [
      "0it [00:00, ?it/s]\n"
     ]
    },
    {
     "name": "stdout",
     "output_type": "stream",
     "text": [
      "Processando segmento 8 de 10\n"
     ]
    },
    {
     "name": "stderr",
     "output_type": "stream",
     "text": [
      "0it [00:00, ?it/s]\n"
     ]
    },
    {
     "name": "stdout",
     "output_type": "stream",
     "text": [
      "Processando segmento 9 de 10\n"
     ]
    },
    {
     "name": "stderr",
     "output_type": "stream",
     "text": [
      "0it [00:00, ?it/s]\n"
     ]
    },
    {
     "name": "stdout",
     "output_type": "stream",
     "text": [
      "Processando segmento 10 de 10\n"
     ]
    },
    {
     "name": "stderr",
     "output_type": "stream",
     "text": [
      "0it [00:00, ?it/s]\n"
     ]
    },
    {
     "name": "stdout",
     "output_type": "stream",
     "text": [
      "Remover tokens com espaços vazios...\n"
     ]
    },
    {
     "name": "stderr",
     "output_type": "stream",
     "text": [
      "100%|██████████| 1/1 [00:00<?, ?it/s]\n",
      "100%|██████████| 1/1 [00:00<00:00, 333.04it/s]\n"
     ]
    },
    {
     "name": "stdout",
     "output_type": "stream",
     "text": [
      "1/1 [==============================] - 0s 369ms/step\n"
     ]
    }
   ],
   "source": [
    "# Criei um dataframe simples com uma notícia falsa só para aplicarmos a função preprocess_data\n",
    "\n",
    "import pandas as pd\n",
    "from nltk.tokenize import word_tokenize\n",
    "\n",
    "value = \"\"\"\"Nova pesquisa surpreendente divulgada pelo Instituto de Estudos Alimentares revela que consumir uma barra de chocolate por dia pode impulsionar seu QI em até 10 pontos!\n",
    "\n",
    "Um estudo abrangente conduzido ao longo de dois anos por uma equipe internacional de renomados cientistas descobriu uma conexão direta entre o consumo regular de chocolate e a melhoria das funções cognitivas. Segundo os pesquisadores, os componentes antioxidantes e estimulantes presentes no chocolate são responsáveis por desencadear reações positivas no cérebro, aumentando a atividade neuronal e melhorando a capacidade de concentração e resolução de problemas.\n",
    "\n",
    "A pesquisa envolveu milhares de participantes de diferentes faixas etárias e origens étnicas, todos os quais relataram um aumento significativo em seus QIs após adotarem a rotina diária de consumir chocolate.\n",
    "\n",
    "Os resultados deste estudo revolucionário estão prestes a mudar a maneira como entendemos o impacto dos alimentos em nosso funcionamento cerebral. Os cientistas agora estão investigando ainda mais para desenvolver diretrizes específicas sobre a quantidade ideal de consumo de chocolate para otimizar os benefícios cognitivos.\n",
    "\n",
    "Portanto, se você quer dar um impulso à sua inteligência, talvez seja hora de adicionar uma barra de chocolate à sua dieta diária!\"\n",
    "\"\"\"\n",
    "\n",
    "# Crie um DataFrame com uma linha e a coluna 'data'\n",
    "df_predict = pd.DataFrame(data={'Texto': [value]})\n",
    "\n",
    "# Faz pré-processamento\n",
    "preprocess_data(df_predict, 'Texto')\n",
    "\n",
    "# Conversão dos dados para serem usados no modelo (rede neural)\n",
    "preprocessed_articles = df_predict['Texto'].tolist()\n",
    "\n",
    "sequences_test = []\n",
    "for tokens in tqdm(preprocessed_articles):\n",
    "    sequence = []\n",
    "    for token in tokens:\n",
    "        if token in word_to_index:\n",
    "            sequence.append(word_to_index[token])\n",
    "    sequences_test.append(sequence)\n",
    "    \n",
    "padded_example = pad_sequences(sequences_test, maxlen=max_length, padding='post')\n",
    "\n",
    "# Fazer a previsão usando o modelo\n",
    "predictions = model.predict(padded_example)"
   ]
  },
  {
   "cell_type": "code",
   "execution_count": 52,
   "metadata": {},
   "outputs": [
    {
     "data": {
      "text/plain": [
       "array([[9.995059e-01, 4.940804e-04]], dtype=float32)"
      ]
     },
     "execution_count": 52,
     "metadata": {},
     "output_type": "execute_result"
    }
   ],
   "source": [
    "predictions"
   ]
  },
  {
   "cell_type": "code",
   "execution_count": 53,
   "metadata": {},
   "outputs": [
    {
     "name": "stdout",
     "output_type": "stream",
     "text": [
      "Classe prevista: 0\n"
     ]
    }
   ],
   "source": [
    "# Identificar a classe com a maior probabilidade\n",
    "predicted_class = np.argmax(predictions)\n",
    "\n",
    "# Exibir a classe prevista\n",
    "print(f\"Classe prevista: {predicted_class}\")"
   ]
  },
  {
   "cell_type": "code",
   "execution_count": 54,
   "metadata": {},
   "outputs": [
    {
     "name": "stdout",
     "output_type": "stream",
     "text": [
      "Classe original: fake\n"
     ]
    }
   ],
   "source": [
    "from sklearn.preprocessing import LabelEncoder\n",
    "\n",
    "import os\n",
    "\n",
    "# Get the current working directory\n",
    "script_dir = os.getcwd()\n",
    "\n",
    "# Navigate up one level to the parent directory\n",
    "parent_dir = os.path.dirname(script_dir)\n",
    "\n",
    "# Construct the path to noticias_pre_processadas.csv\n",
    "caminho_csv = os.path.join(parent_dir, \"noticias_pre_processadas.csv\")\n",
    "\n",
    "# Read the CSV file into a DataFrame\n",
    "df = pd.read_csv(caminho_csv)\n",
    "\n",
    "# Cria um objeto LabelEncoder\n",
    "le = LabelEncoder()\n",
    "\n",
    "# Transforma os rótulos para variáveis categóricas\n",
    "df['label'] = le.fit_transform(df['Categoria'])\n",
    "\n",
    "original_class = le.inverse_transform([predicted_class]) # Transforma a classe predita de variável categórica de volta\n",
    "print(f\"Classe original: {original_class[0]}\")"
   ]
  }
 ],
 "metadata": {
  "kernelspec": {
   "display_name": "Python 3",
   "language": "python",
   "name": "python3"
  },
  "language_info": {
   "codemirror_mode": {
    "name": "ipython",
    "version": 3
   },
   "file_extension": ".py",
   "mimetype": "text/x-python",
   "name": "python",
   "nbconvert_exporter": "python",
   "pygments_lexer": "ipython3",
   "version": "3.10.0"
  }
 },
 "nbformat": 4,
 "nbformat_minor": 2
}
