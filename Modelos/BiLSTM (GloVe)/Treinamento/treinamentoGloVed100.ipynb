{
 "cells": [
  {
   "cell_type": "code",
   "execution_count": 1,
   "metadata": {},
   "outputs": [],
   "source": [
    "import os\n",
    "import pandas as pd\n",
    "from tensorflow.keras.preprocessing.text import Tokenizer\n",
    "import pickle\n",
    "import numpy as np\n",
    "import tensorflow as tf\n",
    "from tensorflow.keras.preprocessing.sequence import pad_sequences\n",
    "from sklearn.model_selection import train_test_split\n",
    "from tensorflow.keras.layers import Embedding, LSTM, Dense, Bidirectional, Dropout\n",
    "from tensorflow.keras.models import Sequential\n",
    "from tensorflow.keras.callbacks import EarlyStopping\n",
    "import matplotlib.pyplot as plt\n",
    "from tensorflow.keras.layers import BatchNormalization"
   ]
  },
  {
   "cell_type": "code",
   "execution_count": 2,
   "metadata": {},
   "outputs": [
    {
     "name": "stdout",
     "output_type": "stream",
     "text": [
      "Num GPUs:  1\n"
     ]
    }
   ],
   "source": [
    "print(\"Num GPUs: \", len(tf.config.list_physical_devices('GPU')))"
   ]
  },
  {
   "cell_type": "code",
   "execution_count": null,
   "metadata": {},
   "outputs": [
    {
     "data": {
      "text/html": [
       "<div>\n",
       "<style scoped>\n",
       "    .dataframe tbody tr th:only-of-type {\n",
       "        vertical-align: middle;\n",
       "    }\n",
       "\n",
       "    .dataframe tbody tr th {\n",
       "        vertical-align: top;\n",
       "    }\n",
       "\n",
       "    .dataframe thead th {\n",
       "        text-align: right;\n",
       "    }\n",
       "</style>\n",
       "<table border=\"1\" class=\"dataframe\">\n",
       "  <thead>\n",
       "    <tr style=\"text-align: right;\">\n",
       "      <th></th>\n",
       "      <th>Texto</th>\n",
       "      <th>Categoria</th>\n",
       "      <th>label</th>\n",
       "    </tr>\n",
       "  </thead>\n",
       "  <tbody>\n",
       "    <tr>\n",
       "      <th>0</th>\n",
       "      <td>[poder, decidir, expulsar, deputado, federal, ...</td>\n",
       "      <td>Real</td>\n",
       "      <td>1</td>\n",
       "    </tr>\n",
       "    <tr>\n",
       "      <th>1</th>\n",
       "      <td>[bolsonaro, liberal, completo, presidente, psl...</td>\n",
       "      <td>Real</td>\n",
       "      <td>1</td>\n",
       "    </tr>\n",
       "    <tr>\n",
       "      <th>2</th>\n",
       "      <td>[ministro, stf, liberar, Andrea, Neves, prisao...</td>\n",
       "      <td>Real</td>\n",
       "      <td>1</td>\n",
       "    </tr>\n",
       "    <tr>\n",
       "      <th>3</th>\n",
       "      <td>[apesar, abundancia, crescer, preocupacao, pre...</td>\n",
       "      <td>Real</td>\n",
       "      <td>1</td>\n",
       "    </tr>\n",
       "    <tr>\n",
       "      <th>4</th>\n",
       "      <td>[harvard, mit, levarao, dilma, moro, suplicy, ...</td>\n",
       "      <td>Real</td>\n",
       "      <td>1</td>\n",
       "    </tr>\n",
       "  </tbody>\n",
       "</table>\n",
       "</div>"
      ],
      "text/plain": [
       "                                               Texto Categoria  label\n",
       "0  [poder, decidir, expulsar, deputado, federal, ...      Real      1\n",
       "1  [bolsonaro, liberal, completo, presidente, psl...      Real      1\n",
       "2  [ministro, stf, liberar, Andrea, Neves, prisao...      Real      1\n",
       "3  [apesar, abundancia, crescer, preocupacao, pre...      Real      1\n",
       "4  [harvard, mit, levarao, dilma, moro, suplicy, ...      Real      1"
      ]
     },
     "execution_count": 3,
     "metadata": {},
     "output_type": "execute_result"
    }
   ],
   "source": [
    "# Encontra diretorio atual\n",
    "atual_dir = os.getcwd()\n",
    "\n",
    "# Acessa arquivo pkl das noticias\n",
    "parent_dir = os.path.split(atual_dir)\n",
    "\n",
    "parent_dir = os.path.split(parent_dir[0])\n",
    "\n",
    "parent_dir = os.path.split(parent_dir[0])\n",
    "\n",
    "caminho_pkl = os.path.join(parent_dir[0], \"Pre-processamento\\\\df_pre_processado.pkl\")\n",
    "\n",
    "# Carrega dataframe salvo em formato pickle\n",
    "df = pd.read_pickle(caminho_pkl)\n",
    "\n",
    "df.head()"
   ]
  },
  {
   "cell_type": "code",
   "execution_count": 4,
   "metadata": {},
   "outputs": [],
   "source": [
    "# Converte a coluna 'Texto' do DataFrame em uma lista e armazena na variável texts. O mesmo com as labels\n",
    "texts = df['Texto'].tolist()\n",
    "labels = df['label'].tolist()  "
   ]
  },
  {
   "cell_type": "code",
   "execution_count": 5,
   "metadata": {},
   "outputs": [],
   "source": [
    "# Tokenização\n",
    "tokenizer = Tokenizer()\n",
    "tokenizer.fit_on_texts(texts)\n",
    "sequences = tokenizer.texts_to_sequences(texts)\n",
    "\n",
    "# word_index é um dicionário onde as chaves são as palavras e os valores são os índices dessas palavras.\n",
    "# Esse índice é útil para várias tarefas de NLP, como a criação de embeddings de palavras ou a preparação de dados para modelos de deep learning.\n",
    "word_index = tokenizer.word_index"
   ]
  },
  {
   "cell_type": "code",
   "execution_count": 6,
   "metadata": {},
   "outputs": [],
   "source": [
    "# Salva o tokenizador em um arquivo (precisamos dele mais tarde, quando realizarmos as inferências)\n",
    "with open('tokenizer.pkl', 'wb') as file:\n",
    "    pickle.dump(tokenizer, file)"
   ]
  },
  {
   "cell_type": "code",
   "execution_count": null,
   "metadata": {},
   "outputs": [
    {
     "name": "stdout",
     "output_type": "stream",
     "text": [
      "max_length:  512\n"
     ]
    }
   ],
   "source": [
    "# Carrega o valor de max_length de um arquivo pickle\n",
    "caminho_max_length = os.path.join(parent_dir[0],\"Pre-processamento\\\\max_length.pkl\")\n",
    "with open(caminho_max_length, 'rb') as f:\n",
    "    max_length = pickle.load(f)\n",
    "\n",
    "print(\"max_length: \", max_length)"
   ]
  },
  {
   "cell_type": "code",
   "execution_count": 8,
   "metadata": {},
   "outputs": [],
   "source": [
    "# Carrega os embeddings do GLoVe\n",
    "embeddings_index = {}\n",
    "with open('glove.6B.100d.txt', encoding='utf-8') as f:\n",
    "    for line in f:\n",
    "        values = line.split()\n",
    "        word = values[0]\n",
    "        coefs = np.asarray(values[1:], dtype='float32')\n",
    "        embeddings_index[word] = coefs"
   ]
  },
  {
   "cell_type": "code",
   "execution_count": 9,
   "metadata": {},
   "outputs": [],
   "source": [
    "# Prepara a matriz de embedding\n",
    "embedding_dim = 100  # o tamanho do GLoVe embeddings (100)\n",
    "embedding_matrix = np.zeros((len(word_index) + 1, embedding_dim))\n",
    "for word, i in word_index.items():\n",
    "    embedding_vector = embeddings_index.get(word)\n",
    "    if embedding_vector is not None:\n",
    "        embedding_matrix[i] = embedding_vector"
   ]
  },
  {
   "cell_type": "code",
   "execution_count": 10,
   "metadata": {},
   "outputs": [],
   "source": [
    "# Converte rótulos para inteiros\n",
    "num_classes = df['label'].nunique()\n",
    "labels = df['label'].values"
   ]
  },
  {
   "cell_type": "code",
   "execution_count": 11,
   "metadata": {},
   "outputs": [],
   "source": [
    "# Realiza o preenchimento das sequências com base no novo 'max_length'\n",
    "padded_sequences = pad_sequences(sequences, maxlen=max_length, padding='post')"
   ]
  },
  {
   "cell_type": "code",
   "execution_count": 12,
   "metadata": {},
   "outputs": [],
   "source": [
    "# Divide os dados em um conjunto de treino (70%) e um conjunto temporário (30%)\n",
    "X_train, X_temp, y_train, y_temp = train_test_split(padded_sequences, labels, test_size=0.3, stratify=labels, random_state=15)\n",
    "\n",
    "# Divide o conjunto temporário em conjuntos de validação (15%) e teste (15%)\n",
    "X_val, X_test, y_val, y_test = train_test_split(X_temp, y_temp, test_size=0.5, stratify=y_temp, random_state=15)"
   ]
  },
  {
   "cell_type": "code",
   "execution_count": null,
   "metadata": {},
   "outputs": [
    {
     "name": "stdout",
     "output_type": "stream",
     "text": [
      "Epoch 1/40\n",
      "244/244 [==============================] - 120s 430ms/step - loss: 0.9856 - accuracy: 0.7621 - precision: 0.7923 - recall: 0.6994 - val_loss: 0.7130 - val_accuracy: 0.8011 - val_precision: 0.8468 - val_recall: 0.7267\n",
      "Epoch 2/40\n",
      "244/244 [==============================] - 105s 429ms/step - loss: 0.6277 - accuracy: 0.8284 - precision: 0.8598 - recall: 0.7776 - val_loss: 0.6420 - val_accuracy: 0.8041 - val_precision: 0.8606 - val_recall: 0.7176\n",
      "Epoch 3/40\n",
      "244/244 [==============================] - 108s 441ms/step - loss: 0.5579 - accuracy: 0.8398 - precision: 0.8446 - recall: 0.8260 - val_loss: 0.4755 - val_accuracy: 0.8741 - val_precision: 0.8717 - val_recall: 0.8722\n",
      "Epoch 4/40\n",
      "244/244 [==============================] - 108s 442ms/step - loss: 0.4649 - accuracy: 0.8770 - precision: 0.8766 - recall: 0.8727 - val_loss: 0.4468 - val_accuracy: 0.8729 - val_precision: 0.8496 - val_recall: 0.9008\n",
      "Epoch 5/40\n",
      "244/244 [==============================] - 110s 451ms/step - loss: 0.4102 - accuracy: 0.8924 - precision: 0.8940 - recall: 0.8863 - val_loss: 0.3993 - val_accuracy: 0.8824 - val_precision: 0.8449 - val_recall: 0.9318\n",
      "Epoch 6/40\n",
      "244/244 [==============================] - 109s 446ms/step - loss: 0.3955 - accuracy: 0.8942 - precision: 0.8948 - recall: 0.8894 - val_loss: 0.3717 - val_accuracy: 0.9013 - val_precision: 0.8943 - val_recall: 0.9063\n",
      "Epoch 7/40\n",
      "244/244 [==============================] - 108s 442ms/step - loss: 0.3502 - accuracy: 0.9085 - precision: 0.9040 - recall: 0.9105 - val_loss: 0.3466 - val_accuracy: 0.9031 - val_precision: 0.8877 - val_recall: 0.9191\n",
      "Epoch 8/40\n",
      "244/244 [==============================] - 106s 435ms/step - loss: 0.3755 - accuracy: 0.8974 - precision: 0.8947 - recall: 0.8968 - val_loss: 0.4786 - val_accuracy: 0.8642 - val_precision: 0.9305 - val_recall: 0.7821\n",
      "Epoch 9/40\n",
      "244/244 [==============================] - 107s 439ms/step - loss: 0.4237 - accuracy: 0.8888 - precision: 0.8979 - recall: 0.8731 - val_loss: 0.4298 - val_accuracy: 0.8800 - val_precision: 0.8876 - val_recall: 0.8655\n",
      "Epoch 10/40\n",
      "244/244 [==============================] - 108s 441ms/step - loss: 0.3668 - accuracy: 0.9099 - precision: 0.9146 - recall: 0.9009 - val_loss: 0.3571 - val_accuracy: 0.9067 - val_precision: 0.9060 - val_recall: 0.9038\n"
     ]
    }
   ],
   "source": [
    "# Cria modelo BiLSTM \n",
    "model = Sequential()\n",
    "\n",
    "# Camada de embedding para representação de palavras\n",
    "model.add(Embedding(input_dim=len(word_index) + 1, output_dim=embedding_dim, \n",
    "                    weights=[embedding_matrix], trainable=False))\n",
    "\n",
    "# Normalização de lote\n",
    "model.add(BatchNormalization())\n",
    "\n",
    "# Adiciona a primeira camada BiLSTM com retorno de sequências\n",
    "model.add(Bidirectional(LSTM(units=128, return_sequences=True, kernel_regularizer=tf.keras.regularizers.l2(0.001))))\n",
    "model.add(Dropout(0.5))\n",
    "\n",
    "# Adiciona a segunda camada BiLSTM com retorno de sequências\n",
    "model.add(Bidirectional(LSTM(units=128, return_sequences=True, kernel_regularizer=tf.keras.regularizers.l2(0.001))))\n",
    "model.add(Dropout(0.5))\n",
    "\n",
    "# Adiciona a terceira camada BiLSTM com retorno de sequências\n",
    "model.add(Bidirectional(LSTM(units=64, return_sequences=True, kernel_regularizer=tf.keras.regularizers.l2(0.001))))\n",
    "model.add(Dropout(0.5))\n",
    "\n",
    "# Adiciona a última camada BiLSTM sem retorno de sequências\n",
    "model.add(Bidirectional(LSTM(units=32, kernel_regularizer=tf.keras.regularizers.l2(0.001))))\n",
    "model.add(Dropout(0.5))\n",
    "\n",
    "# Adiciona camada densa com ativação sigmoide\n",
    "model.add(Dense(1, activation='sigmoid'))\n",
    "\n",
    "# Configura parada antecipada baseada na perda de validação\n",
    "early_stopping = EarlyStopping(monitor='val_loss', patience=3)\n",
    "\n",
    "# Compila o modelo com função de perda, otimizador e métricas\n",
    "optimizer = tf.keras.optimizers.Adam(learning_rate=0.001)\n",
    "model.compile(loss='binary_crossentropy', optimizer=optimizer, metrics=['accuracy', 'Precision', 'Recall'])\n",
    "\n",
    "# Treina o modelo com dados de treinamento e validação, usando parada antecipada como callback e exibindo o progresso\n",
    "history = model.fit(X_train, y_train, epochs=40, batch_size=64, validation_data=(X_val, y_val), callbacks=[early_stopping], verbose=1)\n"
   ]
  },
  {
   "cell_type": "code",
   "execution_count": 14,
   "metadata": {},
   "outputs": [
    {
     "data": {
      "image/png": "[encoded data removed]",
      "text/plain": [
       "<Figure size 640x480 with 1 Axes>"
      ]
     },
     "metadata": {},
     "output_type": "display_data"
    }
   ],
   "source": [
    "# Plota a perda (loss) e a perda de validação (val_loss) durante o treinamento\n",
    "plt.plot(history.history['loss'], label='Perda treinamento')\n",
    "plt.plot(history.history['val_loss'], label='Perda validação')\n",
    "plt.title('Perda treinamento e validação')\n",
    "plt.xlabel('Epoch')\n",
    "plt.ylabel('Perda')\n",
    "plt.xticks(range(len(history.history['loss'])))\n",
    "plt.legend()\n",
    "plt.show()"
   ]
  },
  {
   "cell_type": "code",
   "execution_count": 15,
   "metadata": {},
   "outputs": [],
   "source": [
    "# Salva os arquivos\n",
    "model.save('modelo_BiLSTM_glove6b100d.h5')\n",
    "np.save(\"X_test_BiLSTM_glove6b100d.npy\", X_test)\n",
    "np.save(\"y_test_BiLSTM_glove6b100d.npy\", y_test)"
   ]
  }
 ],
 "metadata": {
  "kernelspec": {
   "display_name": "detector",
   "language": "python",
   "name": "python3"
  },
  "language_info": {
   "codemirror_mode": {
    "name": "ipython",
    "version": 3
   },
   "file_extension": ".py",
   "mimetype": "text/x-python",
   "name": "python",
   "nbconvert_exporter": "python",
   "pygments_lexer": "ipython3",
   "version": "3.10.14"
  }
 },
 "nbformat": 4,
 "nbformat_minor": 2
}
