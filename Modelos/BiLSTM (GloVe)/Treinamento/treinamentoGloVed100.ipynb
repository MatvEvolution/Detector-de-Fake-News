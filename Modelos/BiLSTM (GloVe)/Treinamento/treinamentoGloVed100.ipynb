{
 "cells": [
  {
   "cell_type": "code",
   "execution_count": 1,
   "metadata": {},
   "outputs": [],
   "source": [
    "import os\n",
    "import pandas as pd\n",
    "from tensorflow.keras.preprocessing.text import Tokenizer\n",
    "import pickle\n",
    "import numpy as np\n",
    "import tensorflow as tf\n",
    "from tensorflow.keras.utils import to_categorical\n",
    "from tensorflow.keras.preprocessing.sequence import pad_sequences\n",
    "from sklearn.model_selection import train_test_split\n",
    "from tensorflow.keras.layers import Embedding, LSTM, Dense, Bidirectional\n",
    "from tensorflow.keras.models import Sequential\n",
    "from tensorflow.keras.callbacks import EarlyStopping\n",
    "import matplotlib.pyplot as plt"
   ]
  },
  {
   "cell_type": "code",
   "execution_count": 2,
   "metadata": {},
   "outputs": [
    {
     "name": "stdout",
     "output_type": "stream",
     "text": [
      "Num GPUs:  1\n"
     ]
    }
   ],
   "source": [
    "print(\"Num GPUs: \", len(tf.config.list_physical_devices('GPU')))"
   ]
  },
  {
   "cell_type": "code",
   "execution_count": 3,
   "metadata": {},
   "outputs": [
    {
     "data": {
      "text/html": [
       "<div>\n",
       "<style scoped>\n",
       "    .dataframe tbody tr th:only-of-type {\n",
       "        vertical-align: middle;\n",
       "    }\n",
       "\n",
       "    .dataframe tbody tr th {\n",
       "        vertical-align: top;\n",
       "    }\n",
       "\n",
       "    .dataframe thead th {\n",
       "        text-align: right;\n",
       "    }\n",
       "</style>\n",
       "<table border=\"1\" class=\"dataframe\">\n",
       "  <thead>\n",
       "    <tr style=\"text-align: right;\">\n",
       "      <th></th>\n",
       "      <th>Texto</th>\n",
       "      <th>Categoria</th>\n",
       "      <th>label</th>\n",
       "    </tr>\n",
       "  </thead>\n",
       "  <tbody>\n",
       "    <tr>\n",
       "      <th>0</th>\n",
       "      <td>[poder, decidir, expulsar, deputado, federal, ...</td>\n",
       "      <td>Real</td>\n",
       "      <td>1</td>\n",
       "    </tr>\n",
       "    <tr>\n",
       "      <th>1</th>\n",
       "      <td>[bolsonaro, liberal, completo, presidente, psl...</td>\n",
       "      <td>Real</td>\n",
       "      <td>1</td>\n",
       "    </tr>\n",
       "    <tr>\n",
       "      <th>2</th>\n",
       "      <td>[ministro, stf, liberar, Andrea, Neves, prisao...</td>\n",
       "      <td>Real</td>\n",
       "      <td>1</td>\n",
       "    </tr>\n",
       "    <tr>\n",
       "      <th>3</th>\n",
       "      <td>[apesar, abundancia, crescer, preocupacao, pre...</td>\n",
       "      <td>Real</td>\n",
       "      <td>1</td>\n",
       "    </tr>\n",
       "    <tr>\n",
       "      <th>4</th>\n",
       "      <td>[harvard, mit, levarao, dilma, moro, suplicy, ...</td>\n",
       "      <td>Real</td>\n",
       "      <td>1</td>\n",
       "    </tr>\n",
       "  </tbody>\n",
       "</table>\n",
       "</div>"
      ],
      "text/plain": [
       "                                               Texto Categoria  label\n",
       "0  [poder, decidir, expulsar, deputado, federal, ...      Real      1\n",
       "1  [bolsonaro, liberal, completo, presidente, psl...      Real      1\n",
       "2  [ministro, stf, liberar, Andrea, Neves, prisao...      Real      1\n",
       "3  [apesar, abundancia, crescer, preocupacao, pre...      Real      1\n",
       "4  [harvard, mit, levarao, dilma, moro, suplicy, ...      Real      1"
      ]
     },
     "execution_count": 3,
     "metadata": {},
     "output_type": "execute_result"
    }
   ],
   "source": [
    "# Encontra diretorio atual\n",
    "atual_dir = os.getcwd()\n",
    "\n",
    "# Acessa arquivo pkl das noticias\n",
    "parent_dir = os.path.split(atual_dir)\n",
    "\n",
    "parent_dir = os.path.split(parent_dir[0])\n",
    "\n",
    "parent_dir = os.path.split(parent_dir[0])\n",
    "\n",
    "caminho_pkl = os.path.join(parent_dir[0], \"Pre-processamento\\\\df_pre_processado.pkl\")\n",
    "\n",
    "# Carrega dataframe salvo em formato pickle\n",
    "df = pd.read_pickle(caminho_pkl)\n",
    "\n",
    "df.head()"
   ]
  },
  {
   "cell_type": "code",
   "execution_count": 4,
   "metadata": {},
   "outputs": [],
   "source": [
    "# Converte a coluna 'Texto' do DataFrame em uma lista e armazena na variável texts. O mesmo com as labels\n",
    "texts = df['Texto'].tolist()\n",
    "labels = df['label'].tolist()  "
   ]
  },
  {
   "cell_type": "code",
   "execution_count": 5,
   "metadata": {},
   "outputs": [],
   "source": [
    "# Tokenização\n",
    "tokenizer = Tokenizer()\n",
    "tokenizer.fit_on_texts(texts)\n",
    "sequences = tokenizer.texts_to_sequences(texts)\n",
    "\n",
    "# word_index é um dicionário onde as chaves são as palavras e os valores são os índices dessas palavras.\n",
    "# Esse índice é útil para várias tarefas de NLP, como a criação de embeddings de palavras ou a preparação de dados para modelos de deep learning.\n",
    "word_index = tokenizer.word_index"
   ]
  },
  {
   "cell_type": "code",
   "execution_count": 6,
   "metadata": {},
   "outputs": [],
   "source": [
    "# Salva o tokenizador em um arquivo (precisamos dele mais tarde, quando realizarmos as inferências)\n",
    "with open('tokenizer.pkl', 'wb') as file:\n",
    "    pickle.dump(tokenizer, file)"
   ]
  },
  {
   "cell_type": "code",
   "execution_count": 7,
   "metadata": {},
   "outputs": [
    {
     "name": "stdout",
     "output_type": "stream",
     "text": [
      "max_length:  3835\n"
     ]
    }
   ],
   "source": [
    "# Carrega o valor de max_length de um arquivo pickle\n",
    "caminho_max_length = os.path.join(parent_dir[0],\"Pre-processamento\\\\max_length.pkl\")\n",
    "with open(caminho_max_length, 'rb') as f:\n",
    "    max_length = pickle.load(f)\n",
    "\n",
    "print(\"max_length: \", max_length)"
   ]
  },
  {
   "cell_type": "code",
   "execution_count": 8,
   "metadata": {},
   "outputs": [],
   "source": [
    "# Carrega os embeddings do GLoVe\n",
    "embeddings_index = {}\n",
    "with open('glove.6B.100d.txt', encoding='utf-8') as f:\n",
    "    for line in f:\n",
    "        values = line.split()\n",
    "        word = values[0]\n",
    "        coefs = np.asarray(values[1:], dtype='float32')\n",
    "        embeddings_index[word] = coefs"
   ]
  },
  {
   "cell_type": "code",
   "execution_count": 9,
   "metadata": {},
   "outputs": [],
   "source": [
    "# Prepara a matriz de embedding\n",
    "embedding_dim = 100  # o tamanho do GLoVe embeddings (100)\n",
    "embedding_matrix = np.zeros((len(word_index) + 1, embedding_dim))\n",
    "for word, i in word_index.items():\n",
    "    embedding_vector = embeddings_index.get(word)\n",
    "    if embedding_vector is not None:\n",
    "        embedding_matrix[i] = embedding_vector"
   ]
  },
  {
   "cell_type": "code",
   "execution_count": 10,
   "metadata": {},
   "outputs": [],
   "source": [
    "# One-hot encoding dos labels\n",
    "num_classes = len(np.unique(labels))  # Número de classes únicas\n",
    "labels = to_categorical(labels, num_classes=num_classes)"
   ]
  },
  {
   "cell_type": "code",
   "execution_count": 11,
   "metadata": {},
   "outputs": [],
   "source": [
    "# Realiza o preenchimento das sequências com base no novo 'max_length'\n",
    "padded_sequences = pad_sequences(sequences, maxlen=max_length, padding='post')"
   ]
  },
  {
   "cell_type": "code",
   "execution_count": 12,
   "metadata": {},
   "outputs": [],
   "source": [
    "# Divide os dados em um conjunto de treino (70%) e um conjunto temporário (30%)\n",
    "X_train, X_temp, y_train, y_temp = train_test_split(padded_sequences, labels, test_size=0.3, random_state=42)\n",
    "\n",
    "# Divide o conjunto temporário em conjuntos de validação (15%) e teste (15%)\n",
    "X_val, X_test, y_val, y_test = train_test_split(X_temp, y_temp, test_size=0.5, random_state=42)"
   ]
  },
  {
   "cell_type": "code",
   "execution_count": 13,
   "metadata": {},
   "outputs": [
    {
     "name": "stdout",
     "output_type": "stream",
     "text": [
      "Epoch 1/40\n",
      "488/488 [==============================] - 596s 1s/step - loss: 0.5316 - accuracy: 0.7211 - val_loss: 0.5943 - val_accuracy: 0.7110\n",
      "Epoch 2/40\n",
      "488/488 [==============================] - 596s 1s/step - loss: 0.5344 - accuracy: 0.7123 - val_loss: 0.5355 - val_accuracy: 0.7131\n",
      "Epoch 3/40\n",
      "488/488 [==============================] - 578s 1s/step - loss: 0.4839 - accuracy: 0.7557 - val_loss: 0.4880 - val_accuracy: 0.7481\n",
      "Epoch 4/40\n",
      "488/488 [==============================] - 586s 1s/step - loss: 0.4503 - accuracy: 0.7780 - val_loss: 0.4765 - val_accuracy: 0.7643\n",
      "Epoch 5/40\n",
      "488/488 [==============================] - 593s 1s/step - loss: 0.4040 - accuracy: 0.8175 - val_loss: 0.3237 - val_accuracy: 0.8588\n",
      "Epoch 6/40\n",
      "488/488 [==============================] - 583s 1s/step - loss: 0.3030 - accuracy: 0.8742 - val_loss: 0.2780 - val_accuracy: 0.8860\n",
      "Epoch 7/40\n",
      "488/488 [==============================] - 592s 1s/step - loss: 0.2687 - accuracy: 0.8870 - val_loss: 0.3113 - val_accuracy: 0.8663\n",
      "Epoch 8/40\n",
      "488/488 [==============================] - 592s 1s/step - loss: 0.2416 - accuracy: 0.9005 - val_loss: 0.2517 - val_accuracy: 0.8962\n",
      "Epoch 9/40\n",
      "488/488 [==============================] - 581s 1s/step - loss: 0.2257 - accuracy: 0.9092 - val_loss: 0.2622 - val_accuracy: 0.8932\n",
      "Epoch 10/40\n",
      "488/488 [==============================] - 583s 1s/step - loss: 0.2048 - accuracy: 0.9167 - val_loss: 0.2467 - val_accuracy: 0.8974\n",
      "Epoch 11/40\n",
      "488/488 [==============================] - 581s 1s/step - loss: 0.1898 - accuracy: 0.9253 - val_loss: 0.2478 - val_accuracy: 0.9061\n",
      "Epoch 12/40\n",
      "488/488 [==============================] - 587s 1s/step - loss: 0.1695 - accuracy: 0.9331 - val_loss: 0.2796 - val_accuracy: 0.8812\n",
      "Epoch 13/40\n",
      "488/488 [==============================] - 583s 1s/step - loss: 0.1588 - accuracy: 0.9381 - val_loss: 0.2497 - val_accuracy: 0.8995\n",
      "Epoch 14/40\n",
      "488/488 [==============================] - 584s 1s/step - loss: 0.1427 - accuracy: 0.9452 - val_loss: 0.2568 - val_accuracy: 0.9049\n",
      "Epoch 15/40\n",
      "488/488 [==============================] - 580s 1s/step - loss: 0.1304 - accuracy: 0.9487 - val_loss: 0.2669 - val_accuracy: 0.8965\n"
     ]
    }
   ],
   "source": [
    "# Constrói o modelo\n",
    "model = Sequential()  # Inicialização de um modelo sequencial\n",
    "model.add(Embedding(len(word_index) + 1, embedding_dim, weights=[embedding_matrix], trainable=False))  # Adicionando camada de incorporação com pesos pré-treinados e não treináveis\n",
    "model.add(Bidirectional(LSTM(64, return_sequences=True, implementation=2)))  # Adicionando camada LSTM bidirecional com retorno de sequências\n",
    "model.add(Bidirectional(LSTM(32, implementation=2)))  # Adicionando outra camada LSTM bidirecional\n",
    "model.add(Dense(num_classes, activation='softmax'))  # Adicionando camada densa de saída para classificação multiclasse com ativação softmax\n",
    "\n",
    "# Chamada ao Early Stopping\n",
    "early_stopping = EarlyStopping(monitor='val_loss', patience=5)  # Configuração do Early Stopping para monitoramento da perda de validação e paciência 5\n",
    "\n",
    "model.compile(loss='categorical_crossentropy', optimizer='adam', metrics=['accuracy'])  # Compilação do modelo com função de perda, otimizador e métricas\n",
    "\n",
    "# Treinamento do modelo\n",
    "history = model.fit(X_train, y_train, batch_size=32, epochs=40, validation_data=(X_val, y_val), callbacks=[early_stopping])  # Treinamento do modelo com os dados de treinamento, validação e chamada ao Early Stopping\n"
   ]
  },
  {
   "cell_type": "code",
   "execution_count": 14,
   "metadata": {},
   "outputs": [
    {
     "data": {
      "image/png": "[encoded data removed]",
      "text/plain": [
       "<Figure size 640x480 with 1 Axes>"
      ]
     },
     "metadata": {},
     "output_type": "display_data"
    }
   ],
   "source": [
    "# Plota a perda (loss) e a perda de validação (val_loss) durante o treinamento\n",
    "plt.plot(history.history['loss'], label='Perda treinamento')\n",
    "plt.plot(history.history['val_loss'], label='Perda validação')\n",
    "plt.title('Perda treinamento e validação')\n",
    "plt.xlabel('Epoch')\n",
    "plt.ylabel('Perda')\n",
    "plt.legend()\n",
    "plt.show()"
   ]
  },
  {
   "cell_type": "code",
   "execution_count": 15,
   "metadata": {},
   "outputs": [],
   "source": [
    "# Salva os arquivos\n",
    "model.save('modelo_BiLSTM_glove6b100d.h5')\n",
    "np.save(\"X_test_BiLSTM_glove6b100d.npy\", X_test)\n",
    "np.save(\"y_test_BiLSTM_glove6b100d.npy\", y_test)"
   ]
  }
 ],
 "metadata": {
  "kernelspec": {
   "display_name": "detector",
   "language": "python",
   "name": "python3"
  },
  "language_info": {
   "codemirror_mode": {
    "name": "ipython",
    "version": 3
   },
   "file_extension": ".py",
   "mimetype": "text/x-python",
   "name": "python",
   "nbconvert_exporter": "python",
   "pygments_lexer": "ipython3",
   "version": "3.10.14"
  }
 },
 "nbformat": 4,
 "nbformat_minor": 2
}
