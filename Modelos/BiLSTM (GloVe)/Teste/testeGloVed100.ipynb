{
 "cells": [
  {
   "cell_type": "code",
   "execution_count": 1,
   "metadata": {},
   "outputs": [],
   "source": [
    "from tensorflow.keras.models import load_model\n",
    "import numpy as np\n",
    "import os\n",
    "import pickle\n",
    "import matplotlib.pyplot as plt\n",
    "from sklearn.metrics import precision_score, recall_score, f1_score\n",
    "import string\n",
    "import unicodedata\n",
    "from tqdm import tqdm\n",
    "import spacy\n",
    "import pandas as pd\n",
    "from tensorflow.keras.preprocessing.sequence import pad_sequences\n",
    "from sklearn.preprocessing import LabelEncoder\n",
    "from sklearn.metrics import confusion_matrix"
   ]
  },
  {
   "cell_type": "code",
   "execution_count": 2,
   "metadata": {},
   "outputs": [],
   "source": [
    "# Encontra diretorio atual\n",
    "atual_dir = os.getcwd()\n",
    "\n",
    "# Acessa arquivo pkl das noticias\n",
    "parent_dir = os.path.split(atual_dir)\n",
    "\n",
    "caminho_modelo = os.path.join(parent_dir[0],\"Treinamento\\\\modelo_BiLSTM_glove6b100d.h5\")\n",
    "caminho_X_test = os.path.join(parent_dir[0],\"Treinamento\\\\X_test_BiLSTM_glove6b100d.npy\")\n",
    "caminho_y_test = os.path.join(parent_dir[0],\"Treinamento\\\\y_test_BiLSTM_glove6b100d.npy\")\n",
    "\n",
    "# Carrega arquivos pertinentes ao treinamento da rede neural e X_test e y_test (usados na avaliação de resultados)\n",
    "model = load_model(caminho_modelo)\n",
    "X_test = np.load(caminho_X_test)\n",
    "y_test = np.load(caminho_y_test)"
   ]
  },
  {
   "cell_type": "code",
   "execution_count": 3,
   "metadata": {},
   "outputs": [
    {
     "name": "stdout",
     "output_type": "stream",
     "text": [
      "105/105 [==============================] - 50s 462ms/step - loss: 0.3091 - accuracy: 0.8893\n",
      "Acurácia final: 0.889320969581604\n"
     ]
    }
   ],
   "source": [
    "loss, accuracy = model.evaluate(X_test, y_test)\n",
    "print('Acurácia final:', accuracy)"
   ]
  },
  {
   "cell_type": "code",
   "execution_count": 4,
   "metadata": {},
   "outputs": [
    {
     "name": "stdout",
     "output_type": "stream",
     "text": [
      "105/105 [==============================] - 49s 453ms/step\n"
     ]
    }
   ],
   "source": [
    "# Faz as previsões do modelo para o conjunto de teste\n",
    "y_pred = model.predict(X_test)"
   ]
  },
  {
   "cell_type": "code",
   "execution_count": 5,
   "metadata": {},
   "outputs": [
    {
     "data": {
      "text/plain": [
       "array([[1450,  186],\n",
       "       [ 184, 1523]], dtype=int64)"
      ]
     },
     "execution_count": 5,
     "metadata": {},
     "output_type": "execute_result"
    }
   ],
   "source": [
    "#Transforma as previsões de volta em rótulos\n",
    "y_pred_labels = np.argmax(y_pred, axis=1)\n",
    "y_true_labels = np.argmax(y_test, axis=1)\n",
    "\n",
    "# Calcula a matriz de confusão\n",
    "conf_mat = confusion_matrix(y_true_labels, y_pred_labels)\n",
    "\n",
    "conf_mat"
   ]
  },
  {
   "cell_type": "code",
   "execution_count": 6,
   "metadata": {},
   "outputs": [],
   "source": [
    "# Encontra diretorio atual\n",
    "atual_dir = os.getcwd()\n",
    "\n",
    "# Acessa arquivo pkl das noticias\n",
    "parent_dir = os.path.split(atual_dir)\n",
    "\n",
    "parent_dir = os.path.split(parent_dir[0])\n",
    "\n",
    "parent_dir = os.path.split(parent_dir[0])\n",
    "\n",
    "# Carrega dataframe salvo em formato pickle\n",
    "caminho_noticias = os.path.join(parent_dir[0],\"Pre-processamento\\\\df_pre_processado.pkl\")\n",
    "\n",
    "with open(caminho_noticias, 'rb') as f:\n",
    "    df = pickle.load(f)"
   ]
  },
  {
   "cell_type": "code",
   "execution_count": 7,
   "metadata": {},
   "outputs": [],
   "source": [
    "# Total de classes\n",
    "classes = df['label'].nunique()"
   ]
  },
  {
   "cell_type": "code",
   "execution_count": 8,
   "metadata": {},
   "outputs": [],
   "source": [
    "# Lê o arquivo .csv\n",
    "caminho_csv = os.path.join(parent_dir[0], \"Pre-processamento\\\\noticias_dados_limpos.csv\")\n",
    "df_csv = pd.read_csv(caminho_csv)\n",
    "\n",
    "# Cria um objeto LabelEncoder\n",
    "le = LabelEncoder()\n",
    "\n",
    "# Transforma os rótulos de categorias para variáveis categóricas\n",
    "df_csv['label'] = le.fit_transform(df_csv['Categoria'])\n",
    "\n",
    "# Obtém os nomes das classes\n",
    "nomes_classes = le.classes_"
   ]
  },
  {
   "cell_type": "code",
   "execution_count": 9,
   "metadata": {},
   "outputs": [
    {
     "data": {
      "image/png": "[encoded data removed]",
      "text/plain": [
       "<Figure size 1500x1000 with 2 Axes>"
      ]
     },
     "metadata": {},
     "output_type": "display_data"
    }
   ],
   "source": [
    "# Define o tamanho da figura\n",
    "plt.figure(figsize=(15, 10))\n",
    "\n",
    "# Define mapa de cores\n",
    "cmap = plt.cm.Blues\n",
    "\n",
    "# Plota matriz de confusão\n",
    "plt.imshow(conf_mat, cmap=cmap)\n",
    "plt.colorbar()\n",
    "\n",
    "# Adiciona rótulos à matriz\n",
    "plt.xticks([int(i) for i in range(classes)], nomes_classes, rotation=45)\n",
    "plt.yticks([int(i) for i in range(classes)], nomes_classes)\n",
    "\n",
    "for i in range(classes):\n",
    "    for j in range(classes):\n",
    "        plt.text(j, i, str(conf_mat[i, j]), ha='center', va='center',\n",
    "                 color='white' if conf_mat[i, j] > len(y_true_labels) / classes else 'black')\n",
    "\n",
    "# Adiciona rótulos dos eixos\n",
    "plt.xlabel('Classe prevista')\n",
    "plt.ylabel('Classe real')\n",
    "\n",
    "# Mostra o plot\n",
    "plt.show()"
   ]
  },
  {
   "cell_type": "code",
   "execution_count": 10,
   "metadata": {},
   "outputs": [
    {
     "name": "stdout",
     "output_type": "stream",
     "text": [
      "Class 'Falso': Precision=0.8874, Recall=0.8863, F1-Score=0.8869\n",
      "Class 'Real': Precision=0.8912, Recall=0.8922, F1-Score=0.8917\n",
      "Average F1-Score: 0.8893\n"
     ]
    }
   ],
   "source": [
    "# Calcula precisão, recall e f1-score para cada classe\n",
    "precisions = []\n",
    "recalls = []\n",
    "f1_scores = []\n",
    "for i in range(classes):\n",
    "    precision = precision_score(y_true=(y_true_labels == i), y_pred=(y_pred_labels == i), zero_division=0)\n",
    "    recall = recall_score(y_true=(y_true_labels == i), y_pred=(y_pred_labels == i), zero_division=0)\n",
    "    f1 = f1_score(y_true=(y_true_labels == i), y_pred=(y_pred_labels == i), zero_division=0)\n",
    "    precisions.append(precision)\n",
    "    recalls.append(recall)\n",
    "    f1_scores.append(f1)\n",
    "\n",
    "# Printa resultados com nomes das classes\n",
    "for i in range(classes):\n",
    "    print(f\"Class '{nomes_classes[i]}': Precision={precisions[i]:.4f}, Recall={recalls[i]:.4f}, F1-Score={f1_scores[i]:.4f}\")\n",
    "\n",
    "# Calcula e printa a média dos f1-scores\n",
    "f1_average = np.mean(f1_scores)\n",
    "print(f\"Average F1-Score: {f1_average:.4f}\")\n"
   ]
  },
  {
   "cell_type": "code",
   "execution_count": 11,
   "metadata": {},
   "outputs": [],
   "source": [
    "# Carrega o valor de max_length de um arquivo pickle\n",
    "caminho_max_length = os.path.join(parent_dir[0],\"Pre-processamento\\\\max_length.pkl\")\n",
    "with open(caminho_max_length, 'rb') as f:\n",
    "    max_length = pickle.load(f)"
   ]
  },
  {
   "cell_type": "code",
   "execution_count": 12,
   "metadata": {},
   "outputs": [],
   "source": [
    "# Habilita tqdm para os métodos de progressão do pandas (progress_apply)\n",
    "tqdm.pandas()\n",
    "\n",
    "# Modelo de linguagem 'pt_core_news_lg' do spacy utilizado para processamento de texto em português\n",
    "# Desabilita os componentes 'parser' e 'ner', já que não são necessários para a lematização\n",
    "modelo_spacy_nlp = spacy.load(\"pt_core_news_lg\", disable=[\"parser\", \"ner\"])\n",
    "\n",
    "def preprocessamento_dados(df, coluna_texto):\n",
    "# Realiza o pré-processamento dos dados de um texto em um Dataframe do Pandas.\n",
    "# Realiza a remoção de pontuação, números e stop words, converte para minúsculas, remove acentos e símbolos diversos, e aplica lematização. \n",
    "\n",
    "    # Remove pontuação\n",
    "    print(\"Removendo pontuação...\")\n",
    "    tradutor = str.maketrans('', '', string.punctuation)# Mapeamento de ocorrências de string.punctuation para None\n",
    "    df[coluna_texto] = df[coluna_texto].progress_apply(lambda x: x.translate(tradutor))\n",
    "\n",
    "    # Remove números\n",
    "    print(\"Removendo números...\")\n",
    "    tradutor = str.maketrans('', '', string.digits)\n",
    "    df[coluna_texto] = df[coluna_texto].progress_apply(lambda x: x.translate(tradutor))\n",
    "\n",
    "    # Remove acentos e símbolos diversos\n",
    "    print(\"Removendo acentos e símbolos...\")\n",
    "    def remove_acentos_e_simbolos(text):\n",
    "        try:\n",
    "            return ''.join(c for c in unicodedata.normalize('NFKD', text) if not unicodedata.combining(c) and unicodedata.category(c) != 'Mn')\n",
    "        except TypeError:\n",
    "            return ''\n",
    "\n",
    "\n",
    "    df[coluna_texto] = df[coluna_texto].progress_apply(lambda x: remove_acentos_e_simbolos(x))\n",
    "    \n",
    "    # Converte para minúsculas\n",
    "    print(\"Convertendo para minúsculas...\")\n",
    "    df[coluna_texto] = df[coluna_texto].progress_apply(lambda x: x.lower())\n",
    "\n",
    "    # Lematização\n",
    "    print(\"Computando Lematização...\")\n",
    "    def lematizar_texto(doc):\n",
    "        return [token.lemma_ for token in doc if not token.is_stop]\n",
    "\n",
    "    n_chunks = 10  # Ajuste esse valor de acordo com o tamanho da base de dados e a memória disponível no sistema\n",
    "    chunks = np.array_split(df, n_chunks) # Divide o dataframe em várias partes\n",
    "\n",
    "    chunks_processados = []\n",
    "    for i, chunk in enumerate(chunks):\n",
    "        print(f\"Processando segmento {i + 1} de {n_chunks}\")\n",
    "        chunk_processado = chunk.copy() # Cria uma cópia para realizar o processamento\n",
    "        \n",
    "        chunk_processado[coluna_texto] = [lematizar_texto(doc) for doc in tqdm(modelo_spacy_nlp.pipe(chunk[coluna_texto].astype(str), batch_size=100, disable=['parser', 'ner']), total=len(chunk[coluna_texto]))]\n",
    "\n",
    "        chunks_processados.append(chunk_processado)\n",
    "\n",
    "    df_concatenado = pd.concat(chunks_processados) # Concatenar os DataFrames processados\n",
    "\n",
    "    df[coluna_texto] = df_concatenado[coluna_texto] # Atribuir a coluna 'texto' processada de volta ao dataframe original\n",
    "    \n",
    "    # Remove tokens com espaços vazios\n",
    "    print(\"Remover tokens com espaços vazios...\")\n",
    "    df['Texto'] = df['Texto'].progress_apply(lambda x: [token for token in x if token.strip()])"
   ]
  },
  {
   "cell_type": "code",
   "execution_count": 13,
   "metadata": {},
   "outputs": [],
   "source": [
    "# Encontra diretorio atual\n",
    "atual_dir = os.getcwd()\n",
    "\n",
    "# Acessa arquivo pkl das noticias\n",
    "parent_dir = os.path.split(atual_dir)\n",
    "\n",
    "parent_dir = os.path.split(parent_dir[0])\n",
    "\n",
    "parent_dir = os.path.split(parent_dir[0])\n",
    "\n",
    "caminho = os.path.join(parent_dir[0], \"Modelos\\\\BiLSTM (GloVe)\\\\Treinamento\\\\tokenizer.pkl\")\n",
    "\n",
    "# Carrega o tokenizador de um arquivo\n",
    "with open(caminho, 'rb') as file:\n",
    "    tokenizer = pickle.load(file)\n"
   ]
  },
  {
   "cell_type": "code",
   "execution_count": 14,
   "metadata": {},
   "outputs": [
    {
     "name": "stdout",
     "output_type": "stream",
     "text": [
      "Removendo pontuação...\n"
     ]
    },
    {
     "name": "stderr",
     "output_type": "stream",
     "text": [
      "100%|██████████| 1/1 [00:00<00:00, 495.84it/s]"
     ]
    },
    {
     "name": "stdout",
     "output_type": "stream",
     "text": [
      "Removendo números...\n"
     ]
    },
    {
     "name": "stderr",
     "output_type": "stream",
     "text": [
      "\n",
      "100%|██████████| 1/1 [00:00<?, ?it/s]\n"
     ]
    },
    {
     "name": "stdout",
     "output_type": "stream",
     "text": [
      "Removendo acentos e símbolos...\n"
     ]
    },
    {
     "name": "stderr",
     "output_type": "stream",
     "text": [
      "100%|██████████| 1/1 [00:00<00:00, 249.56it/s]\n"
     ]
    },
    {
     "name": "stdout",
     "output_type": "stream",
     "text": [
      "Convertendo para minúsculas...\n"
     ]
    },
    {
     "name": "stderr",
     "output_type": "stream",
     "text": [
      "100%|██████████| 1/1 [00:00<?, ?it/s]\n",
      "c:\\Users\\mathe\\anaconda3\\envs\\detector\\lib\\site-packages\\numpy\\core\\fromnumeric.py:57: FutureWarning: 'DataFrame.swapaxes' is deprecated and will be removed in a future version. Please use 'DataFrame.transpose' instead.\n",
      "  return bound(*args, **kwds)\n"
     ]
    },
    {
     "name": "stdout",
     "output_type": "stream",
     "text": [
      "Computando Lematização...\n",
      "Processando segmento 1 de 10\n"
     ]
    },
    {
     "name": "stderr",
     "output_type": "stream",
     "text": [
      "100%|██████████| 1/1 [00:00<00:00, 13.51it/s]\n"
     ]
    },
    {
     "name": "stdout",
     "output_type": "stream",
     "text": [
      "Processando segmento 2 de 10\n"
     ]
    },
    {
     "name": "stderr",
     "output_type": "stream",
     "text": [
      "0it [00:00, ?it/s]\n"
     ]
    },
    {
     "name": "stdout",
     "output_type": "stream",
     "text": [
      "Processando segmento 3 de 10\n"
     ]
    },
    {
     "name": "stderr",
     "output_type": "stream",
     "text": [
      "0it [00:00, ?it/s]\n"
     ]
    },
    {
     "name": "stdout",
     "output_type": "stream",
     "text": [
      "Processando segmento 4 de 10\n"
     ]
    },
    {
     "name": "stderr",
     "output_type": "stream",
     "text": [
      "0it [00:00, ?it/s]\n"
     ]
    },
    {
     "name": "stdout",
     "output_type": "stream",
     "text": [
      "Processando segmento 5 de 10\n"
     ]
    },
    {
     "name": "stderr",
     "output_type": "stream",
     "text": [
      "0it [00:00, ?it/s]\n"
     ]
    },
    {
     "name": "stdout",
     "output_type": "stream",
     "text": [
      "Processando segmento 6 de 10\n"
     ]
    },
    {
     "name": "stderr",
     "output_type": "stream",
     "text": [
      "0it [00:00, ?it/s]\n"
     ]
    },
    {
     "name": "stdout",
     "output_type": "stream",
     "text": [
      "Processando segmento 7 de 10\n"
     ]
    },
    {
     "name": "stderr",
     "output_type": "stream",
     "text": [
      "0it [00:00, ?it/s]\n"
     ]
    },
    {
     "name": "stdout",
     "output_type": "stream",
     "text": [
      "Processando segmento 8 de 10\n"
     ]
    },
    {
     "name": "stderr",
     "output_type": "stream",
     "text": [
      "0it [00:00, ?it/s]\n"
     ]
    },
    {
     "name": "stdout",
     "output_type": "stream",
     "text": [
      "Processando segmento 9 de 10\n"
     ]
    },
    {
     "name": "stderr",
     "output_type": "stream",
     "text": [
      "0it [00:00, ?it/s]\n"
     ]
    },
    {
     "name": "stdout",
     "output_type": "stream",
     "text": [
      "Processando segmento 10 de 10\n"
     ]
    },
    {
     "name": "stderr",
     "output_type": "stream",
     "text": [
      "0it [00:00, ?it/s]\n"
     ]
    },
    {
     "name": "stdout",
     "output_type": "stream",
     "text": [
      "Remover tokens com espaços vazios...\n"
     ]
    },
    {
     "name": "stderr",
     "output_type": "stream",
     "text": [
      "100%|██████████| 1/1 [00:00<00:00, 982.27it/s]\n",
      "100%|██████████| 1/1 [00:00<?, ?it/s]\n"
     ]
    },
    {
     "name": "stdout",
     "output_type": "stream",
     "text": [
      "1/1 [==============================] - 1s 596ms/step\n"
     ]
    }
   ],
   "source": [
    "# Dataframe simples com uma notícia só para aplicar a função preprocess_data\n",
    "\n",
    "value = \"\"\"Conselho de Segurança da ONU aprova resolução de cessar-fogo imediato em Gaza\n",
    "Texto aprovado estipula que a pausa aconteça durante o Ramadã, que começou em 10 de março e vai até 9 de abril. Documento é de cumprimento obrigatório, mas ONU não tem poder coercitivo. Secretário-geral da ONU, Antonio Guterres, pediu que o governo israelense acatasse a decisão do conselho.\n",
    "O Conselho de Segurança da Organização das Nações Unidas (ONU) aprovou nesta segunda-feira (25) uma resolução de cessar-fogo imediato na Faixa de Gaza.\n",
    "A resolução, feita por um grupo de dez países rotativos liderados por Moçambique, é a primeira que o conselho conseguiu aprovar sobre um cessar-fogo no território palestino.\n",
    "\n",
    "Israel promove uma ofensiva militar no território palestino desde que terroristas do Hamas invadiram o território israelense e mataram centenas de pessoas, em outubro de 2023.\n",
    "\n",
    "A aprovação, no entanto, não uma solução para a guerra. O desafio agora é garantir que os atores envolvidos nela - o governo de Israel e o grupo terrorista - cumpram as determinações exigidas no texto da ONU.\n",
    "\n",
    "Isso porque, embora as resoluções do Conselho de Segurança sejam juridicamente vinculativas, na prática acabam ignoradas por muitos países.\n",
    "\n",
    "O secretário-geral da ONU, Antonio Guterres, pediu que o governo israelense acatasse a decisão do conselho.\n",
    "\n",
    "Do que se trata\n",
    "O texto determina um cessar-fogo durante o mês do Ramadã, o período sagrado para os muçulmanos — que começou dia 10 e termina em 9 de abril—, mas pede que a trégua aumente até virar permanente.\n",
    "\n",
    "A resolução também pede a \"libertação imediata e incondicional de reféns\" e “a necessidade urgente de expandir o fluxo” de ajuda humanitária para Gaza.\n",
    "O Conselho de Segurança é formado por 15 países: cinco com assento permanente (China, França, Rússia, Reino Unido e Estados Unidos) e dez rotativos (Argélia, Equador, Guiana, Japão, Malta, Moçambique, Coréia do Sul, Serra Leoa, Eslovênia e Suíça).\n",
    "\n",
    "Na semana passada, uma resolução dos EUA pedindo a pausa nos bombardeios foi vetada pela China e pela Rússia, que estão entre os cinco membros permanentes do Conselho de Segurança e, por isso, têm poder de veto.\n",
    "\n",
    "Proposta dos EUA vetada\n",
    "A proposta dos EUA, uma mudança de posição de Washington na guerra entre Israel e Hamas, previa o cessar-fogo imediato na guerra entre Israel e o grupo terrorista Hamas, além da libertação de reféns.\n",
    "\n",
    "Ao justificar seu voto, o embaixador da Rússia na ONU, Vassily Nebenzia, acusou os EUA de falsas promessas e de só reconhecer a necessidade de um cessar-fogo \"quando mais de 30 mil habitantes de Gaza já morreram\".\n",
    "\"\"\"\n",
    "\n",
    "# Cria um DataFrame\n",
    "df_predict = pd.DataFrame(data={'Texto': [value]})\n",
    "\n",
    "# Faz pré-processamento\n",
    "preprocessamento_dados(df_predict, 'Texto')\n",
    "\n",
    "# Converte os dados para serem usados no modelo (rede neural)\n",
    "preprocessed_articles = df_predict['Texto'].tolist()\n",
    "\n",
    "sequences_test = []\n",
    "for text in tqdm(preprocessed_articles):\n",
    "    # Converte o texto em sequências de tokens usando o tokenizer\n",
    "    sequence = tokenizer.texts_to_sequences([text])[0]\n",
    "    sequences_test.append(sequence)\n",
    "    \n",
    "padded_example = pad_sequences(sequences_test, maxlen=max_length, padding='post')\n",
    "\n",
    "# Faz a previsão usando o modelo\n",
    "predictions = model.predict(padded_example)"
   ]
  },
  {
   "cell_type": "code",
   "execution_count": 15,
   "metadata": {},
   "outputs": [
    {
     "data": {
      "text/plain": [
       "array([[0.03358713, 0.9664129 ]], dtype=float32)"
      ]
     },
     "execution_count": 15,
     "metadata": {},
     "output_type": "execute_result"
    }
   ],
   "source": [
    "predictions"
   ]
  },
  {
   "cell_type": "code",
   "execution_count": 16,
   "metadata": {},
   "outputs": [
    {
     "name": "stdout",
     "output_type": "stream",
     "text": [
      "Classe prevista: 1\n",
      "Classe prevista (nome): Real\n"
     ]
    }
   ],
   "source": [
    "# Identifica a classe com a maior probabilidade\n",
    "predicted_class = np.argmax(predictions)\n",
    "\n",
    "# Exibe a classe prevista\n",
    "print(f\"Classe prevista: {predicted_class}\")\n",
    "\n",
    "predicted_class_name = le.inverse_transform([predicted_class]) # Transforma a classe predita de variável categórica para o nome\n",
    "print(f\"Classe prevista (nome): {predicted_class_name[0]}\")"
   ]
  },
  {
   "cell_type": "code",
   "execution_count": 17,
   "metadata": {},
   "outputs": [
    {
     "name": "stdout",
     "output_type": "stream",
     "text": [
      "Removendo pontuação...\n"
     ]
    },
    {
     "name": "stderr",
     "output_type": "stream",
     "text": [
      "100%|██████████| 1/1 [00:00<?, ?it/s]\n"
     ]
    },
    {
     "name": "stdout",
     "output_type": "stream",
     "text": [
      "Removendo números...\n"
     ]
    },
    {
     "name": "stderr",
     "output_type": "stream",
     "text": [
      "100%|██████████| 1/1 [00:00<?, ?it/s]\n"
     ]
    },
    {
     "name": "stdout",
     "output_type": "stream",
     "text": [
      "Removendo acentos e símbolos...\n"
     ]
    },
    {
     "name": "stderr",
     "output_type": "stream",
     "text": [
      "100%|██████████| 1/1 [00:00<00:00, 997.22it/s]\n"
     ]
    },
    {
     "name": "stdout",
     "output_type": "stream",
     "text": [
      "Convertendo para minúsculas...\n"
     ]
    },
    {
     "name": "stderr",
     "output_type": "stream",
     "text": [
      "100%|██████████| 1/1 [00:00<00:00, 1029.28it/s]\n",
      "c:\\Users\\mathe\\anaconda3\\envs\\detector\\lib\\site-packages\\numpy\\core\\fromnumeric.py:57: FutureWarning: 'DataFrame.swapaxes' is deprecated and will be removed in a future version. Please use 'DataFrame.transpose' instead.\n",
      "  return bound(*args, **kwds)\n"
     ]
    },
    {
     "name": "stdout",
     "output_type": "stream",
     "text": [
      "Computando Lematização...\n",
      "Processando segmento 1 de 10\n"
     ]
    },
    {
     "name": "stderr",
     "output_type": "stream",
     "text": [
      "100%|██████████| 1/1 [00:00<00:00, 30.31it/s]\n"
     ]
    },
    {
     "name": "stdout",
     "output_type": "stream",
     "text": [
      "Processando segmento 2 de 10\n"
     ]
    },
    {
     "name": "stderr",
     "output_type": "stream",
     "text": [
      "0it [00:00, ?it/s]\n"
     ]
    },
    {
     "name": "stdout",
     "output_type": "stream",
     "text": [
      "Processando segmento 3 de 10\n"
     ]
    },
    {
     "name": "stderr",
     "output_type": "stream",
     "text": [
      "0it [00:00, ?it/s]\n"
     ]
    },
    {
     "name": "stdout",
     "output_type": "stream",
     "text": [
      "Processando segmento 4 de 10\n"
     ]
    },
    {
     "name": "stderr",
     "output_type": "stream",
     "text": [
      "0it [00:00, ?it/s]"
     ]
    },
    {
     "name": "stdout",
     "output_type": "stream",
     "text": [
      "Processando segmento 5 de 10\n"
     ]
    },
    {
     "name": "stderr",
     "output_type": "stream",
     "text": [
      "\n",
      "0it [00:00, ?it/s]\n"
     ]
    },
    {
     "name": "stdout",
     "output_type": "stream",
     "text": [
      "Processando segmento 6 de 10\n"
     ]
    },
    {
     "name": "stderr",
     "output_type": "stream",
     "text": [
      "0it [00:00, ?it/s]\n"
     ]
    },
    {
     "name": "stdout",
     "output_type": "stream",
     "text": [
      "Processando segmento 7 de 10\n"
     ]
    },
    {
     "name": "stderr",
     "output_type": "stream",
     "text": [
      "0it [00:00, ?it/s]\n"
     ]
    },
    {
     "name": "stdout",
     "output_type": "stream",
     "text": [
      "Processando segmento 8 de 10\n"
     ]
    },
    {
     "name": "stderr",
     "output_type": "stream",
     "text": [
      "0it [00:00, ?it/s]\n"
     ]
    },
    {
     "name": "stdout",
     "output_type": "stream",
     "text": [
      "Processando segmento 9 de 10\n"
     ]
    },
    {
     "name": "stderr",
     "output_type": "stream",
     "text": [
      "0it [00:00, ?it/s]\n"
     ]
    },
    {
     "name": "stdout",
     "output_type": "stream",
     "text": [
      "Processando segmento 10 de 10\n"
     ]
    },
    {
     "name": "stderr",
     "output_type": "stream",
     "text": [
      "0it [00:00, ?it/s]\n"
     ]
    },
    {
     "name": "stdout",
     "output_type": "stream",
     "text": [
      "Remover tokens com espaços vazios...\n"
     ]
    },
    {
     "name": "stderr",
     "output_type": "stream",
     "text": [
      "100%|██████████| 1/1 [00:00<00:00, 1045.44it/s]\n",
      "100%|██████████| 1/1 [00:00<?, ?it/s]\n"
     ]
    },
    {
     "name": "stdout",
     "output_type": "stream",
     "text": [
      "1/1 [==============================] - 0s 491ms/step\n"
     ]
    }
   ],
   "source": [
    "# Dataframe simples com uma notícia só para aplicar a função preprocess_data\n",
    "\n",
    "value = \"\"\"\n",
    "\"Estudo Inovador Afirma que Ficar de Pijama o Dia Todo Aumenta a Produtividade\"\n",
    "\n",
    "Uma pesquisa recente realizada por uma equipe de psicólogos da Universidade de Bem-Estar Mental revelou uma descoberta surpreendente: ficar de pijama durante o dia pode aumentar significativamente a produtividade.\n",
    "\n",
    "Segundo os pesquisadores, vestir pijamas cria uma sensação de conforto e relaxamento, o que reduz os níveis de estresse e ansiedade. Isso, por sua vez, permite que as pessoas se concentrem mais em suas tarefas e sejam mais eficientes em seu trabalho.\n",
    "\n",
    "O estudo, que acompanhou mais de mil participantes ao longo de seis meses, descobriu que aqueles que adotaram a prática de trabalhar de pijama relataram uma melhoria notável em sua capacidade de concentração e tomada de decisões. Além disso, muitos participantes relataram sentir-se mais motivados e criativos em suas atividades diárias.\n",
    "\n",
    "Essa descoberta desafia a noção convencional de que vestir roupas formais é essencial para o sucesso profissional. Os pesquisadores agora estão explorando maneiras de integrar essa prática inovadora em ambientes de trabalho tradicionais, potencialmente revolucionando a cultura corporativa.\n",
    "\n",
    "Portanto, se você está procurando aumentar sua produtividade, talvez seja hora de abandonar o terno e adotar o conforto do pijama durante o expediente!\n",
    "\"\"\"\n",
    "\n",
    "# Cria um DataFrame\n",
    "df_predict = pd.DataFrame(data={'Texto': [value]})\n",
    "\n",
    "# Faz pré-processamento\n",
    "preprocessamento_dados(df_predict, 'Texto')\n",
    "\n",
    "# Converte os dados para serem usados no modelo (rede neural)\n",
    "preprocessed_articles = df_predict['Texto'].tolist()\n",
    "\n",
    "sequences_test = []\n",
    "for text in tqdm(preprocessed_articles):\n",
    "    # Converte o texto em sequências de tokens usando o tokenizer\n",
    "    sequence = tokenizer.texts_to_sequences([text])[0]\n",
    "    sequences_test.append(sequence)\n",
    "    \n",
    "padded_example = pad_sequences(sequences_test, maxlen=max_length, padding='post')\n",
    "\n",
    "# Faz a previsão usando o modelo\n",
    "predictions = model.predict(padded_example)"
   ]
  },
  {
   "cell_type": "code",
   "execution_count": 18,
   "metadata": {},
   "outputs": [
    {
     "name": "stdout",
     "output_type": "stream",
     "text": [
      "Classe prevista: 0\n",
      "Classe prevista (nome): Falso\n"
     ]
    }
   ],
   "source": [
    "# Identifica a classe com a maior probabilidade\n",
    "predicted_class = np.argmax(predictions)\n",
    "\n",
    "# Exibe a classe prevista\n",
    "print(f\"Classe prevista: {predicted_class}\")\n",
    "\n",
    "predicted_class_name = le.inverse_transform([predicted_class]) # Transforma a classe predita de variável categórica para o nome\n",
    "print(f\"Classe prevista (nome): {predicted_class_name[0]}\")"
   ]
  }
 ],
 "metadata": {
  "kernelspec": {
   "display_name": "detector",
   "language": "python",
   "name": "python3"
  },
  "language_info": {
   "codemirror_mode": {
    "name": "ipython",
    "version": 3
   },
   "file_extension": ".py",
   "mimetype": "text/x-python",
   "name": "python",
   "nbconvert_exporter": "python",
   "pygments_lexer": "ipython3",
   "version": "3.10.14"
  }
 },
 "nbformat": 4,
 "nbformat_minor": 2
}
