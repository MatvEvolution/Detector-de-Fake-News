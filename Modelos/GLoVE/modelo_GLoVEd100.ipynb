{
 "cells": [
  {
   "cell_type": "code",
   "execution_count": 3,
   "metadata": {},
   "outputs": [],
   "source": [
    "import tensorflow as tf\n",
    "from tensorflow.keras.preprocessing.text import Tokenizer\n",
    "from tensorflow.keras.preprocessing.sequence import pad_sequences\n",
    "from tensorflow.keras.layers import Embedding, LSTM, Dense, Bidirectional\n",
    "from tensorflow.keras.models import Sequential\n",
    "from tensorflow.keras.utils import to_categorical\n",
    "from tensorflow.keras.callbacks import EarlyStopping\n",
    "\n",
    "import pandas as pd\n",
    "\n",
    "# Carregar dataframe salvo em formato pickle\n",
    "df = pd.read_pickle(\"ge_df.pkl\")"
   ]
  },
  {
   "cell_type": "code",
   "execution_count": 4,
   "metadata": {},
   "outputs": [
    {
     "data": {
      "text/html": [
       "<div>\n",
       "<style scoped>\n",
       "    .dataframe tbody tr th:only-of-type {\n",
       "        vertical-align: middle;\n",
       "    }\n",
       "\n",
       "    .dataframe tbody tr th {\n",
       "        vertical-align: top;\n",
       "    }\n",
       "\n",
       "    .dataframe thead th {\n",
       "        text-align: right;\n",
       "    }\n",
       "</style>\n",
       "<table border=\"1\" class=\"dataframe\">\n",
       "  <thead>\n",
       "    <tr style=\"text-align: right;\">\n",
       "      <th></th>\n",
       "      <th>Texto</th>\n",
       "      <th>label</th>\n",
       "    </tr>\n",
       "  </thead>\n",
       "  <tbody>\n",
       "    <tr>\n",
       "      <th>0</th>\n",
       "      <td>[poder, decidir, expulsar, deputado, federal, ...</td>\n",
       "      <td>1</td>\n",
       "    </tr>\n",
       "    <tr>\n",
       "      <th>1</th>\n",
       "      <td>[bolsonaro, liberal, completo, presidente, psl...</td>\n",
       "      <td>1</td>\n",
       "    </tr>\n",
       "    <tr>\n",
       "      <th>2</th>\n",
       "      <td>[ministro, stf, liberar, Andrea, Neves, prisao...</td>\n",
       "      <td>1</td>\n",
       "    </tr>\n",
       "    <tr>\n",
       "      <th>3</th>\n",
       "      <td>[apesar, abundancia, crescer, preocupacao, pre...</td>\n",
       "      <td>1</td>\n",
       "    </tr>\n",
       "    <tr>\n",
       "      <th>4</th>\n",
       "      <td>[harvard, mit, levarao, dilma, moro, suplicy, ...</td>\n",
       "      <td>1</td>\n",
       "    </tr>\n",
       "  </tbody>\n",
       "</table>\n",
       "</div>"
      ],
      "text/plain": [
       "                                               Texto  label\n",
       "0  [poder, decidir, expulsar, deputado, federal, ...      1\n",
       "1  [bolsonaro, liberal, completo, presidente, psl...      1\n",
       "2  [ministro, stf, liberar, Andrea, Neves, prisao...      1\n",
       "3  [apesar, abundancia, crescer, preocupacao, pre...      1\n",
       "4  [harvard, mit, levarao, dilma, moro, suplicy, ...      1"
      ]
     },
     "execution_count": 4,
     "metadata": {},
     "output_type": "execute_result"
    }
   ],
   "source": [
    "df.head()"
   ]
  },
  {
   "cell_type": "code",
   "execution_count": 5,
   "metadata": {},
   "outputs": [],
   "source": [
    "# Converte a coluna 'Texto' do DataFrame em uma lista e armazena na variável texts. O mesmo com as labels\n",
    "texts = df['Texto'].tolist()\n",
    "labels = df['label'].tolist()  # Rótulos das notícias"
   ]
  },
  {
   "cell_type": "code",
   "execution_count": 6,
   "metadata": {},
   "outputs": [],
   "source": [
    "# Tokenização\n",
    "tokenizer = Tokenizer()\n",
    "tokenizer.fit_on_texts(texts)\n",
    "sequences = tokenizer.texts_to_sequences(texts)\n",
    "word_index = tokenizer.word_index"
   ]
  },
  {
   "cell_type": "code",
   "execution_count": 7,
   "metadata": {},
   "outputs": [
    {
     "data": {
      "text/plain": [
       "{'nao': 1,\n",
       " '“': 2,\n",
       " '”': 3,\n",
       " 'ano': 4,\n",
       " 'dizer': 5,\n",
       " 'ser': 6,\n",
       " 'lula': 7,\n",
       " 'tambem': 8,\n",
       " 'sao': 9,\n",
       " 'presidente': 10,\n",
       " 'ter': 11,\n",
       " 'federal': 12,\n",
       " 'ja': 13,\n",
       " 'governo': 14,\n",
       " 'afirmar': 15,\n",
       " 'dia': 16,\n",
       " 'r': 17,\n",
       " 'pessoa': 18,\n",
       " 'brasil': 19,\n",
       " 'temer': 20,\n",
       " 'pai': 21,\n",
       " 'ate': 22,\n",
       " 'caso': 23,\n",
       " 'ha': 24,\n",
       " 'expresidente': 25,\n",
       " 'ministro': 26,\n",
       " '–': 27,\n",
       " 'haver': 28,\n",
       " 'fazer': 29,\n",
       " 'politico': 30,\n",
       " 'publico': 31,\n",
       " 'ficar': 32,\n",
       " 'empresa': 33,\n",
       " 'processo': 34,\n",
       " 'acordo': 35,\n",
       " 'milhoes': 36,\n",
       " 'policia': 37,\n",
       " 'receber': 38,\n",
       " 'justica': 39,\n",
       " 'jato': 40,\n",
       " 'dilma': 41,\n",
       " 'defesa': 42,\n",
       " 'paulo': 43,\n",
       " 'falar': 44,\n",
       " 'deputado': 45,\n",
       " 'so': 46,\n",
       " 'ministerio': 47,\n",
       " 'passar': 48,\n",
       " 'voce': 49,\n",
       " 'estao': 50,\n",
       " 'dinheiro': 51,\n",
       " 'pedir': 52,\n",
       " 'brasileiro': 53,\n",
       " 'chegar': 54,\n",
       " 'crime': 55,\n",
       " 'casa': 56,\n",
       " 'estar': 57,\n",
       " 'durante': 58,\n",
       " 'poder': 59,\n",
       " 'hoje': 60,\n",
       " 'rio': 61,\n",
       " 'apos': 62,\n",
       " 'juiz': 63,\n",
       " 'tribunal': 64,\n",
       " 'publicar': 65,\n",
       " 'operacao': 66,\n",
       " 'odebrecht': 67,\n",
       " 'deixar': 68,\n",
       " 'decisao': 69,\n",
       " 'alem': 70,\n",
       " 'ir': 71,\n",
       " 'pt': 72,\n",
       " 'sera': 73,\n",
       " 'camara': 74,\n",
       " 'partido': 75,\n",
       " 'advogado': 76,\n",
       " 'republica': 77,\n",
       " 'levar': 78,\n",
       " 'stf': 79,\n",
       " 'prisao': 80,\n",
       " 'corrupcao': 81,\n",
       " 'seguranca': 82,\n",
       " 'mulher': 83,\n",
       " 'ultimo': 84,\n",
       " 'senador': 85,\n",
       " 'entao': 86,\n",
       " 'lei': 87,\n",
       " 'dar': 88,\n",
       " 'filho': 89,\n",
       " 'de ele': 90,\n",
       " 'nacional': 91,\n",
       " 'direito': 92,\n",
       " 'conta': 93,\n",
       " 'fato': 94,\n",
       " 'norte': 95,\n",
       " 'mundo': 96,\n",
       " 'coreia': 97,\n",
       " 'social': 98,\n",
       " 'informar': 99,\n",
       " 'cidade': 100,\n",
       " 'contar': 101,\n",
       " 'militar': 102,\n",
       " 'campanha': 103,\n",
       " 'vida': 104,\n",
       " 'trabalho': 105,\n",
       " 'supremo': 106,\n",
       " 'familia': 107,\n",
       " 'nome': 108,\n",
       " 'apresentar': 109,\n",
       " 'acontecer': 110,\n",
       " 'outro': 111,\n",
       " 'pedido': 112,\n",
       " 'conseguir': 113,\n",
       " 'recurso': 114,\n",
       " 'precisar': 115,\n",
       " 'projeto': 116,\n",
       " 'pagar': 117,\n",
       " 'comecar': 118,\n",
       " 'propina': 119,\n",
       " 'gente': 120,\n",
       " 'lava': 121,\n",
       " 'sergio': 122,\n",
       " 'prender': 123,\n",
       " 'acao': 124,\n",
       " 'proprio': 125,\n",
       " 'denuncia': 126,\n",
       " 'rede': 127,\n",
       " 'medida': 128,\n",
       " 'delacao': 129,\n",
       " 'achar': 130,\n",
       " 'silva': 131,\n",
       " 'mostrar': 132,\n",
       " 'ocorrer': 133,\n",
       " 'semana': 134,\n",
       " 'eua': 135,\n",
       " 'depoimento': 136,\n",
       " 'nota': 137,\n",
       " 'michel': 138,\n",
       " 'relacao': 139,\n",
       " 'reforma': 140,\n",
       " 'usar': 141,\n",
       " 'trump': 142,\n",
       " 'problema': 143,\n",
       " 'chamar': 144,\n",
       " '‘': 145,\n",
       " 'querer': 146,\n",
       " '’': 147,\n",
       " 'realizar': 148,\n",
       " 'considerar': 149,\n",
       " 'voltar': 150,\n",
       " 'petista': 151,\n",
       " 'lavar': 152,\n",
       " 'continuar': 153,\n",
       " 'ver': 154,\n",
       " 'investigar': 155,\n",
       " 'defender': 156,\n",
       " 'g': 157,\n",
       " 'luiz': 158,\n",
       " 'trabalhar': 159,\n",
       " 'sul': 160,\n",
       " 'pagamento': 161,\n",
       " 'encontrar': 162,\n",
       " 'jose': 163,\n",
       " 'moro': 164,\n",
       " 'passado': 165,\n",
       " 'entrar': 166,\n",
       " 'video': 167,\n",
       " 'janeiro': 168,\n",
       " 'acabar': 169,\n",
       " 'senado': 170,\n",
       " 'homem': 171,\n",
       " 'forca': 172,\n",
       " 'criar': 173,\n",
       " 'hora': 174,\n",
       " 'cargo': 175,\n",
       " 'politica': 176,\n",
       " 'lider': 177,\n",
       " 'policial': 178,\n",
       " 'regiao': 179,\n",
       " 'historia': 180,\n",
       " 'principal': 181,\n",
       " 'tomar': 182,\n",
       " 'manter': 183,\n",
       " 'prova': 184,\n",
       " 'empresario': 185,\n",
       " 'situacao': 186,\n",
       " 'civil': 187,\n",
       " 'eleitoral': 188,\n",
       " 'pf': 189,\n",
       " 'voto': 190,\n",
       " 'americano': 191,\n",
       " 'sair': 192,\n",
       " 'area': 193,\n",
       " 'servico': 194,\n",
       " 'condenar': 195,\n",
       " 'envolver': 196,\n",
       " 'divulgar': 197,\n",
       " 'tres': 198,\n",
       " 'h': 199,\n",
       " 'documento': 200,\n",
       " 'abrir': 201,\n",
       " 'decidir': 202,\n",
       " 'saber': 203,\n",
       " 'possivel': 204,\n",
       " 'cerca': 205,\n",
       " 'existir': 206,\n",
       " 'eduardo': 207,\n",
       " 'citar': 208,\n",
       " 'tratar': 209,\n",
       " 'tentar': 210,\n",
       " 'julgamento': 211,\n",
       " 'bom': 212,\n",
       " 'explicar': 213,\n",
       " 'parlamentar': 214,\n",
       " 'programa': 215,\n",
       " 'marco': 216,\n",
       " 'investigacao': 217,\n",
       " 'saude': 218,\n",
       " 'presidencia': 219,\n",
       " 'numero': 220,\n",
       " 'negar': 221,\n",
       " 'colocar': 222,\n",
       " 'contrato': 223,\n",
       " 'cunha': 224,\n",
       " 'petrobra': 225,\n",
       " 'pmdb': 226,\n",
       " 'criminoso': 227,\n",
       " 'morte': 228,\n",
       " 'algum': 229,\n",
       " 'investigacoes': 230,\n",
       " 'obra': 231,\n",
       " 'aecio': 232,\n",
       " 'proximo': 233,\n",
       " 'instituto': 234,\n",
       " 'declarar': 235,\n",
       " 'seguir': 236,\n",
       " 'unidos': 237,\n",
       " 'brasilia': 238,\n",
       " 'viver': 239,\n",
       " 'joao': 240,\n",
       " 'crise': 241,\n",
       " 'alto': 242,\n",
       " 'la': 243,\n",
       " 'acusar': 244,\n",
       " 'acreditar': 245,\n",
       " 'tornar': 246,\n",
       " 'estados': 247,\n",
       " 'apontar': 248,\n",
       " 'importante': 249,\n",
       " 'ataque': 250,\n",
       " 'participar': 251,\n",
       " 'responsavel': 252,\n",
       " 'aprovar': 253,\n",
       " 'congresso': 254,\n",
       " 'candidato': 255,\n",
       " 'entrevista': 256,\n",
       " 'base': 257,\n",
       " 'ouvir': 258,\n",
       " 'joesley': 259,\n",
       " 'muito': 260,\n",
       " 'nuclear': 261,\n",
       " 'amigo': 262,\n",
       " 'ato': 263,\n",
       " 'mesmo': 264,\n",
       " 'dever': 265,\n",
       " 'crianca': 266,\n",
       " 'morrer': 267,\n",
       " 'denunciar': 268,\n",
       " 'mudar': 269,\n",
       " 'arma': 270,\n",
       " 'responder': 271,\n",
       " 'guerra': 272,\n",
       " 'psdb': 273,\n",
       " 'epoca': 274,\n",
       " 'confirmar': 275,\n",
       " 'perder': 276,\n",
       " 'pena': 277,\n",
       " 'vitima': 278,\n",
       " 'executivo': 279,\n",
       " 'ajudar': 280,\n",
       " 'questao': 281,\n",
       " 'rodrigo': 282,\n",
       " 'ganhar': 283,\n",
       " 'jornal': 284,\n",
       " 'matar': 285,\n",
       " 'internacional': 286,\n",
       " 'marcelo': 287,\n",
       " 'procurador': 288,\n",
       " 'apartamento': 289,\n",
       " 'apo': 290,\n",
       " 'jovem': 291,\n",
       " 'abaixo': 292,\n",
       " 'economico': 293,\n",
       " 'esperar': 294,\n",
       " 'bilhoes': 295,\n",
       " 'pra': 296,\n",
       " 'conversa': 297,\n",
       " 'quase': 298,\n",
       " 'mandato': 299,\n",
       " 'informacoes': 300,\n",
       " 'autoridade': 301,\n",
       " 'noite': 302,\n",
       " 'rousseff': 303,\n",
       " 'paise': 304,\n",
       " 'unico': 305,\n",
       " 'sociedade': 306,\n",
       " 'escola': 307,\n",
       " 'capital': 308,\n",
       " 'vir': 309,\n",
       " 'inquerito': 310,\n",
       " 'longo': 311,\n",
       " 'mae': 312,\n",
       " 'janot': 313,\n",
       " 'jornalista': 314,\n",
       " 'mudanca': 315,\n",
       " 'rua': 316,\n",
       " 'populacao': 317,\n",
       " 'proposta': 318,\n",
       " 'delator': 319,\n",
       " 'oficial': 320,\n",
       " 'votar': 321,\n",
       " 'claro': 322,\n",
       " 'pensar': 323,\n",
       " 'atuar': 324,\n",
       " 'mes': 325,\n",
       " 'movimento': 326,\n",
       " 'mpf': 327,\n",
       " 'entregar': 328,\n",
       " 'exministro': 329,\n",
       " 'atual': 330,\n",
       " 'determinar': 331,\n",
       " 'assunto': 332,\n",
       " 'violencia': 333,\n",
       " 'anunciar': 334,\n",
       " 'carlos': 335,\n",
       " 'banco': 336,\n",
       " 'impeachment': 337,\n",
       " 'organizacao': 338,\n",
       " 'imagem': 339,\n",
       " 'registrar': 340,\n",
       " 'fernando': 341,\n",
       " 'relator': 342,\n",
       " 'nenhum': 343,\n",
       " 'risco': 344,\n",
       " 'questionar': 345,\n",
       " 'ideia': 346,\n",
       " 'prever': 347,\n",
       " 'centro': 348,\n",
       " 'entender': 349,\n",
       " 'jbs': 350,\n",
       " 'ordem': 351,\n",
       " 'enviar': 352,\n",
       " 'frente': 353,\n",
       " 'ninguem': 354,\n",
       " 'instancia': 355,\n",
       " 'inacio': 356,\n",
       " 'fechar': 357,\n",
       " 'objetivo': 358,\n",
       " 'caixa': 359,\n",
       " 'revelar': 360,\n",
       " 'ai': 361,\n",
       " 'alvo': 362,\n",
       " 'governador': 363,\n",
       " 'premiar': 364,\n",
       " 'resultado': 365,\n",
       " 'penal': 366,\n",
       " 'evitar': 367,\n",
       " 'tao': 368,\n",
       " 'garantir': 369,\n",
       " 'permitir': 370,\n",
       " 'lavagem': 371,\n",
       " 'verdade': 372,\n",
       " 'texto': 373,\n",
       " 'assumir': 374,\n",
       " 'procurar': 375,\n",
       " 'atingir': 376,\n",
       " 'periodo': 377,\n",
       " 'prestar': 378,\n",
       " 'roberto': 379,\n",
       " 'corte': 380,\n",
       " 'imprensa': 381,\n",
       " 'indicar': 382,\n",
       " 'apesar': 383,\n",
       " 'de esse': 384,\n",
       " 'cumprir': 385,\n",
       " 'mercado': 386,\n",
       " 'uso': 387,\n",
       " 'lembrar': 388,\n",
       " 'palavra': 389,\n",
       " 'noticia': 390,\n",
       " 'palocci': 391,\n",
       " 'plano': 392,\n",
       " 'pesquisa': 393,\n",
       " 'esquema': 394,\n",
       " 'antonio': 395,\n",
       " 'acompanhar': 396,\n",
       " 'sofrer': 397,\n",
       " 'junto': 398,\n",
       " 'entanto': 399,\n",
       " 'hospital': 400,\n",
       " 'causa': 401,\n",
       " 'planalto': 402,\n",
       " 'diferente': 403,\n",
       " 'real': 404,\n",
       " 'incluir': 405,\n",
       " 'agua': 406,\n",
       " 'dado': 407,\n",
       " 'globo': 408,\n",
       " 'medico': 409,\n",
       " 'imovel': 410,\n",
       " 'setor': 411,\n",
       " 'possibilidade': 412,\n",
       " 'destacar': 413,\n",
       " 'equipe': 414,\n",
       " 'encontro': 415,\n",
       " 'secretaria': 416,\n",
       " 'reuniao': 417,\n",
       " '\\x96': 418,\n",
       " 'kim': 419,\n",
       " 'mao': 420,\n",
       " 'valor': 421,\n",
       " 'sp': 422,\n",
       " 'renan': 423,\n",
       " 'discurso': 424,\n",
       " 'suposto': 425,\n",
       " 'us': 426,\n",
       " 'humano': 427,\n",
       " 'batista': 428,\n",
       " 'comprar': 429,\n",
       " 'senhor': 430,\n",
       " 'financeiro': 431,\n",
       " 'conhecer': 432,\n",
       " 'reportagem': 433,\n",
       " 'reu': 434,\n",
       " 'relatar': 435,\n",
       " 'funcionario': 436,\n",
       " 'aparecer': 437,\n",
       " 'aumentar': 438,\n",
       " 'pais': 439,\n",
       " 'analisar': 440,\n",
       " 'regime': 441,\n",
       " 'professor': 442,\n",
       " 'julgar': 443,\n",
       " 'dezembro': 444,\n",
       " 'manha': 445,\n",
       " 'curitiba': 446,\n",
       " 'atividade': 447,\n",
       " 'constituicao': 448,\n",
       " 'agente': 449,\n",
       " 'diretor': 450,\n",
       " 'evento': 451,\n",
       " 'santo': 452,\n",
       " 'aceitar': 453,\n",
       " 'interesse': 454,\n",
       " 'universidade': 455,\n",
       " 'vario': 456,\n",
       " 'buscar': 457,\n",
       " 'uniao': 458,\n",
       " 'pequeno': 459,\n",
       " 'condenacao': 460,\n",
       " 'corpo': 461,\n",
       " 'tema': 462,\n",
       " 'carro': 463,\n",
       " 'tr': 464,\n",
       " 'palacio': 465,\n",
       " 'quartafeira': 466,\n",
       " 'poderar': 467,\n",
       " 'empreiteira': 468,\n",
       " 'mendes': 469,\n",
       " 'identificar': 470,\n",
       " 'unidade': 471,\n",
       " 'cair': 472,\n",
       " 'total': 473,\n",
       " 'liberdade': 474,\n",
       " 'alegar': 475,\n",
       " 'coisa': 476,\n",
       " 'comissao': 477,\n",
       " 'tirar': 478,\n",
       " 'mandar': 479,\n",
       " 'pessoal': 480,\n",
       " 'busca': 481,\n",
       " 'acesso': 482,\n",
       " 'tercafeira': 483,\n",
       " 'respeito': 484,\n",
       " 'eleicao': 485,\n",
       " 'afastar': 486,\n",
       " 'gilmar': 487,\n",
       " 'fundo': 488,\n",
       " 'representar': 489,\n",
       " 'orgao': 490,\n",
       " 'certo': 491,\n",
       " 'estadual': 492,\n",
       " 'morar': 493,\n",
       " 'domingo': 494,\n",
       " 'dono': 495,\n",
       " 'especial': 496,\n",
       " 'informacao': 497,\n",
       " 'forte': 498,\n",
       " 'maia': 499,\n",
       " 'negocio': 500,\n",
       " 'assinar': 501,\n",
       " 'filha': 502,\n",
       " 'tv': 503,\n",
       " 'prefeito': 504,\n",
       " 'preso': 505,\n",
       " 'previdencia': 506,\n",
       " 'bolsonaro': 507,\n",
       " 'prazo': 508,\n",
       " 'ameaca': 509,\n",
       " 'educacao': 510,\n",
       " 'livro': 511,\n",
       " 'porem': 512,\n",
       " 'chefe': 513,\n",
       " 'economia': 514,\n",
       " 'segundafeira': 515,\n",
       " 'fachin': 516,\n",
       " 'china': 517,\n",
       " 'resolver': 518,\n",
       " 'gestao': 519,\n",
       " 'publicos': 520,\n",
       " 'maneira': 521,\n",
       " 'sextafeira': 522,\n",
       " 'compra': 523,\n",
       " 'ler': 524,\n",
       " 'relatorio': 525,\n",
       " 'setembro': 526,\n",
       " 'triplex': 527,\n",
       " 'armar': 528,\n",
       " 'pgr': 529,\n",
       " 'campo': 530,\n",
       " 'tentativa': 531,\n",
       " 'especialista': 532,\n",
       " 'fiscal': 533,\n",
       " 'vao': 534,\n",
       " 'volta': 535,\n",
       " 'oas': 536,\n",
       " 'suspeito': 537,\n",
       " 'resposta': 538,\n",
       " 'preciso': 539,\n",
       " 'acusacao': 540,\n",
       " 'trf': 541,\n",
       " 'analise': 542,\n",
       " 'neves': 543,\n",
       " 'novembro': 544,\n",
       " 'espaco': 545,\n",
       " 'mensagem': 546,\n",
       " 'avaliar': 547,\n",
       " 'exterior': 548,\n",
       " 'alguem': 549,\n",
       " 'pratica': 550,\n",
       " 'escrever': 551,\n",
       " 'trabalhador': 552,\n",
       " 'controle': 553,\n",
       " 'fevereiro': 554,\n",
       " 'quintafeira': 555,\n",
       " 'maio': 556,\n",
       " 'conforme': 557,\n",
       " 'porto': 558,\n",
       " 'comando': 559,\n",
       " 'trazer': 560,\n",
       " 'causar': 561,\n",
       " 'beneficio': 562,\n",
       " 'plenario': 563,\n",
       " 'votacao': 564,\n",
       " 'gerar': 565,\n",
       " 'costa': 566,\n",
       " 'necessario': 567,\n",
       " 'prefeitura': 568,\n",
       " 'marcar': 569,\n",
       " 'criticar': 570,\n",
       " 'branco': 571,\n",
       " 'integrar': 572,\n",
       " 'dificil': 573,\n",
       " 'lancar': 574,\n",
       " 'delegado': 575,\n",
       " 'discutir': 576,\n",
       " 'autorizar': 577,\n",
       " 'parecer': 578,\n",
       " 'oferecer': 579,\n",
       " 'ocupar': 580,\n",
       " 'agencia': 581,\n",
       " 'regional': 582,\n",
       " 'membro': 583,\n",
       " 'apurar': 584,\n",
       " 'impedir': 585,\n",
       " 'serie': 586,\n",
       " 'fase': 587,\n",
       " 'utilizar': 588,\n",
       " 'contato': 589,\n",
       " 'troca': 590,\n",
       " 'investimento': 591,\n",
       " 'abril': 592,\n",
       " 'futuro': 593,\n",
       " 'papel': 594,\n",
       " 'teste': 595,\n",
       " 'assessoria': 596,\n",
       " 'mundial': 597,\n",
       " 'enfrentar': 598,\n",
       " 'bbc': 599,\n",
       " 'ira': 600,\n",
       " 'exercito': 601,\n",
       " 'aumento': 602,\n",
       " 'russia': 603,\n",
       " 'profissional': 604,\n",
       " 'terar': 605,\n",
       " 'participacao': 606,\n",
       " 'foto': 607,\n",
       " 'comentar': 608,\n",
       " 'morer': 609,\n",
       " 'judicial': 610,\n",
       " 'estudo': 611,\n",
       " 'acoe': 612,\n",
       " 'filme': 613,\n",
       " 'motivo': 614,\n",
       " 'produto': 615,\n",
       " 'outubro': 616,\n",
       " 'regra': 617,\n",
       " 'seguinte': 618,\n",
       " 'obter': 619,\n",
       " 'zona': 620,\n",
       " 'site': 621,\n",
       " 'sabado': 622,\n",
       " 'serao': 623,\n",
       " 'internet': 624,\n",
       " 'ricardo': 625,\n",
       " 'praticar': 626,\n",
       " 'reduzir': 627,\n",
       " 'secretario': 628,\n",
       " 'estatal': 629,\n",
       " 'sentido': 630,\n",
       " 'henrique': 631,\n",
       " 'reconhecer': 632,\n",
       " 'judiciario': 633,\n",
       " 'jogo': 634,\n",
       " 'democracia': 635,\n",
       " 'eu': 636,\n",
       " 'cometer': 637,\n",
       " 'razao': 638,\n",
       " 'cara': 639,\n",
       " 'tse': 640,\n",
       " 'juridico': 641,\n",
       " 'sentenca': 642,\n",
       " 'foro': 643,\n",
       " 'agosto': 644,\n",
       " 'funcionar': 645,\n",
       " 'lista': 646,\n",
       " 'mina': 647,\n",
       " 'irmao': 648,\n",
       " 'oliveira': 649,\n",
       " 'intervencao': 650,\n",
       " 'demonstrar': 651,\n",
       " 'presidencial': 652,\n",
       " 'delacoes': 653,\n",
       " 'conversar': 654,\n",
       " 'acidente': 655,\n",
       " 'nortecoreano': 656,\n",
       " 'gostar': 657,\n",
       " 'grave': 658,\n",
       " 'doenca': 659,\n",
       " 'perguntar': 660,\n",
       " 'definir': 661,\n",
       " 'fazenda': 662,\n",
       " 'central': 663,\n",
       " 'cultura': 664,\n",
       " 'comum': 665,\n",
       " 'passivo': 666,\n",
       " 'ligar': 667,\n",
       " 'minuto': 668,\n",
       " 'maria': 669,\n",
       " 'presente': 670,\n",
       " 'manifestar': 671,\n",
       " 'parar': 672,\n",
       " 'julho': 673,\n",
       " 'linha': 674,\n",
       " 'sessao': 675,\n",
       " 'concluir': 676,\n",
       " 'direto': 677,\n",
       " 'salario': 678,\n",
       " 'junho': 679,\n",
       " 'formar': 680,\n",
       " 'terra': 681,\n",
       " 'decada': 682,\n",
       " 'data': 683,\n",
       " 'turma': 684,\n",
       " 'popular': 685,\n",
       " 'acima': 686,\n",
       " 'parana': 687,\n",
       " 'atualmente': 688,\n",
       " 'virar': 689,\n",
       " 'desenvolvimento': 690,\n",
       " 'tecnico': 691,\n",
       " 'necessidade': 692,\n",
       " 'veiculo': 693,\n",
       " 'vender': 694,\n",
       " 'droga': 695,\n",
       " 'administracao': 696,\n",
       " 'facebook': 697,\n",
       " 'terminar': 698,\n",
       " 'descobrir': 699,\n",
       " 'integrante': 700,\n",
       " 'pretender': 701,\n",
       " 'predio': 702,\n",
       " 'registro': 703,\n",
       " 'valer': 704,\n",
       " 'magistrado': 705,\n",
       " 'casal': 706,\n",
       " 'comunidade': 707,\n",
       " 'lima': 708,\n",
       " 'sede': 709,\n",
       " 'legislativo': 710,\n",
       " 'capacidade': 711,\n",
       " 'material': 712,\n",
       " 'servidor': 713,\n",
       " 'suspeita': 714,\n",
       " 'grupo': 715,\n",
       " 'venda': 716,\n",
       " 'atuacao': 717,\n",
       " 'provocar': 718,\n",
       " 'sentir': 719,\n",
       " 'criminal': 720,\n",
       " 'tucano': 721,\n",
       " 'neto': 722,\n",
       " 'russo': 723,\n",
       " 'solicitar': 724,\n",
       " 'municipio': 725,\n",
       " 'atender': 726,\n",
       " 'efeito': 727,\n",
       " 'testemunha': 728,\n",
       " 'ressaltar': 729,\n",
       " 'pouco': 730,\n",
       " 'responsabilidade': 731,\n",
       " 'atencao': 732,\n",
       " 'modelo': 733,\n",
       " 'tratamento': 734,\n",
       " 'municipal': 735,\n",
       " 'colega': 736,\n",
       " 'estudante': 737,\n",
       " 'artista': 738,\n",
       " 'companhia': 739,\n",
       " 'estado': 740,\n",
       " 'marisa': 741,\n",
       " 'preco': 742,\n",
       " 'legal': 743,\n",
       " 'relacoe': 744,\n",
       " 'milhao': 745,\n",
       " 'combate': 746,\n",
       " 'minimo': 747,\n",
       " 'musica': 748,\n",
       " 'viagem': 749,\n",
       " 'possuir': 750,\n",
       " 'vara': 751,\n",
       " 'familiar': 752,\n",
       " 'construcao': 753,\n",
       " 'vivo': 754,\n",
       " 'referir': 755,\n",
       " 'acrescentar': 756,\n",
       " 'principalmente': 757,\n",
       " 'cenario': 758,\n",
       " 'transformar': 759,\n",
       " 'tecnologia': 760,\n",
       " 'deus': 761,\n",
       " 'produzir': 762,\n",
       " 'conhecimento': 763,\n",
       " 'candidatura': 764,\n",
       " 'cabeca': 765,\n",
       " 'cadeia': 766,\n",
       " 'eleicoe': 767,\n",
       " 'abuso': 768,\n",
       " 'adotar': 769,\n",
       " 'especie': 770,\n",
       " 'apoiar': 771,\n",
       " 'emprego': 772,\n",
       " 'missil': 773,\n",
       " 'de ela': 774,\n",
       " 'suspender': 775,\n",
       " 'completar': 776,\n",
       " 'exercicio': 777,\n",
       " 'falso': 778,\n",
       " 'revista': 779,\n",
       " 'sitio': 780,\n",
       " 'trecho': 781,\n",
       " 'edson': 782,\n",
       " 'comentario': 783,\n",
       " 'crescer': 784,\n",
       " 'ator': 785,\n",
       " 'organizar': 786,\n",
       " 'declaracao': 787,\n",
       " 'carta': 788,\n",
       " 'vista': 789,\n",
       " 'oposicao': 790,\n",
       " 'antigo': 791,\n",
       " 'artigo': 792,\n",
       " 'bairro': 793,\n",
       " 'anterior': 794,\n",
       " 'autor': 795,\n",
       " 'relacionar': 796,\n",
       " 'agir': 797,\n",
       " 'procedimento': 798,\n",
       " 'curso': 799,\n",
       " 'pedro': 800,\n",
       " 'posse': 801,\n",
       " 'escolher': 802,\n",
       " 'gravar': 803,\n",
       " 'cidadao': 804,\n",
       " 'medo': 805,\n",
       " 'aereo': 806,\n",
       " 'grande': 807,\n",
       " 'donald': 808,\n",
       " 'atacar': 809,\n",
       " 'dificuldade': 810,\n",
       " 'detalhe': 811,\n",
       " 'livre': 812,\n",
       " 'rocha': 813,\n",
       " 'primeiro': 814,\n",
       " 'saida': 815,\n",
       " 'diversos': 816,\n",
       " 'carreira': 817,\n",
       " 'imposto': 818,\n",
       " 'aprovacao': 819,\n",
       " 'tiro': 820,\n",
       " 'conteudo': 821,\n",
       " 'jamais': 822,\n",
       " 'pinheiro': 823,\n",
       " 'olhar': 824,\n",
       " 'leia': 825,\n",
       " 'delcidio': 826,\n",
       " 'acoes': 827,\n",
       " 'mau': 828,\n",
       " 'representante': 829,\n",
       " 'contrario': 830,\n",
       " 'aliado': 831,\n",
       " 'disputa': 832,\n",
       " 'morador': 833,\n",
       " 'cliente': 834,\n",
       " 'sucesso': 835,\n",
       " 'conjunto': 836,\n",
       " 'mp': 837,\n",
       " 'fonte': 838,\n",
       " 'acusacoes': 839,\n",
       " 'debate': 840,\n",
       " 'interno': 841,\n",
       " 'retirar': 842,\n",
       " 'conflito': 843,\n",
       " 'custo': 844,\n",
       " 'discussao': 845,\n",
       " 'significar': 846,\n",
       " 'celular': 847,\n",
       " 'servir': 848,\n",
       " 'unir': 849,\n",
       " 'esquerda': 850,\n",
       " 'divida': 851,\n",
       " 'onu': 852,\n",
       " 'audiencia': 853,\n",
       " 'pyongyang': 854,\n",
       " 'posicao': 855,\n",
       " 'reunir': 856,\n",
       " 'beneficiar': 857,\n",
       " 'preparar': 858,\n",
       " 'exigir': 859,\n",
       " 'recente': 860,\n",
       " 'estrategia': 861,\n",
       " 'estudar': 862,\n",
       " 'alckmin': 863,\n",
       " 'desembargador': 864,\n",
       " 'golpe': 865,\n",
       " 'atrave': 866,\n",
       " 'queda': 867,\n",
       " 'estabelecer': 868,\n",
       " 'referencia': 869,\n",
       " 'luis': 870,\n",
       " 'andar': 871,\n",
       " 'presidio': 872,\n",
       " 'materia': 873,\n",
       " 'termo': 874,\n",
       " 'admitir': 875,\n",
       " 'liberar': 876,\n",
       " 'oportunidade': 877,\n",
       " 'presenca': 878,\n",
       " 'homicidio': 879,\n",
       " 'abertura': 880,\n",
       " 'opiniao': 881,\n",
       " 'procuradoria': 882,\n",
       " 'encaminhar': 883,\n",
       " 'protesto': 884,\n",
       " 'nascer': 885,\n",
       " 'aeroporto': 886,\n",
       " 'dona': 887,\n",
       " 'alegre': 888,\n",
       " 'controlar': 889,\n",
       " 'dialogo': 890,\n",
       " 'funcao': 891,\n",
       " 'procuradorgeral': 892,\n",
       " 'correr': 893,\n",
       " 'diverso': 894,\n",
       " 'vantagem': 895,\n",
       " 'cobrar': 896,\n",
       " 'intencao': 897,\n",
       " 'historico': 898,\n",
       " 'destinar': 899,\n",
       " 'preventivo': 900,\n",
       " 'exgovernador': 901,\n",
       " 'forcatarefa': 902,\n",
       " 'negociar': 903,\n",
       " 'comunicacao': 904,\n",
       " 'igreja': 905,\n",
       " 'argumentar': 906,\n",
       " 'folha': 907,\n",
       " 'fundamental': 908,\n",
       " 'morto': 909,\n",
       " 'visita': 910,\n",
       " 'carne': 911,\n",
       " 'decisoes': 912,\n",
       " 'pm': 913,\n",
       " 'show': 914,\n",
       " 'aviao': 915,\n",
       " 'privilegiar': 916,\n",
       " 'twitter': 917,\n",
       " 'producao': 918,\n",
       " 'sala': 919,\n",
       " 'velho': 920,\n",
       " 'ajuda': 921,\n",
       " 'realmente': 922,\n",
       " 'media': 923,\n",
       " 'realidade': 924,\n",
       " 'departamento': 925,\n",
       " 'recorrer': 926,\n",
       " 'origem': 927,\n",
       " 'paulista': 928,\n",
       " 'esclarecer': 929,\n",
       " 'aguardar': 930,\n",
       " 'episodio': 931,\n",
       " 'calheiro': 932,\n",
       " 'nivel': 933,\n",
       " 'geddel': 934,\n",
       " 'justificar': 935,\n",
       " 'seguida': 936,\n",
       " 'santana': 937,\n",
       " 'trafico': 938,\n",
       " 'ambiente': 939,\n",
       " 'juca': 940,\n",
       " 'chapa': 941,\n",
       " 'lucia': 942,\n",
       " 'fogo': 943,\n",
       " 'pergunta': 944,\n",
       " 'desenvolver': 945,\n",
       " 'privado': 946,\n",
       " 'pagina': 947,\n",
       " 'doacoe': 948,\n",
       " 'caber': 949,\n",
       " 'idade': 950,\n",
       " 'quadro': 951,\n",
       " 'experiencia': 952,\n",
       " 'irregularidade': 953,\n",
       " 'critica': 954,\n",
       " 'luta': 955,\n",
       " 'devido': 956,\n",
       " 'transporte': 957,\n",
       " 'entidade': 958,\n",
       " 'vizinho': 959,\n",
       " 'vaga': 960,\n",
       " 'marido': 961,\n",
       " 'sr': 962,\n",
       " 'permanecer': 963,\n",
       " 'receita': 964,\n",
       " 'criacao': 965,\n",
       " 'ativo': 966,\n",
       " 'claudio': 967,\n",
       " 'capaz': 968,\n",
       " 'sugerir': 969,\n",
       " 'eleger': 970,\n",
       " 'de eles': 971,\n",
       " 'prometer': 972,\n",
       " 'contratar': 973,\n",
       " 'interior': 974,\n",
       " 'jongun': 975,\n",
       " 'superior': 976,\n",
       " 'energia': 977,\n",
       " 'exame': 978,\n",
       " 'machado': 979,\n",
       " 'alertar': 980,\n",
       " 'promover': 981,\n",
       " 'repasse': 982,\n",
       " 'geral': 983,\n",
       " 'limite': 984,\n",
       " 'sir': 985,\n",
       " 'indicio': 986,\n",
       " 'associacao': 987,\n",
       " 'afetar': 988,\n",
       " 'investigador': 989,\n",
       " 'francisco': 990,\n",
       " 'distrito': 991,\n",
       " 'mandado': 992,\n",
       " 'impacto': 993,\n",
       " 'arte': 994,\n",
       " 'radio': 995,\n",
       " 'america': 996,\n",
       " 'comprovar': 997,\n",
       " 'aeronave': 998,\n",
       " 'erro': 999,\n",
       " 'carmen': 1000,\n",
       " ...}"
      ]
     },
     "execution_count": 7,
     "metadata": {},
     "output_type": "execute_result"
    }
   ],
   "source": [
    "\n",
    "#word_index é um dicionário onde as chaves são as palavras e os valores são os índices dessas palavras.\n",
    "#Esse índice é útil para várias tarefas de NLP, como a criação de embeddings de palavras ou a preparação de dados para modelos de deep learning.\n",
    "word_index"
   ]
  },
  {
   "cell_type": "code",
   "execution_count": 8,
   "metadata": {},
   "outputs": [],
   "source": [
    "import pickle\n",
    "\n",
    "# Salva o tokenizador em um arquivo (precisamos dele mais tarde, quando realizarmos as inferências)\n",
    "with open('tokenizer.pkl', 'wb') as file:\n",
    "    pickle.dump(tokenizer, file)"
   ]
  },
  {
   "cell_type": "code",
   "execution_count": 9,
   "metadata": {},
   "outputs": [
    {
     "name": "stdout",
     "output_type": "stream",
     "text": [
      "Mean sequence length:  340.45117377413527\n",
      "Maximum sequence length:  3835\n"
     ]
    }
   ],
   "source": [
    "import numpy as np\n",
    "\n",
    "# Calcula o comprimento de cada sequência em 'sequences' e armazena os resultados na lista 'sequence_lengths'\n",
    "sequence_lengths = [len(seq) for seq in sequences]\n",
    "\n",
    "# Calcula a média dos comprimentos das sequências usando a função 'mean' do numpy\n",
    "mean_length = np.mean(sequence_lengths)\n",
    "\n",
    "# Obtém o comprimento máximo das sequências usando a função 'max' do Python\n",
    "max_length = max(sequence_lengths)\n",
    "\n",
    "# Imprime a média e o comprimento máximo das sequências\n",
    "print(\"Mean sequence length: \", mean_length)\n",
    "print(\"Maximum sequence length: \", max_length)"
   ]
  },
  {
   "cell_type": "code",
   "execution_count": 10,
   "metadata": {},
   "outputs": [],
   "source": [
    "import numpy as np\n",
    "from tensorflow.keras.preprocessing.sequence import pad_sequences\n",
    "\n",
    "# Calcula o percentil 95 dos comprimentos das sequências (preserva 95% das sequências)\n",
    "max_length = int(np.percentile(sequence_lengths, 95))\n",
    "\n",
    "# Realiza o preenchimento das sequências com base no novo 'max_length'\n",
    "padded_sequences = pad_sequences(sequences, maxlen=max_length, padding='post')"
   ]
  },
  {
   "cell_type": "code",
   "execution_count": 11,
   "metadata": {},
   "outputs": [],
   "source": [
    "# Carrega os embeddings do GLoVe\n",
    "embeddings_index = {}\n",
    "with open('glove.6B.100d.txt', encoding='utf-8') as f:\n",
    "    for line in f:\n",
    "        values = line.split()\n",
    "        word = values[0]\n",
    "        coefs = np.asarray(values[1:], dtype='float32')\n",
    "        embeddings_index[word] = coefs"
   ]
  },
  {
   "cell_type": "code",
   "execution_count": 12,
   "metadata": {},
   "outputs": [],
   "source": [
    "# Preparar a matriz de embedding\n",
    "embedding_dim = 100  # o tamanho do seu GLoVe embeddings\n",
    "embedding_matrix = np.zeros((len(word_index) + 1, embedding_dim))\n",
    "for word, i in word_index.items():\n",
    "    embedding_vector = embeddings_index.get(word)\n",
    "    if embedding_vector is not None:\n",
    "        embedding_matrix[i] = embedding_vector"
   ]
  },
  {
   "cell_type": "code",
   "execution_count": 13,
   "metadata": {},
   "outputs": [],
   "source": [
    "# One-hot encoding dos rótulos\n",
    "num_classes = len(np.unique(labels))  # Número de classes únicas\n",
    "labels = to_categorical(labels, num_classes=num_classes)"
   ]
  },
  {
   "cell_type": "code",
   "execution_count": 14,
   "metadata": {},
   "outputs": [],
   "source": [
    "from sklearn.model_selection import train_test_split\n",
    "\n",
    "# Divida os dados em um conjunto de treino (70%) e um conjunto temporário (30%)\n",
    "X_train, X_temp, y_train, y_temp = train_test_split(padded_sequences, labels, test_size=0.3)\n",
    "\n",
    "# Divida o conjunto temporário em conjuntos de validação (15%) e teste (15%)\n",
    "X_val, X_test, y_val, y_test = train_test_split(X_temp, y_temp, test_size=0.5)  # 0.5 * 0.3 = 0.15"
   ]
  },
  {
   "cell_type": "code",
   "execution_count": 15,
   "metadata": {},
   "outputs": [
    {
     "name": "stdout",
     "output_type": "stream",
     "text": [
      "Epoch 1/40\n",
      "40/40 [==============================] - 33s 546ms/step - loss: 0.8652 - accuracy: 0.5549 - val_loss: 0.7659 - val_accuracy: 0.4917\n",
      "Epoch 2/40\n",
      "40/40 [==============================] - 20s 503ms/step - loss: 0.6903 - accuracy: 0.5317 - val_loss: 0.6763 - val_accuracy: 0.5444\n",
      "Epoch 3/40\n",
      "40/40 [==============================] - 20s 506ms/step - loss: 0.6660 - accuracy: 0.5807 - val_loss: 0.6506 - val_accuracy: 0.6231\n",
      "Epoch 4/40\n",
      "40/40 [==============================] - 20s 511ms/step - loss: 0.6075 - accuracy: 0.6700 - val_loss: 0.5169 - val_accuracy: 0.7806\n",
      "Epoch 5/40\n",
      "40/40 [==============================] - 21s 518ms/step - loss: 0.5566 - accuracy: 0.7156 - val_loss: 0.4025 - val_accuracy: 0.8750\n",
      "Epoch 6/40\n",
      "40/40 [==============================] - 21s 528ms/step - loss: 0.4460 - accuracy: 0.8146 - val_loss: 0.6298 - val_accuracy: 0.6111\n",
      "Epoch 7/40\n",
      "40/40 [==============================] - 20s 508ms/step - loss: 0.5714 - accuracy: 0.6984 - val_loss: 0.3656 - val_accuracy: 0.8556\n",
      "Epoch 8/40\n",
      "40/40 [==============================] - 21s 536ms/step - loss: 0.3771 - accuracy: 0.8514 - val_loss: 0.3299 - val_accuracy: 0.8889\n",
      "Epoch 9/40\n",
      "40/40 [==============================] - 22s 551ms/step - loss: 0.2710 - accuracy: 0.9057 - val_loss: 0.2409 - val_accuracy: 0.9213\n",
      "Epoch 10/40\n",
      "40/40 [==============================] - 21s 524ms/step - loss: 0.1892 - accuracy: 0.9409 - val_loss: 0.1951 - val_accuracy: 0.9417\n",
      "Epoch 11/40\n",
      "40/40 [==============================] - 20s 507ms/step - loss: 0.1575 - accuracy: 0.9502 - val_loss: 0.1681 - val_accuracy: 0.9454\n",
      "Epoch 12/40\n",
      "40/40 [==============================] - 22s 553ms/step - loss: 0.1463 - accuracy: 0.9504 - val_loss: 0.1962 - val_accuracy: 0.9287\n",
      "Epoch 13/40\n",
      "40/40 [==============================] - 20s 505ms/step - loss: 0.1623 - accuracy: 0.9466 - val_loss: 0.5621 - val_accuracy: 0.8361\n",
      "Epoch 14/40\n",
      "40/40 [==============================] - 21s 525ms/step - loss: 0.1632 - accuracy: 0.9478 - val_loss: 0.1511 - val_accuracy: 0.9491\n",
      "Epoch 15/40\n",
      "40/40 [==============================] - 19s 481ms/step - loss: 0.1297 - accuracy: 0.9591 - val_loss: 0.1520 - val_accuracy: 0.9528\n",
      "Epoch 16/40\n",
      "40/40 [==============================] - 21s 532ms/step - loss: 0.1259 - accuracy: 0.9577 - val_loss: 0.1573 - val_accuracy: 0.9500\n",
      "Epoch 17/40\n",
      "40/40 [==============================] - 22s 549ms/step - loss: 0.1142 - accuracy: 0.9611 - val_loss: 0.1535 - val_accuracy: 0.9491\n",
      "Epoch 18/40\n",
      "40/40 [==============================] - 21s 524ms/step - loss: 0.1076 - accuracy: 0.9641 - val_loss: 0.1744 - val_accuracy: 0.9472\n",
      "Epoch 19/40\n",
      "40/40 [==============================] - 20s 504ms/step - loss: 0.1133 - accuracy: 0.9641 - val_loss: 0.1569 - val_accuracy: 0.9481\n"
     ]
    }
   ],
   "source": [
    "# Construindo o modelo\n",
    "model = Sequential()\n",
    "model.add(Embedding(len(word_index) + 1, embedding_dim, weights=[embedding_matrix], trainable=False))\n",
    "model.add(Bidirectional(LSTM(64, return_sequences=True)))\n",
    "model.add(Bidirectional(LSTM(32)))\n",
    "model.add(Dense(num_classes, activation='softmax'))  # Camada de saída para classificação multiclasse\n",
    "\n",
    "# Chamada ao Early Stopping\n",
    "early_stopping = EarlyStopping(monitor='val_loss', patience=5)\n",
    "\n",
    "model.compile(loss='categorical_crossentropy', optimizer='adam', metrics=['accuracy'])\n",
    "\n",
    "# Treinamento do modelo\n",
    "history = model.fit(X_train, y_train, batch_size=128, epochs=40, validation_data=(X_val, y_val), callbacks=[early_stopping])\n",
    "     "
   ]
  },
  {
   "cell_type": "code",
   "execution_count": 16,
   "metadata": {},
   "outputs": [
    {
     "data": {
      "image/png": "[encoded data removed]",
      "text/plain": [
       "<Figure size 640x480 with 1 Axes>"
      ]
     },
     "metadata": {},
     "output_type": "display_data"
    }
   ],
   "source": [
    "import matplotlib.pyplot as plt\n",
    "\n",
    "# Plota a perda (loss) e a perda de validação (val_loss) durante o treinamento\n",
    "plt.plot(history.history['loss'], label='Training Loss')\n",
    "plt.plot(history.history['val_loss'], label='Validation Loss')\n",
    "plt.title('Loss and Validation Loss')\n",
    "plt.xlabel('Epoch')\n",
    "plt.ylabel('Loss')\n",
    "plt.legend()\n",
    "plt.show()"
   ]
  },
  {
   "cell_type": "code",
   "execution_count": 17,
   "metadata": {},
   "outputs": [],
   "source": [
    "# Salva arquivos em discos que podemos carregar sem treinar a rede neural novamente\n",
    "model.save('ge_BiLSTM_glove6b100d.h5')\n",
    "np.save(\"X_test_BiLSTM_glove6b100d.npy\", X_test)\n",
    "np.save(\"y_test_BiLSTM_glove6b100d.npy\", y_test)"
   ]
  },
  {
   "cell_type": "code",
   "execution_count": 18,
   "metadata": {},
   "outputs": [],
   "source": [
    "from tensorflow.keras.models import load_model\n",
    "import numpy as np\n",
    "\n",
    "# Carrega arquivos pertinentes ao treinamento da rede neural e X_test e y_test (usados na avaliação de resultados)\n",
    "model = load_model('ge_BiLSTM_glove6b100d.h5')\n",
    "X_test = np.load(\"X_test_BiLSTM_glove6b100d.npy\")\n",
    "y_test = np.load(\"y_test_BiLSTM_glove6b100d.npy\")\n",
    "\n",
    "with open('tokenizer.pkl', 'rb') as file:\n",
    "    tokenizer = pickle.load(file)"
   ]
  },
  {
   "cell_type": "code",
   "execution_count": 19,
   "metadata": {},
   "outputs": [
    {
     "name": "stdout",
     "output_type": "stream",
     "text": [
      "34/34 [==============================] - 7s 150ms/step - loss: 0.1499 - accuracy: 0.9574\n",
      "Acurácia final: 0.9574074149131775\n"
     ]
    }
   ],
   "source": [
    "loss, accuracy = model.evaluate(X_test, y_test)\n",
    "print('Acurácia final:', accuracy)"
   ]
  },
  {
   "cell_type": "code",
   "execution_count": 20,
   "metadata": {},
   "outputs": [
    {
     "name": "stdout",
     "output_type": "stream",
     "text": [
      "34/34 [==============================] - 6s 149ms/step\n"
     ]
    }
   ],
   "source": [
    "# Fazer as previsões do modelo para o conjunto de teste\n",
    "y_pred = model.predict(X_test)"
   ]
  },
  {
   "cell_type": "code",
   "execution_count": 21,
   "metadata": {},
   "outputs": [
    {
     "data": {
      "text/plain": [
       "array([[508,  38],\n",
       "       [  8, 526]], dtype=int64)"
      ]
     },
     "execution_count": 21,
     "metadata": {},
     "output_type": "execute_result"
    }
   ],
   "source": [
    "#Transformar as previsões de volta em rótulos\n",
    "y_pred_labels = np.argmax(y_pred, axis=1)\n",
    "y_true_labels = np.argmax(y_test, axis=1)\n",
    "\n",
    "# Calcular a matriz de confusão\n",
    "from sklearn.metrics import confusion_matrix\n",
    "conf_mat = confusion_matrix(y_true_labels, y_pred_labels)\n",
    "\n",
    "conf_mat"
   ]
  },
  {
   "cell_type": "code",
   "execution_count": 22,
   "metadata": {},
   "outputs": [],
   "source": [
    "import pandas as pd\n",
    "\n",
    "# Lê o arquivo .csv\n",
    "df = pd.read_pickle(\"ge_df.pkl\")\n",
    "\n",
    "# Total de classes\n",
    "classes = df['label'].nunique()"
   ]
  },
  {
   "cell_type": "code",
   "execution_count": 23,
   "metadata": {},
   "outputs": [
    {
     "data": {
      "image/png": "[encoded data removed]",
      "text/plain": [
       "<Figure size 1500x1000 with 2 Axes>"
      ]
     },
     "metadata": {},
     "output_type": "display_data"
    }
   ],
   "source": [
    "import matplotlib.pyplot as plt\n",
    "\n",
    "# Define o tamanho da figura\n",
    "plt.figure(figsize=(15, 10))\n",
    "\n",
    "# Define mapa de cores\n",
    "cmap = plt.cm.Blues\n",
    "\n",
    "# Plota matriz de confusão\n",
    "plt.imshow(conf_mat, cmap=cmap)\n",
    "plt.colorbar()\n",
    "\n",
    "# Adiciona rótulos a matriz\n",
    "plt.xticks([int(i) for i in range(2)], [str(i) for i in range(2)])\n",
    "plt.yticks([int(i) for i in range(2)], [str(i) for i in range(2)])\n",
    "\n",
    "for i in range(classes):\n",
    "    for j in range(classes):\n",
    "        plt.text(j, i, str(conf_mat[i, j]), ha='center', va='center', color='white' if conf_mat[i, j] > len(y_true_labels)/ classes else 'black')\n",
    "\n",
    "# Adiciona rótulos dos eixos\n",
    "plt.xlabel('Predicted Class')\n",
    "plt.ylabel('True Class')\n",
    "\n",
    "# Mostra o plot\n",
    "plt.show()"
   ]
  },
  {
   "cell_type": "code",
   "execution_count": 24,
   "metadata": {},
   "outputs": [
    {
     "name": "stdout",
     "output_type": "stream",
     "text": [
      "Class '0': Precision=0.9845, Recall=0.9304, F1-Score=0.9567\n",
      "Class '1': Precision=0.9326, Recall=0.9850, F1-Score=0.9581\n",
      "Average F1-Score: 0.9574\n"
     ]
    }
   ],
   "source": [
    "import numpy as np\n",
    "from sklearn.metrics import precision_score, recall_score, f1_score\n",
    "\n",
    "# Calcula precisão, recall e f1-score para cada classe\n",
    "precisions = []\n",
    "recalls = []\n",
    "f1_scores = []\n",
    "for i in range(classes):\n",
    "    precision = precision_score(y_true=y_true_labels == i, y_pred=y_pred_labels == i, zero_division=0)\n",
    "    recall = recall_score(y_true=y_true_labels == i, y_pred=y_pred_labels == i, zero_division=0)\n",
    "    f1 = f1_score(y_true=y_true_labels == i, y_pred=y_pred_labels == i, zero_division=0)\n",
    "    precisions.append(precision)\n",
    "    recalls.append(recall)\n",
    "    f1_scores.append(f1)\n",
    "\n",
    "# Printa resultados\n",
    "for i in range(classes):\n",
    "    print(f\"Class '{i}': Precision={precisions[i]:.4f}, Recall={recalls[i]:.4f}, F1-Score={f1_scores[i]:.4f}\")\n",
    "\n",
    "# Calcula e printa a média dos f1-scores\n",
    "f1_average = np.mean(f1_scores)\n",
    "print(f\"Average F1-Score: {f1_average:.4f}\")"
   ]
  },
  {
   "cell_type": "code",
   "execution_count": 25,
   "metadata": {},
   "outputs": [],
   "source": [
    "import string\n",
    "import spacy\n",
    "import unicodedata\n",
    "from tqdm import tqdm\n",
    "import numpy as np\n",
    "\n",
    "# Habilita suporte do tqdm para os métodos de progressão do pandas (como progress_aplly)\n",
    "tqdm.pandas()\n",
    "\n",
    "# Carrega modelo de linguagem 'pt_core_news_lg' do spacy para processamento de texto em português\n",
    "# Desabilita os componentes 'parser' e 'ner', já que não são necessários para a lematização\n",
    "spacy_nlp_model = spacy.load(\"pt_core_news_lg\", disable=[\"parser\", \"ner\"])\n",
    "\n",
    "def preprocess_data(df, text_column):\n",
    "    \"\"\"\n",
    "    Realiza o pré-processamento dos dados de um texto em um Dataframe do Pandas.\n",
    "    Remove pontuação, números e palavras comuns (stop words), converte para minúsculas, remove \n",
    "    acentos e símbolos diversos, e aplica lematização.\n",
    "    \"\"\"\n",
    "\n",
    "    # Cria tabela de tradução que mapeia cada caractere de pontuação do módulo 'string.ponctuation'\n",
    "    # para 'None' (ou seja, remove-os do texto).\n",
    "    print(\"Removendo pontuação...\")\n",
    "    translator = str.maketrans('', '', string.punctuation)\n",
    "    df[text_column] = df[text_column].progress_apply(lambda x: x.translate(translator))\n",
    "\n",
    "    print(\"Removendo números...\")\n",
    "    translator = str.maketrans('', '', string.digits)\n",
    "    df[text_column] = df[text_column].progress_apply(lambda x: x.translate(translator))\n",
    "\n",
    "    print(\"Removendo acentos e símbolos diversos...\")\n",
    "    def remove_accents_and_symbols(text):\n",
    "        try:\n",
    "            # Normaliza a string para a forma NFKD e mantém apenas caracteres que não são diacríticos\n",
    "            # nem combinam caracteres com diacríticos\n",
    "            return ''.join(c for c in unicodedata.normalize('NFKD', text) if not unicodedata.combining(c) and unicodedata.category(c) != 'Mn')\n",
    "        except TypeError:\n",
    "            # Se não for possível normalizar um caractere, retorna uma string vazia\n",
    "            return ''\n",
    "        # Aplica a função 'remove_accents_and_symbols' na coluna 'text_column'\n",
    "    df[text_column] = df[text_column].progress_apply(lambda x: remove_accents_and_symbols(x))\n",
    "    \n",
    "    print(\"Convertendo para minúsculas...\")\n",
    "    df[text_column] = df[text_column].progress_apply(lambda x: x.lower())\n",
    "\n",
    "    print(\"Computando Lematização...\")\n",
    "    def lemmatize_text(doc):\n",
    "        return [token.lemma_ for token in doc if not token.is_stop]\n",
    "\n",
    "    n_chunks = 10  # Ajuste esse valor de acordo com o tamanho da base de dados e a memória disponível no sistema\n",
    "    chunks = np.array_split(df, n_chunks) # Divide o dataframe em várias partes\n",
    "\n",
    "    processed_chunks = []\n",
    "    for i, chunk in enumerate(chunks):\n",
    "        print(f\"Processando segmento {i + 1} de {n_chunks}\")\n",
    "        processed_chunk = chunk.copy() # Cria uma cópia para realizar o processamento\n",
    "        \n",
    "        #  Aplica a função 'lemmatize_text' a cada documento processado pelo spaCy (usando 'spacy_nlp_model.pipe') e\n",
    "        # atribui os resultados (uma lista de palavras lematizadas) à coluna 'text_column' do DataFrame 'processed_chunk'.\n",
    "        # O tqdm é utilizado para exibir uma barra de progresso durante o processamento dos documentos.\n",
    "        processed_chunk[text_column] = [lemmatize_text(doc) for doc in tqdm(spacy_nlp_model.pipe(chunk[text_column].astype(str), batch_size=100, disable=['parser', 'ner']), total=len(chunk[text_column]))]\n",
    "\n",
    "        # Junta as partes em uma lista, para formar o dataframe final\n",
    "        processed_chunks.append(processed_chunk)\n",
    "\n",
    "    concatenated_df = pd.concat(processed_chunks) # Concatenar os DataFrames processados\n",
    "    df[text_column] = concatenated_df[text_column] # Atribuir a coluna 'data' processada de volta ao dataframe original\n",
    "    \n",
    "    print(\"Remover tokens com espaços vazios...\")\n",
    "    df['Texto'] = df['Texto'].progress_apply(lambda x: [token for token in x if token.strip()])"
   ]
  },
  {
   "cell_type": "code",
   "execution_count": 26,
   "metadata": {},
   "outputs": [],
   "source": [
    "from gensim.models import Word2Vec\n",
    "\n",
    "# Carrega o modelo Word2Vec para um arquivo\n",
    "word2vec_model = Word2Vec.load(\"word2vec_model.model\")"
   ]
  },
  {
   "cell_type": "code",
   "execution_count": 27,
   "metadata": {},
   "outputs": [],
   "source": [
    "# Cria dois dicionários para mapear as palavras aos seus respectivos índices e vice-versa.\n",
    "# Isso é feito para facilitar a conversão entre palavras e índices durante a criação de sequências\n",
    "# numéricas que representam os textos. Essas sequências numéricas serão usadas como entrada para\n",
    "# modelos de aprendizado de máquina, como redes neurais.\n",
    "# Exemplo: \n",
    "# Suponha que o vocabulário seja ['casa', 'carro', 'jardim'], então os dicionários serão:\n",
    "# word_to_index = {'casa': 1, 'carro': 2, 'jardim': 3}\n",
    "# index_to_word = {1: 'casa', 2: 'carro', 3: 'jardim'}\n",
    "\n",
    "# 'word_to_index' é um dicionário que mapeia cada palavra ao seu índice correspondente.\n",
    "word_to_index = {}\n",
    "\n",
    "# 'index_to_word' é um dicionário que mapeia cada índice à palavra correspondente.\n",
    "index_to_word = {}\n",
    "\n",
    "# Itera sobre a lista de palavras únicas obtida do modelo Word2Vec\n",
    "for i, word in enumerate(word2vec_model.wv.index_to_key):\n",
    "    # Atribui a palavra ao índice i + 1 no dicionário 'word_to_index'.\n",
    "    # Os índices começam em 1 para reservar o índice 0 para preenchimento (padding) quando necessário.\n",
    "    word_to_index[word] = i + 1\n",
    "    \n",
    "    # Atribui o índice i + 1 à palavra no dicionário 'index_to_word'.\n",
    "    index_to_word[i + 1] = word"
   ]
  },
  {
   "cell_type": "code",
   "execution_count": 28,
   "metadata": {},
   "outputs": [
    {
     "name": "stdout",
     "output_type": "stream",
     "text": [
      "Removendo pontuação...\n"
     ]
    },
    {
     "name": "stderr",
     "output_type": "stream",
     "text": [
      "100%|██████████| 1/1 [00:00<00:00, 503.46it/s]\n"
     ]
    },
    {
     "name": "stdout",
     "output_type": "stream",
     "text": [
      "Removendo números...\n"
     ]
    },
    {
     "name": "stderr",
     "output_type": "stream",
     "text": [
      "100%|██████████| 1/1 [00:00<00:00, 999.36it/s]\n"
     ]
    },
    {
     "name": "stdout",
     "output_type": "stream",
     "text": [
      "Removendo acentos e símbolos diversos...\n"
     ]
    },
    {
     "name": "stderr",
     "output_type": "stream",
     "text": [
      "100%|██████████| 1/1 [00:00<00:00, 999.83it/s]\n"
     ]
    },
    {
     "name": "stdout",
     "output_type": "stream",
     "text": [
      "Convertendo para minúsculas...\n"
     ]
    },
    {
     "name": "stderr",
     "output_type": "stream",
     "text": [
      "100%|██████████| 1/1 [00:00<00:00, 989.69it/s]\n",
      "c:\\Users\\mathe\\OneDrive\\Área de Trabalho\\TCC\\Detector-de-Fake-News\\.venv\\lib\\site-packages\\numpy\\core\\fromnumeric.py:59: FutureWarning: 'DataFrame.swapaxes' is deprecated and will be removed in a future version. Please use 'DataFrame.transpose' instead.\n",
      "  return bound(*args, **kwds)\n"
     ]
    },
    {
     "name": "stdout",
     "output_type": "stream",
     "text": [
      "Computando Lematização...\n",
      "Processando segmento 1 de 10\n"
     ]
    },
    {
     "name": "stderr",
     "output_type": "stream",
     "text": [
      "100%|██████████| 1/1 [00:00<00:00, 17.24it/s]\n"
     ]
    },
    {
     "name": "stdout",
     "output_type": "stream",
     "text": [
      "Processando segmento 2 de 10\n"
     ]
    },
    {
     "name": "stderr",
     "output_type": "stream",
     "text": [
      "0it [00:00, ?it/s]\n"
     ]
    },
    {
     "name": "stdout",
     "output_type": "stream",
     "text": [
      "Processando segmento 3 de 10\n"
     ]
    },
    {
     "name": "stderr",
     "output_type": "stream",
     "text": [
      "0it [00:00, ?it/s]\n"
     ]
    },
    {
     "name": "stdout",
     "output_type": "stream",
     "text": [
      "Processando segmento 4 de 10\n"
     ]
    },
    {
     "name": "stderr",
     "output_type": "stream",
     "text": [
      "0it [00:00, ?it/s]\n"
     ]
    },
    {
     "name": "stdout",
     "output_type": "stream",
     "text": [
      "Processando segmento 5 de 10\n"
     ]
    },
    {
     "name": "stderr",
     "output_type": "stream",
     "text": [
      "0it [00:00, ?it/s]\n"
     ]
    },
    {
     "name": "stdout",
     "output_type": "stream",
     "text": [
      "Processando segmento 6 de 10\n"
     ]
    },
    {
     "name": "stderr",
     "output_type": "stream",
     "text": [
      "0it [00:00, ?it/s]\n"
     ]
    },
    {
     "name": "stdout",
     "output_type": "stream",
     "text": [
      "Processando segmento 7 de 10\n"
     ]
    },
    {
     "name": "stderr",
     "output_type": "stream",
     "text": [
      "0it [00:00, ?it/s]\n"
     ]
    },
    {
     "name": "stdout",
     "output_type": "stream",
     "text": [
      "Processando segmento 8 de 10\n"
     ]
    },
    {
     "name": "stderr",
     "output_type": "stream",
     "text": [
      "0it [00:00, ?it/s]\n"
     ]
    },
    {
     "name": "stdout",
     "output_type": "stream",
     "text": [
      "Processando segmento 9 de 10\n"
     ]
    },
    {
     "name": "stderr",
     "output_type": "stream",
     "text": [
      "0it [00:00, ?it/s]\n"
     ]
    },
    {
     "name": "stdout",
     "output_type": "stream",
     "text": [
      "Processando segmento 10 de 10\n"
     ]
    },
    {
     "name": "stderr",
     "output_type": "stream",
     "text": [
      "0it [00:00, ?it/s]\n"
     ]
    },
    {
     "name": "stdout",
     "output_type": "stream",
     "text": [
      "Remover tokens com espaços vazios...\n"
     ]
    },
    {
     "name": "stderr",
     "output_type": "stream",
     "text": [
      "100%|██████████| 1/1 [00:00<00:00, 1031.05it/s]\n",
      "100%|██████████| 1/1 [00:00<00:00, 991.09it/s]\n"
     ]
    },
    {
     "name": "stdout",
     "output_type": "stream",
     "text": [
      "1/1 [==============================] - 0s 253ms/step\n"
     ]
    }
   ],
   "source": [
    "# Criei um dataframe simples com uma notícia só para aplicarmos a função preprocess_data\n",
    "\n",
    "import pandas as pd\n",
    "from nltk.tokenize import word_tokenize\n",
    "\n",
    "value = \"\"\"Depoimento de Cid incluiu golpe, vacina, joias e Abin\n",
    "\n",
    "Ex-ajudante de ordens manteve versão de que não pode afirmar que Bolsonaro planejou um golpe; PF avalia ter fechado “pontos em aberto”\n",
    "\n",
    "Em depoimento de mais de oito horas, o ex-ajudante de ordens de Jair Bolsonaro (PL) Mauro Cid foi questionado pela Polícia Federal (PF) sobre as investigações do plano golpista, do escândalo das joias, do registro falso de vacina e da “Abin paralela”.\n",
    "\n",
    "A oitiva, nas palavras de agentes da PF, teve como objetivo fechar pontos que estavam ambíguos ou abertos de oitivas anteriores do militar da ativa.\n",
    "Na avaliação de investigadores, o longo depoimento serviu para “fechar os pontos que estavam em aberto” da investigação.\n",
    "\n",
    "Segundo agentes da investigação, Cid foi perguntado se tinha conhecimento de que o ex-presidente Jair Bolsonaro planejava um plano para se manter no poder.\n",
    "\n",
    "O militar, porém, manteve a versão anterior, de acordo com integrantes da PF: de que foi discutida uma minuta de decretação de estado de defesa, mas que não pode afirmar que o então presidente planejava um golpe.\n",
    "À PF, Cid disse que o ex-presidente se reuniu com generais após perder as eleições de outubro de 2022, mas negou ter participado do encontro em que o alto escalão das Forças Armadas teria debatido os termos da minuta de um golpe de Estado.\n",
    "\n",
    "Segundo apurou a CNN, Cid também confirmou que Freire Gomes era contra a decretação de um estado de defesa, presente na chamada “minuta do golpe”.\n",
    "\n",
    "O depoimento do militar corroborou outros já colhidos pela PF, como do ex-comandante do Exército, general Freire Gomes, e do ex-comandante da Aeronáutica, brigadeiro Carlos Baptista Junior.\n",
    "\n",
    "A expectativa é de que Cid seja chamado novamente para depor nos próximos meses. Antes, a PF deve mandar comitiva aos Estados Unidos para tentar obter imagens e documentos na investigação do escândalo das joias.\n",
    "\n",
    "Segundo relatos de investigadores, o depoimento de Cid foi satisfatório, e que o acordo de colaboração não está ameaçado, mas não se encerra colaboração de Cid nas investigações da PF. Ele é obrigado a colaborar até o fim do inquérito.\n",
    "\"\"\"\n",
    "\n",
    "# Crie um DataFrame com uma linha e a coluna 'data'\n",
    "df_predict = pd.DataFrame(data={'Texto': [value]})\n",
    "\n",
    "# Faz pré-processamento\n",
    "preprocess_data(df_predict, 'Texto')\n",
    "\n",
    "# Conversão dos dados para serem usados no modelo (rede neural)\n",
    "preprocessed_articles = df_predict['Texto'].tolist()\n",
    "\n",
    "sequences_test = []\n",
    "for tokens in tqdm(preprocessed_articles):\n",
    "    sequence = []\n",
    "    for token in tokens:\n",
    "        if token in word_to_index:\n",
    "            sequence.append(word_to_index[token])\n",
    "    sequences_test.append(sequence)\n",
    "    \n",
    "padded_example = pad_sequences(sequences_test, maxlen=max_length, padding='post')\n",
    "\n",
    "# Fazer a previsão usando o modelo\n",
    "predictions = model.predict(padded_example)"
   ]
  },
  {
   "cell_type": "code",
   "execution_count": 29,
   "metadata": {},
   "outputs": [
    {
     "data": {
      "text/plain": [
       "array([[0.02564269, 0.97435725]], dtype=float32)"
      ]
     },
     "execution_count": 29,
     "metadata": {},
     "output_type": "execute_result"
    }
   ],
   "source": [
    "predictions"
   ]
  },
  {
   "cell_type": "code",
   "execution_count": 30,
   "metadata": {},
   "outputs": [
    {
     "name": "stdout",
     "output_type": "stream",
     "text": [
      "Classe prevista: 1\n"
     ]
    }
   ],
   "source": [
    "# Identificar a classe com a maior probabilidade\n",
    "predicted_class = np.argmax(predictions)\n",
    "\n",
    "# Exibir a classe prevista\n",
    "print(f\"Classe prevista: {predicted_class}\")"
   ]
  },
  {
   "cell_type": "code",
   "execution_count": 32,
   "metadata": {},
   "outputs": [
    {
     "name": "stdout",
     "output_type": "stream",
     "text": [
      "Classe original: true\n"
     ]
    }
   ],
   "source": [
    "from sklearn.preprocessing import LabelEncoder\n",
    "\n",
    "import pandas as pd\n",
    "import os\n",
    "\n",
    "# Get the current working directory\n",
    "notebook_dir = os.getcwd()\n",
    "\n",
    "# Navigate to the parent directory\n",
    "parent_dir = os.path.split(notebook_dir)\n",
    "\n",
    "caminho_csv = os.path.join(parent_dir[0], \"noticias_pre_processadas.csv\")\n",
    "\n",
    "# Read the CSV file into a DataFrame\n",
    "df = pd.read_csv(caminho_csv)\n",
    "\n",
    "\n",
    "# Cria um objeto LabelEncoder\n",
    "le = LabelEncoder()\n",
    "\n",
    "# Transforma os rótulos para variáveis categóricas\n",
    "df['label'] = le.fit_transform(df['Categoria'])\n",
    "\n",
    "original_class = le.inverse_transform([predicted_class]) # Transforma a classe predita de variável categórica para o nome do clube, de volta\n",
    "print(f\"Classe original: {original_class[0]}\")"
   ]
  },
  {
   "cell_type": "code",
   "execution_count": 33,
   "metadata": {},
   "outputs": [
    {
     "name": "stdout",
     "output_type": "stream",
     "text": [
      "Removendo pontuação...\n"
     ]
    },
    {
     "name": "stderr",
     "output_type": "stream",
     "text": [
      "100%|██████████| 1/1 [00:00<00:00, 971.58it/s]\n"
     ]
    },
    {
     "name": "stdout",
     "output_type": "stream",
     "text": [
      "Removendo números...\n"
     ]
    },
    {
     "name": "stderr",
     "output_type": "stream",
     "text": [
      "100%|██████████| 1/1 [00:00<00:00, 502.13it/s]\n"
     ]
    },
    {
     "name": "stdout",
     "output_type": "stream",
     "text": [
      "Removendo acentos e símbolos diversos...\n"
     ]
    },
    {
     "name": "stderr",
     "output_type": "stream",
     "text": [
      "100%|██████████| 1/1 [00:00<?, ?it/s]\n"
     ]
    },
    {
     "name": "stdout",
     "output_type": "stream",
     "text": [
      "Convertendo para minúsculas...\n"
     ]
    },
    {
     "name": "stderr",
     "output_type": "stream",
     "text": [
      "100%|██████████| 1/1 [00:00<?, ?it/s]\n",
      "c:\\Users\\mathe\\OneDrive\\Área de Trabalho\\TCC\\Detector-de-Fake-News\\.venv\\lib\\site-packages\\numpy\\core\\fromnumeric.py:59: FutureWarning: 'DataFrame.swapaxes' is deprecated and will be removed in a future version. Please use 'DataFrame.transpose' instead.\n",
      "  return bound(*args, **kwds)\n"
     ]
    },
    {
     "name": "stdout",
     "output_type": "stream",
     "text": [
      "Computando Lematização...\n",
      "Processando segmento 1 de 10\n"
     ]
    },
    {
     "name": "stderr",
     "output_type": "stream",
     "text": [
      "100%|██████████| 1/1 [00:00<00:00, 38.49it/s]\n"
     ]
    },
    {
     "name": "stdout",
     "output_type": "stream",
     "text": [
      "Processando segmento 2 de 10\n"
     ]
    },
    {
     "name": "stderr",
     "output_type": "stream",
     "text": [
      "0it [00:00, ?it/s]\n"
     ]
    },
    {
     "name": "stdout",
     "output_type": "stream",
     "text": [
      "Processando segmento 3 de 10\n"
     ]
    },
    {
     "name": "stderr",
     "output_type": "stream",
     "text": [
      "0it [00:00, ?it/s]\n"
     ]
    },
    {
     "name": "stdout",
     "output_type": "stream",
     "text": [
      "Processando segmento 4 de 10\n"
     ]
    },
    {
     "name": "stderr",
     "output_type": "stream",
     "text": [
      "0it [00:00, ?it/s]\n"
     ]
    },
    {
     "name": "stdout",
     "output_type": "stream",
     "text": [
      "Processando segmento 5 de 10\n"
     ]
    },
    {
     "name": "stderr",
     "output_type": "stream",
     "text": [
      "0it [00:00, ?it/s]\n"
     ]
    },
    {
     "name": "stdout",
     "output_type": "stream",
     "text": [
      "Processando segmento 6 de 10\n"
     ]
    },
    {
     "name": "stderr",
     "output_type": "stream",
     "text": [
      "0it [00:00, ?it/s]\n"
     ]
    },
    {
     "name": "stdout",
     "output_type": "stream",
     "text": [
      "Processando segmento 7 de 10\n"
     ]
    },
    {
     "name": "stderr",
     "output_type": "stream",
     "text": [
      "0it [00:00, ?it/s]\n"
     ]
    },
    {
     "name": "stdout",
     "output_type": "stream",
     "text": [
      "Processando segmento 8 de 10\n"
     ]
    },
    {
     "name": "stderr",
     "output_type": "stream",
     "text": [
      "0it [00:00, ?it/s]\n"
     ]
    },
    {
     "name": "stdout",
     "output_type": "stream",
     "text": [
      "Processando segmento 9 de 10\n"
     ]
    },
    {
     "name": "stderr",
     "output_type": "stream",
     "text": [
      "0it [00:00, ?it/s]\n"
     ]
    },
    {
     "name": "stdout",
     "output_type": "stream",
     "text": [
      "Processando segmento 10 de 10\n"
     ]
    },
    {
     "name": "stderr",
     "output_type": "stream",
     "text": [
      "0it [00:00, ?it/s]\n"
     ]
    },
    {
     "name": "stdout",
     "output_type": "stream",
     "text": [
      "Remover tokens com espaços vazios...\n"
     ]
    },
    {
     "name": "stderr",
     "output_type": "stream",
     "text": [
      "100%|██████████| 1/1 [00:00<00:00, 996.75it/s]\n",
      "100%|██████████| 1/1 [00:00<?, ?it/s]\n"
     ]
    },
    {
     "name": "stdout",
     "output_type": "stream",
     "text": [
      "1/1 [==============================] - 0s 231ms/step\n"
     ]
    }
   ],
   "source": [
    "# Criei um dataframe simples com uma notícia falsa só para aplicarmos a função preprocess_data\n",
    "\n",
    "import pandas as pd\n",
    "from nltk.tokenize import word_tokenize\n",
    "\n",
    "value = \"\"\"\n",
    "\"Estudo Inovador Afirma que Ficar de Pijama o Dia Todo Aumenta a Produtividade\"\n",
    "\n",
    "Uma pesquisa recente realizada por uma equipe de psicólogos da Universidade de Bem-Estar Mental revelou uma descoberta surpreendente: ficar de pijama durante o dia pode aumentar significativamente a produtividade.\n",
    "\n",
    "Segundo os pesquisadores, vestir pijamas cria uma sensação de conforto e relaxamento, o que reduz os níveis de estresse e ansiedade. Isso, por sua vez, permite que as pessoas se concentrem mais em suas tarefas e sejam mais eficientes em seu trabalho.\n",
    "\n",
    "O estudo, que acompanhou mais de mil participantes ao longo de seis meses, descobriu que aqueles que adotaram a prática de trabalhar de pijama relataram uma melhoria notável em sua capacidade de concentração e tomada de decisões. Além disso, muitos participantes relataram sentir-se mais motivados e criativos em suas atividades diárias.\n",
    "\n",
    "Essa descoberta desafia a noção convencional de que vestir roupas formais é essencial para o sucesso profissional. Os pesquisadores agora estão explorando maneiras de integrar essa prática inovadora em ambientes de trabalho tradicionais, potencialmente revolucionando a cultura corporativa.\n",
    "\n",
    "Portanto, se você está procurando aumentar sua produtividade, talvez seja hora de abandonar o terno e adotar o conforto do pijama durante o expediente!\n",
    "\"\"\"\n",
    "\n",
    "# Crie um DataFrame com uma linha e a coluna 'data'\n",
    "df_predict = pd.DataFrame(data={'Texto': [value]})\n",
    "\n",
    "# Faz pré-processamento\n",
    "preprocess_data(df_predict, 'Texto')\n",
    "\n",
    "# Conversão dos dados para serem usados no modelo (rede neural)\n",
    "preprocessed_articles = df_predict['Texto'].tolist()\n",
    "\n",
    "sequences_test = []\n",
    "for tokens in tqdm(preprocessed_articles):\n",
    "    sequence = []\n",
    "    for token in tokens:\n",
    "        if token in word_to_index:\n",
    "            sequence.append(word_to_index[token])\n",
    "    sequences_test.append(sequence)\n",
    "    \n",
    "padded_example = pad_sequences(sequences_test, maxlen=max_length, padding='post')\n",
    "\n",
    "# Fazer a previsão usando o modelo\n",
    "predictions = model.predict(padded_example)"
   ]
  },
  {
   "cell_type": "code",
   "execution_count": 34,
   "metadata": {},
   "outputs": [
    {
     "data": {
      "text/plain": [
       "array([[0.938994  , 0.06100595]], dtype=float32)"
      ]
     },
     "execution_count": 34,
     "metadata": {},
     "output_type": "execute_result"
    }
   ],
   "source": [
    "predictions"
   ]
  },
  {
   "cell_type": "code",
   "execution_count": 35,
   "metadata": {},
   "outputs": [
    {
     "name": "stdout",
     "output_type": "stream",
     "text": [
      "Classe prevista: 0\n"
     ]
    }
   ],
   "source": [
    "# Identificar a classe com a maior probabilidade\n",
    "predicted_class = np.argmax(predictions)\n",
    "\n",
    "# Exibir a classe prevista\n",
    "print(f\"Classe prevista: {predicted_class}\")"
   ]
  },
  {
   "cell_type": "code",
   "execution_count": 36,
   "metadata": {},
   "outputs": [
    {
     "name": "stdout",
     "output_type": "stream",
     "text": [
      "Classe original: fake\n"
     ]
    }
   ],
   "source": [
    "from sklearn.preprocessing import LabelEncoder\n",
    "\n",
    "import pandas as pd\n",
    "import os\n",
    "\n",
    "# Get the current working directory\n",
    "notebook_dir = os.getcwd()\n",
    "\n",
    "# Navigate to the parent directory\n",
    "parent_dir = os.path.split(notebook_dir)\n",
    "\n",
    "caminho_csv = os.path.join(parent_dir[0], \"noticias_pre_processadas.csv\")\n",
    "\n",
    "# Read the CSV file into a DataFrame\n",
    "df = pd.read_csv(caminho_csv)\n",
    "\n",
    "\n",
    "# Cria um objeto LabelEncoder\n",
    "le = LabelEncoder()\n",
    "\n",
    "# Transforma os rótulos para variáveis categóricas\n",
    "df['label'] = le.fit_transform(df['Categoria'])\n",
    "\n",
    "original_class = le.inverse_transform([predicted_class]) # Transforma a classe predita de variável categórica para o nome do clube, de volta\n",
    "print(f\"Classe original: {original_class[0]}\")"
   ]
  }
 ],
 "metadata": {
  "kernelspec": {
   "display_name": ".venv",
   "language": "python",
   "name": "python3"
  },
  "language_info": {
   "codemirror_mode": {
    "name": "ipython",
    "version": 3
   },
   "file_extension": ".py",
   "mimetype": "text/x-python",
   "name": "python",
   "nbconvert_exporter": "python",
   "pygments_lexer": "ipython3",
   "version": "3.10.0"
  }
 },
 "nbformat": 4,
 "nbformat_minor": 2
}
